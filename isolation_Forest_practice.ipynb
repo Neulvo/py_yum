{
  "nbformat": 4,
  "nbformat_minor": 0,
  "metadata": {
    "colab": {
      "name": "isolation_Forest_practice.ipynb",
      "provenance": [],
      "collapsed_sections": []
    },
    "kernelspec": {
      "name": "python3",
      "display_name": "Python 3"
    }
  },
  "cells": [
    {
      "cell_type": "markdown",
      "metadata": {
        "id": "3fBp-JDxX2Rg",
        "colab_type": "text"
      },
      "source": [
        "refer : https://donghwa-kim.github.io/iforest.html"
      ]
    },
    {
      "cell_type": "code",
      "metadata": {
        "id": "_EO_9Olox1xI",
        "colab_type": "code",
        "colab": {
          "base_uri": "https://localhost:8080/",
          "height": 109
        },
        "outputId": "873936d7-87fb-46d9-bd52-9c24b76afe84"
      },
      "source": [
        "import numpy as np\n",
        "import scipy as sp\n",
        "import pandas as pd\n",
        "import matplotlib.pyplot as plt\n",
        "import numbers\n",
        "from scipy.stats import gamma\n",
        "from sklearn.tree import ExtraTreeRegressor\n",
        "from scipy.sparse import issparse, csc_matrix\n",
        "from sklearn.externals import six\n",
        "from sklearn.utils import check_random_state, check_array\n",
        "from sklearn.ensemble.bagging import BaseBagging\n",
        "INTEGER_TYPES=(numbers.Integral, np.integer)"
      ],
      "execution_count": 3,
      "outputs": [
        {
          "output_type": "stream",
          "text": [
            "/usr/local/lib/python3.6/dist-packages/sklearn/externals/six.py:31: FutureWarning: The module is deprecated in version 0.21 and will be removed in version 0.23 since we've dropped support for Python 2.7. Please rely on the official version of six (https://pypi.org/project/six/).\n",
            "  \"(https://pypi.org/project/six/).\", FutureWarning)\n",
            "/usr/local/lib/python3.6/dist-packages/sklearn/utils/deprecation.py:144: FutureWarning: The sklearn.ensemble.bagging module is  deprecated in version 0.22 and will be removed in version 0.24. The corresponding classes / functions should instead be imported from sklearn.ensemble. Anything that cannot be imported from sklearn.ensemble is now part of the private API.\n",
            "  warnings.warn(message, FutureWarning)\n"
          ],
          "name": "stderr"
        }
      ]
    },
    {
      "cell_type": "code",
      "metadata": {
        "id": "anERUQqWSXTL",
        "colab_type": "code",
        "colab": {}
      },
      "source": [
        "#seed\n",
        "rng=np.random.RandomState(42)\n",
        "\n",
        "#Train Data\n",
        "X=0.3*rng.randn(100,2)\n",
        "X_train=np.r_[X+2,X-2]\n",
        "#some regluar Novel Observations\n",
        "X=0.3*rng.randn(20,2)\n",
        "X_test=np.r_[X+2,X-2]\n",
        "#some Abnormal Novel Observations\n",
        "X_outliers=rng.uniform(low=-4,high=4,size=(20,2))\n",
        "\n",
        "X_test_normal=pd.concat([pd.DataFrame(X_test), pd.Series(np.repeat(0,X_test.shape[0]))],axis=1)\n",
        "X_test_abnormal=pd.concat([pd.DataFrame(X_outliers),pd.Series(np.repeat(1,X_outliers.shape[0]))],axis=1)\n",
        "X_test_df=pd.concat([X_test_normal,X_test_abnormal],axis=0)\n",
        "X_test_df.columns=['x1','x2','label']"
      ],
      "execution_count": 5,
      "outputs": []
    },
    {
      "cell_type": "code",
      "metadata": {
        "id": "2dOkDWG2YxFW",
        "colab_type": "code",
        "colab": {
          "base_uri": "https://localhost:8080/",
          "height": 233
        },
        "outputId": "248dd87f-cdfc-4af7-9057-4a1b0bb04660"
      },
      "source": [
        "print(X_test_df.head())\n",
        "print(X_test_df.tail())"
      ],
      "execution_count": 6,
      "outputs": [
        {
          "output_type": "stream",
          "text": [
            "         x1        x2  label\n",
            "0  2.107336  2.168235      0\n",
            "1  2.324915  2.316141      0\n",
            "2  1.586699  1.718652      0\n",
            "3  2.154511  2.154136      0\n",
            "4  2.154514  3.155819      0\n",
            "          x1        x2  label\n",
            "15 -0.067073 -0.212226      1\n",
            "16 -2.614385 -0.529187      1\n",
            "17 -0.811962  0.926801      1\n",
            "18  1.080749 -3.637568      1\n",
            "19 -1.003099  1.006879      1\n"
          ],
          "name": "stdout"
        }
      ]
    },
    {
      "cell_type": "markdown",
      "metadata": {
        "id": "y108O7UtY3bi",
        "colab_type": "text"
      },
      "source": [
        "Learing only with regular data"
      ]
    },
    {
      "cell_type": "code",
      "metadata": {
        "id": "SeVRCJN2ZPq_",
        "colab_type": "code",
        "colab": {}
      },
      "source": [
        "X=X_train"
      ],
      "execution_count": 7,
      "outputs": []
    },
    {
      "cell_type": "markdown",
      "metadata": {
        "id": "fnnqYKJeZI-K",
        "colab_type": "text"
      },
      "source": [
        "make definition of variables by class"
      ]
    },
    {
      "cell_type": "code",
      "metadata": {
        "id": "OK2fEZGCZRMA",
        "colab_type": "code",
        "colab": {}
      },
      "source": [
        "class IsolationForest(BaseBagging):\n",
        "  def __init__(self,\n",
        "               n_estimators=100,\n",
        "               max_samples='auto',\n",
        "               contamination=0.1,\n",
        "               #if Floating Point, int(number of X.col * max_feature))\n",
        "               max_features=1.,\n",
        "               bootstrap=False,\n",
        "               n_jobs=1,\n",
        "               random_state=None,\n",
        "               verbose=0):\n",
        "    super(IsolationForest, self).__init__(\n",
        "        base_estimator=ExtraTreeRegressor(\n",
        "            max_features=1,\n",
        "            #here above max_features has no links with self.max_features\n",
        "            splitter='random',\n",
        "            random_state=random_state),\n",
        "            bootstrap=bootstrap,\n",
        "            bootstrap_features=False,\n",
        "            n_estimators=n_estimators,\n",
        "            max_samples=max_samples,\n",
        "            max_features=max_features,\n",
        "            n_jobs=n_jobs,\n",
        "            random_state=random_state,\n",
        "            verbose=verbose)\n",
        "    self.contamination = contamination\n",
        "  \n",
        "  def _set_oob_score(self, X,y):\n",
        "    raise NotImplementedError(\"OOB score not supported by iforest\")"
      ],
      "execution_count": 10,
      "outputs": []
    },
    {
      "cell_type": "code",
      "metadata": {
        "id": "vuSBQckDaixZ",
        "colab_type": "code",
        "colab": {
          "base_uri": "https://localhost:8080/",
          "height": 71
        },
        "outputId": "11a9c726-3a7e-4e86-aa10-e1b697ec8408"
      },
      "source": [
        "clf=IsolationForest(max_samples=100,random_state=rng,max_features=1)\n",
        "print('max_smaples:',clf.max_samples)\n",
        "print('random_state:',clf.random_state)\n",
        "print('max_features:',clf.max_features)"
      ],
      "execution_count": 12,
      "outputs": [
        {
          "output_type": "stream",
          "text": [
            "max_smaples: 100\n",
            "random_state: RandomState(MT19937)\n",
            "max_features: 1\n"
          ],
          "name": "stdout"
        }
      ]
    },
    {
      "cell_type": "code",
      "metadata": {
        "id": "XOF_fzgDb5D-",
        "colab_type": "code",
        "colab": {
          "base_uri": "https://localhost:8080/",
          "height": 197
        },
        "outputId": "e4d999da-0577-4961-eb28-d5036c9e4945"
      },
      "source": [
        "#if compressed sparse column foramt -> list format\n",
        "X=check_array(X, accept_sparse=['csc'])\n",
        "X[0:10,:]"
      ],
      "execution_count": 13,
      "outputs": [
        {
          "output_type": "execute_result",
          "data": {
            "text/plain": [
              "array([[2.14901425, 1.95852071],\n",
              "       [2.19430656, 2.45690896],\n",
              "       [1.92975399, 1.92975891],\n",
              "       [2.47376384, 2.23023042],\n",
              "       [1.85915768, 2.16276801],\n",
              "       [1.86097469, 1.86028107],\n",
              "       [2.07258868, 1.42601593],\n",
              "       [1.48252465, 1.83131374],\n",
              "       [1.69615066, 2.0942742 ],\n",
              "       [1.72759278, 1.57630889]])"
            ]
          },
          "metadata": {
            "tags": []
          },
          "execution_count": 13
        }
      ]
    },
    {
      "cell_type": "code",
      "metadata": {
        "id": "zrL7sVcycE6l",
        "colab_type": "code",
        "colab": {
          "base_uri": "https://localhost:8080/",
          "height": 35
        },
        "outputId": "9cc172c8-89de-49fe-9c80-7e77a8c0ced5"
      },
      "source": [
        "issparse(X)"
      ],
      "execution_count": 14,
      "outputs": [
        {
          "output_type": "execute_result",
          "data": {
            "text/plain": [
              "False"
            ]
          },
          "metadata": {
            "tags": []
          },
          "execution_count": 14
        }
      ]
    },
    {
      "cell_type": "code",
      "metadata": {
        "id": "Kkoi2rk9cF-H",
        "colab_type": "code",
        "colab": {
          "base_uri": "https://localhost:8080/",
          "height": 35
        },
        "outputId": "04263653-0d32-42a9-c147-fe07537c6def"
      },
      "source": [
        "#if Input sparse matrix\n",
        "csc_X=csc_matrix(X)\n",
        "csc_X.sort_indices()\n",
        "csc_X.indices[1:10]"
      ],
      "execution_count": 15,
      "outputs": [
        {
          "output_type": "execute_result",
          "data": {
            "text/plain": [
              "array([1, 2, 3, 4, 5, 6, 7, 8, 9], dtype=int32)"
            ]
          },
          "metadata": {
            "tags": []
          },
          "execution_count": 15
        }
      ]
    },
    {
      "cell_type": "code",
      "metadata": {
        "id": "i2pFPGQvcSSz",
        "colab_type": "code",
        "colab": {
          "base_uri": "https://localhost:8080/",
          "height": 35
        },
        "outputId": "ad224513-8df3-45fb-ba35-80914e198d68"
      },
      "source": [
        "rnd=check_random_state(clf.random_state)\n",
        "rnd"
      ],
      "execution_count": 17,
      "outputs": [
        {
          "output_type": "execute_result",
          "data": {
            "text/plain": [
              "RandomState(MT19937) at 0x7FF4B140E048"
            ]
          },
          "metadata": {
            "tags": []
          },
          "execution_count": 17
        }
      ]
    },
    {
      "cell_type": "code",
      "metadata": {
        "id": "7BrE-zv1cTKQ",
        "colab_type": "code",
        "colab": {
          "base_uri": "https://localhost:8080/",
          "height": 53
        },
        "outputId": "f013be3b-1ceb-4fa2-d3b3-2510c4a23419"
      },
      "source": [
        "# extract y from Uniform randomly to split randomly X without Label\n",
        "y=rnd.uniform(size=X.shape[0])\n",
        "y[0:10]"
      ],
      "execution_count": 18,
      "outputs": [
        {
          "output_type": "execute_result",
          "data": {
            "text/plain": [
              "array([0.50313626, 0.85648984, 0.65869363, 0.16293443, 0.07056875,\n",
              "       0.64241928, 0.02651131, 0.58577558, 0.94023024, 0.57547418])"
            ]
          },
          "metadata": {
            "tags": []
          },
          "execution_count": 18
        }
      ]
    },
    {
      "cell_type": "code",
      "metadata": {
        "id": "nVXdGrB6cnVJ",
        "colab_type": "code",
        "colab": {}
      },
      "source": [
        "# ensure that max_sample is in [1,n_samples]:\n",
        "n_samples=X.shape[0]"
      ],
      "execution_count": 19,
      "outputs": []
    },
    {
      "cell_type": "code",
      "metadata": {
        "id": "YpEh4zEPcubp",
        "colab_type": "code",
        "colab": {
          "base_uri": "https://localhost:8080/",
          "height": 71
        },
        "outputId": "dc027e77-8a2d-40b8-8ce9-07abe9f5ee4c"
      },
      "source": [
        "# if input type improper,redifite\n",
        "\n",
        "# 1) str\n",
        "isinstance(clf.max_samples, six.string_types)\n",
        "print('self.max_samples:',clf.max_samples)\n",
        "print('six.string_types:',six.string_types)\n",
        "print('isinstance:',isinstance(clf.max_samples,six.string_types))"
      ],
      "execution_count": 23,
      "outputs": [
        {
          "output_type": "stream",
          "text": [
            "self.max_samples: 100\n",
            "six.string_types: (<class 'str'>,)\n",
            "isinstance: False\n"
          ],
          "name": "stdout"
        }
      ]
    },
    {
      "cell_type": "code",
      "metadata": {
        "id": "z4JCGy8GdM7m",
        "colab_type": "code",
        "colab": {
          "base_uri": "https://localhost:8080/",
          "height": 71
        },
        "outputId": "bd4b20da-12fd-4fe0-acdc-c51546bd82a8"
      },
      "source": [
        "# 2) integer\n",
        "isinstance(clf.max_samples, INTEGER_TYPES)\n",
        "print('self.max_samples:',clf.max_samples)\n",
        "print('six.string_types:',INTEGER_TYPES)\n",
        "print('isinstance:',isinstance(clf.max_samples,INTEGER_TYPES))"
      ],
      "execution_count": 24,
      "outputs": [
        {
          "output_type": "stream",
          "text": [
            "self.max_samples: 100\n",
            "six.string_types: (<class 'numbers.Integral'>, <class 'numpy.integer'>)\n",
            "isinstance: True\n"
          ],
          "name": "stdout"
        }
      ]
    },
    {
      "cell_type": "code",
      "metadata": {
        "id": "Yo-7G1OOdjXe",
        "colab_type": "code",
        "colab": {}
      },
      "source": [
        "# 3) float"
      ],
      "execution_count": null,
      "outputs": []
    },
    {
      "cell_type": "code",
      "metadata": {
        "id": "ZkHV1-JXdp2Y",
        "colab_type": "code",
        "colab": {
          "base_uri": "https://localhost:8080/",
          "height": 35
        },
        "outputId": "2be435e3-9fad-488e-fece-3ad2138fbb3c"
      },
      "source": [
        "# Tree max_dept == log(n)\n",
        "\n",
        "max_depth=int(np.ceil(np.log2(max(clf.max_samples,2))))\n",
        "print('max_depth:',max_depth)"
      ],
      "execution_count": 26,
      "outputs": [
        {
          "output_type": "stream",
          "text": [
            "max_depth: 7\n"
          ],
          "name": "stdout"
        }
      ]
    },
    {
      "cell_type": "markdown",
      "metadata": {
        "id": "iukx0ajedy27",
        "colab_type": "text"
      },
      "source": [
        "Tree for regression to split data"
      ]
    },
    {
      "cell_type": "code",
      "metadata": {
        "id": "_NHwepLdd6aF",
        "colab_type": "code",
        "colab": {}
      },
      "source": [
        "clf.max_samples_=clf.max_samples"
      ],
      "execution_count": 27,
      "outputs": []
    },
    {
      "cell_type": "code",
      "metadata": {
        "id": "s9TtDFidd-5V",
        "colab_type": "code",
        "colab": {
          "base_uri": "https://localhost:8080/",
          "height": 125
        },
        "outputId": "12887190-88d8-4f7c-85b3-5e159f61589f"
      },
      "source": [
        "#IsolationForest._fit.base_estimator_=ExtraTreeRegressor\n",
        "clf._fit(X,y,max_depth=max_depth,sample_weight=None)\n",
        "print(clf.base_estimator)"
      ],
      "execution_count": 29,
      "outputs": [
        {
          "output_type": "stream",
          "text": [
            "ExtraTreeRegressor(ccp_alpha=0.0, criterion='mse', max_depth=7, max_features=1,\n",
            "                   max_leaf_nodes=None, min_impurity_decrease=0.0,\n",
            "                   min_impurity_split=None, min_samples_leaf=1,\n",
            "                   min_samples_split=2, min_weight_fraction_leaf=0.0,\n",
            "                   random_state=RandomState(MT19937) at 0x7FF4B140E048,\n",
            "                   splitter='random')\n"
          ],
          "name": "stdout"
        }
      ]
    },
    {
      "cell_type": "code",
      "metadata": {
        "id": "YVQ18agKlRs9",
        "colab_type": "code",
        "colab": {
          "base_uri": "https://localhost:8080/",
          "height": 125
        },
        "outputId": "047bc128-bb55-44c0-b0c8-da4ce0ced231"
      },
      "source": [
        "tmp=ExtraTreeRegressor(max_features=1,splitter='random',max_depth=max_depth,random_state=rng)\n",
        "print(tmp.fit(X,y,sample_weight=None))"
      ],
      "execution_count": 30,
      "outputs": [
        {
          "output_type": "stream",
          "text": [
            "ExtraTreeRegressor(ccp_alpha=0.0, criterion='mse', max_depth=7, max_features=1,\n",
            "                   max_leaf_nodes=None, min_impurity_decrease=0.0,\n",
            "                   min_impurity_split=None, min_samples_leaf=1,\n",
            "                   min_samples_split=2, min_weight_fraction_leaf=0.0,\n",
            "                   random_state=RandomState(MT19937) at 0x7FF4B140E048,\n",
            "                   splitter='random')\n"
          ],
          "name": "stdout"
        }
      ]
    },
    {
      "cell_type": "code",
      "metadata": {
        "id": "wT1i7Q4wlcNQ",
        "colab_type": "code",
        "colab": {}
      },
      "source": [
        "X=check_array(X,accept_sparse='csr')\n",
        "n_samples=X.shape[0]\n",
        "\n",
        "n_samples_leaf=np.zeros((n_samples, clf.n_estimators),order='f')\n",
        "depths=np.zeros((n_samples,clf.n_estimators),order='f')"
      ],
      "execution_count": 31,
      "outputs": []
    },
    {
      "cell_type": "code",
      "metadata": {
        "id": "9J9wt99ymDCt",
        "colab_type": "code",
        "colab": {
          "base_uri": "https://localhost:8080/",
          "height": 71
        },
        "outputId": "3cb43908-a01c-44cd-a348-aed55f1cb8f9"
      },
      "source": [
        "print('clf._max_features:',clf._max_features)\n",
        "print('X.shape[1]:',X.shape[1])\n",
        "clf._max_features==X.shape[1]"
      ],
      "execution_count": 32,
      "outputs": [
        {
          "output_type": "stream",
          "text": [
            "clf._max_features: 1\n",
            "X.shape[1]: 2\n"
          ],
          "name": "stdout"
        },
        {
          "output_type": "execute_result",
          "data": {
            "text/plain": [
              "False"
            ]
          },
          "metadata": {
            "tags": []
          },
          "execution_count": 32
        }
      ]
    },
    {
      "cell_type": "code",
      "metadata": {
        "id": "JCH9s1YZmMtk",
        "colab_type": "code",
        "colab": {}
      },
      "source": [
        "#making numerous Tree with selected variable\n",
        "\n",
        "subsamples_features=True"
      ],
      "execution_count": 33,
      "outputs": []
    },
    {
      "cell_type": "code",
      "metadata": {
        "id": "w0BxhTKZmXHi",
        "colab_type": "code",
        "colab": {
          "base_uri": "https://localhost:8080/",
          "height": 107
        },
        "outputId": "a1bd4233-0ba8-4c62-f1c0-637e81a898ff"
      },
      "source": [
        "print(list(enumerate(zip(clf.estimators_,clf.estimators_features_)))[0])\n",
        "i, (tree,features)=list(enumerate(zip(clf.estimators_, clf.estimators_features_)))[0]"
      ],
      "execution_count": 34,
      "outputs": [
        {
          "output_type": "stream",
          "text": [
            "(0, (ExtraTreeRegressor(ccp_alpha=0.0, criterion='mse', max_depth=7, max_features=1,\n",
            "                   max_leaf_nodes=None, min_impurity_decrease=0.0,\n",
            "                   min_impurity_split=None, min_samples_leaf=1,\n",
            "                   min_samples_split=2, min_weight_fraction_leaf=0.0,\n",
            "                   random_state=351940553, splitter='random'), array([1])))\n"
          ],
          "name": "stdout"
        }
      ]
    },
    {
      "cell_type": "code",
      "metadata": {
        "id": "IP_G3lAlmg39",
        "colab_type": "code",
        "colab": {
          "base_uri": "https://localhost:8080/",
          "height": 233
        },
        "outputId": "99b4ac6e-91f7-4081-d8b0-cbc99363f63f"
      },
      "source": [
        "X_subset=X[:,features]\n",
        "leaves_index=tree.apply(X_subset)\n",
        "leaves_index"
      ],
      "execution_count": 35,
      "outputs": [
        {
          "output_type": "execute_result",
          "data": {
            "text/plain": [
              "array([66, 69, 66, 67, 67, 66, 40, 66, 66, 49, 66, 48, 66, 66, 66, 70, 57,\n",
              "       52, 40, 66, 66, 66, 63, 69, 41, 66, 67, 67, 66, 67, 66, 53, 69, 67,\n",
              "       66, 69, 69, 67, 66, 40, 66, 66, 66, 66, 67, 67, 66, 48, 66, 66, 66,\n",
              "       62, 66, 66, 66, 66, 70, 66, 53, 67, 57, 49, 70, 66, 66, 66, 66, 69,\n",
              "       66, 51, 69, 66, 67, 49, 66, 66, 66, 63, 66, 67, 67, 61, 66, 70, 63,\n",
              "       61, 66, 67, 69, 70, 57, 66, 67, 66, 46, 67, 51, 66, 66, 56, 15, 34,\n",
              "       15, 23, 18, 15,  6, 15, 16,  8, 15,  7, 15, 16, 15, 36, 13, 13,  6,\n",
              "       16, 16, 15, 15, 32,  6, 15, 20, 27, 15, 30, 15, 13, 34, 31, 15, 34,\n",
              "       34, 27, 15,  6, 16, 15, 15, 16, 16, 30, 15,  7, 16, 15, 15, 15, 16,\n",
              "       16, 15, 15, 37, 16, 13, 21, 15,  8, 37, 15, 15, 15, 16, 34, 15, 12,\n",
              "       34, 16, 26, 12, 16, 16, 16, 15, 16, 20, 26, 15, 16, 36, 15, 15, 16,\n",
              "       27, 34, 37, 15, 16, 20, 15,  7, 27, 12, 16, 16, 13])"
            ]
          },
          "metadata": {
            "tags": []
          },
          "execution_count": 35
        }
      ]
    },
    {
      "cell_type": "code",
      "metadata": {
        "id": "E6BLIGIamoWA",
        "colab_type": "code",
        "colab": {
          "base_uri": "https://localhost:8080/",
          "height": 125
        },
        "outputId": "483b07c5-9e9f-45f9-9bef-c4b08f068d09"
      },
      "source": [
        "# extract data from each nodes\n",
        "tree.tree_.n_node_samples"
      ],
      "execution_count": 39,
      "outputs": [
        {
          "output_type": "execute_result",
          "data": {
            "text/plain": [
              "array([100,  52,  49,  43,   3,   2,   1,   1,   1,  40,  36,   5,   2,\n",
              "         3,  31,  19,  12,   4,   1,   3,   2,   1,   6,   1,   5,   2,\n",
              "         1,   1,   3,   2,   1,   1,   1,   3,   1,   2,   1,   1,  48,\n",
              "         2,   1,   1,  46,   8,   7,   5,   1,   4,   1,   3,   2,   1,\n",
              "         1,   1,  38,   2,   1,   1,  36,   3,   2,   1,   1,   1,  33,\n",
              "        29,  20,   9,   4,   2,   2])"
            ]
          },
          "metadata": {
            "tags": []
          },
          "execution_count": 39
        }
      ]
    },
    {
      "cell_type": "code",
      "metadata": {
        "id": "0SpVBrYmm3Ce",
        "colab_type": "code",
        "colab": {
          "base_uri": "https://localhost:8080/",
          "height": 143
        },
        "outputId": "30e6cbf4-d50e-4fb6-ec64-b117658639f7"
      },
      "source": [
        "#data in leaf node\n",
        "n_samples_leaf[:,i]=tree.tree_.n_node_samples[leaves_index]\n",
        "n_samples_leaf"
      ],
      "execution_count": 42,
      "outputs": [
        {
          "output_type": "execute_result",
          "data": {
            "text/plain": [
              "array([[20.,  0.,  0., ...,  0.,  0.,  0.],\n",
              "       [ 2.,  0.,  0., ...,  0.,  0.,  0.],\n",
              "       [20.,  0.,  0., ...,  0.,  0.,  0.],\n",
              "       ...,\n",
              "       [12.,  0.,  0., ...,  0.,  0.,  0.],\n",
              "       [12.,  0.,  0., ...,  0.,  0.,  0.],\n",
              "       [ 3.,  0.,  0., ...,  0.,  0.,  0.]])"
            ]
          },
          "metadata": {
            "tags": []
          },
          "execution_count": 42
        }
      ]
    },
    {
      "cell_type": "code",
      "metadata": {
        "id": "YyB9QhmHnDaJ",
        "colab_type": "code",
        "colab": {
          "base_uri": "https://localhost:8080/",
          "height": 53
        },
        "outputId": "64fa3a42-d284-43c3-b4d1-3484a8a73c3d"
      },
      "source": [
        "# get path of every row\n",
        "# node_indicator: 200 obs x 121 node\n",
        "node_indicator=tree.decision_path(X_subset)\n",
        "node_indicator"
      ],
      "execution_count": 43,
      "outputs": [
        {
          "output_type": "execute_result",
          "data": {
            "text/plain": [
              "<200x71 sparse matrix of type '<class 'numpy.int64'>'\n",
              "\twith 1498 stored elements in Compressed Sparse Row format>"
            ]
          },
          "metadata": {
            "tags": []
          },
          "execution_count": 43
        }
      ]
    },
    {
      "cell_type": "code",
      "metadata": {
        "id": "-x6t8dsVnN5S",
        "colab_type": "code",
        "colab": {
          "base_uri": "https://localhost:8080/",
          "height": 197
        },
        "outputId": "e7470e98-8b3d-4498-c4cc-4fca57008ecc"
      },
      "source": [
        "# get final path length by adding path to every row\n",
        "node_indicator.sum(axis=1)\n",
        "np.ravel(node_indicator.sum(axis=1))\n"
      ],
      "execution_count": 44,
      "outputs": [
        {
          "output_type": "execute_result",
          "data": {
            "text/plain": [
              "array([8, 8, 8, 8, 8, 8, 4, 8, 8, 8, 8, 8, 8, 8, 8, 8, 6, 7, 4, 8, 8, 8,\n",
              "       7, 8, 4, 8, 8, 8, 8, 8, 8, 5, 8, 8, 8, 8, 8, 8, 8, 4, 8, 8, 8, 8,\n",
              "       8, 8, 8, 8, 8, 8, 8, 8, 8, 8, 8, 8, 8, 8, 5, 8, 6, 8, 8, 8, 8, 8,\n",
              "       8, 8, 8, 7, 8, 8, 8, 8, 8, 8, 8, 7, 8, 8, 8, 8, 8, 8, 7, 8, 8, 8,\n",
              "       8, 8, 6, 8, 8, 8, 7, 8, 7, 8, 8, 6, 8, 4, 8, 5, 7, 8, 7, 8, 8, 6,\n",
              "       8, 7, 8, 8, 8, 5, 8, 8, 7, 8, 8, 8, 8, 7, 7, 8, 8, 7, 8, 8, 8, 8,\n",
              "       4, 8, 8, 4, 4, 7, 8, 7, 8, 8, 8, 8, 8, 8, 8, 7, 8, 8, 8, 8, 8, 8,\n",
              "       8, 8, 5, 8, 8, 8, 8, 6, 5, 8, 8, 8, 8, 4, 8, 8, 4, 8, 7, 8, 8, 8,\n",
              "       8, 8, 8, 8, 7, 8, 8, 5, 8, 8, 8, 7, 4, 5, 8, 8, 8, 8, 7, 7, 8, 8,\n",
              "       8, 8])"
            ]
          },
          "metadata": {
            "tags": []
          },
          "execution_count": 44
        }
      ]
    },
    {
      "cell_type": "code",
      "metadata": {
        "id": "7ZfTZAgZnbkv",
        "colab_type": "code",
        "colab": {
          "base_uri": "https://localhost:8080/",
          "height": 143
        },
        "outputId": "7ed4f506-469f-4c30-cc59-60caac2093bd"
      },
      "source": [
        "depths[:,i]=np.ravel(node_indicator.sum(axis=1))\n",
        "depths[:,i]-=1\n",
        "depths"
      ],
      "execution_count": 45,
      "outputs": [
        {
          "output_type": "execute_result",
          "data": {
            "text/plain": [
              "array([[7., 0., 0., ..., 0., 0., 0.],\n",
              "       [7., 0., 0., ..., 0., 0., 0.],\n",
              "       [7., 0., 0., ..., 0., 0., 0.],\n",
              "       ...,\n",
              "       [7., 0., 0., ..., 0., 0., 0.],\n",
              "       [7., 0., 0., ..., 0., 0., 0.],\n",
              "       [7., 0., 0., ..., 0., 0., 0.]])"
            ]
          },
          "metadata": {
            "tags": []
          },
          "execution_count": 45
        }
      ]
    },
    {
      "cell_type": "code",
      "metadata": {
        "id": "epcLYUjinjaO",
        "colab_type": "code",
        "colab": {
          "base_uri": "https://localhost:8080/",
          "height": 143
        },
        "outputId": "c6748422-19cb-47e9-c533-3eb4e155b4bc"
      },
      "source": [
        "#for loop\n",
        "\n",
        "for i, (tree, features) in enumerate(zip(clf.estimators_,\n",
        "                                         clf.estimators_features_)):\n",
        "  if subsamples_features:\n",
        "    X_subset=X[:,features]\n",
        "  else:\n",
        "    X_subset=X\n",
        "  leaves_index=tree.apply(X_subset)\n",
        "  node_indicator=tree.decision_path(X_subset)\n",
        "  n_samples_leaf[:,i]=tree.tree_.n_node_samples[leaves_index]\n",
        "  depths[:,i]=np.ravel(node_indicator.sum(axis=1))\n",
        "  depths[:,i]-=1\n",
        "depths"
      ],
      "execution_count": 46,
      "outputs": [
        {
          "output_type": "execute_result",
          "data": {
            "text/plain": [
              "array([[7., 7., 7., ..., 7., 7., 7.],\n",
              "       [7., 7., 7., ..., 5., 5., 6.],\n",
              "       [7., 7., 7., ..., 7., 7., 6.],\n",
              "       ...,\n",
              "       [7., 7., 7., ..., 7., 5., 7.],\n",
              "       [7., 7., 7., ..., 4., 7., 7.],\n",
              "       [7., 7., 4., ..., 7., 7., 7.]])"
            ]
          },
          "metadata": {
            "tags": []
          },
          "execution_count": 46
        }
      ]
    },
    {
      "cell_type": "code",
      "metadata": {
        "id": "L4sVFjXWoAFh",
        "colab_type": "code",
        "colab": {
          "base_uri": "https://localhost:8080/",
          "height": 53
        },
        "outputId": "e8f4a461-9333-47e9-e385-4b56a29fe370"
      },
      "source": [
        "print('n_samples_leaf:',n_samples_leaf.dtype)\n",
        "isinstance(n_samples_leaf,INTEGER_TYPES)"
      ],
      "execution_count": 47,
      "outputs": [
        {
          "output_type": "stream",
          "text": [
            "n_samples_leaf: float64\n"
          ],
          "name": "stdout"
        },
        {
          "output_type": "execute_result",
          "data": {
            "text/plain": [
              "False"
            ]
          },
          "metadata": {
            "tags": []
          },
          "execution_count": 47
        }
      ]
    },
    {
      "cell_type": "code",
      "metadata": {
        "id": "DCLiGNLUoIzk",
        "colab_type": "code",
        "colab": {
          "base_uri": "https://localhost:8080/",
          "height": 161
        },
        "outputId": "6fd21e7a-e498-471a-d378-105e0377fbfd"
      },
      "source": [
        "# Normalization\n",
        "\n",
        "n_samples_leaf_shape=n_samples_leaf.shape\n",
        "print('n_samples_leaf_shape:',n_samples_leaf_shape)\n",
        "n_samples_leaf"
      ],
      "execution_count": 48,
      "outputs": [
        {
          "output_type": "stream",
          "text": [
            "n_samples_leaf_shape: (200, 100)\n"
          ],
          "name": "stdout"
        },
        {
          "output_type": "execute_result",
          "data": {
            "text/plain": [
              "array([[20.,  5.,  1., ..., 14.,  7.,  2.],\n",
              "       [ 2.,  5.,  3., ...,  1.,  1.,  1.],\n",
              "       [20.,  5.,  3., ..., 14.,  7.,  1.],\n",
              "       ...,\n",
              "       [12., 17., 10., ...,  2.,  1.,  8.],\n",
              "       [12.,  5., 10., ...,  1.,  1.,  8.],\n",
              "       [ 3.,  5.,  1., ...,  4.,  3.,  1.]])"
            ]
          },
          "metadata": {
            "tags": []
          },
          "execution_count": 48
        }
      ]
    },
    {
      "cell_type": "code",
      "metadata": {
        "id": "YNdO42J8oWX9",
        "colab_type": "code",
        "colab": {
          "base_uri": "https://localhost:8080/",
          "height": 53
        },
        "outputId": "2113aa34-7663-43c2-b268-201d0c2911eb"
      },
      "source": [
        "#1-D vector\n",
        "n_samples_leaf=n_samples_leaf.reshape((1,-1))\n",
        "print('n_samples_leaf.shape:',n_samples_leaf.shape)\n",
        "n_samples_leaf"
      ],
      "execution_count": 49,
      "outputs": [
        {
          "output_type": "stream",
          "text": [
            "n_samples_leaf.shape: (1, 20000)\n"
          ],
          "name": "stdout"
        },
        {
          "output_type": "execute_result",
          "data": {
            "text/plain": [
              "array([[20.,  5.,  1., ...,  4.,  3.,  1.]])"
            ]
          },
          "metadata": {
            "tags": []
          },
          "execution_count": 49
        }
      ]
    },
    {
      "cell_type": "code",
      "metadata": {
        "id": "QDbh75L3oiqT",
        "colab_type": "code",
        "colab": {
          "base_uri": "https://localhost:8080/",
          "height": 35
        },
        "outputId": "8fce41e4-7463-4fc7-c764-a13c74802d68"
      },
      "source": [
        "#making space to save path length\n",
        "average_path_length=np.zeros(n_samples_leaf.shape)\n",
        "average_path_length.shape"
      ],
      "execution_count": 50,
      "outputs": [
        {
          "output_type": "execute_result",
          "data": {
            "text/plain": [
              "(1, 20000)"
            ]
          },
          "metadata": {
            "tags": []
          },
          "execution_count": 50
        }
      ]
    },
    {
      "cell_type": "code",
      "metadata": {
        "id": "Rcp6X8CnoqvB",
        "colab_type": "code",
        "colab": {
          "base_uri": "https://localhost:8080/",
          "height": 53
        },
        "outputId": "4b11d946-eaae-4667-da03-638cf196cc3c"
      },
      "source": [
        "# classify nodes (isolated or not)\n",
        "# <=1\n",
        "mask=(n_samples_leaf<=1)\n",
        "# >1\n",
        "not_mask=np.logical_not(mask)\n",
        "print('mask:',mask)\n",
        "print('not_mask:',not_mask)"
      ],
      "execution_count": 51,
      "outputs": [
        {
          "output_type": "stream",
          "text": [
            "mask: [[False False  True ... False False  True]]\n",
            "not_mask: [[ True  True False ...  True  True False]]\n"
          ],
          "name": "stdout"
        }
      ]
    },
    {
      "cell_type": "code",
      "metadata": {
        "id": "jnw3lqvAo8Gn",
        "colab_type": "code",
        "colab": {
          "base_uri": "https://localhost:8080/",
          "height": 35
        },
        "outputId": "546f4fa5-31bc-4108-941f-fcba3e55a272"
      },
      "source": [
        "#Euler's constant\n",
        "np.euler_gamma"
      ],
      "execution_count": 56,
      "outputs": [
        {
          "output_type": "execute_result",
          "data": {
            "text/plain": [
              "0.5772156649015329"
            ]
          },
          "metadata": {
            "tags": []
          },
          "execution_count": 56
        }
      ]
    },
    {
      "cell_type": "code",
      "metadata": {
        "id": "vDxhJt3RpeFL",
        "colab_type": "code",
        "colab": {
          "base_uri": "https://localhost:8080/",
          "height": 251
        },
        "outputId": "375ca443-1975-4245-edca-27bfc8cb6eba"
      },
      "source": [
        "# calculate length to add average depth length if leaf node is not with 1 row\n",
        "average_path_length[mask]=1\n",
        "\n",
        "average_path_length[not_mask]=2. *(\n",
        "    np.log(n_samples_leaf[not_mask]-1.)+np.euler_gamma)-2.*(\n",
        "        n_samples_leaf[not_mask]-1.)/n_samples_leaf[not_mask]\n",
        "\n",
        "average_path_length.reshape(n_samples_leaf_shape)"
      ],
      "execution_count": 57,
      "outputs": [
        {
          "output_type": "execute_result",
          "data": {
            "text/plain": [
              "array([[5.14330929, 2.32702005, 1.        , ..., 4.42718719, 3.02366455,\n",
              "        0.15443133],\n",
              "       [0.15443133, 2.32702005, 1.20739236, ..., 1.        , 1.        ,\n",
              "        1.        ],\n",
              "       [5.14330929, 2.32702005, 1.20739236, ..., 4.42718719, 3.02366455,\n",
              "        1.        ],\n",
              "       ...,\n",
              "       [4.11688854, 4.81725583, 3.74888048, ..., 0.15443133, 1.        ,\n",
              "        3.29625163],\n",
              "       [4.11688854, 2.32702005, 3.74888048, ..., 1.        , 1.        ,\n",
              "        3.29625163],\n",
              "       [1.20739236, 2.32702005, 1.        , ..., 1.85165591, 1.20739236,\n",
              "        1.        ]])"
            ]
          },
          "metadata": {
            "tags": []
          },
          "execution_count": 57
        }
      ]
    },
    {
      "cell_type": "code",
      "metadata": {
        "id": "JFUjQnN2sMf2",
        "colab_type": "code",
        "colab": {
          "base_uri": "https://localhost:8080/",
          "height": 251
        },
        "outputId": "45bc6bca-1713-4d65-87a2-1a7ff81bedb0"
      },
      "source": [
        "# add average length to cover pracitcal depth with interrupting by Max_depth\n",
        "\n",
        "depths+=average_path_length.reshape(n_samples_leaf_shape)\n",
        "depths"
      ],
      "execution_count": 58,
      "outputs": [
        {
          "output_type": "execute_result",
          "data": {
            "text/plain": [
              "array([[12.14330929,  9.32702005,  8.        , ..., 11.42718719,\n",
              "        10.02366455,  7.15443133],\n",
              "       [ 7.15443133,  9.32702005,  8.20739236, ...,  6.        ,\n",
              "         6.        ,  7.        ],\n",
              "       [12.14330929,  9.32702005,  8.20739236, ..., 11.42718719,\n",
              "        10.02366455,  7.        ],\n",
              "       ...,\n",
              "       [11.11688854, 11.81725583, 10.74888048, ...,  7.15443133,\n",
              "         6.        , 10.29625163],\n",
              "       [11.11688854,  9.32702005, 10.74888048, ...,  5.        ,\n",
              "         8.        , 10.29625163],\n",
              "       [ 8.20739236,  9.32702005,  5.        , ...,  8.85165591,\n",
              "         8.20739236,  8.        ]])"
            ]
          },
          "metadata": {
            "tags": []
          },
          "execution_count": 58
        }
      ]
    },
    {
      "cell_type": "code",
      "metadata": {
        "id": "6ZjRMdi6sYHk",
        "colab_type": "code",
        "colab": {}
      },
      "source": [
        "# to use repeatably\n",
        "\n",
        "def _average_path_length(n_samples_leaf):\n",
        "  if isinstance(n_samples_leaf, INTEGER_TYPES):\n",
        "    if n_samples_leaf<=1:\n",
        "      return 1.\n",
        "    else:\n",
        "      return 2. *(np.log(n_samples_leaf-1.)+np.euler_gamma)-2.*(\n",
        "          n_samples_leaf-1.)/n_samples_leaf\n",
        "  \n",
        "  else:\n",
        "    n_samples_leaf_shape=n_samples_leaf.shape\n",
        "    n_sampels_leaf=n_samples_leaf.reshape((1,-1))\n",
        "    average_path_length=np.zeros(n_samples_leaf.shape)\n",
        "\n",
        "    mask=(n_samples_leaf<=1)\n",
        "    not_mask=np.logical_not(mask)\n",
        "    \n",
        "    average_path_length[mask]=1.\n",
        "    average_path_length[not_mask]=2.*(\n",
        "        np.log(n_samples_leaf[not_mask]-1.)+np.euler_gamma)-2.*(\n",
        "            n_samples_leaf[not_mask]-1.)/n_samples_leaf[not_mask]\n",
        "    \n",
        "    return average_path_length.reshape(n_samples_leaf_shape)"
      ],
      "execution_count": 69,
      "outputs": []
    },
    {
      "cell_type": "code",
      "metadata": {
        "id": "RekYEIPBtL1P",
        "colab_type": "code",
        "colab": {
          "base_uri": "https://localhost:8080/",
          "height": 737
        },
        "outputId": "ae4bfbdc-779b-4674-a813-598a7647bd1d"
      },
      "source": [
        "#Novelty Score\n",
        "\n",
        "scores=2**(-depths.mean(axis=1)/_average_path_length(clf.max_samples))\n",
        "scores"
      ],
      "execution_count": 70,
      "outputs": [
        {
          "output_type": "execute_result",
          "data": {
            "text/plain": [
              "array([0.48471994, 0.51983087, 0.45155225, 0.52832245, 0.45364798,\n",
              "       0.45345042, 0.5032741 , 0.521009  , 0.46564525, 0.49610774,\n",
              "       0.51661836, 0.46672845, 0.46565865, 0.47085697, 0.46319037,\n",
              "       0.51976255, 0.46479005, 0.51214694, 0.50602203, 0.4944518 ,\n",
              "       0.48361076, 0.4380923 , 0.5090445 , 0.46790395, 0.50622323,\n",
              "       0.45398687, 0.47327464, 0.51361256, 0.46198716, 0.46062862,\n",
              "       0.46025361, 0.50913554, 0.51844082, 0.45157406, 0.46583491,\n",
              "       0.49437115, 0.47731765, 0.54671077, 0.43437247, 0.49541898,\n",
              "       0.44139895, 0.51407614, 0.46476048, 0.49256372, 0.45870064,\n",
              "       0.44615603, 0.46843264, 0.49522464, 0.45127094, 0.44069017,\n",
              "       0.4941977 , 0.4631867 , 0.43649465, 0.5400134 , 0.45513307,\n",
              "       0.53811555, 0.51122552, 0.45196769, 0.46991322, 0.51400502,\n",
              "       0.50458455, 0.55087726, 0.54888877, 0.46541366, 0.44084753,\n",
              "       0.51163224, 0.46638935, 0.4994073 , 0.46786552, 0.51248343,\n",
              "       0.47872701, 0.51406984, 0.44974545, 0.51498314, 0.48144393,\n",
              "       0.44086002, 0.47501288, 0.45608675, 0.53110917, 0.48494267,\n",
              "       0.46581604, 0.52107855, 0.49160633, 0.53646298, 0.45597931,\n",
              "       0.47501928, 0.43566413, 0.45036642, 0.47582496, 0.53076104,\n",
              "       0.49895742, 0.46874764, 0.45129923, 0.48733356, 0.50802844,\n",
              "       0.46001302, 0.47700869, 0.43842989, 0.46707449, 0.46464772,\n",
              "       0.47921663, 0.52918092, 0.47448348, 0.54014296, 0.48384952,\n",
              "       0.47465158, 0.52611769, 0.53189152, 0.47510217, 0.51835611,\n",
              "       0.52268015, 0.49151663, 0.48172424, 0.48868537, 0.47776656,\n",
              "       0.54251678, 0.49789896, 0.50479315, 0.52852328, 0.49897542,\n",
              "       0.48122469, 0.46380229, 0.52262182, 0.50599895, 0.52586423,\n",
              "       0.45914678, 0.49908256, 0.52458503, 0.47644987, 0.48791545,\n",
              "       0.47471463, 0.52078378, 0.52180621, 0.50259439, 0.47566231,\n",
              "       0.50738094, 0.51044229, 0.56890138, 0.44873761, 0.52814678,\n",
              "       0.4603425 , 0.51893421, 0.48826807, 0.48185475, 0.48565242,\n",
              "       0.48519204, 0.47763459, 0.51387328, 0.45276102, 0.47270514,\n",
              "       0.50636412, 0.48403934, 0.470432  , 0.52636175, 0.4573153 ,\n",
              "       0.53586389, 0.53402561, 0.46183688, 0.49608145, 0.52500008,\n",
              "       0.50476311, 0.55815848, 0.5564337 , 0.4874271 , 0.46232533,\n",
              "       0.52090267, 0.48998635, 0.52642294, 0.48230369, 0.50543286,\n",
              "       0.4976394 , 0.51475745, 0.47403218, 0.53333546, 0.47275198,\n",
              "       0.44523911, 0.47424627, 0.46759682, 0.5326867 , 0.51512222,\n",
              "       0.49812053, 0.52191147, 0.49592735, 0.53965182, 0.48065111,\n",
              "       0.49252031, 0.46321813, 0.47336604, 0.508189  , 0.54814919,\n",
              "       0.50226307, 0.49276877, 0.48491959, 0.47927489, 0.52960013,\n",
              "       0.49364019, 0.48714067, 0.45383133, 0.47932967, 0.48504476])"
            ]
          },
          "metadata": {
            "tags": []
          },
          "execution_count": 70
        }
      ]
    },
    {
      "cell_type": "code",
      "metadata": {
        "id": "LqffMDyptkBH",
        "colab_type": "code",
        "colab": {
          "base_uri": "https://localhost:8080/",
          "height": 737
        },
        "outputId": "19f468b4-dab1-48aa-af15-eba76a881e20"
      },
      "source": [
        "#Trick\n",
        "0.5-scores"
      ],
      "execution_count": 71,
      "outputs": [
        {
          "output_type": "execute_result",
          "data": {
            "text/plain": [
              "array([ 0.01528006, -0.01983087,  0.04844775, -0.02832245,  0.04635202,\n",
              "        0.04654958, -0.0032741 , -0.021009  ,  0.03435475,  0.00389226,\n",
              "       -0.01661836,  0.03327155,  0.03434135,  0.02914303,  0.03680963,\n",
              "       -0.01976255,  0.03520995, -0.01214694, -0.00602203,  0.0055482 ,\n",
              "        0.01638924,  0.0619077 , -0.0090445 ,  0.03209605, -0.00622323,\n",
              "        0.04601313,  0.02672536, -0.01361256,  0.03801284,  0.03937138,\n",
              "        0.03974639, -0.00913554, -0.01844082,  0.04842594,  0.03416509,\n",
              "        0.00562885,  0.02268235, -0.04671077,  0.06562753,  0.00458102,\n",
              "        0.05860105, -0.01407614,  0.03523952,  0.00743628,  0.04129936,\n",
              "        0.05384397,  0.03156736,  0.00477536,  0.04872906,  0.05930983,\n",
              "        0.0058023 ,  0.0368133 ,  0.06350535, -0.0400134 ,  0.04486693,\n",
              "       -0.03811555, -0.01122552,  0.04803231,  0.03008678, -0.01400502,\n",
              "       -0.00458455, -0.05087726, -0.04888877,  0.03458634,  0.05915247,\n",
              "       -0.01163224,  0.03361065,  0.0005927 ,  0.03213448, -0.01248343,\n",
              "        0.02127299, -0.01406984,  0.05025455, -0.01498314,  0.01855607,\n",
              "        0.05913998,  0.02498712,  0.04391325, -0.03110917,  0.01505733,\n",
              "        0.03418396, -0.02107855,  0.00839367, -0.03646298,  0.04402069,\n",
              "        0.02498072,  0.06433587,  0.04963358,  0.02417504, -0.03076104,\n",
              "        0.00104258,  0.03125236,  0.04870077,  0.01266644, -0.00802844,\n",
              "        0.03998698,  0.02299131,  0.06157011,  0.03292551,  0.03535228,\n",
              "        0.02078337, -0.02918092,  0.02551652, -0.04014296,  0.01615048,\n",
              "        0.02534842, -0.02611769, -0.03189152,  0.02489783, -0.01835611,\n",
              "       -0.02268015,  0.00848337,  0.01827576,  0.01131463,  0.02223344,\n",
              "       -0.04251678,  0.00210104, -0.00479315, -0.02852328,  0.00102458,\n",
              "        0.01877531,  0.03619771, -0.02262182, -0.00599895, -0.02586423,\n",
              "        0.04085322,  0.00091744, -0.02458503,  0.02355013,  0.01208455,\n",
              "        0.02528537, -0.02078378, -0.02180621, -0.00259439,  0.02433769,\n",
              "       -0.00738094, -0.01044229, -0.06890138,  0.05126239, -0.02814678,\n",
              "        0.0396575 , -0.01893421,  0.01173193,  0.01814525,  0.01434758,\n",
              "        0.01480796,  0.02236541, -0.01387328,  0.04723898,  0.02729486,\n",
              "       -0.00636412,  0.01596066,  0.029568  , -0.02636175,  0.0426847 ,\n",
              "       -0.03586389, -0.03402561,  0.03816312,  0.00391855, -0.02500008,\n",
              "       -0.00476311, -0.05815848, -0.0564337 ,  0.0125729 ,  0.03767467,\n",
              "       -0.02090267,  0.01001365, -0.02642294,  0.01769631, -0.00543286,\n",
              "        0.0023606 , -0.01475745,  0.02596782, -0.03333546,  0.02724802,\n",
              "        0.05476089,  0.02575373,  0.03240318, -0.0326867 , -0.01512222,\n",
              "        0.00187947, -0.02191147,  0.00407265, -0.03965182,  0.01934889,\n",
              "        0.00747969,  0.03678187,  0.02663396, -0.008189  , -0.04814919,\n",
              "       -0.00226307,  0.00723123,  0.01508041,  0.02072511, -0.02960013,\n",
              "        0.00635981,  0.01285933,  0.04616867,  0.02067033,  0.01495524])"
            ]
          },
          "metadata": {
            "tags": []
          },
          "execution_count": 71
        }
      ]
    },
    {
      "cell_type": "code",
      "metadata": {
        "id": "3GHzCf7XtmMl",
        "colab_type": "code",
        "colab": {}
      },
      "source": [
        "# function definition\n",
        "\n",
        "def decision_function(self, X):\n",
        "  X=check_array(X,accept_sparse='csr')\n",
        "  n_samples=X.shape[0]\n",
        "\n",
        "  n_samples_leaf=np.zeros((n_samples, self.n_estimators), order='f')\n",
        "  depths=np.zeros((n_samples, self.n_estimators), order='f')\n",
        "\n",
        "  if self._max_features==X.shape[1]:\n",
        "    subsamples_features=False\n",
        "  else:\n",
        "    subsamples_features=True\n",
        "\n",
        "  for i, (tree, features) in enumerate(zip(self.estimators_,\n",
        "                                           self.estimators_features_)):\n",
        "    if subsamples_features:\n",
        "      X_subset=X[:,features]\n",
        "    else:\n",
        "      X_subset=X\n",
        "    leaves_index=tree.apply(X_subset)\n",
        "    node_indicator=tree.decision_path(X_subset)\n",
        "    n_samples_leaf[:,i]=tree.tree_.n_node_samples[leaves_index]\n",
        "    depths[:,i]=np.ravel(node_indicator.sum(axis=1))\n",
        "    depths[:,i]-=1\n",
        "\n",
        "  depths += _average_path_length(n_samples_leaf)\n",
        "  \n",
        "  scores=2**(-depths.mean(axis=1)/_average_path_length(self.max_samples_))\n",
        "\n",
        "  return 0.5 - scores\n",
        "\n",
        "clf.decision_function=decision_function"
      ],
      "execution_count": 72,
      "outputs": []
    },
    {
      "cell_type": "code",
      "metadata": {
        "id": "BrAZ7tAGumaT",
        "colab_type": "code",
        "colab": {
          "base_uri": "https://localhost:8080/",
          "height": 737
        },
        "outputId": "26fe6d39-a887-452f-ac55-31c8618ceccb"
      },
      "source": [
        "clf.decision_function(clf,X)"
      ],
      "execution_count": 73,
      "outputs": [
        {
          "output_type": "execute_result",
          "data": {
            "text/plain": [
              "array([ 0.01528006, -0.01983087,  0.04844775, -0.02832245,  0.04635202,\n",
              "        0.04654958, -0.0032741 , -0.021009  ,  0.03435475,  0.00389226,\n",
              "       -0.01661836,  0.03327155,  0.03434135,  0.02914303,  0.03680963,\n",
              "       -0.01976255,  0.03520995, -0.01214694, -0.00602203,  0.0055482 ,\n",
              "        0.01638924,  0.0619077 , -0.0090445 ,  0.03209605, -0.00622323,\n",
              "        0.04601313,  0.02672536, -0.01361256,  0.03801284,  0.03937138,\n",
              "        0.03974639, -0.00913554, -0.01844082,  0.04842594,  0.03416509,\n",
              "        0.00562885,  0.02268235, -0.04671077,  0.06562753,  0.00458102,\n",
              "        0.05860105, -0.01407614,  0.03523952,  0.00743628,  0.04129936,\n",
              "        0.05384397,  0.03156736,  0.00477536,  0.04872906,  0.05930983,\n",
              "        0.0058023 ,  0.0368133 ,  0.06350535, -0.0400134 ,  0.04486693,\n",
              "       -0.03811555, -0.01122552,  0.04803231,  0.03008678, -0.01400502,\n",
              "       -0.00458455, -0.05087726, -0.04888877,  0.03458634,  0.05915247,\n",
              "       -0.01163224,  0.03361065,  0.0005927 ,  0.03213448, -0.01248343,\n",
              "        0.02127299, -0.01406984,  0.05025455, -0.01498314,  0.01855607,\n",
              "        0.05913998,  0.02498712,  0.04391325, -0.03110917,  0.01505733,\n",
              "        0.03418396, -0.02107855,  0.00839367, -0.03646298,  0.04402069,\n",
              "        0.02498072,  0.06433587,  0.04963358,  0.02417504, -0.03076104,\n",
              "        0.00104258,  0.03125236,  0.04870077,  0.01266644, -0.00802844,\n",
              "        0.03998698,  0.02299131,  0.06157011,  0.03292551,  0.03535228,\n",
              "        0.02078337, -0.02918092,  0.02551652, -0.04014296,  0.01615048,\n",
              "        0.02534842, -0.02611769, -0.03189152,  0.02489783, -0.01835611,\n",
              "       -0.02268015,  0.00848337,  0.01827576,  0.01131463,  0.02223344,\n",
              "       -0.04251678,  0.00210104, -0.00479315, -0.02852328,  0.00102458,\n",
              "        0.01877531,  0.03619771, -0.02262182, -0.00599895, -0.02586423,\n",
              "        0.04085322,  0.00091744, -0.02458503,  0.02355013,  0.01208455,\n",
              "        0.02528537, -0.02078378, -0.02180621, -0.00259439,  0.02433769,\n",
              "       -0.00738094, -0.01044229, -0.06890138,  0.05126239, -0.02814678,\n",
              "        0.0396575 , -0.01893421,  0.01173193,  0.01814525,  0.01434758,\n",
              "        0.01480796,  0.02236541, -0.01387328,  0.04723898,  0.02729486,\n",
              "       -0.00636412,  0.01596066,  0.029568  , -0.02636175,  0.0426847 ,\n",
              "       -0.03586389, -0.03402561,  0.03816312,  0.00391855, -0.02500008,\n",
              "       -0.00476311, -0.05815848, -0.0564337 ,  0.0125729 ,  0.03767467,\n",
              "       -0.02090267,  0.01001365, -0.02642294,  0.01769631, -0.00543286,\n",
              "        0.0023606 , -0.01475745,  0.02596782, -0.03333546,  0.02724802,\n",
              "        0.05476089,  0.02575373,  0.03240318, -0.0326867 , -0.01512222,\n",
              "        0.00187947, -0.02191147,  0.00407265, -0.03965182,  0.01934889,\n",
              "        0.00747969,  0.03678187,  0.02663396, -0.008189  , -0.04814919,\n",
              "       -0.00226307,  0.00723123,  0.01508041,  0.02072511, -0.02960013,\n",
              "        0.00635981,  0.01285933,  0.04616867,  0.02067033,  0.01495524])"
            ]
          },
          "metadata": {
            "tags": []
          },
          "execution_count": 73
        }
      ]
    },
    {
      "cell_type": "code",
      "metadata": {
        "id": "VNk4e4Giuogd",
        "colab_type": "code",
        "colab": {
          "base_uri": "https://localhost:8080/",
          "height": 53
        },
        "outputId": "d5d57d02-82ad-466a-87cf-e56219fa7f6b"
      },
      "source": [
        "# definite critical value(10%)\n",
        "\n",
        "clf.threshold_=-sp.stats.scoreatpercentile(\n",
        "    -decision_function(clf,X), 100.*(1.-clf.contamination))\n",
        "print('clf.contamination:',clf.contamination)\n",
        "print('clf.threshold_:',clf.threshold_)"
      ],
      "execution_count": 75,
      "outputs": [
        {
          "output_type": "stream",
          "text": [
            "clf.contamination: 0.1\n",
            "clf.threshold_: -0.029716222615560655\n"
          ],
          "name": "stdout"
        }
      ]
    },
    {
      "cell_type": "code",
      "metadata": {
        "id": "Ja9B7kP5vK_Y",
        "colab_type": "code",
        "colab": {}
      },
      "source": [
        "#fit function\n",
        "\n",
        "def fit(self, X, y=None, sample_weight=None):\n",
        "  X=check_array(X, accept_sparse=['csc'])\n",
        "  if issparse(X):\n",
        "    X.sort_indices()\n",
        "  \n",
        "  rnd=check_random_state(self.random_state)\n",
        "  y=rnd.uniform(size=X.shape[0])\n",
        "\n",
        "  n_samples=X.shape[0]\n",
        "\n",
        "  if isinstance(self.max_samples, six.string_types):\n",
        "    if self.max_samples =='auto':\n",
        "      max_samples=min(256, n_samples)\n",
        "    else:\n",
        "      raise ValueError('max_samples (%s) is not supported.'\n",
        "                       'Valid choices are: \"auto\", int or'\n",
        "                       'float' % self.max_samples)\n",
        "  elif isinstance(self.max_samples, INTEGER_TYPES):\n",
        "    if self.max_samples >n_samples:\n",
        "      warn(\"max_samples (%s) is greater than the\"\n",
        "           \"total number of samples (%s). max_samples\"\n",
        "           \"will be set to n_samples for estimation.\"\n",
        "           % (self.max_samples, n_samples))\n",
        "      max_samples=n_samples\n",
        "    else:\n",
        "      max_samples=self.max_samples\n",
        "  else:\n",
        "    if not (0. < self.max_samples <=1.):\n",
        "      raise ValueError(\"max_samples must be in (0, 1], got %r\"\n",
        "                      % self.max_samples)\n",
        "    max_samples =int(self.max_samples * X.shape[0])\n",
        "  \n",
        "  self.max_samples_=max_samples\n",
        "  max_depth=int(np.ceil(np.log2(max(max_samples,2))))\n",
        "  super(IsolationForest,self)._fit(X,y,max_samples,\n",
        "                                   max_depth=max_depth,\n",
        "                                   sample_weight=sample_weight)\n",
        "  self.threshold_=-sp.stats.scoreatpercentile(\n",
        "      -self.decision_function(self,X),100.*(1.-self.contamination))\n",
        "  return self"
      ],
      "execution_count": 80,
      "outputs": []
    },
    {
      "cell_type": "code",
      "metadata": {
        "id": "ceteuppHw8Vu",
        "colab_type": "code",
        "colab": {
          "base_uri": "https://localhost:8080/",
          "height": 71
        },
        "outputId": "daf91d3b-79af-41af-99b7-684e1464de11"
      },
      "source": [
        "fit(clf,X)"
      ],
      "execution_count": 81,
      "outputs": [
        {
          "output_type": "execute_result",
          "data": {
            "text/plain": [
              "IsolationForest(bootstrap=False, contamination=0.1, max_features=1,\n",
              "                max_samples=100, n_estimators=100, n_jobs=1,\n",
              "                random_state=RandomState(MT19937) at 0x7FF4B140E048, verbose=0)"
            ]
          },
          "metadata": {
            "tags": []
          },
          "execution_count": 81
        }
      ]
    },
    {
      "cell_type": "code",
      "metadata": {
        "id": "veM2VXwTw9Sn",
        "colab_type": "code",
        "colab": {
          "base_uri": "https://localhost:8080/",
          "height": 197
        },
        "outputId": "8be9898b-a2e4-4769-ed4a-683b66df5bf8"
      },
      "source": [
        "# Data normal or not\n",
        "\n",
        "is_inlier = np.ones(X.shape[0], dtype=int)\n",
        "is_inlier"
      ],
      "execution_count": 82,
      "outputs": [
        {
          "output_type": "execute_result",
          "data": {
            "text/plain": [
              "array([1, 1, 1, 1, 1, 1, 1, 1, 1, 1, 1, 1, 1, 1, 1, 1, 1, 1, 1, 1, 1, 1,\n",
              "       1, 1, 1, 1, 1, 1, 1, 1, 1, 1, 1, 1, 1, 1, 1, 1, 1, 1, 1, 1, 1, 1,\n",
              "       1, 1, 1, 1, 1, 1, 1, 1, 1, 1, 1, 1, 1, 1, 1, 1, 1, 1, 1, 1, 1, 1,\n",
              "       1, 1, 1, 1, 1, 1, 1, 1, 1, 1, 1, 1, 1, 1, 1, 1, 1, 1, 1, 1, 1, 1,\n",
              "       1, 1, 1, 1, 1, 1, 1, 1, 1, 1, 1, 1, 1, 1, 1, 1, 1, 1, 1, 1, 1, 1,\n",
              "       1, 1, 1, 1, 1, 1, 1, 1, 1, 1, 1, 1, 1, 1, 1, 1, 1, 1, 1, 1, 1, 1,\n",
              "       1, 1, 1, 1, 1, 1, 1, 1, 1, 1, 1, 1, 1, 1, 1, 1, 1, 1, 1, 1, 1, 1,\n",
              "       1, 1, 1, 1, 1, 1, 1, 1, 1, 1, 1, 1, 1, 1, 1, 1, 1, 1, 1, 1, 1, 1,\n",
              "       1, 1, 1, 1, 1, 1, 1, 1, 1, 1, 1, 1, 1, 1, 1, 1, 1, 1, 1, 1, 1, 1,\n",
              "       1, 1])"
            ]
          },
          "metadata": {
            "tags": []
          },
          "execution_count": 82
        }
      ]
    },
    {
      "cell_type": "code",
      "metadata": {
        "id": "39nqA94mxKj1",
        "colab_type": "code",
        "colab": {
          "base_uri": "https://localhost:8080/",
          "height": 233
        },
        "outputId": "3c777081-5219-446b-d6c9-ce8a599c5472"
      },
      "source": [
        "# transfrom abnormal data to -1\n",
        "\n",
        "is_inlier[clf.decision_function(clf,X)<=clf.threshold_]=-1\n",
        "is_inlier"
      ],
      "execution_count": 83,
      "outputs": [
        {
          "output_type": "execute_result",
          "data": {
            "text/plain": [
              "array([ 1,  1,  1,  1,  1,  1,  1,  1,  1,  1,  1,  1,  1,  1,  1, -1,  1,\n",
              "        1,  1,  1,  1,  1,  1,  1,  1,  1,  1,  1,  1,  1,  1,  1, -1,  1,\n",
              "        1,  1,  1, -1,  1,  1,  1,  1,  1,  1,  1,  1,  1,  1,  1,  1,  1,\n",
              "        1,  1,  1,  1,  1, -1,  1,  1,  1,  1, -1, -1,  1,  1,  1,  1,  1,\n",
              "        1,  1,  1,  1,  1,  1,  1,  1,  1,  1,  1,  1,  1,  1,  1, -1,  1,\n",
              "        1,  1,  1,  1, -1,  1,  1,  1,  1,  1,  1,  1,  1,  1,  1,  1,  1,\n",
              "        1,  1,  1,  1, -1,  1,  1,  1,  1,  1,  1,  1,  1, -1,  1,  1, -1,\n",
              "        1,  1,  1,  1,  1, -1,  1,  1,  1,  1,  1,  1,  1,  1,  1,  1,  1,\n",
              "        1, -1,  1, -1,  1,  1,  1,  1,  1,  1,  1,  1,  1,  1,  1,  1,  1,\n",
              "        1,  1, -1, -1,  1,  1,  1,  1, -1, -1,  1,  1,  1,  1,  1,  1,  1,\n",
              "        1,  1,  1,  1,  1,  1,  1,  1,  1,  1,  1,  1,  1, -1,  1,  1,  1,\n",
              "        1,  1, -1,  1,  1,  1,  1,  1,  1,  1,  1,  1,  1])"
            ]
          },
          "metadata": {
            "tags": []
          },
          "execution_count": 83
        }
      ]
    },
    {
      "cell_type": "code",
      "metadata": {
        "id": "2Blf-4NMxTgO",
        "colab_type": "code",
        "colab": {}
      },
      "source": [
        "#predict function definition\n",
        "\n",
        "def predict(self, X):\n",
        "  X=check_array(X, accept_sparse='csr')\n",
        "  is_inlier=np.ones(X.shape[0],dtype=int)\n",
        "  is_inlier[self.decision_function(self,X)<=self.threshold_]=-1\n",
        "  return is_inlier"
      ],
      "execution_count": 84,
      "outputs": []
    },
    {
      "cell_type": "code",
      "metadata": {
        "id": "f8nUAGszxjiF",
        "colab_type": "code",
        "colab": {
          "base_uri": "https://localhost:8080/",
          "height": 233
        },
        "outputId": "93d559c4-c3df-4e43-99ce-b7aa69d1bd6a"
      },
      "source": [
        "predict(clf,X)"
      ],
      "execution_count": 85,
      "outputs": [
        {
          "output_type": "execute_result",
          "data": {
            "text/plain": [
              "array([ 1,  1,  1,  1,  1,  1,  1,  1,  1,  1,  1,  1,  1,  1,  1, -1,  1,\n",
              "        1,  1,  1,  1,  1,  1,  1,  1,  1,  1,  1,  1,  1,  1,  1, -1,  1,\n",
              "        1,  1,  1, -1,  1,  1,  1,  1,  1,  1,  1,  1,  1,  1,  1,  1,  1,\n",
              "        1,  1,  1,  1,  1, -1,  1,  1,  1,  1, -1, -1,  1,  1,  1,  1,  1,\n",
              "        1,  1,  1,  1,  1,  1,  1,  1,  1,  1,  1,  1,  1,  1,  1, -1,  1,\n",
              "        1,  1,  1,  1, -1,  1,  1,  1,  1,  1,  1,  1,  1,  1,  1,  1,  1,\n",
              "        1,  1,  1,  1, -1,  1,  1,  1,  1,  1,  1,  1,  1, -1,  1,  1, -1,\n",
              "        1,  1,  1,  1,  1, -1,  1,  1,  1,  1,  1,  1,  1,  1,  1,  1,  1,\n",
              "        1, -1,  1, -1,  1,  1,  1,  1,  1,  1,  1,  1,  1,  1,  1,  1,  1,\n",
              "        1,  1, -1, -1,  1,  1,  1,  1, -1, -1,  1,  1,  1,  1,  1,  1,  1,\n",
              "        1,  1,  1,  1,  1,  1,  1,  1,  1,  1,  1,  1,  1, -1,  1,  1,  1,\n",
              "        1,  1, -1,  1,  1,  1,  1,  1,  1,  1,  1,  1,  1])"
            ]
          },
          "metadata": {
            "tags": []
          },
          "execution_count": 85
        }
      ]
    },
    {
      "cell_type": "code",
      "metadata": {
        "id": "pnWSxZsIxlC9",
        "colab_type": "code",
        "colab": {
          "base_uri": "https://localhost:8080/",
          "height": 71
        },
        "outputId": "61a3adba-2db1-4697-f574-376ebdb9a1af"
      },
      "source": [
        "# prediction result with normal data\n",
        "predict(clf,X_test)"
      ],
      "execution_count": 86,
      "outputs": [
        {
          "output_type": "execute_result",
          "data": {
            "text/plain": [
              "array([ 1, -1,  1,  1, -1,  1,  1,  1,  1,  1, -1, -1,  1,  1,  1,  1,  1,\n",
              "       -1,  1,  1,  1,  1, -1,  1, -1,  1,  1,  1,  1,  1, -1, -1,  1,  1,\n",
              "        1,  1,  1,  1,  1,  1])"
            ]
          },
          "metadata": {
            "tags": []
          },
          "execution_count": 86
        }
      ]
    },
    {
      "cell_type": "code",
      "metadata": {
        "id": "45FCFkEkxtx9",
        "colab_type": "code",
        "colab": {
          "base_uri": "https://localhost:8080/",
          "height": 53
        },
        "outputId": "dbf27b89-fee5-4c7e-9767-ae2c387edc30"
      },
      "source": [
        "# prediction result with abnormal data\n",
        "predict(clf,X_outliers)"
      ],
      "execution_count": 87,
      "outputs": [
        {
          "output_type": "execute_result",
          "data": {
            "text/plain": [
              "array([-1, -1, -1, -1, -1, -1,  1, -1, -1, -1,  1, -1, -1, -1, -1, -1, -1,\n",
              "       -1, -1, -1])"
            ]
          },
          "metadata": {
            "tags": []
          },
          "execution_count": 87
        }
      ]
    },
    {
      "cell_type": "code",
      "metadata": {
        "id": "fWB-3ASzxxSr",
        "colab_type": "code",
        "colab": {
          "base_uri": "https://localhost:8080/",
          "height": 281
        },
        "outputId": "8770265e-e1c6-44c0-b561-f4ff39ffcec1"
      },
      "source": [
        "#Plot\n",
        "\n",
        "xx, yy=np.meshgrid(np.linspace(-5,5,50),np.linspace(-5,5,50))\n",
        "Z=clf.decision_function(clf,np.c_[xx.ravel(), yy.ravel()])\n",
        "Z=Z.reshape(xx.shape)\n",
        "\n",
        "plt.title(\"Isolation Forest\")\n",
        "plt.contourf(xx,yy,Z,cmap=plt.cm.Blues_r)\n",
        "\n",
        "b1=plt.scatter(X_train[:,0],X_train[:,1], c='white',s=20,edgecolors='k')\n",
        "b2=plt.scatter(X_test[:,0],X_test[:,1],c='green',s=20, edgecolors='k')\n",
        "c=plt.scatter(X_outliers[:,0],X_outliers[:,1],c='red',s=20,edgecolors='k')\n",
        "\n",
        "plt.axis('tight')\n",
        "plt.xlim((-5,5))\n",
        "plt.ylim((-5,5))\n",
        "plt.legend([b1,b2,c],[\"Training Observations\",\n",
        "                        \"New Regular Observations\", \"New Abnormal Observations\"],\n",
        "                loc=\"upper left\")\n",
        "plt.show()"
      ],
      "execution_count": 90,
      "outputs": [
        {
          "output_type": "display_data",
          "data": {
            "image/png": "[encoded data removed]",
            "text/plain": [
              "<Figure size 432x288 with 1 Axes>"
            ]
          },
          "metadata": {
            "tags": [],
            "needs_background": "light"
          }
        }
      ]
    },
    {
      "cell_type": "code",
      "metadata": {
        "id": "Q_ezfcAiyWuA",
        "colab_type": "code",
        "colab": {}
      },
      "source": [
        ""
      ],
      "execution_count": null,
      "outputs": []
    }
  ]
}