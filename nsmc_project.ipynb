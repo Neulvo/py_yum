{
  "nbformat": 4,
  "nbformat_minor": 0,
  "metadata": {
    "colab": {
      "name": "nsmc_project.ipynb",
      "provenance": [],
      "collapsed_sections": [
        "RRbP-IeVvSrc",
        "KUyL-5rVxYMh",
        "BcaL3FglxfDK",
        "bo8dbxuCopRF",
        "bXwsh9K5pI6K",
        "4r0JycKvsgB-",
        "36IMu3zDsgCF",
        "EBprO8xM2X1I",
        "VfG-q9Vhzj7q",
        "PBOT5LLdpebN",
        "HtJhQMuNpebQ",
        "kB2L91LF5Cpy",
        "2qWbUqLB5Cp1",
        "Bw39ZnYQ3QbV",
        "5zzsZ0DH3QbX",
        "kTwaiPejqPiF",
        "jK1kZT2tqPiH",
        "WrigoCul5scE",
        "pfR1hGyu5scI"
      ],
      "machine_shape": "hm",
      "mount_file_id": "1GKGFh6YcbdJg3UUjsimZnJatxXoOetOI",
      "authorship_tag": "ABX9TyOVbPTMlyMHCOVRXSWy1hZv",
      "include_colab_link": true
    },
    "kernelspec": {
      "name": "python3",
      "display_name": "Python 3"
    },
    "accelerator": "GPU"
  },
  "cells": [
    {
      "cell_type": "markdown",
      "metadata": {
        "id": "view-in-github",
        "colab_type": "text"
      },
      "source": [
        "<a href=\"https://colab.research.google.com/github/Neulvo/py_yum/blob/master/nsmc_project.ipynb\" target=\"_parent\"><img src=\"https://colab.research.google.com/assets/colab-badge.svg\" alt=\"Open In Colab\"/></a>"
      ]
    },
    {
      "cell_type": "code",
      "metadata": {
        "id": "RWaDqc-vxuDH",
        "colab_type": "code",
        "colab": {}
      },
      "source": [
        "# Mecab 설치\n",
        "!sudo apt-get install g++ openjdk-7-jdk # Install Java 1.7+\n",
        "!sudo apt-get install python-dev; pip install konlpy     # Python 2.x\n",
        "!sudo apt-get install python3-dev; pip3 install konlpy   # Python 3.x\n",
        "!sudo apt-get install curl\n",
        "!bash <(curl -s https://raw.githubusercontent.com/konlpy/konlpy/master/scripts/mecab.sh)"
      ],
      "execution_count": null,
      "outputs": []
    },
    {
      "cell_type": "code",
      "metadata": {
        "id": "eM8Y5hyPx2R4",
        "colab_type": "code",
        "colab": {}
      },
      "source": [
        "!pip install konlpy"
      ],
      "execution_count": null,
      "outputs": []
    },
    {
      "cell_type": "code",
      "metadata": {
        "id": "zkh9wOWgxy3F",
        "colab_type": "code",
        "colab": {}
      },
      "source": [
        "!pip install Mecab"
      ],
      "execution_count": null,
      "outputs": []
    },
    {
      "cell_type": "code",
      "metadata": {
        "id": "yrDobFXSsoOt",
        "colab_type": "code",
        "colab": {}
      },
      "source": [
        "!pip install gensim"
      ],
      "execution_count": null,
      "outputs": []
    },
    {
      "cell_type": "code",
      "metadata": {
        "id": "gNO1EFYAWuJ9",
        "colab_type": "code",
        "colab": {}
      },
      "source": [
        "import pandas as pd\n",
        "import numpy as np\n",
        "import matplotlib.pyplot as plt"
      ],
      "execution_count": null,
      "outputs": []
    },
    {
      "cell_type": "code",
      "metadata": {
        "id": "1ZtqvDuaX-Bj",
        "colab_type": "code",
        "colab": {}
      },
      "source": [
        "from tensorflow.keras.preprocessing.text import Tokenizer \n",
        "import tensorflow as tf\n",
        "from tensorflow import keras \n",
        "from tensorflow.keras.preprocessing.sequence import pad_sequences\n",
        "from tensorflow.keras import Input, layers\n",
        "from keras.models import load_model\n",
        "from sklearn.utils import class_weight\n",
        "from keras.regularizers import l2\n",
        "from keras.models import load_model"
      ],
      "execution_count": null,
      "outputs": []
    },
    {
      "cell_type": "code",
      "metadata": {
        "id": "g0XbmiTKyLMr",
        "colab_type": "code",
        "colab": {}
      },
      "source": [
        "from konlpy.tag import Okt\n",
        "from konlpy.tag import Mecab\n",
        "from gensim.models import Word2Vec"
      ],
      "execution_count": null,
      "outputs": []
    },
    {
      "cell_type": "code",
      "metadata": {
        "id": "bzT_0JJ-GXyr",
        "colab_type": "code",
        "colab": {}
      },
      "source": [
        "from keras.callbacks import ModelCheckpoint"
      ],
      "execution_count": null,
      "outputs": []
    },
    {
      "cell_type": "code",
      "metadata": {
        "id": "FqONL3IhN0RG",
        "colab_type": "code",
        "colab": {}
      },
      "source": [
        "import pickle"
      ],
      "execution_count": null,
      "outputs": []
    },
    {
      "cell_type": "markdown",
      "metadata": {
        "id": "J4KA0YiNu6EB",
        "colab_type": "text"
      },
      "source": [
        "# 데이터 불러오기"
      ]
    },
    {
      "cell_type": "code",
      "metadata": {
        "id": "6xkjDS4BWdRm",
        "colab_type": "code",
        "colab": {}
      },
      "source": [
        "train=pd.read_csv('/content/drive/My Drive/data/nsmc/ratings_train.txt',sep='\\t')\n",
        "test=pd.read_csv('/content/drive/My Drive/data/nsmc/ratings_test.txt',sep='\\t')\n",
        "full=pd.read_csv('/content/drive/My Drive/data/nsmc/ratings.txt',sep='\\t')"
      ],
      "execution_count": null,
      "outputs": []
    },
    {
      "cell_type": "code",
      "metadata": {
        "id": "byWjFgHxW4f0",
        "colab_type": "code",
        "colab": {}
      },
      "source": [
        "train.dropna(inplace=True)\n",
        "test.dropna(inplace=True)\n",
        "full.dropna(inplace=True)"
      ],
      "execution_count": null,
      "outputs": []
    },
    {
      "cell_type": "code",
      "metadata": {
        "id": "YxM7cPJHCDJ-",
        "colab_type": "code",
        "colab": {}
      },
      "source": [
        "train['document'] = train['document'].str.replace(\"[^ㄱ-ㅎㅏ-ㅣ가-힣 ]\",\"\")\n",
        "test['document'] = test['document'].str.replace(\"[^ㄱ-ㅎㅏ-ㅣ가-힣 ]\",\"\")"
      ],
      "execution_count": null,
      "outputs": []
    },
    {
      "cell_type": "code",
      "metadata": {
        "id": "O97h_HGUXctv",
        "colab_type": "code",
        "colab": {}
      },
      "source": [
        "training_sentences=np.array(train['document'])\n",
        "training_labels=np.array(train['label'])\n",
        "testing_sentences=np.array(test['document'])\n",
        "testing_labels=np.array(test['label'])\n",
        "full_sentences=np.array(full['document'])\n",
        "full_labels=np.array(full['label'])"
      ],
      "execution_count": null,
      "outputs": []
    },
    {
      "cell_type": "code",
      "metadata": {
        "id": "wozI4BUDWaOs",
        "colab_type": "code",
        "colab": {}
      },
      "source": [
        "vocab_size = 10000\n",
        "max_length= 100\n",
        "trunc_type = 'pre'\n",
        "padding_type = 'pre'\n",
        "oov_tok = '<OOV>'"
      ],
      "execution_count": null,
      "outputs": []
    },
    {
      "cell_type": "markdown",
      "metadata": {
        "id": "SzhkAiJd6Ww6",
        "colab_type": "text"
      },
      "source": [
        "# FastText"
      ]
    },
    {
      "cell_type": "code",
      "metadata": {
        "id": "SWKPC6n0tgTb",
        "colab_type": "code",
        "colab": {}
      },
      "source": [
        "# !pip install fasttext"
      ],
      "execution_count": null,
      "outputs": []
    },
    {
      "cell_type": "code",
      "metadata": {
        "id": "obdfB82RuUZr",
        "colab_type": "code",
        "colab": {}
      },
      "source": [
        "# import fasttext.util\n",
        "# fasttext.util.download_model('ko', if_exists='ignore')\n",
        "# ft = fasttext.load_model('cc.ko.300.bin')"
      ],
      "execution_count": null,
      "outputs": []
    },
    {
      "cell_type": "code",
      "metadata": {
        "id": "a5vmXVU3nCeW",
        "colab_type": "code",
        "colab": {}
      },
      "source": [
        "import subprocess\n",
        "\n",
        "with open(r\"/content/drive/My Drive/data/nsmc/wiki.ko.vec\", encoding='utf-8') as f:\n",
        "    wiki = f.readlines()"
      ],
      "execution_count": null,
      "outputs": []
    },
    {
      "cell_type": "code",
      "metadata": {
        "id": "KwNrPqifmZpS",
        "colab_type": "code",
        "colab": {
          "base_uri": "https://localhost:8080/",
          "height": 35
        },
        "outputId": "f8bef733-023d-4f06-e25f-2238c723d2f8"
      },
      "source": [
        "embedding_dict = dict()\n",
        "\n",
        "for line in wiki:\n",
        "    word_vector = line.split()\n",
        "    word = word_vector[0]\n",
        "    word_vector_arr = np.asarray(word_vector[1:], dtype='float32') \n",
        "    embedding_dict[word] = word_vector_arr\n",
        "# f.close()\n",
        "print('%s개의 Embedding vector가 있습니다.' % len(embedding_dict))"
      ],
      "execution_count": null,
      "outputs": [
        {
          "output_type": "stream",
          "text": [
            "879130개의 Embedding vector가 있습니다.\n"
          ],
          "name": "stdout"
        }
      ]
    },
    {
      "cell_type": "markdown",
      "metadata": {
        "id": "NrDd5vr_PquC",
        "colab_type": "text"
      },
      "source": [
        "# Base\n",
        "split by (' ')"
      ]
    },
    {
      "cell_type": "markdown",
      "metadata": {
        "id": "ymP9cteg1raE",
        "colab_type": "text"
      },
      "source": [
        "## Base_contextual"
      ]
    },
    {
      "cell_type": "markdown",
      "metadata": {
        "id": "RRbP-IeVvSrc",
        "colab_type": "text"
      },
      "source": [
        "### 학습 포맷 맞추기"
      ]
    },
    {
      "cell_type": "code",
      "metadata": {
        "id": "ClPTHVrr1J59",
        "colab_type": "code",
        "colab": {}
      },
      "source": [
        "tokenizer=Tokenizer(num_words=vocab_size, oov_token=oov_tok)\n",
        "tokenizer.fit_on_texts(training_sentences)\n",
        "word_index=tokenizer.word_index "
      ],
      "execution_count": null,
      "outputs": []
    },
    {
      "cell_type": "code",
      "metadata": {
        "id": "-loF2Xg6X5Es",
        "colab_type": "code",
        "colab": {}
      },
      "source": [
        "def padding_maker(train_sentence, test_sentence):\n",
        "\n",
        "  training_sequences= tokenizer.texts_to_sequences(train_sentence)\n",
        "  training_padded=pad_sequences(training_sequences, maxlen=max_length,padding=padding_type, truncating=trunc_type)\n",
        "  testing_sequences= tokenizer.texts_to_sequences(test_sentence)\n",
        "  testing_padded=pad_sequences(testing_sequences, maxlen=max_length,padding=padding_type, truncating=trunc_type)\n",
        "  \n",
        "  training_padded =np.array(training_padded)\n",
        "  testing_padded =np.array(testing_padded)\n",
        "  return training_padded, testing_padded"
      ],
      "execution_count": null,
      "outputs": []
    },
    {
      "cell_type": "code",
      "metadata": {
        "id": "j4KiP2HWvZCN",
        "colab_type": "code",
        "colab": {}
      },
      "source": [
        "training_padded, testing_padded= padding_maker(training_sentences,testing_sentences)"
      ],
      "execution_count": null,
      "outputs": []
    },
    {
      "cell_type": "code",
      "metadata": {
        "id": "ZanLioXKcMKL",
        "colab_type": "code",
        "colab": {}
      },
      "source": [
        "training_labels =np.array(training_labels)\n",
        "testing_labels =np.array(testing_labels)"
      ],
      "execution_count": null,
      "outputs": []
    },
    {
      "cell_type": "markdown",
      "metadata": {
        "id": "KUyL-5rVxYMh",
        "colab_type": "text"
      },
      "source": [
        "### CNN 모델"
      ]
    },
    {
      "cell_type": "code",
      "metadata": {
        "id": "9Y_xgYELbc7u",
        "colab_type": "code",
        "colab": {}
      },
      "source": [
        "# Kim Yoon CNN\n",
        "vocab_size = len(word_index) + 1\n",
        "embedding_dim = 300\n",
        "max_len = max(len(x) for x in training_padded)\n",
        "class_weights = class_weight.compute_class_weight('balanced', np.unique(training_labels), training_labels)\n",
        "class_weights_d = dict(enumerate(class_weights))\n",
        "\n",
        "sequence_input = Input(shape=(max_len,), dtype='int32')\n",
        "\n",
        "embedding_layer = tf.keras.layers.Embedding(vocab_size,\n",
        "                                            embedding_dim,\n",
        "                                            input_length=max_len,\n",
        "                                            trainable=False)\n",
        "\n",
        "embedded_sequences = embedding_layer(sequence_input)\n",
        "\n",
        "convs = []\n",
        "filter_sizes = [3,4,5]\n",
        "\n",
        "for fsz in filter_sizes:\n",
        "    x = layers.Conv1D(128, fsz, activation='relu',padding='same',kernel_regularizer=l2(1e-3))(embedded_sequences)\n",
        "    x = layers.MaxPooling1D()(x)\n",
        "    convs.append(x)\n",
        "    \n",
        "x = layers.Concatenate(axis=-1)(convs)\n",
        "x = layers.Flatten()(x)\n",
        "x = layers.Dense(128, activation='relu')(x)\n",
        "x = layers.Dropout(0.5)(x)\n",
        "output = layers.Dense(1, activation='sigmoid')(x)\n"
      ],
      "execution_count": null,
      "outputs": []
    },
    {
      "cell_type": "markdown",
      "metadata": {
        "id": "BcaL3FglxfDK",
        "colab_type": "text"
      },
      "source": [
        "### 컴파일 및 피팅"
      ]
    },
    {
      "cell_type": "code",
      "metadata": {
        "id": "bIley8LzxdDV",
        "colab_type": "code",
        "colab": {
          "base_uri": "https://localhost:8080/",
          "height": 665
        },
        "outputId": "af35ddea-4ac1-47e1-afc4-82f40ced5050"
      },
      "source": [
        "model_base = keras.models.Model(sequence_input, output)\n",
        "model_base.compile(loss='binary_crossentropy',\n",
        "              optimizer='adam',\n",
        "              metrics=['accuracy'])\n",
        "\n",
        "model_base.summary()"
      ],
      "execution_count": null,
      "outputs": [
        {
          "output_type": "stream",
          "text": [
            "Model: \"functional_1\"\n",
            "__________________________________________________________________________________________________\n",
            "Layer (type)                    Output Shape         Param #     Connected to                     \n",
            "==================================================================================================\n",
            "input_1 (InputLayer)            [(None, 100)]        0                                            \n",
            "__________________________________________________________________________________________________\n",
            "embedding (Embedding)           (None, 100, 300)     88893600    input_1[0][0]                    \n",
            "__________________________________________________________________________________________________\n",
            "conv1d (Conv1D)                 (None, 100, 128)     115328      embedding[0][0]                  \n",
            "__________________________________________________________________________________________________\n",
            "conv1d_1 (Conv1D)               (None, 100, 128)     153728      embedding[0][0]                  \n",
            "__________________________________________________________________________________________________\n",
            "conv1d_2 (Conv1D)               (None, 100, 128)     192128      embedding[0][0]                  \n",
            "__________________________________________________________________________________________________\n",
            "max_pooling1d (MaxPooling1D)    (None, 50, 128)      0           conv1d[0][0]                     \n",
            "__________________________________________________________________________________________________\n",
            "max_pooling1d_1 (MaxPooling1D)  (None, 50, 128)      0           conv1d_1[0][0]                   \n",
            "__________________________________________________________________________________________________\n",
            "max_pooling1d_2 (MaxPooling1D)  (None, 50, 128)      0           conv1d_2[0][0]                   \n",
            "__________________________________________________________________________________________________\n",
            "concatenate (Concatenate)       (None, 50, 384)      0           max_pooling1d[0][0]              \n",
            "                                                                 max_pooling1d_1[0][0]            \n",
            "                                                                 max_pooling1d_2[0][0]            \n",
            "__________________________________________________________________________________________________\n",
            "flatten (Flatten)               (None, 19200)        0           concatenate[0][0]                \n",
            "__________________________________________________________________________________________________\n",
            "dense (Dense)                   (None, 128)          2457728     flatten[0][0]                    \n",
            "__________________________________________________________________________________________________\n",
            "dropout (Dropout)               (None, 128)          0           dense[0][0]                      \n",
            "__________________________________________________________________________________________________\n",
            "dense_1 (Dense)                 (None, 1)            129         dropout[0][0]                    \n",
            "==================================================================================================\n",
            "Total params: 91,812,641\n",
            "Trainable params: 2,919,041\n",
            "Non-trainable params: 88,893,600\n",
            "__________________________________________________________________________________________________\n"
          ],
          "name": "stdout"
        }
      ]
    },
    {
      "cell_type": "code",
      "metadata": {
        "id": "bLuG7hdnbmZf",
        "colab_type": "code",
        "colab": {
          "base_uri": "https://localhost:8080/",
          "height": 287
        },
        "outputId": "f2ffada4-82d9-45d6-f92a-0338ea7edd5c"
      },
      "source": [
        "callback=tf.keras.callbacks.EarlyStopping(monitor='val_loss', min_delta=0.0005, patience=1, verbose=0, mode='auto')\n",
        "# Fit model\n",
        "history_base = model_base.fit(training_padded, training_labels,\n",
        "                    class_weight = class_weights_d,\n",
        "                    epochs=10,\n",
        "                    callbacks=[callback],\n",
        "                    verbose=True,\n",
        "                    validation_data=(testing_padded, testing_labels),\n",
        "                    batch_size=50)\n",
        "loss, accuracy = model_base.evaluate(training_padded, training_labels, verbose=True)\n",
        "print(\"Training Accuracy: {:.4f}\".format(accuracy))\n",
        "loss, accuracy = model_base.evaluate(testing_padded, testing_labels, verbose=False)\n",
        "print(\"Testing Accuracy:  {:.4f}\".format(accuracy))"
      ],
      "execution_count": null,
      "outputs": [
        {
          "output_type": "stream",
          "text": [
            "Epoch 1/10\n",
            "3000/3000 [==============================] - 22s 7ms/step - loss: 0.6568 - accuracy: 0.6394 - val_loss: 0.6034 - val_accuracy: 0.6920\n",
            "Epoch 2/10\n",
            "3000/3000 [==============================] - 22s 7ms/step - loss: 0.5731 - accuracy: 0.7235 - val_loss: 0.5611 - val_accuracy: 0.7332\n",
            "Epoch 3/10\n",
            "3000/3000 [==============================] - 22s 7ms/step - loss: 0.5445 - accuracy: 0.7451 - val_loss: 0.5492 - val_accuracy: 0.7421\n",
            "Epoch 4/10\n",
            "3000/3000 [==============================] - 22s 7ms/step - loss: 0.5322 - accuracy: 0.7546 - val_loss: 0.5484 - val_accuracy: 0.7428\n",
            "Epoch 5/10\n",
            "3000/3000 [==============================] - 22s 7ms/step - loss: 0.5250 - accuracy: 0.7595 - val_loss: 0.5437 - val_accuracy: 0.7430\n",
            "Epoch 6/10\n",
            "3000/3000 [==============================] - 22s 7ms/step - loss: 0.5191 - accuracy: 0.7642 - val_loss: 0.5440 - val_accuracy: 0.7495\n",
            "4688/4688 [==============================] - 15s 3ms/step - loss: 0.4831 - accuracy: 0.7827\n",
            "Training Accuracy: 0.7827\n",
            "Testing Accuracy:  0.7495\n"
          ],
          "name": "stdout"
        }
      ]
    },
    {
      "cell_type": "markdown",
      "metadata": {
        "id": "39jQpbULynwa",
        "colab_type": "text"
      },
      "source": [
        "### ACC, LOSS 그래프"
      ]
    },
    {
      "cell_type": "code",
      "metadata": {
        "id": "2BD2Ex9OalhL",
        "colab_type": "code",
        "colab": {}
      },
      "source": [
        "def plot_graphs(history, string):\n",
        "  plt.plot(history.history[string])\n",
        "  plt.plot(history.history['val_'+string])\n",
        "  plt.xlabel(\"Epochs\")\n",
        "  plt.ylabel(string)\n",
        "  plt.legend([string, 'val_'+string])\n",
        "  plt.show()"
      ],
      "execution_count": null,
      "outputs": []
    },
    {
      "cell_type": "code",
      "metadata": {
        "id": "VO7ra6ziyBZE",
        "colab_type": "code",
        "colab": {
          "base_uri": "https://localhost:8080/",
          "height": 541
        },
        "outputId": "86109218-aa29-4595-ba2b-90ea10d9bc20"
      },
      "source": [
        "plot_graphs(history_base, 'accuracy')\n",
        "plot_graphs(history_base, 'loss')"
      ],
      "execution_count": null,
      "outputs": [
        {
          "output_type": "display_data",
          "data": {
            "image/png": "[encoded data removed]",
            "text/plain": [
              "<Figure size 432x288 with 1 Axes>"
            ]
          },
          "metadata": {
            "tags": [],
            "needs_background": "light"
          }
        },
        {
          "output_type": "display_data",
          "data": {
            "image/png": "[encoded data removed]",
            "text/plain": [
              "<Figure size 432x288 with 1 Axes>"
            ]
          },
          "metadata": {
            "tags": [],
            "needs_background": "light"
          }
        }
      ]
    },
    {
      "cell_type": "markdown",
      "metadata": {
        "id": "MpWOLbjy0Fg7",
        "colab_type": "text"
      },
      "source": [
        "### 예측"
      ]
    },
    {
      "cell_type": "code",
      "metadata": {
        "id": "qp8eNAU50G1p",
        "colab_type": "code",
        "colab": {
          "base_uri": "https://localhost:8080/",
          "height": 53
        },
        "outputId": "12fe74fc-0a14-49a9-f757-d141d2118f5d"
      },
      "source": [
        "sentence = ['영화 너무 재밌더라.', '영화 개노잼. 다신 안 봐.']\n",
        "sequence = tokenizer.texts_to_sequences(sentence)\n",
        "padded = pad_sequences(sequence, maxlen=max_length, padding=padding_type, truncating=trunc_type)\n",
        "print(model_base.predict(padded).round(2))"
      ],
      "execution_count": null,
      "outputs": [
        {
          "output_type": "stream",
          "text": [
            "[[0.46]\n",
            " [0.26]]\n"
          ],
          "name": "stdout"
        }
      ]
    },
    {
      "cell_type": "markdown",
      "metadata": {
        "id": "U5MzzYCboYw3",
        "colab_type": "text"
      },
      "source": [
        "## Base_FastText"
      ]
    },
    {
      "cell_type": "code",
      "metadata": {
        "id": "C4X3JLFkoYDi",
        "colab_type": "code",
        "colab": {
          "base_uri": "https://localhost:8080/",
          "height": 35
        },
        "outputId": "3fd67244-3a5e-486b-a0f0-34cd3a9369ce"
      },
      "source": [
        "# 임베딩 메트릭스\n",
        "embedding_matrix = np.zeros((vocab_size , embedding_dim))\n",
        "# 단어 집합 크기의 행과 100개의 열을 가지는 행렬 생성. 값은 전부 0으로 채워진다.\n",
        "np.shape(embedding_matrix)\n",
        "out_index = 0\n",
        "for word, i in word_index.items(): # 훈련 데이터의 단어 집합에서 단어를 1개씩 꺼내온다.\n",
        "    embedding_vector = embedding_dict.get(word)\n",
        "    if embedding_vector is not None:\n",
        "        # words not found in embedding index will be all-zeros.\n",
        "        embedding_matrix[i] = embedding_vector\n",
        "    else:\n",
        "        out_index += 1\n",
        "\n",
        "print(out_index)"
      ],
      "execution_count": null,
      "outputs": [
        {
          "output_type": "stream",
          "text": [
            "218695\n"
          ],
          "name": "stdout"
        }
      ]
    },
    {
      "cell_type": "markdown",
      "metadata": {
        "id": "bo8dbxuCopRF",
        "colab_type": "text"
      },
      "source": [
        "### CNN 모델"
      ]
    },
    {
      "cell_type": "code",
      "metadata": {
        "id": "Qr_rcTsZow2J",
        "colab_type": "code",
        "colab": {}
      },
      "source": [
        "# Kim Yoon CNN\n",
        "vocab_size = len(word_index) + 1\n",
        "embedding_dim = 300\n",
        "max_len = max(len(x) for x in training_padded)\n",
        "class_weights = class_weight.compute_class_weight('balanced', np.unique(training_labels), training_labels)\n",
        "class_weights_d = dict(enumerate(class_weights))\n",
        "\n",
        "sequence_input = Input(shape=(max_len,), dtype='int32')\n",
        "\n",
        "embedding_layer = tf.keras.layers.Embedding(vocab_size,\n",
        "                                            embedding_dim,\n",
        "                                            weights=[embedding_matrix],\n",
        "                                            input_length=max_len,\n",
        "                                            trainable=False)\n",
        "\n",
        "embedded_sequences = embedding_layer(sequence_input)\n",
        "\n",
        "convs = []\n",
        "filter_sizes = [3,4,5]\n",
        "\n",
        "for fsz in filter_sizes:\n",
        "    x = layers.Conv1D(128, fsz, activation='relu',padding='same',kernel_regularizer=l2(1e-3))(embedded_sequences)\n",
        "    x = layers.MaxPooling1D()(x)\n",
        "    convs.append(x)\n",
        "    \n",
        "x = layers.Concatenate(axis=-1)(convs)\n",
        "x = layers.Flatten()(x)\n",
        "x = layers.Dense(128, activation='relu')(x)\n",
        "x = layers.Dropout(0.5)(x)\n",
        "output = layers.Dense(1, activation='sigmoid')(x)\n"
      ],
      "execution_count": null,
      "outputs": []
    },
    {
      "cell_type": "markdown",
      "metadata": {
        "colab_type": "text",
        "id": "bXwsh9K5pI6K"
      },
      "source": [
        "### 컴파일 및 피팅"
      ]
    },
    {
      "cell_type": "code",
      "metadata": {
        "colab_type": "code",
        "id": "R1Pm036-pI6L",
        "colab": {
          "base_uri": "https://localhost:8080/",
          "height": 665
        },
        "outputId": "47e1f424-7637-452c-db08-c7026bda19f3"
      },
      "source": [
        "model_base_ff = keras.models.Model(sequence_input, output)\n",
        "model_base_ff.compile(loss='binary_crossentropy',\n",
        "              optimizer='adam',\n",
        "              metrics=['accuracy'])\n",
        "\n",
        "model_base_ff.summary()"
      ],
      "execution_count": null,
      "outputs": [
        {
          "output_type": "stream",
          "text": [
            "Model: \"functional_3\"\n",
            "__________________________________________________________________________________________________\n",
            "Layer (type)                    Output Shape         Param #     Connected to                     \n",
            "==================================================================================================\n",
            "input_2 (InputLayer)            [(None, 100)]        0                                            \n",
            "__________________________________________________________________________________________________\n",
            "embedding_1 (Embedding)         (None, 100, 300)     88893600    input_2[0][0]                    \n",
            "__________________________________________________________________________________________________\n",
            "conv1d_3 (Conv1D)               (None, 100, 128)     115328      embedding_1[0][0]                \n",
            "__________________________________________________________________________________________________\n",
            "conv1d_4 (Conv1D)               (None, 100, 128)     153728      embedding_1[0][0]                \n",
            "__________________________________________________________________________________________________\n",
            "conv1d_5 (Conv1D)               (None, 100, 128)     192128      embedding_1[0][0]                \n",
            "__________________________________________________________________________________________________\n",
            "max_pooling1d_3 (MaxPooling1D)  (None, 50, 128)      0           conv1d_3[0][0]                   \n",
            "__________________________________________________________________________________________________\n",
            "max_pooling1d_4 (MaxPooling1D)  (None, 50, 128)      0           conv1d_4[0][0]                   \n",
            "__________________________________________________________________________________________________\n",
            "max_pooling1d_5 (MaxPooling1D)  (None, 50, 128)      0           conv1d_5[0][0]                   \n",
            "__________________________________________________________________________________________________\n",
            "concatenate_1 (Concatenate)     (None, 50, 384)      0           max_pooling1d_3[0][0]            \n",
            "                                                                 max_pooling1d_4[0][0]            \n",
            "                                                                 max_pooling1d_5[0][0]            \n",
            "__________________________________________________________________________________________________\n",
            "flatten_1 (Flatten)             (None, 19200)        0           concatenate_1[0][0]              \n",
            "__________________________________________________________________________________________________\n",
            "dense_2 (Dense)                 (None, 128)          2457728     flatten_1[0][0]                  \n",
            "__________________________________________________________________________________________________\n",
            "dropout_1 (Dropout)             (None, 128)          0           dense_2[0][0]                    \n",
            "__________________________________________________________________________________________________\n",
            "dense_3 (Dense)                 (None, 1)            129         dropout_1[0][0]                  \n",
            "==================================================================================================\n",
            "Total params: 91,812,641\n",
            "Trainable params: 2,919,041\n",
            "Non-trainable params: 88,893,600\n",
            "__________________________________________________________________________________________________\n"
          ],
          "name": "stdout"
        }
      ]
    },
    {
      "cell_type": "code",
      "metadata": {
        "colab_type": "code",
        "id": "d05oNrelpI6R",
        "colab": {
          "base_uri": "https://localhost:8080/",
          "height": 179
        },
        "outputId": "abc9ff24-59d2-44e7-dd46-9089ca69ea0f"
      },
      "source": [
        "callback=tf.keras.callbacks.EarlyStopping(monitor='val_loss', min_delta=0.0005, patience=1, verbose=0, mode='auto')\n",
        "# Fit model\n",
        "history_base_ff = model_base_ff.fit(training_padded, training_labels,\n",
        "                    class_weight = class_weights_d,\n",
        "                    epochs=10,\n",
        "                    callbacks=[callback],\n",
        "                    verbose=True,\n",
        "                    validation_data=(testing_padded, testing_labels),\n",
        "                    batch_size=50)\n",
        "loss, accuracy = model_base_ff.evaluate(training_padded, training_labels, verbose=True)\n",
        "print(\"Training Accuracy: {:.4f}\".format(accuracy))\n",
        "loss, accuracy = model_base_ff.evaluate(testing_padded, testing_labels, verbose=False)\n",
        "print(\"Testing Accuracy:  {:.4f}\".format(accuracy))"
      ],
      "execution_count": null,
      "outputs": [
        {
          "output_type": "stream",
          "text": [
            "Epoch 1/10\n",
            "3000/3000 [==============================] - 22s 7ms/step - loss: 0.5838 - accuracy: 0.7167 - val_loss: 0.5450 - val_accuracy: 0.7302\n",
            "Epoch 2/10\n",
            "3000/3000 [==============================] - 22s 7ms/step - loss: 0.5357 - accuracy: 0.7389 - val_loss: 0.5256 - val_accuracy: 0.7398\n",
            "Epoch 3/10\n",
            "3000/3000 [==============================] - 22s 7ms/step - loss: 0.5228 - accuracy: 0.7446 - val_loss: 0.5254 - val_accuracy: 0.7374\n",
            "4688/4688 [==============================] - 15s 3ms/step - loss: 0.5069 - accuracy: 0.7505\n",
            "Training Accuracy: 0.7505\n",
            "Testing Accuracy:  0.7374\n"
          ],
          "name": "stdout"
        }
      ]
    },
    {
      "cell_type": "markdown",
      "metadata": {
        "colab_type": "text",
        "id": "7bc2QmvYpI6U"
      },
      "source": [
        "### ACC, LOSS 그래프"
      ]
    },
    {
      "cell_type": "code",
      "metadata": {
        "colab_type": "code",
        "id": "YQxjDVIXpI6X",
        "colab": {
          "base_uri": "https://localhost:8080/",
          "height": 541
        },
        "outputId": "4ff414a5-ca1f-4b76-8076-2d0244b76470"
      },
      "source": [
        "plot_graphs(history_base_ff, 'accuracy')\n",
        "plot_graphs(history_base_ff, 'loss')"
      ],
      "execution_count": null,
      "outputs": [
        {
          "output_type": "display_data",
          "data": {
            "image/png": "[encoded data removed]",
            "text/plain": [
              "<Figure size 432x288 with 1 Axes>"
            ]
          },
          "metadata": {
            "tags": [],
            "needs_background": "light"
          }
        },
        {
          "output_type": "display_data",
          "data": {
            "image/png": "[encoded data removed]",
            "text/plain": [
              "<Figure size 432x288 with 1 Axes>"
            ]
          },
          "metadata": {
            "tags": [],
            "needs_background": "light"
          }
        }
      ]
    },
    {
      "cell_type": "markdown",
      "metadata": {
        "colab_type": "text",
        "id": "6cunZJ-ppI6Z"
      },
      "source": [
        "### 예측"
      ]
    },
    {
      "cell_type": "code",
      "metadata": {
        "colab_type": "code",
        "id": "zHNeSPzwpI6a",
        "colab": {
          "base_uri": "https://localhost:8080/",
          "height": 53
        },
        "outputId": "06918f43-11f5-4b4f-83f8-c23764ca3ed0"
      },
      "source": [
        "sentence = ['영화 너무 재밌더라.', '영화 개노잼. 다신 안 봐.']\n",
        "sequence = tokenizer.texts_to_sequences(sentence)\n",
        "padded = pad_sequences(sequence, maxlen=max_length, padding=padding_type, truncating=trunc_type)\n",
        "print(model_base_ff.predict(padded).round(2))"
      ],
      "execution_count": null,
      "outputs": [
        {
          "output_type": "stream",
          "text": [
            "[[0.28]\n",
            " [0.29]]\n"
          ],
          "name": "stdout"
        }
      ]
    },
    {
      "cell_type": "markdown",
      "metadata": {
        "colab_type": "text",
        "id": "fI_vF32PsgB6"
      },
      "source": [
        "## Base_Word2Vec"
      ]
    },
    {
      "cell_type": "code",
      "metadata": {
        "id": "SMcqGrDovXaN",
        "colab_type": "code",
        "colab": {}
      },
      "source": [
        "token_list=[tokens.split() for tokens in full_sentences.tolist()]"
      ],
      "execution_count": null,
      "outputs": []
    },
    {
      "cell_type": "code",
      "metadata": {
        "id": "W0AAuvKDsz0f",
        "colab_type": "code",
        "colab": {}
      },
      "source": [
        "word2vec = Word2Vec(\n",
        "    sentences = token_list,\n",
        "    size = embedding_dim,\n",
        "    alpha = 0.025,\n",
        "    min_count = 1,\n",
        "    window=8,\n",
        "    sample = 0.001,\n",
        "    sg = 1,\n",
        "    iter = 10\n",
        ")"
      ],
      "execution_count": null,
      "outputs": []
    },
    {
      "cell_type": "code",
      "metadata": {
        "colab_type": "code",
        "id": "5r7tSRNgsgB7",
        "colab": {
          "base_uri": "https://localhost:8080/",
          "height": 35
        },
        "outputId": "3378b1e4-ed61-490c-a45e-8d6c95583324"
      },
      "source": [
        "# 임베딩 메트릭스\n",
        "embedding_matrix = np.zeros((vocab_size , embedding_dim))\n",
        "# 단어 집합 크기의 행과 100개의 열을 가지는 행렬 생성. 값은 전부 0으로 채워진다.\n",
        "np.shape(embedding_matrix)\n",
        "out_index = 0\n",
        "for word, i in word_index.items(): # 훈련 데이터의 단어 집합에서 단어를 1개씩 꺼내온다.\n",
        "  try:\n",
        "    embedding_vector = word2vec.wv.__getitem__(word)\n",
        "    if embedding_vector is not None:\n",
        "        # words not found in embedding index will be all-zeros.\n",
        "        embedding_matrix[i] = embedding_vector\n",
        "    else:\n",
        "        out_index += 1\n",
        "  except:\n",
        "    out_index+=1\n",
        "\n",
        "print(out_index)"
      ],
      "execution_count": null,
      "outputs": [
        {
          "output_type": "stream",
          "text": [
            "54069\n"
          ],
          "name": "stdout"
        }
      ]
    },
    {
      "cell_type": "markdown",
      "metadata": {
        "colab_type": "text",
        "id": "4r0JycKvsgB-"
      },
      "source": [
        "### CNN 모델"
      ]
    },
    {
      "cell_type": "code",
      "metadata": {
        "colab_type": "code",
        "id": "sJ0SPfpbsgB_",
        "colab": {}
      },
      "source": [
        "# Kim Yoon CNN\n",
        "vocab_size = len(word_index) + 1\n",
        "embedding_dim = 300\n",
        "max_len = max(len(x) for x in training_padded)\n",
        "class_weights = class_weight.compute_class_weight('balanced', np.unique(training_labels), training_labels)\n",
        "class_weights_d = dict(enumerate(class_weights))\n",
        "\n",
        "sequence_input = Input(shape=(max_len,), dtype='int32')\n",
        "\n",
        "embedding_layer = tf.keras.layers.Embedding(vocab_size,\n",
        "                                            embedding_dim,\n",
        "                                            weights=[embedding_matrix],\n",
        "                                            input_length=max_len,\n",
        "                                            trainable=False)\n",
        "\n",
        "embedded_sequences = embedding_layer(sequence_input)\n",
        "\n",
        "convs = []\n",
        "filter_sizes = [3,4,5]\n",
        "\n",
        "for fsz in filter_sizes:\n",
        "    x = layers.Conv1D(128, fsz, activation='relu',padding='same',kernel_regularizer=l2(1e-3))(embedded_sequences)\n",
        "    x = layers.MaxPooling1D()(x)\n",
        "    convs.append(x)\n",
        "    \n",
        "x = layers.Concatenate(axis=-1)(convs)\n",
        "x = layers.Flatten()(x)\n",
        "x = layers.Dense(128, activation='relu')(x)\n",
        "x = layers.Dropout(0.5)(x)\n",
        "output = layers.Dense(1, activation='sigmoid')(x)\n"
      ],
      "execution_count": null,
      "outputs": []
    },
    {
      "cell_type": "markdown",
      "metadata": {
        "colab_type": "text",
        "id": "36IMu3zDsgCF"
      },
      "source": [
        "### 컴파일 및 피팅"
      ]
    },
    {
      "cell_type": "code",
      "metadata": {
        "colab_type": "code",
        "id": "hOKIeDBqsgCH",
        "colab": {
          "base_uri": "https://localhost:8080/",
          "height": 665
        },
        "outputId": "36f732d4-5000-4408-e8ee-c70f7d84395a"
      },
      "source": [
        "model_base_ff = keras.models.Model(sequence_input, output)\n",
        "model_base_ff.compile(loss='binary_crossentropy',\n",
        "              optimizer='adam',\n",
        "              metrics=['accuracy'])\n",
        "\n",
        "model_base_ff.summary()"
      ],
      "execution_count": null,
      "outputs": [
        {
          "output_type": "stream",
          "text": [
            "Model: \"functional_5\"\n",
            "__________________________________________________________________________________________________\n",
            "Layer (type)                    Output Shape         Param #     Connected to                     \n",
            "==================================================================================================\n",
            "input_4 (InputLayer)            [(None, 100)]        0                                            \n",
            "__________________________________________________________________________________________________\n",
            "embedding_3 (Embedding)         (None, 100, 300)     88893600    input_4[0][0]                    \n",
            "__________________________________________________________________________________________________\n",
            "conv1d_6 (Conv1D)               (None, 100, 128)     115328      embedding_3[0][0]                \n",
            "__________________________________________________________________________________________________\n",
            "conv1d_7 (Conv1D)               (None, 100, 128)     153728      embedding_3[0][0]                \n",
            "__________________________________________________________________________________________________\n",
            "conv1d_8 (Conv1D)               (None, 100, 128)     192128      embedding_3[0][0]                \n",
            "__________________________________________________________________________________________________\n",
            "max_pooling1d_6 (MaxPooling1D)  (None, 50, 128)      0           conv1d_6[0][0]                   \n",
            "__________________________________________________________________________________________________\n",
            "max_pooling1d_7 (MaxPooling1D)  (None, 50, 128)      0           conv1d_7[0][0]                   \n",
            "__________________________________________________________________________________________________\n",
            "max_pooling1d_8 (MaxPooling1D)  (None, 50, 128)      0           conv1d_8[0][0]                   \n",
            "__________________________________________________________________________________________________\n",
            "concatenate_2 (Concatenate)     (None, 50, 384)      0           max_pooling1d_6[0][0]            \n",
            "                                                                 max_pooling1d_7[0][0]            \n",
            "                                                                 max_pooling1d_8[0][0]            \n",
            "__________________________________________________________________________________________________\n",
            "flatten_2 (Flatten)             (None, 19200)        0           concatenate_2[0][0]              \n",
            "__________________________________________________________________________________________________\n",
            "dense_4 (Dense)                 (None, 128)          2457728     flatten_2[0][0]                  \n",
            "__________________________________________________________________________________________________\n",
            "dropout_2 (Dropout)             (None, 128)          0           dense_4[0][0]                    \n",
            "__________________________________________________________________________________________________\n",
            "dense_5 (Dense)                 (None, 1)            129         dropout_2[0][0]                  \n",
            "==================================================================================================\n",
            "Total params: 91,812,641\n",
            "Trainable params: 2,919,041\n",
            "Non-trainable params: 88,893,600\n",
            "__________________________________________________________________________________________________\n"
          ],
          "name": "stdout"
        }
      ]
    },
    {
      "cell_type": "code",
      "metadata": {
        "colab_type": "code",
        "id": "G-lpLT4PsgCN",
        "colab": {
          "base_uri": "https://localhost:8080/",
          "height": 179
        },
        "outputId": "e7e47153-7ebc-44f2-f21f-fa8a18c32e66"
      },
      "source": [
        "callback=tf.keras.callbacks.EarlyStopping(monitor='val_loss', min_delta=0.0005, patience=1, verbose=0, mode='auto')\n",
        "# Fit model\n",
        "history_base_ff = model_base_ff.fit(training_padded, training_labels,\n",
        "                    class_weight = class_weights_d,\n",
        "                    epochs=10,\n",
        "                    callbacks=[callback],\n",
        "                    verbose=True,\n",
        "                    validation_data=(testing_padded, testing_labels),\n",
        "                    batch_size=50)\n",
        "loss, accuracy = model_base_ff.evaluate(training_padded, training_labels, verbose=True)\n",
        "print(\"Training Accuracy: {:.4f}\".format(accuracy))\n",
        "loss, accuracy = model_base_ff.evaluate(testing_padded, testing_labels, verbose=False)\n",
        "print(\"Testing Accuracy:  {:.4f}\".format(accuracy))"
      ],
      "execution_count": null,
      "outputs": [
        {
          "output_type": "stream",
          "text": [
            "Epoch 1/10\n",
            "3000/3000 [==============================] - 22s 7ms/step - loss: 0.5696 - accuracy: 0.7351 - val_loss: 0.5324 - val_accuracy: 0.7447\n",
            "Epoch 2/10\n",
            "3000/3000 [==============================] - 22s 7ms/step - loss: 0.5201 - accuracy: 0.7472 - val_loss: 0.5105 - val_accuracy: 0.7482\n",
            "Epoch 3/10\n",
            "3000/3000 [==============================] - 22s 7ms/step - loss: 0.5092 - accuracy: 0.7508 - val_loss: 0.5111 - val_accuracy: 0.7478\n",
            "4688/4688 [==============================] - 15s 3ms/step - loss: 0.4963 - accuracy: 0.7593\n",
            "Training Accuracy: 0.7593\n",
            "Testing Accuracy:  0.7478\n"
          ],
          "name": "stdout"
        }
      ]
    },
    {
      "cell_type": "markdown",
      "metadata": {
        "colab_type": "text",
        "id": "zE5fwSjesgCS"
      },
      "source": [
        "### ACC, LOSS 그래프"
      ]
    },
    {
      "cell_type": "code",
      "metadata": {
        "colab_type": "code",
        "id": "wu0naf-3sgCT",
        "colab": {
          "base_uri": "https://localhost:8080/",
          "height": 541
        },
        "outputId": "9077da8a-4986-4819-9708-dddc4adec627"
      },
      "source": [
        "plot_graphs(history_base_ff, 'accuracy')\n",
        "plot_graphs(history_base_ff, 'loss')"
      ],
      "execution_count": null,
      "outputs": [
        {
          "output_type": "display_data",
          "data": {
            "image/png": "[encoded data removed]",
            "text/plain": [
              "<Figure size 432x288 with 1 Axes>"
            ]
          },
          "metadata": {
            "tags": [],
            "needs_background": "light"
          }
        },
        {
          "output_type": "display_data",
          "data": {
            "image/png": "[encoded data removed]",
            "text/plain": [
              "<Figure size 432x288 with 1 Axes>"
            ]
          },
          "metadata": {
            "tags": [],
            "needs_background": "light"
          }
        }
      ]
    },
    {
      "cell_type": "markdown",
      "metadata": {
        "colab_type": "text",
        "id": "zKpkbLJ_sgCX"
      },
      "source": [
        "### 예측"
      ]
    },
    {
      "cell_type": "code",
      "metadata": {
        "colab_type": "code",
        "id": "QyiOZHGKsgCY",
        "colab": {
          "base_uri": "https://localhost:8080/",
          "height": 53
        },
        "outputId": "6cbad513-0979-4b5b-ec60-a5fa28ac0fc8"
      },
      "source": [
        "sentence = ['영화 너무 재밌더라.', '영화 개노잼. 다신 안 봐.']\n",
        "sequence = tokenizer.texts_to_sequences(sentence)\n",
        "padded = pad_sequences(sequence, maxlen=max_length, padding=padding_type, truncating=trunc_type)\n",
        "print(model_base_ff.predict(padded).round(2))"
      ],
      "execution_count": null,
      "outputs": [
        {
          "output_type": "stream",
          "text": [
            "[[0.42]\n",
            " [0.1 ]]\n"
          ],
          "name": "stdout"
        }
      ]
    },
    {
      "cell_type": "markdown",
      "metadata": {
        "id": "ZuGrXkyCP6Js",
        "colab_type": "text"
      },
      "source": [
        "# OKT\n",
        "tokenized by okt"
      ]
    },
    {
      "cell_type": "markdown",
      "metadata": {
        "id": "DO-1M-jj2Ltj",
        "colab_type": "text"
      },
      "source": [
        "## OKT_contextual"
      ]
    },
    {
      "cell_type": "markdown",
      "metadata": {
        "id": "5qo453j8yrq3",
        "colab_type": "text"
      },
      "source": [
        "### 학습 포맷 맞추기"
      ]
    },
    {
      "cell_type": "code",
      "metadata": {
        "id": "DzqoriqCPyYg",
        "colab_type": "code",
        "colab": {}
      },
      "source": [
        "okt=Okt()"
      ],
      "execution_count": null,
      "outputs": []
    },
    {
      "cell_type": "code",
      "metadata": {
        "id": "23--YpcFh5cg",
        "colab_type": "code",
        "colab": {}
      },
      "source": [
        "def okt_nizer(base_sentence):\n",
        "  okt_sentence=[]\n",
        "  for sentence in base_sentence:\n",
        "    pos_tag=okt.pos(sentence)\n",
        "    tok_sentence=[]\n",
        "    for token, pos in pos_tag:\n",
        "      if pos[0] in ['N','V']:\n",
        "        tok_sentence.append(token)\n",
        "    okt_sentence.append(' '.join(tok_sentence))\n",
        "  okt_sentence=np.array(okt_sentence)\n",
        "  return okt_sentence"
      ],
      "execution_count": null,
      "outputs": []
    },
    {
      "cell_type": "code",
      "metadata": {
        "id": "mwCW9FecouYD",
        "colab_type": "code",
        "colab": {}
      },
      "source": [
        "okt_training=okt_nizer(training_sentences)\n",
        "okt_testing=okt_nizer(testing_sentences)"
      ],
      "execution_count": null,
      "outputs": []
    },
    {
      "cell_type": "code",
      "metadata": {
        "id": "GnwCxW6A1WbC",
        "colab_type": "code",
        "colab": {}
      },
      "source": [
        "tokenizer=Tokenizer(num_words=vocab_size, oov_token=oov_tok)\n",
        "tokenizer.fit_on_texts(okt_training)\n",
        "okt_word_index=tokenizer.word_index "
      ],
      "execution_count": null,
      "outputs": []
    },
    {
      "cell_type": "code",
      "metadata": {
        "id": "EgR9MNuey3X3",
        "colab_type": "code",
        "colab": {}
      },
      "source": [
        "okt_training_padded, okt_testing_padded = padding_maker(okt_training,okt_testing)"
      ],
      "execution_count": null,
      "outputs": []
    },
    {
      "cell_type": "markdown",
      "metadata": {
        "id": "EBprO8xM2X1I",
        "colab_type": "text"
      },
      "source": [
        "### CNN 모델"
      ]
    },
    {
      "cell_type": "code",
      "metadata": {
        "id": "AgmTxqSv2ZxW",
        "colab_type": "code",
        "colab": {}
      },
      "source": [
        "# Kim Yoon CNN\n",
        "vocab_size = len(okt_word_index) +1\n",
        "embedding_dim = 300\n",
        "max_len = max(len(x) for x in okt_training_padded)\n",
        "class_weights = class_weight.compute_class_weight('balanced', np.unique(training_labels), training_labels)\n",
        "class_weights_d = dict(enumerate(class_weights))\n",
        "\n",
        "sequence_input = Input(shape=(max_len,), dtype='int32')\n",
        "\n",
        "embedding_layer = tf.keras.layers.Embedding(vocab_size,\n",
        "                                            embedding_dim,\n",
        "                                            input_length=max_len,\n",
        "                                            trainable=False)\n",
        "\n",
        "embedded_sequences = embedding_layer(sequence_input)\n",
        "\n",
        "convs = []\n",
        "filter_sizes = [3,4,5]\n",
        "\n",
        "for fsz in filter_sizes:\n",
        "    x = layers.Conv1D(128, fsz, activation='relu',padding='same',kernel_regularizer=l2(1e-3))(embedded_sequences)\n",
        "    x = layers.MaxPooling1D()(x)\n",
        "    convs.append(x)\n",
        "    \n",
        "x = layers.Concatenate(axis=-1)(convs)\n",
        "x = layers.Flatten()(x)\n",
        "x = layers.Dense(128, activation='relu')(x)\n",
        "x = layers.Dropout(0.5)(x)\n",
        "output = layers.Dense(1, activation='sigmoid')(x)"
      ],
      "execution_count": null,
      "outputs": []
    },
    {
      "cell_type": "markdown",
      "metadata": {
        "id": "VfG-q9Vhzj7q",
        "colab_type": "text"
      },
      "source": [
        "### 컴파일 및 피팅"
      ]
    },
    {
      "cell_type": "code",
      "metadata": {
        "id": "opKUVqrSzOCs",
        "colab_type": "code",
        "colab": {
          "base_uri": "https://localhost:8080/",
          "height": 665
        },
        "outputId": "7896ac5c-36f7-4e1b-bae0-2a3ab2a6b720"
      },
      "source": [
        "model_okt_base = keras.models.Model(sequence_input, output)\n",
        "model_okt_base.compile(loss='binary_crossentropy',\n",
        "                       optimizer='adam',\n",
        "                       metrics=['accuracy'])\n",
        "\n",
        "model_okt_base.summary()"
      ],
      "execution_count": null,
      "outputs": [
        {
          "output_type": "stream",
          "text": [
            "Model: \"functional_7\"\n",
            "__________________________________________________________________________________________________\n",
            "Layer (type)                    Output Shape         Param #     Connected to                     \n",
            "==================================================================================================\n",
            "input_5 (InputLayer)            [(None, 100)]        0                                            \n",
            "__________________________________________________________________________________________________\n",
            "embedding_4 (Embedding)         (None, 100, 300)     88893600    input_5[0][0]                    \n",
            "__________________________________________________________________________________________________\n",
            "conv1d_9 (Conv1D)               (None, 100, 128)     115328      embedding_4[0][0]                \n",
            "__________________________________________________________________________________________________\n",
            "conv1d_10 (Conv1D)              (None, 100, 128)     153728      embedding_4[0][0]                \n",
            "__________________________________________________________________________________________________\n",
            "conv1d_11 (Conv1D)              (None, 100, 128)     192128      embedding_4[0][0]                \n",
            "__________________________________________________________________________________________________\n",
            "max_pooling1d_9 (MaxPooling1D)  (None, 50, 128)      0           conv1d_9[0][0]                   \n",
            "__________________________________________________________________________________________________\n",
            "max_pooling1d_10 (MaxPooling1D) (None, 50, 128)      0           conv1d_10[0][0]                  \n",
            "__________________________________________________________________________________________________\n",
            "max_pooling1d_11 (MaxPooling1D) (None, 50, 128)      0           conv1d_11[0][0]                  \n",
            "__________________________________________________________________________________________________\n",
            "concatenate_3 (Concatenate)     (None, 50, 384)      0           max_pooling1d_9[0][0]            \n",
            "                                                                 max_pooling1d_10[0][0]           \n",
            "                                                                 max_pooling1d_11[0][0]           \n",
            "__________________________________________________________________________________________________\n",
            "flatten_3 (Flatten)             (None, 19200)        0           concatenate_3[0][0]              \n",
            "__________________________________________________________________________________________________\n",
            "dense_6 (Dense)                 (None, 128)          2457728     flatten_3[0][0]                  \n",
            "__________________________________________________________________________________________________\n",
            "dropout_3 (Dropout)             (None, 128)          0           dense_6[0][0]                    \n",
            "__________________________________________________________________________________________________\n",
            "dense_7 (Dense)                 (None, 1)            129         dropout_3[0][0]                  \n",
            "==================================================================================================\n",
            "Total params: 91,812,641\n",
            "Trainable params: 2,919,041\n",
            "Non-trainable params: 88,893,600\n",
            "__________________________________________________________________________________________________\n"
          ],
          "name": "stdout"
        }
      ]
    },
    {
      "cell_type": "code",
      "metadata": {
        "id": "ejs9WJS2f2BJ",
        "colab_type": "code",
        "colab": {
          "base_uri": "https://localhost:8080/",
          "height": 251
        },
        "outputId": "21bb9278-305f-4cad-a722-08aa1e6a0765"
      },
      "source": [
        "callback=tf.keras.callbacks.EarlyStopping(monitor='val_loss', min_delta=0.0005, patience=1, verbose=0, mode='auto')\n",
        "# Fit model\n",
        "history_okt_base = model_okt_base.fit(okt_training_padded, training_labels,\n",
        "                    class_weight = class_weights_d,\n",
        "                    epochs=10,\n",
        "                    callbacks=[callback],\n",
        "                    verbose=True,\n",
        "                    validation_data=(okt_testing_padded, testing_labels),\n",
        "                    batch_size=50)\n",
        "loss, accuracy = model_okt_base.evaluate(okt_training_padded, training_labels, verbose=True)\n",
        "print(\"Training Accuracy: {:.4f}\".format(accuracy))\n",
        "loss, accuracy = model_okt_base.evaluate(okt_testing_padded, testing_labels, verbose=False)\n",
        "print(\"Testing Accuracy:  {:.4f}\".format(accuracy))"
      ],
      "execution_count": null,
      "outputs": [
        {
          "output_type": "stream",
          "text": [
            "Epoch 1/10\n",
            "3000/3000 [==============================] - 22s 7ms/step - loss: 0.6292 - accuracy: 0.6853 - val_loss: 0.5796 - val_accuracy: 0.7349\n",
            "Epoch 2/10\n",
            "3000/3000 [==============================] - 22s 7ms/step - loss: 0.5664 - accuracy: 0.7470 - val_loss: 0.5661 - val_accuracy: 0.7450\n",
            "Epoch 3/10\n",
            "3000/3000 [==============================] - 22s 7ms/step - loss: 0.5433 - accuracy: 0.7649 - val_loss: 0.5527 - val_accuracy: 0.7528\n",
            "Epoch 4/10\n",
            "3000/3000 [==============================] - 22s 7ms/step - loss: 0.5306 - accuracy: 0.7741 - val_loss: 0.5506 - val_accuracy: 0.7486\n",
            "Epoch 5/10\n",
            "3000/3000 [==============================] - 22s 7ms/step - loss: 0.5228 - accuracy: 0.7792 - val_loss: 0.5651 - val_accuracy: 0.7485\n",
            "4688/4688 [==============================] - 15s 3ms/step - loss: 0.4911 - accuracy: 0.7946\n",
            "Training Accuracy: 0.7946\n",
            "Testing Accuracy:  0.7485\n"
          ],
          "name": "stdout"
        }
      ]
    },
    {
      "cell_type": "markdown",
      "metadata": {
        "id": "l6h_tJzjz9xZ",
        "colab_type": "text"
      },
      "source": [
        "### ACC, LOSS 그래프"
      ]
    },
    {
      "cell_type": "code",
      "metadata": {
        "id": "_AWQuwgRz6we",
        "colab_type": "code",
        "colab": {
          "base_uri": "https://localhost:8080/",
          "height": 541
        },
        "outputId": "f44f391a-1c01-403d-a2e2-c56578e0302c"
      },
      "source": [
        "plot_graphs(history_okt_base, 'accuracy')\n",
        "plot_graphs(history_okt_base, 'loss')"
      ],
      "execution_count": null,
      "outputs": [
        {
          "output_type": "display_data",
          "data": {
            "image/png": "[encoded data removed]",
            "text/plain": [
              "<Figure size 432x288 with 1 Axes>"
            ]
          },
          "metadata": {
            "tags": [],
            "needs_background": "light"
          }
        },
        {
          "output_type": "display_data",
          "data": {
            "image/png": "[encoded data removed]",
            "text/plain": [
              "<Figure size 432x288 with 1 Axes>"
            ]
          },
          "metadata": {
            "tags": [],
            "needs_background": "light"
          }
        }
      ]
    },
    {
      "cell_type": "markdown",
      "metadata": {
        "id": "yIkJbLj225GW",
        "colab_type": "text"
      },
      "source": [
        "### 예측"
      ]
    },
    {
      "cell_type": "code",
      "metadata": {
        "id": "dWyS6hIy3DQ8",
        "colab_type": "code",
        "colab": {
          "base_uri": "https://localhost:8080/",
          "height": 53
        },
        "outputId": "e2ba1e43-4e28-4488-dc94-ab300b16d52c"
      },
      "source": [
        "sentence = ['영화 너무 재밌더라.', '영화 개노잼. 다신 안 봐.']\n",
        "sequence = tokenizer.texts_to_sequences(sentence)\n",
        "padded = pad_sequences(sequence, maxlen=max_length, padding=padding_type, truncating=trunc_type)\n",
        "print(model_okt_base.predict(padded).round(2))"
      ],
      "execution_count": null,
      "outputs": [
        {
          "output_type": "stream",
          "text": [
            "[[0.49]\n",
            " [0.15]]\n"
          ],
          "name": "stdout"
        }
      ]
    },
    {
      "cell_type": "markdown",
      "metadata": {
        "colab_type": "text",
        "id": "ZCUeCotmpebI"
      },
      "source": [
        "## OKT_FastText"
      ]
    },
    {
      "cell_type": "code",
      "metadata": {
        "colab_type": "code",
        "id": "qf8US2tFpebI",
        "colab": {
          "base_uri": "https://localhost:8080/",
          "height": 35
        },
        "outputId": "bfb72d51-0762-49a3-ff90-0f94f0420617"
      },
      "source": [
        "# 임베딩 메트릭스\n",
        "embedding_matrix = np.zeros((vocab_size , embedding_dim))\n",
        "# 단어 집합 크기의 행과 100개의 열을 가지는 행렬 생성. 값은 전부 0으로 채워진다.\n",
        "np.shape(embedding_matrix)\n",
        "out_index = 0\n",
        "for word, i in okt_word_index.items(): # 훈련 데이터의 단어 집합에서 단어를 1개씩 꺼내온다.\n",
        "    embedding_vector = embedding_dict.get(word)\n",
        "    if embedding_vector is not None:\n",
        "        # words not found in embedding index will be all-zeros.\n",
        "        embedding_matrix[i] = embedding_vector\n",
        "    else:\n",
        "        out_index += 1\n",
        "\n",
        "print(out_index)"
      ],
      "execution_count": null,
      "outputs": [
        {
          "output_type": "stream",
          "text": [
            "37633\n"
          ],
          "name": "stdout"
        }
      ]
    },
    {
      "cell_type": "markdown",
      "metadata": {
        "colab_type": "text",
        "id": "PBOT5LLdpebN"
      },
      "source": [
        "### CNN 모델"
      ]
    },
    {
      "cell_type": "code",
      "metadata": {
        "colab_type": "code",
        "id": "DnOb0nztpebN",
        "colab": {}
      },
      "source": [
        "# Kim Yoon CNN\n",
        "vocab_size = len(okt_word_index) + 1\n",
        "embedding_dim = 300\n",
        "max_len = max(len(x) for x in okt_training_padded)\n",
        "class_weights = class_weight.compute_class_weight('balanced', np.unique(training_labels), training_labels)\n",
        "class_weights_d = dict(enumerate(class_weights))\n",
        "\n",
        "sequence_input = Input(shape=(max_len,), dtype='int32')\n",
        "\n",
        "embedding_layer = tf.keras.layers.Embedding(vocab_size,\n",
        "                                            embedding_dim,\n",
        "                                            weights=[embedding_matrix],\n",
        "                                            input_length=max_len,\n",
        "                                            trainable=False)\n",
        "\n",
        "embedded_sequences = embedding_layer(sequence_input)\n",
        "\n",
        "convs = []\n",
        "filter_sizes = [3,4,5]\n",
        "\n",
        "for fsz in filter_sizes:\n",
        "    x = layers.Conv1D(128, fsz, activation='relu',padding='same',kernel_regularizer=l2(1e-3))(embedded_sequences)\n",
        "    x = layers.MaxPooling1D()(x)\n",
        "    convs.append(x)\n",
        "    \n",
        "x = layers.Concatenate(axis=-1)(convs)\n",
        "x = layers.Flatten()(x)\n",
        "x = layers.Dense(128, activation='relu')(x)\n",
        "x = layers.Dropout(0.5)(x)\n",
        "output = layers.Dense(1, activation='sigmoid')(x)\n"
      ],
      "execution_count": null,
      "outputs": []
    },
    {
      "cell_type": "markdown",
      "metadata": {
        "colab_type": "text",
        "id": "HtJhQMuNpebQ"
      },
      "source": [
        "### 컴파일 및 피팅"
      ]
    },
    {
      "cell_type": "code",
      "metadata": {
        "colab_type": "code",
        "id": "uJI6jhtcpebQ",
        "colab": {
          "base_uri": "https://localhost:8080/",
          "height": 665
        },
        "outputId": "4312be70-4a7d-4ad9-b872-bdbd10190422"
      },
      "source": [
        "model_okt_ff = keras.models.Model(sequence_input, output)\n",
        "model_okt_ff.compile(loss='binary_crossentropy',\n",
        "                       optimizer='adam',\n",
        "                       metrics=['accuracy'])\n",
        "\n",
        "model_okt_ff.summary()"
      ],
      "execution_count": null,
      "outputs": [
        {
          "output_type": "stream",
          "text": [
            "Model: \"functional_9\"\n",
            "__________________________________________________________________________________________________\n",
            "Layer (type)                    Output Shape         Param #     Connected to                     \n",
            "==================================================================================================\n",
            "input_6 (InputLayer)            [(None, 100)]        0                                            \n",
            "__________________________________________________________________________________________________\n",
            "embedding_5 (Embedding)         (None, 100, 300)     88893600    input_6[0][0]                    \n",
            "__________________________________________________________________________________________________\n",
            "conv1d_12 (Conv1D)              (None, 100, 128)     115328      embedding_5[0][0]                \n",
            "__________________________________________________________________________________________________\n",
            "conv1d_13 (Conv1D)              (None, 100, 128)     153728      embedding_5[0][0]                \n",
            "__________________________________________________________________________________________________\n",
            "conv1d_14 (Conv1D)              (None, 100, 128)     192128      embedding_5[0][0]                \n",
            "__________________________________________________________________________________________________\n",
            "max_pooling1d_12 (MaxPooling1D) (None, 50, 128)      0           conv1d_12[0][0]                  \n",
            "__________________________________________________________________________________________________\n",
            "max_pooling1d_13 (MaxPooling1D) (None, 50, 128)      0           conv1d_13[0][0]                  \n",
            "__________________________________________________________________________________________________\n",
            "max_pooling1d_14 (MaxPooling1D) (None, 50, 128)      0           conv1d_14[0][0]                  \n",
            "__________________________________________________________________________________________________\n",
            "concatenate_4 (Concatenate)     (None, 50, 384)      0           max_pooling1d_12[0][0]           \n",
            "                                                                 max_pooling1d_13[0][0]           \n",
            "                                                                 max_pooling1d_14[0][0]           \n",
            "__________________________________________________________________________________________________\n",
            "flatten_4 (Flatten)             (None, 19200)        0           concatenate_4[0][0]              \n",
            "__________________________________________________________________________________________________\n",
            "dense_8 (Dense)                 (None, 128)          2457728     flatten_4[0][0]                  \n",
            "__________________________________________________________________________________________________\n",
            "dropout_4 (Dropout)             (None, 128)          0           dense_8[0][0]                    \n",
            "__________________________________________________________________________________________________\n",
            "dense_9 (Dense)                 (None, 1)            129         dropout_4[0][0]                  \n",
            "==================================================================================================\n",
            "Total params: 91,812,641\n",
            "Trainable params: 2,919,041\n",
            "Non-trainable params: 88,893,600\n",
            "__________________________________________________________________________________________________\n"
          ],
          "name": "stdout"
        }
      ]
    },
    {
      "cell_type": "code",
      "metadata": {
        "colab_type": "code",
        "id": "BfwEWZczpebU",
        "colab": {
          "base_uri": "https://localhost:8080/",
          "height": 215
        },
        "outputId": "8e1f3361-75d2-4c99-f5eb-d776c7967068"
      },
      "source": [
        "callback=tf.keras.callbacks.EarlyStopping(monitor='val_loss', min_delta=0.0005, patience=1, verbose=0, mode='auto')\n",
        "# Fit model\n",
        "history_okt_ff = model_okt_ff.fit(okt_training_padded, training_labels,\n",
        "                    class_weight = class_weights_d,\n",
        "                    epochs=10,\n",
        "                    callbacks=[callback],\n",
        "                    verbose=True,\n",
        "                    validation_data=(okt_testing_padded, testing_labels),\n",
        "                    batch_size=50)\n",
        "loss, accuracy = model_okt_ff.evaluate(okt_training_padded, training_labels, verbose=True)\n",
        "print(\"Training Accuracy: {:.4f}\".format(accuracy))\n",
        "loss, accuracy = model_okt_ff.evaluate(okt_testing_padded, testing_labels, verbose=False)\n",
        "print(\"Testing Accuracy:  {:.4f}\".format(accuracy))"
      ],
      "execution_count": null,
      "outputs": [
        {
          "output_type": "stream",
          "text": [
            "Epoch 1/10\n",
            "3000/3000 [==============================] - 22s 7ms/step - loss: 0.5971 - accuracy: 0.7280 - val_loss: 0.5513 - val_accuracy: 0.7438\n",
            "Epoch 2/10\n",
            "3000/3000 [==============================] - 22s 7ms/step - loss: 0.5392 - accuracy: 0.7531 - val_loss: 0.5320 - val_accuracy: 0.7545\n",
            "Epoch 3/10\n",
            "3000/3000 [==============================] - 22s 7ms/step - loss: 0.5262 - accuracy: 0.7574 - val_loss: 0.5278 - val_accuracy: 0.7541\n",
            "Epoch 4/10\n",
            "3000/3000 [==============================] - 22s 7ms/step - loss: 0.5180 - accuracy: 0.7628 - val_loss: 0.5274 - val_accuracy: 0.7543\n",
            "4688/4688 [==============================] - 15s 3ms/step - loss: 0.4957 - accuracy: 0.7742\n",
            "Training Accuracy: 0.7742\n",
            "Testing Accuracy:  0.7543\n"
          ],
          "name": "stdout"
        }
      ]
    },
    {
      "cell_type": "markdown",
      "metadata": {
        "colab_type": "text",
        "id": "kFqR4KYlpebX"
      },
      "source": [
        "### ACC, LOSS 그래프"
      ]
    },
    {
      "cell_type": "code",
      "metadata": {
        "colab_type": "code",
        "id": "Zr9ikZjHpebX",
        "colab": {
          "base_uri": "https://localhost:8080/",
          "height": 543
        },
        "outputId": "e5109a14-f0fd-47df-8453-e1b23c54a303"
      },
      "source": [
        "plot_graphs(history_okt_ff, 'accuracy')\n",
        "plot_graphs(history_okt_ff, 'loss')"
      ],
      "execution_count": null,
      "outputs": [
        {
          "output_type": "display_data",
          "data": {
            "image/png": "[encoded data removed]",
            "text/plain": [
              "<Figure size 432x288 with 1 Axes>"
            ]
          },
          "metadata": {
            "tags": [],
            "needs_background": "light"
          }
        },
        {
          "output_type": "display_data",
          "data": {
            "image/png": "[encoded data removed]",
            "text/plain": [
              "<Figure size 432x288 with 1 Axes>"
            ]
          },
          "metadata": {
            "tags": [],
            "needs_background": "light"
          }
        }
      ]
    },
    {
      "cell_type": "markdown",
      "metadata": {
        "colab_type": "text",
        "id": "1ukKhS_wpeba"
      },
      "source": [
        "### 예측"
      ]
    },
    {
      "cell_type": "code",
      "metadata": {
        "colab_type": "code",
        "id": "sKEDdUVXpebb",
        "colab": {
          "base_uri": "https://localhost:8080/",
          "height": 91
        },
        "outputId": "7e2d30e9-b9f5-4c81-f1f7-f89098205db6"
      },
      "source": [
        "sentence = ['영화 너무 재밌더라.', '영화 개노잼. 다신 안 봐.']\n",
        "sequence = tokenizer.texts_to_sequences(sentence)\n",
        "padded = pad_sequences(sequence, maxlen=max_length, padding=padding_type, truncating=trunc_type)\n",
        "print(model_okt_ff.predict(padded).round(2))"
      ],
      "execution_count": null,
      "outputs": [
        {
          "output_type": "stream",
          "text": [
            "WARNING:tensorflow:5 out of the last 5 calls to <function Model.make_predict_function.<locals>.predict_function at 0x7f921ad0d620> triggered tf.function retracing. Tracing is expensive and the excessive number of tracings could be due to (1) creating @tf.function repeatedly in a loop, (2) passing tensors with different shapes, (3) passing Python objects instead of tensors. For (1), please define your @tf.function outside of the loop. For (2), @tf.function has experimental_relax_shapes=True option that relaxes argument shapes that can avoid unnecessary retracing. For (3), please refer to https://www.tensorflow.org/tutorials/customization/performance#python_or_tensor_args and https://www.tensorflow.org/api_docs/python/tf/function for  more details.\n",
            "[[0.56]\n",
            " [0.5 ]]\n"
          ],
          "name": "stdout"
        }
      ]
    },
    {
      "cell_type": "markdown",
      "metadata": {
        "colab_type": "text",
        "id": "18quCJv0yjhh"
      },
      "source": [
        "## OKT_Word2Vec"
      ]
    },
    {
      "cell_type": "code",
      "metadata": {
        "id": "8pOxRoOH4D1h",
        "colab_type": "code",
        "colab": {}
      },
      "source": [
        "token_list=[]\n",
        "for sentence in full_sentences:\n",
        "  pos_tag=okt.pos(sentence)\n",
        "  tok_sentence=[]\n",
        "  for token, pos in pos_tag:\n",
        "    if pos[0] in ['N','V']:\n",
        "      tok_sentence.append(token)\n",
        "  token_list.append(tok_sentence)"
      ],
      "execution_count": null,
      "outputs": []
    },
    {
      "cell_type": "code",
      "metadata": {
        "colab_type": "code",
        "id": "HW7WCKqVyjhr",
        "colab": {}
      },
      "source": [
        "word2vec = Word2Vec(\n",
        "    sentences = token_list,\n",
        "    size = embedding_dim,\n",
        "    alpha = 0.025,\n",
        "    min_count = 1,\n",
        "    window=8,\n",
        "    sample = 0.001,\n",
        "    sg = 1,\n",
        "    iter = 10\n",
        ")"
      ],
      "execution_count": null,
      "outputs": []
    },
    {
      "cell_type": "code",
      "metadata": {
        "colab_type": "code",
        "id": "43FiCCaeyjhx",
        "colab": {
          "base_uri": "https://localhost:8080/",
          "height": 35
        },
        "outputId": "650aa045-b720-40e8-f242-5300d3462908"
      },
      "source": [
        "# 임베딩 메트릭스\n",
        "embedding_matrix = np.zeros((vocab_size , embedding_dim))\n",
        "# 단어 집합 크기의 행과 100개의 열을 가지는 행렬 생성. 값은 전부 0으로 채워진다.\n",
        "np.shape(embedding_matrix)\n",
        "out_index = 0\n",
        "for word, i in okt_word_index.items(): # 훈련 데이터의 단어 집합에서 단어를 1개씩 꺼내온다.\n",
        "  try:\n",
        "    embedding_vector = word2vec.wv.__getitem__(word)\n",
        "    if embedding_vector is not None:\n",
        "        # words not found in embedding index will be all-zeros.\n",
        "        embedding_matrix[i] = embedding_vector\n",
        "    else:\n",
        "        out_index += 1\n",
        "  except:\n",
        "    out_index+=1\n",
        "\n",
        "print(out_index)"
      ],
      "execution_count": null,
      "outputs": [
        {
          "output_type": "stream",
          "text": [
            "250243\n"
          ],
          "name": "stdout"
        }
      ]
    },
    {
      "cell_type": "markdown",
      "metadata": {
        "colab_type": "text",
        "id": "kB2L91LF5Cpy"
      },
      "source": [
        "### CNN 모델"
      ]
    },
    {
      "cell_type": "code",
      "metadata": {
        "colab_type": "code",
        "id": "3BAHxDil5Cpz",
        "colab": {}
      },
      "source": [
        "# Kim Yoon CNN\n",
        "vocab_size = len(okt_word_index) + 1\n",
        "embedding_dim = 300\n",
        "max_len = max(len(x) for x in training_padded)\n",
        "class_weights = class_weight.compute_class_weight('balanced', np.unique(training_labels), training_labels)\n",
        "class_weights_d = dict(enumerate(class_weights))\n",
        "\n",
        "sequence_input = Input(shape=(max_len,), dtype='int32')\n",
        "\n",
        "embedding_layer = tf.keras.layers.Embedding(vocab_size,\n",
        "                                            embedding_dim,\n",
        "                                            weights=[embedding_matrix],\n",
        "                                            input_length=max_len,\n",
        "                                            trainable=False)\n",
        "\n",
        "embedded_sequences = embedding_layer(sequence_input)\n",
        "\n",
        "convs = []\n",
        "filter_sizes = [3,4,5]\n",
        "\n",
        "for fsz in filter_sizes:\n",
        "    x = layers.Conv1D(128, fsz, activation='relu',padding='same',kernel_regularizer=l2(1e-3))(embedded_sequences)\n",
        "    x = layers.MaxPooling1D()(x)\n",
        "    convs.append(x)\n",
        "    \n",
        "x = layers.Concatenate(axis=-1)(convs)\n",
        "x = layers.Flatten()(x)\n",
        "x = layers.Dense(128, activation='relu')(x)\n",
        "x = layers.Dropout(0.5)(x)\n",
        "output = layers.Dense(1, activation='sigmoid')(x)\n"
      ],
      "execution_count": null,
      "outputs": []
    },
    {
      "cell_type": "markdown",
      "metadata": {
        "colab_type": "text",
        "id": "2qWbUqLB5Cp1"
      },
      "source": [
        "### 컴파일 및 피팅"
      ]
    },
    {
      "cell_type": "code",
      "metadata": {
        "colab_type": "code",
        "id": "VBtRtBor5Cp2",
        "colab": {
          "base_uri": "https://localhost:8080/",
          "height": 665
        },
        "outputId": "e9ff5300-fc07-47ae-b690-4e758bbe687f"
      },
      "source": [
        "model_okt_w2 = keras.models.Model(sequence_input, output)\n",
        "model_okt_w2.compile(loss='binary_crossentropy',\n",
        "                       optimizer='adam',\n",
        "                       metrics=['accuracy'])\n",
        "\n",
        "model_okt_w2.summary()"
      ],
      "execution_count": null,
      "outputs": [
        {
          "output_type": "stream",
          "text": [
            "Model: \"functional_13\"\n",
            "__________________________________________________________________________________________________\n",
            "Layer (type)                    Output Shape         Param #     Connected to                     \n",
            "==================================================================================================\n",
            "input_8 (InputLayer)            [(None, 100)]        0                                            \n",
            "__________________________________________________________________________________________________\n",
            "embedding_7 (Embedding)         (None, 100, 300)     88893600    input_8[0][0]                    \n",
            "__________________________________________________________________________________________________\n",
            "conv1d_18 (Conv1D)              (None, 100, 128)     115328      embedding_7[0][0]                \n",
            "__________________________________________________________________________________________________\n",
            "conv1d_19 (Conv1D)              (None, 100, 128)     153728      embedding_7[0][0]                \n",
            "__________________________________________________________________________________________________\n",
            "conv1d_20 (Conv1D)              (None, 100, 128)     192128      embedding_7[0][0]                \n",
            "__________________________________________________________________________________________________\n",
            "max_pooling1d_18 (MaxPooling1D) (None, 50, 128)      0           conv1d_18[0][0]                  \n",
            "__________________________________________________________________________________________________\n",
            "max_pooling1d_19 (MaxPooling1D) (None, 50, 128)      0           conv1d_19[0][0]                  \n",
            "__________________________________________________________________________________________________\n",
            "max_pooling1d_20 (MaxPooling1D) (None, 50, 128)      0           conv1d_20[0][0]                  \n",
            "__________________________________________________________________________________________________\n",
            "concatenate_6 (Concatenate)     (None, 50, 384)      0           max_pooling1d_18[0][0]           \n",
            "                                                                 max_pooling1d_19[0][0]           \n",
            "                                                                 max_pooling1d_20[0][0]           \n",
            "__________________________________________________________________________________________________\n",
            "flatten_6 (Flatten)             (None, 19200)        0           concatenate_6[0][0]              \n",
            "__________________________________________________________________________________________________\n",
            "dense_12 (Dense)                (None, 128)          2457728     flatten_6[0][0]                  \n",
            "__________________________________________________________________________________________________\n",
            "dropout_6 (Dropout)             (None, 128)          0           dense_12[0][0]                   \n",
            "__________________________________________________________________________________________________\n",
            "dense_13 (Dense)                (None, 1)            129         dropout_6[0][0]                  \n",
            "==================================================================================================\n",
            "Total params: 91,812,641\n",
            "Trainable params: 2,919,041\n",
            "Non-trainable params: 88,893,600\n",
            "__________________________________________________________________________________________________\n"
          ],
          "name": "stdout"
        }
      ]
    },
    {
      "cell_type": "code",
      "metadata": {
        "colab_type": "code",
        "id": "KbKj5RQ55Cp4",
        "colab": {
          "base_uri": "https://localhost:8080/",
          "height": 287
        },
        "outputId": "591b7f1c-729a-4740-9aaf-fe4ec1af6497"
      },
      "source": [
        "callback=tf.keras.callbacks.EarlyStopping(monitor='val_loss', min_delta=0.0005, patience=1, verbose=0, mode='auto')\n",
        "# Fit model\n",
        "history_okt_w2 = model_okt_w2.fit(okt_training_padded, training_labels,\n",
        "                    class_weight = class_weights_d,\n",
        "                    epochs=10,\n",
        "                    callbacks=[callback],\n",
        "                    verbose=True,\n",
        "                    validation_data=(okt_testing_padded, testing_labels),\n",
        "                    batch_size=50)\n",
        "loss, accuracy = model_okt_w2.evaluate(okt_training_padded, training_labels, verbose=True)\n",
        "print(\"Training Accuracy: {:.4f}\".format(accuracy))\n",
        "loss, accuracy = model_okt_w2.evaluate(okt_testing_padded, testing_labels, verbose=False)\n",
        "print(\"Testing Accuracy:  {:.4f}\".format(accuracy))"
      ],
      "execution_count": null,
      "outputs": [
        {
          "output_type": "stream",
          "text": [
            "Epoch 1/10\n",
            "3000/3000 [==============================] - 22s 7ms/step - loss: 0.6414 - accuracy: 0.6608 - val_loss: 0.6010 - val_accuracy: 0.6774\n",
            "Epoch 2/10\n",
            "3000/3000 [==============================] - 22s 7ms/step - loss: 0.5965 - accuracy: 0.6832 - val_loss: 0.5906 - val_accuracy: 0.6796\n",
            "Epoch 3/10\n",
            "3000/3000 [==============================] - 22s 7ms/step - loss: 0.5857 - accuracy: 0.6879 - val_loss: 0.5869 - val_accuracy: 0.6860\n",
            "Epoch 4/10\n",
            "3000/3000 [==============================] - 22s 7ms/step - loss: 0.5796 - accuracy: 0.6918 - val_loss: 0.5855 - val_accuracy: 0.6870\n",
            "Epoch 5/10\n",
            "3000/3000 [==============================] - 21s 7ms/step - loss: 0.5771 - accuracy: 0.6941 - val_loss: 0.5803 - val_accuracy: 0.6864\n",
            "Epoch 6/10\n",
            "3000/3000 [==============================] - 21s 7ms/step - loss: 0.5756 - accuracy: 0.6930 - val_loss: 0.5825 - val_accuracy: 0.6863\n",
            "4688/4688 [==============================] - 15s 3ms/step - loss: 0.5676 - accuracy: 0.6992\n",
            "Training Accuracy: 0.6992\n",
            "Testing Accuracy:  0.6863\n"
          ],
          "name": "stdout"
        }
      ]
    },
    {
      "cell_type": "markdown",
      "metadata": {
        "colab_type": "text",
        "id": "C85Jsg9o5Cp7"
      },
      "source": [
        "### ACC, LOSS 그래프"
      ]
    },
    {
      "cell_type": "code",
      "metadata": {
        "colab_type": "code",
        "id": "IkyG0X8r5Cp8",
        "colab": {
          "base_uri": "https://localhost:8080/",
          "height": 541
        },
        "outputId": "48e6da68-64c4-44f3-fabc-3b37f2fa5561"
      },
      "source": [
        "plot_graphs(history_okt_w2, 'accuracy')\n",
        "plot_graphs(history_okt_w2, 'loss')"
      ],
      "execution_count": null,
      "outputs": [
        {
          "output_type": "display_data",
          "data": {
            "image/png": "[encoded data removed]",
            "text/plain": [
              "<Figure size 432x288 with 1 Axes>"
            ]
          },
          "metadata": {
            "tags": [],
            "needs_background": "light"
          }
        },
        {
          "output_type": "display_data",
          "data": {
            "image/png": "[encoded data removed]",
            "text/plain": [
              "<Figure size 432x288 with 1 Axes>"
            ]
          },
          "metadata": {
            "tags": [],
            "needs_background": "light"
          }
        }
      ]
    },
    {
      "cell_type": "markdown",
      "metadata": {
        "colab_type": "text",
        "id": "62dU9Hot5Cp-"
      },
      "source": [
        "### 예측"
      ]
    },
    {
      "cell_type": "code",
      "metadata": {
        "colab_type": "code",
        "id": "HR7icPbS5Cp_",
        "colab": {
          "base_uri": "https://localhost:8080/",
          "height": 91
        },
        "outputId": "3dcb47e9-3941-47de-829b-93e1d2ac3c3c"
      },
      "source": [
        "sentence = ['영화 너무 재밌더라.', '영화 개노잼. 다신 안 봐.']\n",
        "sequence = tokenizer.texts_to_sequences(sentence)\n",
        "padded = pad_sequences(sequence, maxlen=max_length, padding=padding_type, truncating=trunc_type)\n",
        "print(model_okt_w2.predict(padded).round(2))"
      ],
      "execution_count": null,
      "outputs": [
        {
          "output_type": "stream",
          "text": [
            "WARNING:tensorflow:6 out of the last 6 calls to <function Model.make_predict_function.<locals>.predict_function at 0x7f9150582d08> triggered tf.function retracing. Tracing is expensive and the excessive number of tracings could be due to (1) creating @tf.function repeatedly in a loop, (2) passing tensors with different shapes, (3) passing Python objects instead of tensors. For (1), please define your @tf.function outside of the loop. For (2), @tf.function has experimental_relax_shapes=True option that relaxes argument shapes that can avoid unnecessary retracing. For (3), please refer to https://www.tensorflow.org/tutorials/customization/performance#python_or_tensor_args and https://www.tensorflow.org/api_docs/python/tf/function for  more details.\n",
            "[[0.5 ]\n",
            " [0.63]]\n"
          ],
          "name": "stdout"
        }
      ]
    },
    {
      "cell_type": "markdown",
      "metadata": {
        "id": "PSlm4bKUQG9h",
        "colab_type": "text"
      },
      "source": [
        "# Mecab\n",
        "tokenized by mecab"
      ]
    },
    {
      "cell_type": "markdown",
      "metadata": {
        "id": "E2mckqQ33Klk",
        "colab_type": "text"
      },
      "source": [
        "## Mecab_contextual"
      ]
    },
    {
      "cell_type": "markdown",
      "metadata": {
        "colab_type": "text",
        "id": "2UJq-hzO3QbA"
      },
      "source": [
        "### 학습 포맷 맞추기"
      ]
    },
    {
      "cell_type": "code",
      "metadata": {
        "colab_type": "code",
        "id": "P62vASx53QbC",
        "colab": {}
      },
      "source": [
        "mecab=Mecab()"
      ],
      "execution_count": null,
      "outputs": []
    },
    {
      "cell_type": "code",
      "metadata": {
        "colab_type": "code",
        "id": "kuW5OAQo3QbI",
        "colab": {}
      },
      "source": [
        "def mecab_nizer(base_sentence):\n",
        "  stopwords = ['의','가','이','은','들','는','좀','잘','걍','과','도','를','으로','자','에','와','한','하다']\n",
        "  mecab_sentence=[]\n",
        "  for sentence in base_sentence:\n",
        "    pos_tag=mecab.pos(sentence)\n",
        "    tok_sentence=[]\n",
        "    for token, pos in pos_tag:\n",
        "      if token not in stopwords:\n",
        "        tok_sentence.append(token)\n",
        "    mecab_sentence.append(' '.join(tok_sentence))\n",
        "  mecab_sentence=np.array(mecab_sentence)\n",
        "  return mecab_sentence"
      ],
      "execution_count": null,
      "outputs": []
    },
    {
      "cell_type": "code",
      "metadata": {
        "colab_type": "code",
        "id": "_zh4DMwl3QbK",
        "colab": {}
      },
      "source": [
        "mecab_training=mecab_nizer(training_sentences)\n",
        "mecab_testing=mecab_nizer(testing_sentences)"
      ],
      "execution_count": null,
      "outputs": []
    },
    {
      "cell_type": "code",
      "metadata": {
        "colab_type": "code",
        "id": "tGYAav023QbM",
        "colab": {}
      },
      "source": [
        "tokenizer=Tokenizer(num_words=vocab_size, oov_token=oov_tok)\n",
        "tokenizer.fit_on_texts(mecab_training)\n",
        "mecab_word_index=tokenizer.word_index "
      ],
      "execution_count": null,
      "outputs": []
    },
    {
      "cell_type": "code",
      "metadata": {
        "colab_type": "code",
        "id": "5Qx-o14J3QbP",
        "colab": {}
      },
      "source": [
        "mecab_training_padded, mecab_testing_padded = padding_maker(mecab_training,mecab_testing)"
      ],
      "execution_count": null,
      "outputs": []
    },
    {
      "cell_type": "code",
      "metadata": {
        "colab_type": "code",
        "id": "IThrT_n73QbS",
        "colab": {}
      },
      "source": [
        "vocab_size = len(mecab_word_index) + 1\n",
        "max_len = max(len(x) for x in mecab_training_padded)\n",
        "embedding_dim = 300\n",
        "vocab_size = len(mecab_word_index) + 1"
      ],
      "execution_count": null,
      "outputs": []
    },
    {
      "cell_type": "markdown",
      "metadata": {
        "colab_type": "text",
        "id": "Bw39ZnYQ3QbV"
      },
      "source": [
        "### CNN 모델"
      ]
    },
    {
      "cell_type": "code",
      "metadata": {
        "colab_type": "code",
        "id": "A30ZHA9v3QbV",
        "colab": {}
      },
      "source": [
        "# Kim Yoon CNN\n",
        "vocab_size = len(mecab_word_index) + 1\n",
        "embedding_dim = 300\n",
        "max_len = max(len(x) for x in mecab_training_padded)\n",
        "class_weights = class_weight.compute_class_weight('balanced', np.unique(training_labels), training_labels)\n",
        "class_weights_d = dict(enumerate(class_weights))\n",
        "\n",
        "sequence_input = Input(shape=(max_len,), dtype='int32')\n",
        "\n",
        "embedding_layer = tf.keras.layers.Embedding(vocab_size,\n",
        "                                            embedding_dim,\n",
        "                                            input_length=max_len,\n",
        "                                            trainable=False)\n",
        "\n",
        "embedded_sequences = embedding_layer(sequence_input)\n",
        "\n",
        "convs = []\n",
        "filter_sizes = [3,4,5]\n",
        "\n",
        "for fsz in filter_sizes:\n",
        "    x = layers.Conv1D(128, fsz, activation='relu',padding='same',kernel_regularizer=l2(1e-3))(embedded_sequences)\n",
        "    x = layers.MaxPooling1D()(x)\n",
        "    convs.append(x)\n",
        "    \n",
        "x = layers.Concatenate(axis=-1)(convs)\n",
        "x = layers.Flatten()(x)\n",
        "x = layers.Dense(128, activation='relu')(x)\n",
        "x = layers.Dropout(0.5)(x)\n",
        "output = layers.Dense(1, activation='sigmoid')(x)"
      ],
      "execution_count": null,
      "outputs": []
    },
    {
      "cell_type": "markdown",
      "metadata": {
        "colab_type": "text",
        "id": "5zzsZ0DH3QbX"
      },
      "source": [
        "### 컴파일 및 피팅"
      ]
    },
    {
      "cell_type": "code",
      "metadata": {
        "colab_type": "code",
        "id": "V_sS72c13QbY",
        "colab": {
          "base_uri": "https://localhost:8080/",
          "height": 665
        },
        "outputId": "1e3cb1c4-d1c2-4d8d-a244-3bc00c2b41d9"
      },
      "source": [
        "model_mecab_base = keras.models.Model(sequence_input, output)\n",
        "model_mecab_base.compile(loss='binary_crossentropy',\n",
        "                       optimizer='adam',\n",
        "                       metrics=['accuracy'])\n",
        "\n",
        "model_mecab_base.summary()"
      ],
      "execution_count": null,
      "outputs": [
        {
          "output_type": "stream",
          "text": [
            "Model: \"functional_19\"\n",
            "__________________________________________________________________________________________________\n",
            "Layer (type)                    Output Shape         Param #     Connected to                     \n",
            "==================================================================================================\n",
            "input_7 (InputLayer)            [(None, 100)]        0                                            \n",
            "__________________________________________________________________________________________________\n",
            "embedding_6 (Embedding)         (None, 100, 300)     14984400    input_7[0][0]                    \n",
            "__________________________________________________________________________________________________\n",
            "conv1d_6 (Conv1D)               (None, 100, 128)     115328      embedding_6[0][0]                \n",
            "__________________________________________________________________________________________________\n",
            "conv1d_7 (Conv1D)               (None, 100, 128)     153728      embedding_6[0][0]                \n",
            "__________________________________________________________________________________________________\n",
            "conv1d_8 (Conv1D)               (None, 100, 128)     192128      embedding_6[0][0]                \n",
            "__________________________________________________________________________________________________\n",
            "max_pooling1d_6 (MaxPooling1D)  (None, 50, 128)      0           conv1d_6[0][0]                   \n",
            "__________________________________________________________________________________________________\n",
            "max_pooling1d_7 (MaxPooling1D)  (None, 50, 128)      0           conv1d_7[0][0]                   \n",
            "__________________________________________________________________________________________________\n",
            "max_pooling1d_8 (MaxPooling1D)  (None, 50, 128)      0           conv1d_8[0][0]                   \n",
            "__________________________________________________________________________________________________\n",
            "concatenate_2 (Concatenate)     (None, 50, 384)      0           max_pooling1d_6[0][0]            \n",
            "                                                                 max_pooling1d_7[0][0]            \n",
            "                                                                 max_pooling1d_8[0][0]            \n",
            "__________________________________________________________________________________________________\n",
            "flatten_2 (Flatten)             (None, 19200)        0           concatenate_2[0][0]              \n",
            "__________________________________________________________________________________________________\n",
            "dense_12 (Dense)                (None, 128)          2457728     flatten_2[0][0]                  \n",
            "__________________________________________________________________________________________________\n",
            "dropout_6 (Dropout)             (None, 128)          0           dense_12[0][0]                   \n",
            "__________________________________________________________________________________________________\n",
            "dense_13 (Dense)                (None, 1)            129         dropout_6[0][0]                  \n",
            "==================================================================================================\n",
            "Total params: 17,903,441\n",
            "Trainable params: 2,919,041\n",
            "Non-trainable params: 14,984,400\n",
            "__________________________________________________________________________________________________\n"
          ],
          "name": "stdout"
        }
      ]
    },
    {
      "cell_type": "code",
      "metadata": {
        "colab_type": "code",
        "id": "zc-6KxJ23Qbb",
        "colab": {
          "base_uri": "https://localhost:8080/",
          "height": 271
        },
        "outputId": "1b8369bc-bc01-4a8e-8127-3d99e5d3ecae"
      },
      "source": [
        "callback=tf.keras.callbacks.EarlyStopping(monitor='val_loss', min_delta=0.0005, patience=1, verbose=0, mode='auto')\n",
        "# Fit model\n",
        "history_mecab_base = model_mecab_base.fit(mecab_training_padded, training_labels,\n",
        "                    class_weight = class_weights_d,\n",
        "                    epochs=10,\n",
        "                    callbacks=[callback],\n",
        "                    verbose=True,\n",
        "                    validation_data=(mecab_testing_padded, testing_labels),\n",
        "                    batch_size=50)\n",
        "loss, accuracy = model_mecab_base.evaluate(mecab_training_padded, training_labels, verbose=True)\n",
        "print(\"Training Accuracy: {:.4f}\".format(accuracy))\n",
        "loss, accuracy = model_mecab_base.evaluate(mecab_testing_padded, testing_labels, verbose=False)\n",
        "print(\"Testing Accuracy:  {:.4f}\".format(accuracy))"
      ],
      "execution_count": null,
      "outputs": [
        {
          "output_type": "stream",
          "text": [
            "Epoch 1/10\n",
            "3000/3000 [==============================] - 22s 7ms/step - loss: 0.5622 - accuracy: 0.7611 - val_loss: 0.5082 - val_accuracy: 0.8019\n",
            "Epoch 2/10\n",
            "3000/3000 [==============================] - 22s 7ms/step - loss: 0.4895 - accuracy: 0.8155 - val_loss: 0.4817 - val_accuracy: 0.8146\n",
            "Epoch 3/10\n",
            "3000/3000 [==============================] - 22s 7ms/step - loss: 0.4601 - accuracy: 0.8294 - val_loss: 0.4690 - val_accuracy: 0.8170\n",
            "Epoch 4/10\n",
            "3000/3000 [==============================] - 22s 7ms/step - loss: 0.4450 - accuracy: 0.8342 - val_loss: 0.4592 - val_accuracy: 0.8223\n",
            "Epoch 5/10\n",
            "3000/3000 [==============================] - 22s 7ms/step - loss: 0.4364 - accuracy: 0.8383 - val_loss: 0.4664 - val_accuracy: 0.8180\n",
            "4688/4688 [==============================] - 15s 3ms/step - loss: 0.4035 - accuracy: 0.8540\n",
            "Training Accuracy: 0.8540\n",
            "Testing Accuracy:  0.8180\n"
          ],
          "name": "stdout"
        }
      ]
    },
    {
      "cell_type": "markdown",
      "metadata": {
        "colab_type": "text",
        "id": "x8hKN7Te3Qbd"
      },
      "source": [
        "### ACC, LOSS 그래프"
      ]
    },
    {
      "cell_type": "code",
      "metadata": {
        "colab_type": "code",
        "id": "L8VoWm1a3Qbd",
        "colab": {
          "base_uri": "https://localhost:8080/",
          "height": 541
        },
        "outputId": "7177ace3-b850-49fd-8ad2-108ef3e230ec"
      },
      "source": [
        "plot_graphs(history_mecab_base, 'accuracy')\n",
        "plot_graphs(history_mecab_base, 'loss')"
      ],
      "execution_count": null,
      "outputs": [
        {
          "output_type": "display_data",
          "data": {
            "image/png": "[encoded data removed]",
            "text/plain": [
              "<Figure size 432x288 with 1 Axes>"
            ]
          },
          "metadata": {
            "tags": [],
            "needs_background": "light"
          }
        },
        {
          "output_type": "display_data",
          "data": {
            "image/png": "[encoded data removed]",
            "text/plain": [
              "<Figure size 432x288 with 1 Axes>"
            ]
          },
          "metadata": {
            "tags": [],
            "needs_background": "light"
          }
        }
      ]
    },
    {
      "cell_type": "markdown",
      "metadata": {
        "colab_type": "text",
        "id": "06d3BhKw3Qbg"
      },
      "source": [
        "### 예측"
      ]
    },
    {
      "cell_type": "code",
      "metadata": {
        "colab_type": "code",
        "id": "zzX9fph_3Qbg",
        "colab": {
          "base_uri": "https://localhost:8080/",
          "height": 91
        },
        "outputId": "14f7db8b-d845-4546-c504-123b58ce1ff9"
      },
      "source": [
        "sentence = ['영화 너무 재밌더라.', '영화 개노잼. 다신 안 봐.']\n",
        "sequence = tokenizer.texts_to_sequences(sentence)\n",
        "padded = pad_sequences(sequence, maxlen=max_length, padding=padding_type, truncating=trunc_type)\n",
        "print(model_mecab_base.predict(padded).round(2))"
      ],
      "execution_count": null,
      "outputs": [
        {
          "output_type": "stream",
          "text": [
            "WARNING:tensorflow:5 out of the last 5 calls to <function Model.make_predict_function.<locals>.predict_function at 0x7f9d45a1ed90> triggered tf.function retracing. Tracing is expensive and the excessive number of tracings could be due to (1) creating @tf.function repeatedly in a loop, (2) passing tensors with different shapes, (3) passing Python objects instead of tensors. For (1), please define your @tf.function outside of the loop. For (2), @tf.function has experimental_relax_shapes=True option that relaxes argument shapes that can avoid unnecessary retracing. For (3), please refer to https://www.tensorflow.org/tutorials/customization/performance#python_or_tensor_args and https://www.tensorflow.org/api_docs/python/tf/function for  more details.\n",
            "[[0.26]\n",
            " [0.08]]\n"
          ],
          "name": "stdout"
        }
      ]
    },
    {
      "cell_type": "markdown",
      "metadata": {
        "id": "4usULHBPDvSA",
        "colab_type": "text"
      },
      "source": [
        "### LSTM model "
      ]
    },
    {
      "cell_type": "code",
      "metadata": {
        "colab_type": "code",
        "id": "h6TYebPiD4kZ",
        "colab": {}
      },
      "source": [
        "# Kim Yoon CNN\n",
        "vocab_size = len(mecab_word_index) + 1\n",
        "embedding_dim = 300\n",
        "max_len = max(len(x) for x in mecab_training_padded)\n",
        "class_weights = class_weight.compute_class_weight('balanced', np.unique(training_labels), training_labels)\n",
        "class_weights_d = dict(enumerate(class_weights))\n",
        "\n",
        "sequence_input = Input(shape=(max_len,), dtype='int32')\n",
        "\n",
        "embedding_layer = tf.keras.layers.Embedding(vocab_size,\n",
        "                                            embedding_dim,\n",
        "                                            input_length=max_len,\n",
        "                                            trainable=False)\n",
        "\n",
        "embedded_sequences = embedding_layer(sequence_input)\n",
        "\n",
        "convs = []\n",
        "filter_sizes = [3,4,5]\n",
        "\n",
        "x =layers.Bidirectional(tf.keras.layers.LSTM(128, return_sequences=True))(embedded_sequences)\n",
        "x =layers.Bidirectional(tf.keras.layers.LSTM(128))(x)\n",
        "x =layers.Dense(64, activation='relu')(x)\n",
        "x =layers.Dropout(0.2)(x)\n",
        "output = layers.Dense(1, activation='sigmoid')(x)"
      ],
      "execution_count": null,
      "outputs": []
    },
    {
      "cell_type": "markdown",
      "metadata": {
        "colab_type": "text",
        "id": "YoG5wTc9D4kb"
      },
      "source": [
        "### 컴파일 및 피팅"
      ]
    },
    {
      "cell_type": "code",
      "metadata": {
        "colab_type": "code",
        "id": "6_TnEppcD4kc",
        "colab": {
          "base_uri": "https://localhost:8080/",
          "height": 413
        },
        "outputId": "4dc5d134-9ee7-4280-e662-261458352e77"
      },
      "source": [
        "mecab_lstm_base = keras.models.Model(sequence_input, output)\n",
        "mecab_lstm_base.compile(loss='binary_crossentropy',\n",
        "                       optimizer='adam',\n",
        "                       metrics=['accuracy'])\n",
        "\n",
        "mecab_lstm_base.summary()"
      ],
      "execution_count": null,
      "outputs": [
        {
          "output_type": "stream",
          "text": [
            "Model: \"functional_21\"\n",
            "_________________________________________________________________\n",
            "Layer (type)                 Output Shape              Param #   \n",
            "=================================================================\n",
            "input_8 (InputLayer)         [(None, 100)]             0         \n",
            "_________________________________________________________________\n",
            "embedding_7 (Embedding)      (None, 100, 300)          14984400  \n",
            "_________________________________________________________________\n",
            "bidirectional_8 (Bidirection (None, 100, 256)          439296    \n",
            "_________________________________________________________________\n",
            "bidirectional_9 (Bidirection (None, 256)               394240    \n",
            "_________________________________________________________________\n",
            "dense_14 (Dense)             (None, 64)                16448     \n",
            "_________________________________________________________________\n",
            "dropout_7 (Dropout)          (None, 64)                0         \n",
            "_________________________________________________________________\n",
            "dense_15 (Dense)             (None, 1)                 65        \n",
            "=================================================================\n",
            "Total params: 15,834,449\n",
            "Trainable params: 850,049\n",
            "Non-trainable params: 14,984,400\n",
            "_________________________________________________________________\n"
          ],
          "name": "stdout"
        }
      ]
    },
    {
      "cell_type": "code",
      "metadata": {
        "colab_type": "code",
        "id": "w142aETPD4ke",
        "colab": {
          "base_uri": "https://localhost:8080/",
          "height": 343
        },
        "outputId": "78a3d8d2-7a23-45e0-9163-5e0f064dc0bc"
      },
      "source": [
        "callback=tf.keras.callbacks.EarlyStopping(monitor='val_loss', min_delta=0.0005, patience=1, verbose=0, mode='auto')\n",
        "mc = ModelCheckpoint('/content/drive/My Drive/data/nsmc/lstm_best', monitor='val_loss', mode='min', save_best_only=True)\n",
        "\n",
        "# Fit model\n",
        "history_lstm_base = mecab_lstm_base.fit(mecab_training_padded, training_labels,\n",
        "                    class_weight = class_weights_d,\n",
        "                    epochs=10,\n",
        "                    callbacks=[callback,mc],\n",
        "                    verbose=True,\n",
        "                    validation_data=(mecab_testing_padded, testing_labels),\n",
        "                    batch_size=50)\n",
        "loss, accuracy = mecab_lstm_base.evaluate(mecab_training_padded, training_labels, verbose=True)\n",
        "print(\"Training Accuracy: {:.4f}\".format(accuracy))\n",
        "loss, accuracy = mecab_lstm_base.evaluate(mecab_testing_padded, testing_labels, verbose=False)\n",
        "print(\"Testing Accuracy:  {:.4f}\".format(accuracy))"
      ],
      "execution_count": null,
      "outputs": [
        {
          "output_type": "stream",
          "text": [
            "Epoch 1/10\n",
            "2999/3000 [============================>.] - ETA: 0s - loss: 0.5246 - accuracy: 0.7266INFO:tensorflow:Assets written to: /content/drive/My Drive/data/nsmc/lstm_best/assets\n",
            "3000/3000 [==============================] - 112s 37ms/step - loss: 0.5246 - accuracy: 0.7266 - val_loss: 0.4609 - val_accuracy: 0.7688\n",
            "Epoch 2/10\n",
            "2999/3000 [============================>.] - ETA: 0s - loss: 0.4328 - accuracy: 0.7901INFO:tensorflow:Assets written to: /content/drive/My Drive/data/nsmc/lstm_best/assets\n",
            "3000/3000 [==============================] - 111s 37ms/step - loss: 0.4328 - accuracy: 0.7901 - val_loss: 0.4151 - val_accuracy: 0.7985\n",
            "Epoch 3/10\n",
            "2999/3000 [============================>.] - ETA: 0s - loss: 0.3943 - accuracy: 0.8137INFO:tensorflow:Assets written to: /content/drive/My Drive/data/nsmc/lstm_best/assets\n",
            "3000/3000 [==============================] - 111s 37ms/step - loss: 0.3943 - accuracy: 0.8137 - val_loss: 0.3972 - val_accuracy: 0.8101\n",
            "Epoch 4/10\n",
            "2999/3000 [============================>.] - ETA: 0s - loss: 0.3680 - accuracy: 0.8293INFO:tensorflow:Assets written to: /content/drive/My Drive/data/nsmc/lstm_best/assets\n",
            "3000/3000 [==============================] - 110s 37ms/step - loss: 0.3680 - accuracy: 0.8293 - val_loss: 0.3829 - val_accuracy: 0.8216\n",
            "Epoch 5/10\n",
            "3000/3000 [==============================] - 91s 30ms/step - loss: 0.3469 - accuracy: 0.8407 - val_loss: 0.3888 - val_accuracy: 0.8215\n",
            "4688/4688 [==============================] - 44s 9ms/step - loss: 0.3305 - accuracy: 0.8509\n",
            "Training Accuracy: 0.8509\n",
            "Testing Accuracy:  0.8215\n"
          ],
          "name": "stdout"
        }
      ]
    },
    {
      "cell_type": "markdown",
      "metadata": {
        "colab_type": "text",
        "id": "hoERlI2yD4kf"
      },
      "source": [
        "### ACC, LOSS 그래프"
      ]
    },
    {
      "cell_type": "code",
      "metadata": {
        "colab_type": "code",
        "id": "hT0L8ePwD4kg",
        "colab": {
          "base_uri": "https://localhost:8080/",
          "height": 541
        },
        "outputId": "cc56f660-af42-4235-b3a4-9a4d8e397a25"
      },
      "source": [
        "plot_graphs(history_lstm_base, 'accuracy')\n",
        "plot_graphs(history_lstm_base, 'loss')"
      ],
      "execution_count": null,
      "outputs": [
        {
          "output_type": "display_data",
          "data": {
            "image/png": "[encoded data removed]",
            "text/plain": [
              "<Figure size 432x288 with 1 Axes>"
            ]
          },
          "metadata": {
            "tags": [],
            "needs_background": "light"
          }
        },
        {
          "output_type": "display_data",
          "data": {
            "image/png": "[encoded data removed]",
            "text/plain": [
              "<Figure size 432x288 with 1 Axes>"
            ]
          },
          "metadata": {
            "tags": [],
            "needs_background": "light"
          }
        }
      ]
    },
    {
      "cell_type": "markdown",
      "metadata": {
        "colab_type": "text",
        "id": "PlrWhR1KD4kh"
      },
      "source": [
        "### 예측"
      ]
    },
    {
      "cell_type": "code",
      "metadata": {
        "colab_type": "code",
        "id": "GsnvxgnWD4ki",
        "colab": {
          "base_uri": "https://localhost:8080/",
          "height": 91
        },
        "outputId": "c348ed63-75be-483e-a017-94a0e3adaa48"
      },
      "source": [
        "sentence = ['영화 너무 재밌더라.', '영화 개노잼. 다신 안 봐.']\n",
        "sequence = tokenizer.texts_to_sequences(sentence)\n",
        "padded = pad_sequences(sequence, maxlen=max_length, padding=padding_type, truncating=trunc_type)\n",
        "print(mecab_lstm_base.predict(padded).round(2))"
      ],
      "execution_count": null,
      "outputs": [
        {
          "output_type": "stream",
          "text": [
            "WARNING:tensorflow:6 out of the last 6 calls to <function Model.make_predict_function.<locals>.predict_function at 0x7f9dc6083950> triggered tf.function retracing. Tracing is expensive and the excessive number of tracings could be due to (1) creating @tf.function repeatedly in a loop, (2) passing tensors with different shapes, (3) passing Python objects instead of tensors. For (1), please define your @tf.function outside of the loop. For (2), @tf.function has experimental_relax_shapes=True option that relaxes argument shapes that can avoid unnecessary retracing. For (3), please refer to https://www.tensorflow.org/tutorials/customization/performance#python_or_tensor_args and https://www.tensorflow.org/api_docs/python/tf/function for  more details.\n",
            "[[0.46]\n",
            " [0.24]]\n"
          ],
          "name": "stdout"
        }
      ]
    },
    {
      "cell_type": "markdown",
      "metadata": {
        "id": "ywjeUgOhHP_l",
        "colab_type": "text"
      },
      "source": [
        "### 저장"
      ]
    },
    {
      "cell_type": "code",
      "metadata": {
        "id": "4vHYasVXUZ0X",
        "colab_type": "code",
        "colab": {}
      },
      "source": [
        "import json\n",
        "\n",
        "parameters = {\n",
        "    'max_len' : 100,\n",
        "    'pad_type' : 'pre',\n",
        "    'trunc_type' : 'pre',\n",
        "}\n",
        "\n",
        "with open('/content/drive/My Drive/data/nsmc/param_pre.json','w', encoding=\"utf-8\") as make_file:\n",
        "  json.dump(parameters, make_file, ensure_ascii=False, indent=\"\\t\")"
      ],
      "execution_count": null,
      "outputs": []
    },
    {
      "cell_type": "code",
      "metadata": {
        "id": "eYGTyiAnX0n0",
        "colab_type": "code",
        "colab": {}
      },
      "source": [
        "import json\n",
        "\n",
        "with open(\"/content/drive/My Drive/data/nsmc/param_pre.json\", \"r\") as st_json:\n",
        "    st_python = json.load(st_json)"
      ],
      "execution_count": null,
      "outputs": []
    },
    {
      "cell_type": "code",
      "metadata": {
        "id": "nqN-dh7sYf27",
        "colab_type": "code",
        "colab": {
          "base_uri": "https://localhost:8080/",
          "height": 35
        },
        "outputId": "c274eda8-8f63-44e7-adf9-71ea8cf04c77"
      },
      "source": [
        "st_python"
      ],
      "execution_count": null,
      "outputs": [
        {
          "output_type": "execute_result",
          "data": {
            "text/plain": [
              "{'max_len': 100, 'pad_type': 'pre', 'trunc_type': 'pre'}"
            ]
          },
          "metadata": {
            "tags": []
          },
          "execution_count": 113
        }
      ]
    },
    {
      "cell_type": "code",
      "metadata": {
        "id": "jSwcZKbpH-kx",
        "colab_type": "code",
        "colab": {}
      },
      "source": [
        "# tokenizer\n",
        "with open('/content/drive/My Drive/data/nsmc/tokenizer_mecab_pre.pickle', 'wb') as handle:\n",
        "    pickle.dump(tokenizer, handle, protocol=pickle.HIGHEST_PROTOCOL)"
      ],
      "execution_count": null,
      "outputs": []
    },
    {
      "cell_type": "code",
      "metadata": {
        "id": "ka2UkOVTHSQV",
        "colab_type": "code",
        "colab": {
          "base_uri": "https://localhost:8080/",
          "height": 35
        },
        "outputId": "5adaf9ce-ddaa-486f-d18f-0088e3ddedaf"
      },
      "source": [
        "# mecab_lstm_base\n",
        "mecab_lstm_base.save('/content/drive/My Drive/data/nsmc/model_mecab_lstm_base')"
      ],
      "execution_count": null,
      "outputs": [
        {
          "output_type": "stream",
          "text": [
            "INFO:tensorflow:Assets written to: /content/drive/My Drive/data/nsmc/model_mecab_lstm_base/assets\n"
          ],
          "name": "stdout"
        }
      ]
    },
    {
      "cell_type": "markdown",
      "metadata": {
        "colab_type": "text",
        "id": "gXbWEuuJqPiB"
      },
      "source": [
        "## Mecab_FastText"
      ]
    },
    {
      "cell_type": "code",
      "metadata": {
        "colab_type": "code",
        "id": "DnsjCSBbqPiC",
        "colab": {
          "base_uri": "https://localhost:8080/",
          "height": 35
        },
        "outputId": "2a779193-75d9-44d5-a58d-f2d0b5928739"
      },
      "source": [
        "# 임베딩 메트릭스\n",
        "embedding_matrix = np.zeros((vocab_size , embedding_dim))\n",
        "# 단어 집합 크기의 행과 100개의 열을 가지는 행렬 생성. 값은 전부 0으로 채워진다.\n",
        "np.shape(embedding_matrix)\n",
        "out_index = 0\n",
        "for word, i in mecab_word_index.items(): # 훈련 데이터의 단어 집합에서 단어를 1개씩 꺼내온다.\n",
        "    embedding_vector = embedding_dict.get(word)\n",
        "    if embedding_vector is not None:\n",
        "        # words not found in embedding index will be all-zeros.\n",
        "        embedding_matrix[i] = embedding_vector\n",
        "    else:\n",
        "        out_index += 1\n",
        "\n",
        "print(out_index)"
      ],
      "execution_count": null,
      "outputs": [
        {
          "output_type": "stream",
          "text": [
            "16943\n"
          ],
          "name": "stdout"
        }
      ]
    },
    {
      "cell_type": "markdown",
      "metadata": {
        "colab_type": "text",
        "id": "kTwaiPejqPiF"
      },
      "source": [
        "### CNN 모델"
      ]
    },
    {
      "cell_type": "code",
      "metadata": {
        "colab_type": "code",
        "id": "bZOZQqGAqPiF",
        "colab": {}
      },
      "source": [
        "# Kim Yoon CNN\n",
        "vocab_size = len(mecab_word_index) + 1\n",
        "embedding_dim = 300\n",
        "max_len = max(len(x) for x in mecab_training_padded)\n",
        "class_weights = class_weight.compute_class_weight('balanced', np.unique(training_labels), training_labels)\n",
        "class_weights_d = dict(enumerate(class_weights))\n",
        "\n",
        "sequence_input = Input(shape=(max_len,), dtype='int32')\n",
        "\n",
        "embedding_layer = tf.keras.layers.Embedding(vocab_size,\n",
        "                                            embedding_dim,\n",
        "                                            weights=[embedding_matrix],\n",
        "                                            input_length=max_len,\n",
        "                                            trainable=False)\n",
        "\n",
        "embedded_sequences = embedding_layer(sequence_input)\n",
        "\n",
        "convs = []\n",
        "filter_sizes = [3,4,5]\n",
        "\n",
        "for fsz in filter_sizes:\n",
        "    x = layers.Conv1D(128, fsz, activation='relu',padding='same',kernel_regularizer=l2(1e-3))(embedded_sequences)\n",
        "    x = layers.MaxPooling1D()(x)\n",
        "    convs.append(x)\n",
        "    \n",
        "x = layers.Concatenate(axis=-1)(convs)\n",
        "x = layers.Flatten()(x)\n",
        "x = layers.Dense(128, activation='relu')(x)\n",
        "x = layers.Dropout(0.5)(x)\n",
        "output = layers.Dense(1, activation='sigmoid')(x)\n"
      ],
      "execution_count": null,
      "outputs": []
    },
    {
      "cell_type": "markdown",
      "metadata": {
        "colab_type": "text",
        "id": "jK1kZT2tqPiH"
      },
      "source": [
        "### 컴파일 및 피팅"
      ]
    },
    {
      "cell_type": "code",
      "metadata": {
        "colab_type": "code",
        "id": "zXEsk4VEqPiI",
        "colab": {
          "base_uri": "https://localhost:8080/",
          "height": 665
        },
        "outputId": "c52f297a-2ee4-44c3-c8d5-b9367aa0064b"
      },
      "source": [
        "model_mecab_ff = keras.models.Model(sequence_input, output)\n",
        "model_mecab_ff.compile(loss='binary_crossentropy',\n",
        "                       optimizer='adam',\n",
        "                       metrics=['accuracy'])\n",
        "\n",
        "model_mecab_ff.summary()"
      ],
      "execution_count": null,
      "outputs": [
        {
          "output_type": "stream",
          "text": [
            "Model: \"functional_23\"\n",
            "__________________________________________________________________________________________________\n",
            "Layer (type)                    Output Shape         Param #     Connected to                     \n",
            "==================================================================================================\n",
            "input_9 (InputLayer)            [(None, 100)]        0                                            \n",
            "__________________________________________________________________________________________________\n",
            "embedding_8 (Embedding)         (None, 100, 300)     14984400    input_9[0][0]                    \n",
            "__________________________________________________________________________________________________\n",
            "conv1d_9 (Conv1D)               (None, 100, 128)     115328      embedding_8[0][0]                \n",
            "__________________________________________________________________________________________________\n",
            "conv1d_10 (Conv1D)              (None, 100, 128)     153728      embedding_8[0][0]                \n",
            "__________________________________________________________________________________________________\n",
            "conv1d_11 (Conv1D)              (None, 100, 128)     192128      embedding_8[0][0]                \n",
            "__________________________________________________________________________________________________\n",
            "max_pooling1d_9 (MaxPooling1D)  (None, 50, 128)      0           conv1d_9[0][0]                   \n",
            "__________________________________________________________________________________________________\n",
            "max_pooling1d_10 (MaxPooling1D) (None, 50, 128)      0           conv1d_10[0][0]                  \n",
            "__________________________________________________________________________________________________\n",
            "max_pooling1d_11 (MaxPooling1D) (None, 50, 128)      0           conv1d_11[0][0]                  \n",
            "__________________________________________________________________________________________________\n",
            "concatenate_3 (Concatenate)     (None, 50, 384)      0           max_pooling1d_9[0][0]            \n",
            "                                                                 max_pooling1d_10[0][0]           \n",
            "                                                                 max_pooling1d_11[0][0]           \n",
            "__________________________________________________________________________________________________\n",
            "flatten_3 (Flatten)             (None, 19200)        0           concatenate_3[0][0]              \n",
            "__________________________________________________________________________________________________\n",
            "dense_16 (Dense)                (None, 128)          2457728     flatten_3[0][0]                  \n",
            "__________________________________________________________________________________________________\n",
            "dropout_8 (Dropout)             (None, 128)          0           dense_16[0][0]                   \n",
            "__________________________________________________________________________________________________\n",
            "dense_17 (Dense)                (None, 1)            129         dropout_8[0][0]                  \n",
            "==================================================================================================\n",
            "Total params: 17,903,441\n",
            "Trainable params: 2,919,041\n",
            "Non-trainable params: 14,984,400\n",
            "__________________________________________________________________________________________________\n"
          ],
          "name": "stdout"
        }
      ]
    },
    {
      "cell_type": "code",
      "metadata": {
        "colab_type": "code",
        "id": "GRSgTU6xqPiL",
        "colab": {
          "base_uri": "https://localhost:8080/",
          "height": 199
        },
        "outputId": "d3c1ffbd-4022-411f-9552-20c6bfd151a0"
      },
      "source": [
        "callback=tf.keras.callbacks.EarlyStopping(monitor='val_loss', min_delta=0.0005, patience=1, verbose=0, mode='auto')\n",
        "# Fit model\n",
        "history_mecab_ff = model_mecab_ff.fit(mecab_training_padded, training_labels,\n",
        "                    class_weight = class_weights_d,\n",
        "                    epochs=10,\n",
        "                    callbacks=[callback],\n",
        "                    verbose=True,\n",
        "                    validation_data=(mecab_testing_padded, testing_labels),\n",
        "                    batch_size=50)\n",
        "loss, accuracy = model_mecab_ff.evaluate(mecab_training_padded, training_labels, verbose=True)\n",
        "print(\"Training Accuracy: {:.4f}\".format(accuracy))\n",
        "loss, accuracy = model_mecab_ff.evaluate(mecab_testing_padded, testing_labels, verbose=False)\n",
        "print(\"Testing Accuracy:  {:.4f}\".format(accuracy))"
      ],
      "execution_count": null,
      "outputs": [
        {
          "output_type": "stream",
          "text": [
            "Epoch 1/10\n",
            "3000/3000 [==============================] - 22s 7ms/step - loss: 0.5516 - accuracy: 0.7697 - val_loss: 0.4854 - val_accuracy: 0.7933\n",
            "Epoch 2/10\n",
            "3000/3000 [==============================] - 22s 7ms/step - loss: 0.4777 - accuracy: 0.8006 - val_loss: 0.4741 - val_accuracy: 0.7991\n",
            "Epoch 3/10\n",
            "3000/3000 [==============================] - 22s 7ms/step - loss: 0.4625 - accuracy: 0.8055 - val_loss: 0.4803 - val_accuracy: 0.7961\n",
            "4688/4688 [==============================] - 15s 3ms/step - loss: 0.4465 - accuracy: 0.8137\n",
            "Training Accuracy: 0.8137\n",
            "Testing Accuracy:  0.7961\n"
          ],
          "name": "stdout"
        }
      ]
    },
    {
      "cell_type": "markdown",
      "metadata": {
        "colab_type": "text",
        "id": "AGGjvxmFqPiN"
      },
      "source": [
        "### ACC, LOSS 그래프"
      ]
    },
    {
      "cell_type": "code",
      "metadata": {
        "colab_type": "code",
        "id": "17YF848bqPiN",
        "colab": {
          "base_uri": "https://localhost:8080/",
          "height": 541
        },
        "outputId": "f35d8dd1-4e83-45a1-e441-2339dd297593"
      },
      "source": [
        "plot_graphs(history_mecab_ff, 'accuracy')\n",
        "plot_graphs(history_mecab_ff, 'loss')"
      ],
      "execution_count": null,
      "outputs": [
        {
          "output_type": "display_data",
          "data": {
            "image/png": "[encoded data removed]",
            "text/plain": [
              "<Figure size 432x288 with 1 Axes>"
            ]
          },
          "metadata": {
            "tags": [],
            "needs_background": "light"
          }
        },
        {
          "output_type": "display_data",
          "data": {
            "image/png": "[encoded data removed]",
            "text/plain": [
              "<Figure size 432x288 with 1 Axes>"
            ]
          },
          "metadata": {
            "tags": [],
            "needs_background": "light"
          }
        }
      ]
    },
    {
      "cell_type": "markdown",
      "metadata": {
        "colab_type": "text",
        "id": "O20y37-IqPiS"
      },
      "source": [
        "### 예측"
      ]
    },
    {
      "cell_type": "code",
      "metadata": {
        "colab_type": "code",
        "id": "e7lypVCpqPiS",
        "colab": {
          "base_uri": "https://localhost:8080/",
          "height": 91
        },
        "outputId": "f3ca9532-fedb-41d5-c57f-c0538bb2e1dc"
      },
      "source": [
        "sentence = ['영화 너무 재밌더라.', '영화 개노잼. 다신 안 봐.']\n",
        "sequence = tokenizer.texts_to_sequences(sentence)\n",
        "padded = pad_sequences(sequence, maxlen=max_length, padding=padding_type, truncating=trunc_type)\n",
        "print(model_mecab_ff.predict(padded).round(2))"
      ],
      "execution_count": null,
      "outputs": [
        {
          "output_type": "stream",
          "text": [
            "WARNING:tensorflow:7 out of the last 7 calls to <function Model.make_predict_function.<locals>.predict_function at 0x7f9d45b6fa60> triggered tf.function retracing. Tracing is expensive and the excessive number of tracings could be due to (1) creating @tf.function repeatedly in a loop, (2) passing tensors with different shapes, (3) passing Python objects instead of tensors. For (1), please define your @tf.function outside of the loop. For (2), @tf.function has experimental_relax_shapes=True option that relaxes argument shapes that can avoid unnecessary retracing. For (3), please refer to https://www.tensorflow.org/tutorials/customization/performance#python_or_tensor_args and https://www.tensorflow.org/api_docs/python/tf/function for  more details.\n",
            "[[0.59]\n",
            " [0.15]]\n"
          ],
          "name": "stdout"
        }
      ]
    },
    {
      "cell_type": "markdown",
      "metadata": {
        "colab_type": "text",
        "id": "tovz40k2G9ee"
      },
      "source": [
        "### LSTM model "
      ]
    },
    {
      "cell_type": "code",
      "metadata": {
        "colab_type": "code",
        "id": "Q_UBYMuPG9ee",
        "colab": {}
      },
      "source": [
        "# Kim Yoon CNN\n",
        "vocab_size = len(mecab_word_index) + 1\n",
        "embedding_dim = 300\n",
        "max_len = max(len(x) for x in mecab_training_padded)\n",
        "class_weights = class_weight.compute_class_weight('balanced', np.unique(training_labels), training_labels)\n",
        "class_weights_d = dict(enumerate(class_weights))\n",
        "\n",
        "sequence_input = Input(shape=(max_len,), dtype='int32')\n",
        "\n",
        "embedding_layer = tf.keras.layers.Embedding(vocab_size,\n",
        "                                            embedding_dim,\n",
        "                                            input_length=max_len,\n",
        "                                            weights=[embedding_matrix],\n",
        "                                            trainable=False)\n",
        "\n",
        "embedded_sequences = embedding_layer(sequence_input)\n",
        "\n",
        "convs = []\n",
        "filter_sizes = [3,4,5]\n",
        "\n",
        "x =layers.Bidirectional(tf.keras.layers.LSTM(128, return_sequences=True))(embedded_sequences)\n",
        "x =layers.Bidirectional(tf.keras.layers.LSTM(128))(x)\n",
        "x =layers.Dense(64, activation='relu')(x)\n",
        "x =layers.Dropout(0.2)(x)\n",
        "output = layers.Dense(1, activation='sigmoid')(x)"
      ],
      "execution_count": null,
      "outputs": []
    },
    {
      "cell_type": "markdown",
      "metadata": {
        "colab_type": "text",
        "id": "11CoEMmCG9eh"
      },
      "source": [
        "### 컴파일 및 피팅"
      ]
    },
    {
      "cell_type": "code",
      "metadata": {
        "colab_type": "code",
        "id": "mkJ1JlpFG9eh",
        "colab": {
          "base_uri": "https://localhost:8080/",
          "height": 413
        },
        "outputId": "26b2eb42-ce68-4537-b260-c1a9ef373f30"
      },
      "source": [
        "mecab_lstm_fast = keras.models.Model(sequence_input, output)\n",
        "mecab_lstm_fast.compile(loss='binary_crossentropy',\n",
        "                       optimizer='adam',\n",
        "                       metrics=['accuracy'])\n",
        "\n",
        "mecab_lstm_fast.summary()"
      ],
      "execution_count": null,
      "outputs": [
        {
          "output_type": "stream",
          "text": [
            "Model: \"functional_25\"\n",
            "_________________________________________________________________\n",
            "Layer (type)                 Output Shape              Param #   \n",
            "=================================================================\n",
            "input_10 (InputLayer)        [(None, 100)]             0         \n",
            "_________________________________________________________________\n",
            "embedding_9 (Embedding)      (None, 100, 300)          14984400  \n",
            "_________________________________________________________________\n",
            "bidirectional_10 (Bidirectio (None, 100, 256)          439296    \n",
            "_________________________________________________________________\n",
            "bidirectional_11 (Bidirectio (None, 256)               394240    \n",
            "_________________________________________________________________\n",
            "dense_18 (Dense)             (None, 64)                16448     \n",
            "_________________________________________________________________\n",
            "dropout_9 (Dropout)          (None, 64)                0         \n",
            "_________________________________________________________________\n",
            "dense_19 (Dense)             (None, 1)                 65        \n",
            "=================================================================\n",
            "Total params: 15,834,449\n",
            "Trainable params: 850,049\n",
            "Non-trainable params: 14,984,400\n",
            "_________________________________________________________________\n"
          ],
          "name": "stdout"
        }
      ]
    },
    {
      "cell_type": "code",
      "metadata": {
        "colab_type": "code",
        "id": "PtkMZBH5G9ek",
        "colab": {
          "base_uri": "https://localhost:8080/",
          "height": 379
        },
        "outputId": "77e9cc81-fbb3-4650-adfc-b78609576ae3"
      },
      "source": [
        "callback=tf.keras.callbacks.EarlyStopping(monitor='val_loss', min_delta=0.0005, patience=2, verbose=0, mode='auto')\n",
        "mc = ModelCheckpoint('/content/drive/My Drive/data/nsmc/lstm_fast_best', monitor='val_loss', mode='min', save_best_only=True)\n",
        "\n",
        "# Fit model\n",
        "history_lstm_fast = mecab_lstm_fast.fit(mecab_training_padded, training_labels,\n",
        "                    class_weight = class_weights_d,\n",
        "                    epochs=10,\n",
        "                    callbacks=[callback,mc],\n",
        "                    verbose=True,\n",
        "                    validation_data=(mecab_testing_padded, testing_labels),\n",
        "                    batch_size=50)\n",
        "loss, accuracy = mecab_lstm_fast.evaluate(mecab_training_padded, training_labels, verbose=True)\n",
        "print(\"Training Accuracy: {:.4f}\".format(accuracy))\n",
        "loss, accuracy = mecab_lstm_fast.evaluate(mecab_testing_padded, testing_labels, verbose=False)\n",
        "print(\"Testing Accuracy:  {:.4f}\".format(accuracy))"
      ],
      "execution_count": null,
      "outputs": [
        {
          "output_type": "stream",
          "text": [
            "Epoch 1/10\n",
            "2999/3000 [============================>.] - ETA: 0s - loss: 0.4620 - accuracy: 0.7758INFO:tensorflow:Assets written to: lstm_fast_best/assets\n",
            "3000/3000 [==============================] - 111s 37ms/step - loss: 0.4619 - accuracy: 0.7758 - val_loss: 0.4129 - val_accuracy: 0.8089\n",
            "Epoch 2/10\n",
            "2999/3000 [============================>.] - ETA: 0s - loss: 0.3807 - accuracy: 0.8254INFO:tensorflow:Assets written to: lstm_fast_best/assets\n",
            "3000/3000 [==============================] - 110s 37ms/step - loss: 0.3806 - accuracy: 0.8254 - val_loss: 0.3767 - val_accuracy: 0.8287\n",
            "Epoch 3/10\n",
            "2999/3000 [============================>.] - ETA: 0s - loss: 0.3448 - accuracy: 0.8453INFO:tensorflow:Assets written to: lstm_fast_best/assets\n",
            "3000/3000 [==============================] - 111s 37ms/step - loss: 0.3448 - accuracy: 0.8453 - val_loss: 0.3618 - val_accuracy: 0.8350\n",
            "Epoch 4/10\n",
            "2999/3000 [============================>.] - ETA: 0s - loss: 0.3138 - accuracy: 0.8595INFO:tensorflow:Assets written to: lstm_fast_best/assets\n",
            "3000/3000 [==============================] - 111s 37ms/step - loss: 0.3138 - accuracy: 0.8595 - val_loss: 0.3592 - val_accuracy: 0.8402\n",
            "Epoch 5/10\n",
            "3000/3000 [==============================] - 92s 31ms/step - loss: 0.2798 - accuracy: 0.8759 - val_loss: 0.3663 - val_accuracy: 0.8354\n",
            "Epoch 6/10\n",
            "3000/3000 [==============================] - 92s 31ms/step - loss: 0.2474 - accuracy: 0.8917 - val_loss: 0.3973 - val_accuracy: 0.8352\n",
            "4688/4688 [==============================] - 44s 9ms/step - loss: 0.2008 - accuracy: 0.9156\n",
            "Training Accuracy: 0.9156\n",
            "Testing Accuracy:  0.8352\n"
          ],
          "name": "stdout"
        }
      ]
    },
    {
      "cell_type": "markdown",
      "metadata": {
        "colab_type": "text",
        "id": "fEZ7dLyqG9em"
      },
      "source": [
        "### ACC, LOSS 그래프"
      ]
    },
    {
      "cell_type": "code",
      "metadata": {
        "colab_type": "code",
        "id": "H8vhPFELG9en",
        "colab": {
          "base_uri": "https://localhost:8080/",
          "height": 541
        },
        "outputId": "40a0cece-19e8-42de-b52b-93b6251903c4"
      },
      "source": [
        "plot_graphs(history_lstm_fast, 'accuracy')\n",
        "plot_graphs(history_lstm_fast, 'loss')"
      ],
      "execution_count": null,
      "outputs": [
        {
          "output_type": "display_data",
          "data": {
            "image/png": "[encoded data removed]",
            "text/plain": [
              "<Figure size 432x288 with 1 Axes>"
            ]
          },
          "metadata": {
            "tags": [],
            "needs_background": "light"
          }
        },
        {
          "output_type": "display_data",
          "data": {
            "image/png": "[encoded data removed]",
            "text/plain": [
              "<Figure size 432x288 with 1 Axes>"
            ]
          },
          "metadata": {
            "tags": [],
            "needs_background": "light"
          }
        }
      ]
    },
    {
      "cell_type": "markdown",
      "metadata": {
        "colab_type": "text",
        "id": "5MFri5PGG9ep"
      },
      "source": [
        "### 예측"
      ]
    },
    {
      "cell_type": "code",
      "metadata": {
        "colab_type": "code",
        "id": "y3Ie1xznG9ep",
        "colab": {
          "base_uri": "https://localhost:8080/",
          "height": 91
        },
        "outputId": "7718225c-4ee4-4b4b-d946-2c57c5a45b34"
      },
      "source": [
        "sentence = ['영화 너무 재밌더라.', '영화 개노잼. 다신 안 봐.']\n",
        "sequence = tokenizer.texts_to_sequences(sentence)\n",
        "padded = pad_sequences(sequence, maxlen=max_length, padding=padding_type, truncating=trunc_type)\n",
        "print(mecab_lstm_fast.predict(padded).round(2))"
      ],
      "execution_count": null,
      "outputs": [
        {
          "output_type": "stream",
          "text": [
            "WARNING:tensorflow:8 out of the last 8 calls to <function Model.make_predict_function.<locals>.predict_function at 0x7f9dc63bf1e0> triggered tf.function retracing. Tracing is expensive and the excessive number of tracings could be due to (1) creating @tf.function repeatedly in a loop, (2) passing tensors with different shapes, (3) passing Python objects instead of tensors. For (1), please define your @tf.function outside of the loop. For (2), @tf.function has experimental_relax_shapes=True option that relaxes argument shapes that can avoid unnecessary retracing. For (3), please refer to https://www.tensorflow.org/tutorials/customization/performance#python_or_tensor_args and https://www.tensorflow.org/api_docs/python/tf/function for  more details.\n",
            "[[0.31]\n",
            " [0.48]]\n"
          ],
          "name": "stdout"
        }
      ]
    },
    {
      "cell_type": "markdown",
      "metadata": {
        "id": "ghKIQyqsOyDG",
        "colab_type": "text"
      },
      "source": [
        "### 저장"
      ]
    },
    {
      "cell_type": "code",
      "metadata": {
        "id": "NRaaR813Oy-b",
        "colab_type": "code",
        "colab": {
          "base_uri": "https://localhost:8080/",
          "height": 35
        },
        "outputId": "50bf8f4e-270c-4980-a101-02b8bf8b6c3b"
      },
      "source": [
        "# mecab_lstm_fast\n",
        "mecab_lstm_fast.save('/content/drive/My Drive/data/nsmc/model_mecab_lstm_fast')"
      ],
      "execution_count": null,
      "outputs": [
        {
          "output_type": "stream",
          "text": [
            "INFO:tensorflow:Assets written to: /content/drive/My Drive/data/nsmc/model_mecab_lstm_fast/assets\n"
          ],
          "name": "stdout"
        }
      ]
    },
    {
      "cell_type": "markdown",
      "metadata": {
        "colab_type": "text",
        "id": "jWRiX-OV4aS7"
      },
      "source": [
        "## Mecab_Word2Vec"
      ]
    },
    {
      "cell_type": "code",
      "metadata": {
        "colab_type": "code",
        "id": "aACuRQCg5sb6",
        "colab": {}
      },
      "source": [
        "token_list=mecab_nizer(full_sentences)"
      ],
      "execution_count": null,
      "outputs": []
    },
    {
      "cell_type": "code",
      "metadata": {
        "colab_type": "code",
        "id": "MNPX_XXl5scA",
        "colab": {}
      },
      "source": [
        "word2vec = Word2Vec(\n",
        "    sentences = token_list,\n",
        "    size = embedding_dim,\n",
        "    alpha = 0.025,\n",
        "    min_count = 1,\n",
        "    window=8,\n",
        "    sample = 0.001,\n",
        "    sg = 1,\n",
        "    iter = 10\n",
        ")"
      ],
      "execution_count": null,
      "outputs": []
    },
    {
      "cell_type": "code",
      "metadata": {
        "colab_type": "code",
        "id": "qievcx-05scC",
        "colab": {
          "base_uri": "https://localhost:8080/",
          "height": 35
        },
        "outputId": "322e9687-974d-4c84-8483-fee7496fa395"
      },
      "source": [
        "# 임베딩 메트릭스\n",
        "embedding_matrix = np.zeros((vocab_size , embedding_dim))\n",
        "# 단어 집합 크기의 행과 100개의 열을 가지는 행렬 생성. 값은 전부 0으로 채워진다.\n",
        "np.shape(embedding_matrix)\n",
        "out_index = 0\n",
        "for word, i in mecab_word_index.items(): # 훈련 데이터의 단어 집합에서 단어를 1개씩 꺼내온다.\n",
        "  try:\n",
        "    embedding_vector = word2vec.wv.__getitem__(word)\n",
        "    if embedding_vector is not None:\n",
        "        # words not found in embedding index will be all-zeros.\n",
        "        embedding_matrix[i] = embedding_vector\n",
        "    else:\n",
        "        out_index += 1\n",
        "  except:\n",
        "    out_index +=1\n",
        "\n",
        "print(out_index)"
      ],
      "execution_count": null,
      "outputs": [
        {
          "output_type": "stream",
          "text": [
            "48021\n"
          ],
          "name": "stdout"
        }
      ]
    },
    {
      "cell_type": "markdown",
      "metadata": {
        "colab_type": "text",
        "id": "WrigoCul5scE"
      },
      "source": [
        "### CNN 모델"
      ]
    },
    {
      "cell_type": "code",
      "metadata": {
        "colab_type": "code",
        "id": "3sjRNbvf5scE",
        "colab": {}
      },
      "source": [
        "# Kim Yoon CNN\n",
        "vocab_size = len(mecab_word_index) + 1\n",
        "embedding_dim = 300\n",
        "max_len = max(len(x) for x in mecab_training_padded)\n",
        "class_weights = class_weight.compute_class_weight('balanced', np.unique(training_labels), training_labels)\n",
        "class_weights_d = dict(enumerate(class_weights))\n",
        "\n",
        "sequence_input = Input(shape=(max_len,), dtype='int32')\n",
        "\n",
        "embedding_layer = tf.keras.layers.Embedding(vocab_size,\n",
        "                                            embedding_dim,\n",
        "                                            weights=[embedding_matrix],\n",
        "                                            input_length=max_len,\n",
        "                                            trainable=False)\n",
        "\n",
        "embedded_sequences = embedding_layer(sequence_input)\n",
        "\n",
        "convs = []\n",
        "filter_sizes = [3,4,5]\n",
        "\n",
        "for fsz in filter_sizes:\n",
        "    x = layers.Conv1D(128, fsz, activation='relu',padding='same',kernel_regularizer=l2(1e-3))(embedded_sequences)\n",
        "    x = layers.MaxPooling1D()(x)\n",
        "    convs.append(x)\n",
        "    \n",
        "x = layers.Concatenate(axis=-1)(convs)\n",
        "x = layers.Flatten()(x)\n",
        "x = layers.Dense(128, activation='relu')(x)\n",
        "x = layers.Dropout(0.5)(x)\n",
        "output = layers.Dense(1, activation='sigmoid')(x)\n"
      ],
      "execution_count": null,
      "outputs": []
    },
    {
      "cell_type": "markdown",
      "metadata": {
        "colab_type": "text",
        "id": "pfR1hGyu5scI"
      },
      "source": [
        "### 컴파일 및 피팅"
      ]
    },
    {
      "cell_type": "code",
      "metadata": {
        "colab_type": "code",
        "id": "Lq4Ob5-w5scJ",
        "colab": {
          "base_uri": "https://localhost:8080/",
          "height": 665
        },
        "outputId": "a8555a64-fa4f-4682-ed24-03382cb2e297"
      },
      "source": [
        "model_mecab_w2 = keras.models.Model(sequence_input, output)\n",
        "model_mecab_w2.compile(loss='binary_crossentropy',\n",
        "                       optimizer='adam',\n",
        "                       metrics=['accuracy'])\n",
        "\n",
        "model_mecab_w2.summary()"
      ],
      "execution_count": null,
      "outputs": [
        {
          "output_type": "stream",
          "text": [
            "Model: \"functional_29\"\n",
            "__________________________________________________________________________________________________\n",
            "Layer (type)                    Output Shape         Param #     Connected to                     \n",
            "==================================================================================================\n",
            "input_11 (InputLayer)           [(None, 100)]        0                                            \n",
            "__________________________________________________________________________________________________\n",
            "embedding_10 (Embedding)        (None, 100, 300)     14984400    input_11[0][0]                   \n",
            "__________________________________________________________________________________________________\n",
            "conv1d_12 (Conv1D)              (None, 100, 128)     115328      embedding_10[0][0]               \n",
            "__________________________________________________________________________________________________\n",
            "conv1d_13 (Conv1D)              (None, 100, 128)     153728      embedding_10[0][0]               \n",
            "__________________________________________________________________________________________________\n",
            "conv1d_14 (Conv1D)              (None, 100, 128)     192128      embedding_10[0][0]               \n",
            "__________________________________________________________________________________________________\n",
            "max_pooling1d_12 (MaxPooling1D) (None, 50, 128)      0           conv1d_12[0][0]                  \n",
            "__________________________________________________________________________________________________\n",
            "max_pooling1d_13 (MaxPooling1D) (None, 50, 128)      0           conv1d_13[0][0]                  \n",
            "__________________________________________________________________________________________________\n",
            "max_pooling1d_14 (MaxPooling1D) (None, 50, 128)      0           conv1d_14[0][0]                  \n",
            "__________________________________________________________________________________________________\n",
            "concatenate_4 (Concatenate)     (None, 50, 384)      0           max_pooling1d_12[0][0]           \n",
            "                                                                 max_pooling1d_13[0][0]           \n",
            "                                                                 max_pooling1d_14[0][0]           \n",
            "__________________________________________________________________________________________________\n",
            "flatten_4 (Flatten)             (None, 19200)        0           concatenate_4[0][0]              \n",
            "__________________________________________________________________________________________________\n",
            "dense_20 (Dense)                (None, 128)          2457728     flatten_4[0][0]                  \n",
            "__________________________________________________________________________________________________\n",
            "dropout_10 (Dropout)            (None, 128)          0           dense_20[0][0]                   \n",
            "__________________________________________________________________________________________________\n",
            "dense_21 (Dense)                (None, 1)            129         dropout_10[0][0]                 \n",
            "==================================================================================================\n",
            "Total params: 17,903,441\n",
            "Trainable params: 2,919,041\n",
            "Non-trainable params: 14,984,400\n",
            "__________________________________________________________________________________________________\n"
          ],
          "name": "stdout"
        }
      ]
    },
    {
      "cell_type": "code",
      "metadata": {
        "colab_type": "code",
        "id": "uug830905scR",
        "colab": {
          "base_uri": "https://localhost:8080/",
          "height": 235
        },
        "outputId": "1712f272-546b-424e-c5a8-96d7eaf22bcf"
      },
      "source": [
        "callback=tf.keras.callbacks.EarlyStopping(monitor='val_loss', min_delta=0.0005, patience=1, verbose=0, mode='auto')\n",
        "# Fit model\n",
        "history_mecab_w2 = model_mecab_w2.fit(mecab_training_padded, training_labels,\n",
        "                    class_weight = class_weights_d,\n",
        "                    epochs=10,\n",
        "                    callbacks=[callback],\n",
        "                    verbose=True,\n",
        "                    validation_data=(mecab_testing_padded, testing_labels),\n",
        "                    batch_size=50)\n",
        "loss, accuracy = model_mecab_w2.evaluate(mecab_training_padded, training_labels, verbose=True)\n",
        "print(\"Training Accuracy: {:.4f}\".format(accuracy))\n",
        "loss, accuracy = model_mecab_w2.evaluate(mecab_testing_padded, testing_labels, verbose=False)\n",
        "print(\"Testing Accuracy:  {:.4f}\".format(accuracy))"
      ],
      "execution_count": null,
      "outputs": [
        {
          "output_type": "stream",
          "text": [
            "Epoch 1/10\n",
            "3000/3000 [==============================] - 22s 7ms/step - loss: 0.6202 - accuracy: 0.6853 - val_loss: 0.5954 - val_accuracy: 0.6956\n",
            "Epoch 2/10\n",
            "3000/3000 [==============================] - 22s 7ms/step - loss: 0.5823 - accuracy: 0.7043 - val_loss: 0.5771 - val_accuracy: 0.7053\n",
            "Epoch 3/10\n",
            "3000/3000 [==============================] - 22s 7ms/step - loss: 0.5720 - accuracy: 0.7088 - val_loss: 0.5762 - val_accuracy: 0.7040\n",
            "Epoch 4/10\n",
            "3000/3000 [==============================] - 23s 8ms/step - loss: 0.5659 - accuracy: 0.7121 - val_loss: 0.5762 - val_accuracy: 0.7017\n",
            "4688/4688 [==============================] - 15s 3ms/step - loss: 0.5543 - accuracy: 0.7161\n",
            "Training Accuracy: 0.7161\n",
            "Testing Accuracy:  0.7017\n"
          ],
          "name": "stdout"
        }
      ]
    },
    {
      "cell_type": "markdown",
      "metadata": {
        "colab_type": "text",
        "id": "8Pn5kA7S5scW"
      },
      "source": [
        "### ACC, LOSS 그래프"
      ]
    },
    {
      "cell_type": "code",
      "metadata": {
        "colab_type": "code",
        "id": "SbzS8e8O5scX",
        "colab": {
          "base_uri": "https://localhost:8080/",
          "height": 541
        },
        "outputId": "f119080c-722c-4ecb-eff0-d3ac99432a5a"
      },
      "source": [
        "plot_graphs(history_mecab_w2, 'accuracy')\n",
        "plot_graphs(history_mecab_w2, 'loss')"
      ],
      "execution_count": null,
      "outputs": [
        {
          "output_type": "display_data",
          "data": {
            "image/png": "[encoded data removed]",
            "text/plain": [
              "<Figure size 432x288 with 1 Axes>"
            ]
          },
          "metadata": {
            "tags": [],
            "needs_background": "light"
          }
        },
        {
          "output_type": "display_data",
          "data": {
            "image/png": "[encoded data removed]",
            "text/plain": [
              "<Figure size 432x288 with 1 Axes>"
            ]
          },
          "metadata": {
            "tags": [],
            "needs_background": "light"
          }
        }
      ]
    },
    {
      "cell_type": "markdown",
      "metadata": {
        "colab_type": "text",
        "id": "MZIt8uBU5scd"
      },
      "source": [
        "### 예측"
      ]
    },
    {
      "cell_type": "code",
      "metadata": {
        "colab_type": "code",
        "id": "eciLD1t65scd",
        "colab": {
          "base_uri": "https://localhost:8080/",
          "height": 91
        },
        "outputId": "3e42f4d8-18c6-4a0d-d5c0-12f7575f2696"
      },
      "source": [
        "sentence = ['영화 너무 재밌더라.', '영화 개노잼. 다신 안 봐.']\n",
        "sequence = tokenizer.texts_to_sequences(sentence)\n",
        "padded = pad_sequences(sequence, maxlen=max_length, padding=padding_type, truncating=trunc_type)\n",
        "print(model_mecab_w2.predict(padded).round(2))"
      ],
      "execution_count": null,
      "outputs": [
        {
          "output_type": "stream",
          "text": [
            "WARNING:tensorflow:9 out of the last 9 calls to <function Model.make_predict_function.<locals>.predict_function at 0x7f9de9bb4488> triggered tf.function retracing. Tracing is expensive and the excessive number of tracings could be due to (1) creating @tf.function repeatedly in a loop, (2) passing tensors with different shapes, (3) passing Python objects instead of tensors. For (1), please define your @tf.function outside of the loop. For (2), @tf.function has experimental_relax_shapes=True option that relaxes argument shapes that can avoid unnecessary retracing. For (3), please refer to https://www.tensorflow.org/tutorials/customization/performance#python_or_tensor_args and https://www.tensorflow.org/api_docs/python/tf/function for  more details.\n",
            "[[0.52]\n",
            " [0.12]]\n"
          ],
          "name": "stdout"
        }
      ]
    },
    {
      "cell_type": "markdown",
      "metadata": {
        "colab_type": "text",
        "id": "_7CBesCoJahG"
      },
      "source": [
        "### LSTM model "
      ]
    },
    {
      "cell_type": "code",
      "metadata": {
        "colab_type": "code",
        "id": "08sOBNnOJahJ",
        "colab": {}
      },
      "source": [
        "# Kim Yoon CNN\n",
        "vocab_size = len(mecab_word_index) + 1\n",
        "embedding_dim = 300\n",
        "max_len = max(len(x) for x in mecab_training_padded)\n",
        "class_weights = class_weight.compute_class_weight('balanced', np.unique(training_labels), training_labels)\n",
        "class_weights_d = dict(enumerate(class_weights))\n",
        "\n",
        "sequence_input = Input(shape=(max_len,), dtype='int32')\n",
        "\n",
        "embedding_layer = tf.keras.layers.Embedding(vocab_size,\n",
        "                                            embedding_dim,\n",
        "                                            input_length=max_len,\n",
        "                                            weights=[embedding_matrix],\n",
        "                                            trainable=False)\n",
        "\n",
        "embedded_sequences = embedding_layer(sequence_input)\n",
        "\n",
        "convs = []\n",
        "filter_sizes = [3,4,5]\n",
        "\n",
        "x =layers.Bidirectional(tf.keras.layers.LSTM(128, return_sequences=True))(embedded_sequences)\n",
        "x =layers.Bidirectional(tf.keras.layers.LSTM(128))(x)\n",
        "x =layers.Dense(64, activation='relu')(x)\n",
        "x =layers.Dropout(0.2)(x)\n",
        "output = layers.Dense(1, activation='sigmoid')(x)"
      ],
      "execution_count": null,
      "outputs": []
    },
    {
      "cell_type": "markdown",
      "metadata": {
        "colab_type": "text",
        "id": "772IdYzBJahO"
      },
      "source": [
        "### 컴파일 및 피팅"
      ]
    },
    {
      "cell_type": "code",
      "metadata": {
        "colab_type": "code",
        "id": "yZ0-wC5OJahP",
        "colab": {
          "base_uri": "https://localhost:8080/",
          "height": 413
        },
        "outputId": "3171b0f1-9a02-4093-8420-ba95c7bfc874"
      },
      "source": [
        "mecab_lstm_word = keras.models.Model(sequence_input, output)\n",
        "mecab_lstm_word.compile(loss='binary_crossentropy',\n",
        "                       optimizer='adam',\n",
        "                       metrics=['accuracy'])\n",
        "\n",
        "mecab_lstm_word.summary()"
      ],
      "execution_count": null,
      "outputs": [
        {
          "output_type": "stream",
          "text": [
            "Model: \"functional_31\"\n",
            "_________________________________________________________________\n",
            "Layer (type)                 Output Shape              Param #   \n",
            "=================================================================\n",
            "input_12 (InputLayer)        [(None, 100)]             0         \n",
            "_________________________________________________________________\n",
            "embedding_11 (Embedding)     (None, 100, 300)          14984400  \n",
            "_________________________________________________________________\n",
            "bidirectional_12 (Bidirectio (None, 100, 256)          439296    \n",
            "_________________________________________________________________\n",
            "bidirectional_13 (Bidirectio (None, 256)               394240    \n",
            "_________________________________________________________________\n",
            "dense_22 (Dense)             (None, 64)                16448     \n",
            "_________________________________________________________________\n",
            "dropout_11 (Dropout)         (None, 64)                0         \n",
            "_________________________________________________________________\n",
            "dense_23 (Dense)             (None, 1)                 65        \n",
            "=================================================================\n",
            "Total params: 15,834,449\n",
            "Trainable params: 850,049\n",
            "Non-trainable params: 14,984,400\n",
            "_________________________________________________________________\n"
          ],
          "name": "stdout"
        }
      ]
    },
    {
      "cell_type": "code",
      "metadata": {
        "colab_type": "code",
        "id": "CsDd92m0JahS",
        "colab": {
          "base_uri": "https://localhost:8080/",
          "height": 469
        },
        "outputId": "39e73442-aee1-4c42-b85f-cb654c6bb1dd"
      },
      "source": [
        "callback=tf.keras.callbacks.EarlyStopping(monitor='val_loss', min_delta=0.0005, patience=2, verbose=0, mode='auto')\n",
        "mc = ModelCheckpoint('/content/drive/My Drive/data/nsmc/lstm_word_best', monitor='val_loss', mode='min', save_best_only=True)\n",
        "\n",
        "# Fit model\n",
        "history_lstm_word = mecab_lstm_word.fit(mecab_training_padded, training_labels,\n",
        "                    class_weight = class_weights_d,\n",
        "                    epochs=10,\n",
        "                    callbacks=[callback,mc],\n",
        "                    verbose=True,\n",
        "                    validation_data=(mecab_testing_padded, testing_labels),\n",
        "                    batch_size=50)\n",
        "loss, accuracy = mecab_lstm_word.evaluate(mecab_training_padded, training_labels, verbose=True)\n",
        "print(\"Training Accuracy: {:.4f}\".format(accuracy))\n",
        "loss, accuracy = mecab_lstm_word.evaluate(mecab_testing_padded, testing_labels, verbose=False)\n",
        "print(\"Testing Accuracy:  {:.4f}\".format(accuracy))"
      ],
      "execution_count": null,
      "outputs": [
        {
          "output_type": "stream",
          "text": [
            "Epoch 1/10\n",
            "3000/3000 [==============================] - ETA: 0s - loss: 0.5792 - accuracy: 0.6817INFO:tensorflow:Assets written to: /content/drive/My Drive/data/nsmc/lstm_word_best/assets\n",
            "3000/3000 [==============================] - 109s 36ms/step - loss: 0.5792 - accuracy: 0.6817 - val_loss: 0.5549 - val_accuracy: 0.6997\n",
            "Epoch 2/10\n",
            "3000/3000 [==============================] - ETA: 0s - loss: 0.5423 - accuracy: 0.7098INFO:tensorflow:Assets written to: /content/drive/My Drive/data/nsmc/lstm_word_best/assets\n",
            "3000/3000 [==============================] - 108s 36ms/step - loss: 0.5423 - accuracy: 0.7098 - val_loss: 0.5359 - val_accuracy: 0.7083\n",
            "Epoch 3/10\n",
            "3000/3000 [==============================] - ETA: 0s - loss: 0.5226 - accuracy: 0.7237INFO:tensorflow:Assets written to: /content/drive/My Drive/data/nsmc/lstm_word_best/assets\n",
            "3000/3000 [==============================] - 110s 37ms/step - loss: 0.5226 - accuracy: 0.7237 - val_loss: 0.5290 - val_accuracy: 0.7209\n",
            "Epoch 4/10\n",
            "3000/3000 [==============================] - 89s 30ms/step - loss: 0.5061 - accuracy: 0.7350 - val_loss: 0.5305 - val_accuracy: 0.7182\n",
            "Epoch 5/10\n",
            "3000/3000 [==============================] - ETA: 0s - loss: 0.4910 - accuracy: 0.7443INFO:tensorflow:Assets written to: /content/drive/My Drive/data/nsmc/lstm_word_best/assets\n",
            "3000/3000 [==============================] - 109s 36ms/step - loss: 0.4910 - accuracy: 0.7443 - val_loss: 0.5246 - val_accuracy: 0.7235\n",
            "Epoch 6/10\n",
            "2999/3000 [============================>.] - ETA: 0s - loss: 0.4744 - accuracy: 0.7545INFO:tensorflow:Assets written to: /content/drive/My Drive/data/nsmc/lstm_word_best/assets\n",
            "3000/3000 [==============================] - 109s 36ms/step - loss: 0.4744 - accuracy: 0.7545 - val_loss: 0.5197 - val_accuracy: 0.7273\n",
            "Epoch 7/10\n",
            "3000/3000 [==============================] - 89s 30ms/step - loss: 0.4554 - accuracy: 0.7658 - val_loss: 0.5313 - val_accuracy: 0.7274\n",
            "Epoch 8/10\n",
            "3000/3000 [==============================] - 90s 30ms/step - loss: 0.4319 - accuracy: 0.7783 - val_loss: 0.5457 - val_accuracy: 0.7216\n",
            "4688/4688 [==============================] - 43s 9ms/step - loss: 0.3968 - accuracy: 0.8008\n",
            "Training Accuracy: 0.8008\n",
            "Testing Accuracy:  0.7216\n"
          ],
          "name": "stdout"
        }
      ]
    },
    {
      "cell_type": "markdown",
      "metadata": {
        "colab_type": "text",
        "id": "0KW3t6EsJahU"
      },
      "source": [
        "### ACC, LOSS 그래프"
      ]
    },
    {
      "cell_type": "code",
      "metadata": {
        "colab_type": "code",
        "id": "gEdcGG25JahV",
        "colab": {
          "base_uri": "https://localhost:8080/",
          "height": 541
        },
        "outputId": "d9a67782-46f7-4134-a03c-71173bf6c2f9"
      },
      "source": [
        "plot_graphs(history_lstm_word, 'accuracy')\n",
        "plot_graphs(history_lstm_word, 'loss')"
      ],
      "execution_count": null,
      "outputs": [
        {
          "output_type": "display_data",
          "data": {
            "image/png": "[encoded data removed]",
            "text/plain": [
              "<Figure size 432x288 with 1 Axes>"
            ]
          },
          "metadata": {
            "tags": [],
            "needs_background": "light"
          }
        },
        {
          "output_type": "display_data",
          "data": {
            "image/png": "[encoded data removed]",
            "text/plain": [
              "<Figure size 432x288 with 1 Axes>"
            ]
          },
          "metadata": {
            "tags": [],
            "needs_background": "light"
          }
        }
      ]
    },
    {
      "cell_type": "markdown",
      "metadata": {
        "colab_type": "text",
        "id": "BX1I7qwNJahX"
      },
      "source": [
        "### 예측"
      ]
    },
    {
      "cell_type": "code",
      "metadata": {
        "colab_type": "code",
        "id": "2TUIzNKnJahY",
        "colab": {
          "base_uri": "https://localhost:8080/",
          "height": 91
        },
        "outputId": "834e2197-801b-4ebe-c434-8a47f06cfe1e"
      },
      "source": [
        "sentence = ['영화 너무 재밌더라.', '영화 개노잼. 다신 안 봐.']\n",
        "sequence = tokenizer.texts_to_sequences(sentence)\n",
        "padded = pad_sequences(sequence, maxlen=max_length, padding=padding_type, truncating=trunc_type)\n",
        "print(mecab_lstm_word.predict(padded).round(2))"
      ],
      "execution_count": null,
      "outputs": [
        {
          "output_type": "stream",
          "text": [
            "WARNING:tensorflow:10 out of the last 10 calls to <function Model.make_predict_function.<locals>.predict_function at 0x7f9d467780d0> triggered tf.function retracing. Tracing is expensive and the excessive number of tracings could be due to (1) creating @tf.function repeatedly in a loop, (2) passing tensors with different shapes, (3) passing Python objects instead of tensors. For (1), please define your @tf.function outside of the loop. For (2), @tf.function has experimental_relax_shapes=True option that relaxes argument shapes that can avoid unnecessary retracing. For (3), please refer to https://www.tensorflow.org/tutorials/customization/performance#python_or_tensor_args and https://www.tensorflow.org/api_docs/python/tf/function for  more details.\n",
            "[[0.53]\n",
            " [0.06]]\n"
          ],
          "name": "stdout"
        }
      ]
    },
    {
      "cell_type": "markdown",
      "metadata": {
        "colab_type": "text",
        "id": "W_bAPZe8SJr3"
      },
      "source": [
        "### 저장"
      ]
    },
    {
      "cell_type": "code",
      "metadata": {
        "colab_type": "code",
        "id": "hVxJaGBlSJr5",
        "colab": {
          "base_uri": "https://localhost:8080/",
          "height": 35
        },
        "outputId": "d22833a7-7955-4353-f60f-7f4ab595e817"
      },
      "source": [
        "# mecab_lstm_fast\n",
        "mecab_lstm_word.save('/content/drive/My Drive/data/nsmc/model_mecab_lstm_word')"
      ],
      "execution_count": null,
      "outputs": [
        {
          "output_type": "stream",
          "text": [
            "INFO:tensorflow:Assets written to: /content/drive/My Drive/data/nsmc/model_mecab_lstm_word/assets\n"
          ],
          "name": "stdout"
        }
      ]
    },
    {
      "cell_type": "code",
      "metadata": {
        "id": "9cc16lDof-cc",
        "colab_type": "code",
        "colab": {
          "base_uri": "https://localhost:8080/",
          "height": 71
        },
        "outputId": "3983b100-8840-44c7-f8f1-3f11de9955d0"
      },
      "source": [
        "model_mecab_base.save('/content/drive/My Drive/data/nsmc/model_mecab_cnn_base')\n",
        "model_mecab_ff.save('/content/drive/My Drive/data/nsmc/model_mecab_cnn_fast')\n",
        "model_mecab_w2.save('/content/drive/My Drive/data/nsmc/model_mecab_cnn_word')"
      ],
      "execution_count": null,
      "outputs": [
        {
          "output_type": "stream",
          "text": [
            "INFO:tensorflow:Assets written to: /content/drive/My Drive/data/nsmc/model_mecab_cnn_base/assets\n",
            "INFO:tensorflow:Assets written to: /content/drive/My Drive/data/nsmc/model_mecab_cnn_fast/assets\n",
            "INFO:tensorflow:Assets written to: /content/drive/My Drive/data/nsmc/model_mecab_cnn_word/assets\n"
          ],
          "name": "stdout"
        }
      ]
    },
    {
      "cell_type": "code",
      "metadata": {
        "id": "G6eIWUx2giwM",
        "colab_type": "code",
        "colab": {}
      },
      "source": [
        ""
      ],
      "execution_count": null,
      "outputs": []
    }
  ]
}