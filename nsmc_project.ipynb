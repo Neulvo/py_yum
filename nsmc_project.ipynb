{
  "nbformat": 4,
  "nbformat_minor": 0,
  "metadata": {
    "colab": {
      "name": "nsmc_project.ipynb",
      "provenance": [],
      "collapsed_sections": [
        "RRbP-IeVvSrc",
        "KUyL-5rVxYMh",
        "BcaL3FglxfDK",
        "bo8dbxuCopRF",
        "bXwsh9K5pI6K",
        "4r0JycKvsgB-",
        "36IMu3zDsgCF",
        "EBprO8xM2X1I",
        "VfG-q9Vhzj7q",
        "PBOT5LLdpebN",
        "HtJhQMuNpebQ",
        "kB2L91LF5Cpy",
        "2qWbUqLB5Cp1",
        "Bw39ZnYQ3QbV",
        "5zzsZ0DH3QbX",
        "kTwaiPejqPiF",
        "jK1kZT2tqPiH",
        "WrigoCul5scE",
        "pfR1hGyu5scI"
      ],
      "toc_visible": true,
      "machine_shape": "hm",
      "mount_file_id": "1GKGFh6YcbdJg3UUjsimZnJatxXoOetOI",
      "authorship_tag": "ABX9TyMY3iXlJ+aRNuQrtvVsljAR",
      "include_colab_link": true
    },
    "kernelspec": {
      "name": "python3",
      "display_name": "Python 3"
    },
    "accelerator": "GPU"
  },
  "cells": [
    {
      "cell_type": "markdown",
      "metadata": {
        "id": "view-in-github",
        "colab_type": "text"
      },
      "source": [
        "<a href=\"https://colab.research.google.com/github/Neulvo/py_yum/blob/master/nsmc_project.ipynb\" target=\"_parent\"><img src=\"https://colab.research.google.com/assets/colab-badge.svg\" alt=\"Open In Colab\"/></a>"
      ]
    },
    {
      "cell_type": "code",
      "metadata": {
        "id": "RWaDqc-vxuDH",
        "colab_type": "code",
        "colab": {}
      },
      "source": [
        "# # Mecab 설치\n",
        "# !sudo apt-get install g++ openjdk-7-jdk # Install Java 1.7+\n",
        "# !sudo apt-get install python-dev; pip install konlpy     # Python 2.x\n",
        "# !sudo apt-get install python3-dev; pip3 install konlpy   # Python 3.x\n",
        "# !sudo apt-get install curl\n",
        "# !bash <(curl -s https://raw.githubusercontent.com/konlpy/konlpy/master/scripts/mecab.sh)"
      ],
      "execution_count": null,
      "outputs": []
    },
    {
      "cell_type": "code",
      "metadata": {
        "id": "eM8Y5hyPx2R4",
        "colab_type": "code",
        "colab": {}
      },
      "source": [
        "# !pip install konlpy"
      ],
      "execution_count": null,
      "outputs": []
    },
    {
      "cell_type": "code",
      "metadata": {
        "id": "zkh9wOWgxy3F",
        "colab_type": "code",
        "colab": {}
      },
      "source": [
        "# !pip install Mecab"
      ],
      "execution_count": null,
      "outputs": []
    },
    {
      "cell_type": "code",
      "metadata": {
        "id": "yrDobFXSsoOt",
        "colab_type": "code",
        "colab": {}
      },
      "source": [
        "# !pip install gensim"
      ],
      "execution_count": null,
      "outputs": []
    },
    {
      "cell_type": "code",
      "metadata": {
        "id": "gNO1EFYAWuJ9",
        "colab_type": "code",
        "colab": {}
      },
      "source": [
        "import pandas as pd\n",
        "import numpy as np\n",
        "import matplotlib.pyplot as plt"
      ],
      "execution_count": 7,
      "outputs": []
    },
    {
      "cell_type": "code",
      "metadata": {
        "id": "1ZtqvDuaX-Bj",
        "colab_type": "code",
        "colab": {}
      },
      "source": [
        "from tensorflow.keras.preprocessing.text import Tokenizer \n",
        "import tensorflow as tf\n",
        "from tensorflow import keras \n",
        "from tensorflow.keras.preprocessing.sequence import pad_sequences\n",
        "from tensorflow.keras import Input, layers\n",
        "from keras.models import load_model\n",
        "from sklearn.utils import class_weight\n",
        "from keras.regularizers import l2\n",
        "from keras.models import load_model"
      ],
      "execution_count": 9,
      "outputs": []
    },
    {
      "cell_type": "code",
      "metadata": {
        "id": "g0XbmiTKyLMr",
        "colab_type": "code",
        "colab": {}
      },
      "source": [
        "from konlpy.tag import Okt\n",
        "from konlpy.tag import Mecab\n",
        "from gensim.models import Word2Vec"
      ],
      "execution_count": 11,
      "outputs": []
    },
    {
      "cell_type": "markdown",
      "metadata": {
        "id": "J4KA0YiNu6EB",
        "colab_type": "text"
      },
      "source": [
        "# 데이터 불러오기"
      ]
    },
    {
      "cell_type": "code",
      "metadata": {
        "id": "6xkjDS4BWdRm",
        "colab_type": "code",
        "colab": {}
      },
      "source": [
        "train=pd.read_csv('/content/drive/My Drive/data/nsmc/ratings_train.txt',sep='\\t')\n",
        "test=pd.read_csv('/content/drive/My Drive/data/nsmc/ratings_test.txt',sep='\\t')\n",
        "full=pd.read_csv('/content/drive/My Drive/data/nsmc/ratings.txt',sep='\\t')"
      ],
      "execution_count": 12,
      "outputs": []
    },
    {
      "cell_type": "code",
      "metadata": {
        "id": "byWjFgHxW4f0",
        "colab_type": "code",
        "colab": {}
      },
      "source": [
        "train.dropna(inplace=True)\n",
        "test.dropna(inplace=True)\n",
        "full.dropna(inplace=True)"
      ],
      "execution_count": 13,
      "outputs": []
    },
    {
      "cell_type": "code",
      "metadata": {
        "id": "O97h_HGUXctv",
        "colab_type": "code",
        "colab": {}
      },
      "source": [
        "training_sentences=np.array(train['document'])\n",
        "training_labels=np.array(train['label'])\n",
        "testing_sentences=np.array(test['document'])\n",
        "testing_labels=np.array(test['label'])\n",
        "full_sentences=np.array(full['document'])\n",
        "full_labels=np.array(full['label'])"
      ],
      "execution_count": 14,
      "outputs": []
    },
    {
      "cell_type": "markdown",
      "metadata": {
        "id": "SzhkAiJd6Ww6",
        "colab_type": "text"
      },
      "source": [
        "# FastText"
      ]
    },
    {
      "cell_type": "code",
      "metadata": {
        "id": "SWKPC6n0tgTb",
        "colab_type": "code",
        "colab": {}
      },
      "source": [
        "# !pip install fasttext"
      ],
      "execution_count": null,
      "outputs": []
    },
    {
      "cell_type": "code",
      "metadata": {
        "id": "obdfB82RuUZr",
        "colab_type": "code",
        "colab": {}
      },
      "source": [
        "# import fasttext.util\n",
        "# fasttext.util.download_model('ko', if_exists='ignore')\n",
        "# ft = fasttext.load_model('cc.ko.300.bin')"
      ],
      "execution_count": null,
      "outputs": []
    },
    {
      "cell_type": "code",
      "metadata": {
        "id": "a5vmXVU3nCeW",
        "colab_type": "code",
        "colab": {}
      },
      "source": [
        "import subprocess\n",
        "\n",
        "with open(r\"/content/drive/My Drive/data/nsmc/wiki.ko.vec\", encoding='utf-8') as f:\n",
        "    wiki = f.readlines()"
      ],
      "execution_count": 15,
      "outputs": []
    },
    {
      "cell_type": "code",
      "metadata": {
        "id": "KwNrPqifmZpS",
        "colab_type": "code",
        "colab": {
          "base_uri": "https://localhost:8080/",
          "height": 35
        },
        "outputId": "de4bb570-b3e8-4b5a-dcb6-da49067676c6"
      },
      "source": [
        "embedding_dict = dict()\n",
        "\n",
        "for line in wiki:\n",
        "    word_vector = line.split()\n",
        "    word = word_vector[0]\n",
        "    word_vector_arr = np.asarray(word_vector[1:], dtype='float32') \n",
        "    embedding_dict[word] = word_vector_arr\n",
        "# f.close()\n",
        "print('%s개의 Embedding vector가 있습니다.' % len(embedding_dict))"
      ],
      "execution_count": 16,
      "outputs": [
        {
          "output_type": "stream",
          "text": [
            "879130개의 Embedding vector가 있습니다.\n"
          ],
          "name": "stdout"
        }
      ]
    },
    {
      "cell_type": "markdown",
      "metadata": {
        "id": "NrDd5vr_PquC",
        "colab_type": "text"
      },
      "source": [
        "# Base\n",
        "split by (' ')"
      ]
    },
    {
      "cell_type": "markdown",
      "metadata": {
        "id": "ymP9cteg1raE",
        "colab_type": "text"
      },
      "source": [
        "## Base_contextural"
      ]
    },
    {
      "cell_type": "markdown",
      "metadata": {
        "id": "RRbP-IeVvSrc",
        "colab_type": "text"
      },
      "source": [
        "### 학습 포맷 맞추기"
      ]
    },
    {
      "cell_type": "code",
      "metadata": {
        "id": "wozI4BUDWaOs",
        "colab_type": "code",
        "colab": {}
      },
      "source": [
        "vocab_size = 10000\n",
        "max_length= 100\n",
        "trunc_type = 'post'\n",
        "padding_type = 'post'\n",
        "oov_tok = '<OOV>'"
      ],
      "execution_count": 17,
      "outputs": []
    },
    {
      "cell_type": "code",
      "metadata": {
        "id": "ClPTHVrr1J59",
        "colab_type": "code",
        "colab": {}
      },
      "source": [
        "tokenizer=Tokenizer(num_words=vocab_size, oov_token=oov_tok)\n",
        "tokenizer.fit_on_texts(training_sentences)\n",
        "word_index=tokenizer.word_index "
      ],
      "execution_count": 18,
      "outputs": []
    },
    {
      "cell_type": "code",
      "metadata": {
        "id": "-loF2Xg6X5Es",
        "colab_type": "code",
        "colab": {}
      },
      "source": [
        "def padding_maker(train_sentence, test_sentence):\n",
        "\n",
        "  training_sequences= tokenizer.texts_to_sequences(train_sentence)\n",
        "  training_padded=pad_sequences(training_sequences, maxlen=max_length,padding=padding_type, truncating=trunc_type)\n",
        "  testing_sequences= tokenizer.texts_to_sequences(test_sentence)\n",
        "  testing_padded=pad_sequences(testing_sequences, maxlen=max_length,padding=padding_type, truncating=trunc_type)\n",
        "  \n",
        "  training_padded =np.array(training_padded)\n",
        "  testing_padded =np.array(testing_padded)\n",
        "  return training_padded, testing_padded"
      ],
      "execution_count": 19,
      "outputs": []
    },
    {
      "cell_type": "code",
      "metadata": {
        "id": "j4KiP2HWvZCN",
        "colab_type": "code",
        "colab": {}
      },
      "source": [
        "training_padded, testing_padded= padding_maker(training_sentences,testing_sentences)"
      ],
      "execution_count": 20,
      "outputs": []
    },
    {
      "cell_type": "code",
      "metadata": {
        "id": "ZanLioXKcMKL",
        "colab_type": "code",
        "colab": {}
      },
      "source": [
        "training_labels =np.array(training_labels)\n",
        "testing_labels =np.array(testing_labels)"
      ],
      "execution_count": 21,
      "outputs": []
    },
    {
      "cell_type": "markdown",
      "metadata": {
        "id": "KUyL-5rVxYMh",
        "colab_type": "text"
      },
      "source": [
        "### CNN 모델"
      ]
    },
    {
      "cell_type": "code",
      "metadata": {
        "id": "9Y_xgYELbc7u",
        "colab_type": "code",
        "colab": {}
      },
      "source": [
        "# Kim Yoon CNN\n",
        "vocab_size = len(word_index) + 1\n",
        "embedding_dim = 300\n",
        "max_len = max(len(x) for x in training_padded)\n",
        "class_weights = class_weight.compute_class_weight('balanced', np.unique(training_labels), training_labels)\n",
        "class_weights_d = dict(enumerate(class_weights))\n",
        "\n",
        "sequence_input = Input(shape=(max_len,), dtype='int32')\n",
        "\n",
        "embedding_layer = tf.keras.layers.Embedding(vocab_size,\n",
        "                                            embedding_dim,\n",
        "                                            input_length=max_len,\n",
        "                                            trainable=False)\n",
        "\n",
        "embedded_sequences = embedding_layer(sequence_input)\n",
        "\n",
        "convs = []\n",
        "filter_sizes = [3,4,5]\n",
        "\n",
        "for fsz in filter_sizes:\n",
        "    x = layers.Conv1D(128, fsz, activation='relu',padding='same',kernel_regularizer=l2(1e-3))(embedded_sequences)\n",
        "    x = layers.MaxPooling1D()(x)\n",
        "    convs.append(x)\n",
        "    \n",
        "x = layers.Concatenate(axis=-1)(convs)\n",
        "x = layers.Flatten()(x)\n",
        "x = layers.Dense(128, activation='relu')(x)\n",
        "x = layers.Dropout(0.5)(x)\n",
        "output = layers.Dense(1, activation='sigmoid')(x)\n"
      ],
      "execution_count": 22,
      "outputs": []
    },
    {
      "cell_type": "markdown",
      "metadata": {
        "id": "BcaL3FglxfDK",
        "colab_type": "text"
      },
      "source": [
        "### 컴파일 및 피팅"
      ]
    },
    {
      "cell_type": "code",
      "metadata": {
        "id": "bIley8LzxdDV",
        "colab_type": "code",
        "colab": {
          "base_uri": "https://localhost:8080/",
          "height": 665
        },
        "outputId": "af35ddea-4ac1-47e1-afc4-82f40ced5050"
      },
      "source": [
        "model_base = keras.models.Model(sequence_input, output)\n",
        "model_base.compile(loss='binary_crossentropy',\n",
        "              optimizer='adam',\n",
        "              metrics=['accuracy'])\n",
        "\n",
        "model_base.summary()"
      ],
      "execution_count": 23,
      "outputs": [
        {
          "output_type": "stream",
          "text": [
            "Model: \"functional_1\"\n",
            "__________________________________________________________________________________________________\n",
            "Layer (type)                    Output Shape         Param #     Connected to                     \n",
            "==================================================================================================\n",
            "input_1 (InputLayer)            [(None, 100)]        0                                            \n",
            "__________________________________________________________________________________________________\n",
            "embedding (Embedding)           (None, 100, 300)     88893600    input_1[0][0]                    \n",
            "__________________________________________________________________________________________________\n",
            "conv1d (Conv1D)                 (None, 100, 128)     115328      embedding[0][0]                  \n",
            "__________________________________________________________________________________________________\n",
            "conv1d_1 (Conv1D)               (None, 100, 128)     153728      embedding[0][0]                  \n",
            "__________________________________________________________________________________________________\n",
            "conv1d_2 (Conv1D)               (None, 100, 128)     192128      embedding[0][0]                  \n",
            "__________________________________________________________________________________________________\n",
            "max_pooling1d (MaxPooling1D)    (None, 50, 128)      0           conv1d[0][0]                     \n",
            "__________________________________________________________________________________________________\n",
            "max_pooling1d_1 (MaxPooling1D)  (None, 50, 128)      0           conv1d_1[0][0]                   \n",
            "__________________________________________________________________________________________________\n",
            "max_pooling1d_2 (MaxPooling1D)  (None, 50, 128)      0           conv1d_2[0][0]                   \n",
            "__________________________________________________________________________________________________\n",
            "concatenate (Concatenate)       (None, 50, 384)      0           max_pooling1d[0][0]              \n",
            "                                                                 max_pooling1d_1[0][0]            \n",
            "                                                                 max_pooling1d_2[0][0]            \n",
            "__________________________________________________________________________________________________\n",
            "flatten (Flatten)               (None, 19200)        0           concatenate[0][0]                \n",
            "__________________________________________________________________________________________________\n",
            "dense (Dense)                   (None, 128)          2457728     flatten[0][0]                    \n",
            "__________________________________________________________________________________________________\n",
            "dropout (Dropout)               (None, 128)          0           dense[0][0]                      \n",
            "__________________________________________________________________________________________________\n",
            "dense_1 (Dense)                 (None, 1)            129         dropout[0][0]                    \n",
            "==================================================================================================\n",
            "Total params: 91,812,641\n",
            "Trainable params: 2,919,041\n",
            "Non-trainable params: 88,893,600\n",
            "__________________________________________________________________________________________________\n"
          ],
          "name": "stdout"
        }
      ]
    },
    {
      "cell_type": "code",
      "metadata": {
        "id": "bLuG7hdnbmZf",
        "colab_type": "code",
        "colab": {
          "base_uri": "https://localhost:8080/",
          "height": 0
        },
        "outputId": "f2ffada4-82d9-45d6-f92a-0338ea7edd5c"
      },
      "source": [
        "callback=tf.keras.callbacks.EarlyStopping(monitor='val_loss', min_delta=0.0005, patience=1, verbose=0, mode='auto')\n",
        "# Fit model\n",
        "history_base = model_base.fit(training_padded, training_labels,\n",
        "                    class_weight = class_weights_d,\n",
        "                    epochs=10,\n",
        "                    callbacks=[callback],\n",
        "                    verbose=True,\n",
        "                    validation_data=(testing_padded, testing_labels),\n",
        "                    batch_size=50)\n",
        "loss, accuracy = model_base.evaluate(training_padded, training_labels, verbose=True)\n",
        "print(\"Training Accuracy: {:.4f}\".format(accuracy))\n",
        "loss, accuracy = model_base.evaluate(testing_padded, testing_labels, verbose=False)\n",
        "print(\"Testing Accuracy:  {:.4f}\".format(accuracy))"
      ],
      "execution_count": 24,
      "outputs": [
        {
          "output_type": "stream",
          "text": [
            "Epoch 1/10\n",
            "3000/3000 [==============================] - 22s 7ms/step - loss: 0.6568 - accuracy: 0.6394 - val_loss: 0.6034 - val_accuracy: 0.6920\n",
            "Epoch 2/10\n",
            "3000/3000 [==============================] - 22s 7ms/step - loss: 0.5731 - accuracy: 0.7235 - val_loss: 0.5611 - val_accuracy: 0.7332\n",
            "Epoch 3/10\n",
            "3000/3000 [==============================] - 22s 7ms/step - loss: 0.5445 - accuracy: 0.7451 - val_loss: 0.5492 - val_accuracy: 0.7421\n",
            "Epoch 4/10\n",
            "3000/3000 [==============================] - 22s 7ms/step - loss: 0.5322 - accuracy: 0.7546 - val_loss: 0.5484 - val_accuracy: 0.7428\n",
            "Epoch 5/10\n",
            "3000/3000 [==============================] - 22s 7ms/step - loss: 0.5250 - accuracy: 0.7595 - val_loss: 0.5437 - val_accuracy: 0.7430\n",
            "Epoch 6/10\n",
            "3000/3000 [==============================] - 22s 7ms/step - loss: 0.5191 - accuracy: 0.7642 - val_loss: 0.5440 - val_accuracy: 0.7495\n",
            "4688/4688 [==============================] - 15s 3ms/step - loss: 0.4831 - accuracy: 0.7827\n",
            "Training Accuracy: 0.7827\n",
            "Testing Accuracy:  0.7495\n"
          ],
          "name": "stdout"
        }
      ]
    },
    {
      "cell_type": "markdown",
      "metadata": {
        "id": "39jQpbULynwa",
        "colab_type": "text"
      },
      "source": [
        "### ACC, LOSS 그래프"
      ]
    },
    {
      "cell_type": "code",
      "metadata": {
        "id": "2BD2Ex9OalhL",
        "colab_type": "code",
        "colab": {}
      },
      "source": [
        "def plot_graphs(history, string):\n",
        "  plt.plot(history.history[string])\n",
        "  plt.plot(history.history['val_'+string])\n",
        "  plt.xlabel(\"Epochs\")\n",
        "  plt.ylabel(string)\n",
        "  plt.legend([string, 'val_'+string])\n",
        "  plt.show()"
      ],
      "execution_count": 25,
      "outputs": []
    },
    {
      "cell_type": "code",
      "metadata": {
        "id": "VO7ra6ziyBZE",
        "colab_type": "code",
        "colab": {
          "base_uri": "https://localhost:8080/",
          "height": 541
        },
        "outputId": "86109218-aa29-4595-ba2b-90ea10d9bc20"
      },
      "source": [
        "plot_graphs(history_base, 'accuracy')\n",
        "plot_graphs(history_base, 'loss')"
      ],
      "execution_count": 26,
      "outputs": [
        {
          "output_type": "display_data",
          "data": {
            "image/png": "[encoded data removed]",
            "text/plain": [
              "<Figure size 432x288 with 1 Axes>"
            ]
          },
          "metadata": {
            "tags": [],
            "needs_background": "light"
          }
        },
        {
          "output_type": "display_data",
          "data": {
            "image/png": "[encoded data removed]",
            "text/plain": [
              "<Figure size 432x288 with 1 Axes>"
            ]
          },
          "metadata": {
            "tags": [],
            "needs_background": "light"
          }
        }
      ]
    },
    {
      "cell_type": "markdown",
      "metadata": {
        "id": "MpWOLbjy0Fg7",
        "colab_type": "text"
      },
      "source": [
        "### 예측"
      ]
    },
    {
      "cell_type": "code",
      "metadata": {
        "id": "qp8eNAU50G1p",
        "colab_type": "code",
        "colab": {
          "base_uri": "https://localhost:8080/",
          "height": 53
        },
        "outputId": "12fe74fc-0a14-49a9-f757-d141d2118f5d"
      },
      "source": [
        "sentence = ['영화 너무 재밌더라.', '영화 개노잼. 다신 안 봐.']\n",
        "sequence = tokenizer.texts_to_sequences(sentence)\n",
        "padded = pad_sequences(sequence, maxlen=max_length, padding=padding_type, truncating=trunc_type)\n",
        "print(model_base.predict(padded).round(2))"
      ],
      "execution_count": 27,
      "outputs": [
        {
          "output_type": "stream",
          "text": [
            "[[0.46]\n",
            " [0.26]]\n"
          ],
          "name": "stdout"
        }
      ]
    },
    {
      "cell_type": "markdown",
      "metadata": {
        "id": "U5MzzYCboYw3",
        "colab_type": "text"
      },
      "source": [
        "## Base_FastText"
      ]
    },
    {
      "cell_type": "code",
      "metadata": {
        "id": "C4X3JLFkoYDi",
        "colab_type": "code",
        "colab": {
          "base_uri": "https://localhost:8080/",
          "height": 35
        },
        "outputId": "3fd67244-3a5e-486b-a0f0-34cd3a9369ce"
      },
      "source": [
        "# 임베딩 메트릭스\n",
        "embedding_matrix = np.zeros((vocab_size , embedding_dim))\n",
        "# 단어 집합 크기의 행과 100개의 열을 가지는 행렬 생성. 값은 전부 0으로 채워진다.\n",
        "np.shape(embedding_matrix)\n",
        "out_index = 0\n",
        "for word, i in word_index.items(): # 훈련 데이터의 단어 집합에서 단어를 1개씩 꺼내온다.\n",
        "    embedding_vector = embedding_dict.get(word)\n",
        "    if embedding_vector is not None:\n",
        "        # words not found in embedding index will be all-zeros.\n",
        "        embedding_matrix[i] = embedding_vector\n",
        "    else:\n",
        "        out_index += 1\n",
        "\n",
        "print(out_index)"
      ],
      "execution_count": 28,
      "outputs": [
        {
          "output_type": "stream",
          "text": [
            "218695\n"
          ],
          "name": "stdout"
        }
      ]
    },
    {
      "cell_type": "markdown",
      "metadata": {
        "id": "bo8dbxuCopRF",
        "colab_type": "text"
      },
      "source": [
        "### CNN 모델"
      ]
    },
    {
      "cell_type": "code",
      "metadata": {
        "id": "Qr_rcTsZow2J",
        "colab_type": "code",
        "colab": {}
      },
      "source": [
        "# Kim Yoon CNN\n",
        "vocab_size = len(word_index) + 1\n",
        "embedding_dim = 300\n",
        "max_len = max(len(x) for x in training_padded)\n",
        "class_weights = class_weight.compute_class_weight('balanced', np.unique(training_labels), training_labels)\n",
        "class_weights_d = dict(enumerate(class_weights))\n",
        "\n",
        "sequence_input = Input(shape=(max_len,), dtype='int32')\n",
        "\n",
        "embedding_layer = tf.keras.layers.Embedding(vocab_size,\n",
        "                                            embedding_dim,\n",
        "                                            weights=[embedding_matrix],\n",
        "                                            input_length=max_len,\n",
        "                                            trainable=False)\n",
        "\n",
        "embedded_sequences = embedding_layer(sequence_input)\n",
        "\n",
        "convs = []\n",
        "filter_sizes = [3,4,5]\n",
        "\n",
        "for fsz in filter_sizes:\n",
        "    x = layers.Conv1D(128, fsz, activation='relu',padding='same',kernel_regularizer=l2(1e-3))(embedded_sequences)\n",
        "    x = layers.MaxPooling1D()(x)\n",
        "    convs.append(x)\n",
        "    \n",
        "x = layers.Concatenate(axis=-1)(convs)\n",
        "x = layers.Flatten()(x)\n",
        "x = layers.Dense(128, activation='relu')(x)\n",
        "x = layers.Dropout(0.5)(x)\n",
        "output = layers.Dense(1, activation='sigmoid')(x)\n"
      ],
      "execution_count": 29,
      "outputs": []
    },
    {
      "cell_type": "markdown",
      "metadata": {
        "colab_type": "text",
        "id": "bXwsh9K5pI6K"
      },
      "source": [
        "### 컴파일 및 피팅"
      ]
    },
    {
      "cell_type": "code",
      "metadata": {
        "colab_type": "code",
        "id": "R1Pm036-pI6L",
        "colab": {
          "base_uri": "https://localhost:8080/",
          "height": 665
        },
        "outputId": "47e1f424-7637-452c-db08-c7026bda19f3"
      },
      "source": [
        "model_base_ff = keras.models.Model(sequence_input, output)\n",
        "model_base_ff.compile(loss='binary_crossentropy',\n",
        "              optimizer='adam',\n",
        "              metrics=['accuracy'])\n",
        "\n",
        "model_base_ff.summary()"
      ],
      "execution_count": 30,
      "outputs": [
        {
          "output_type": "stream",
          "text": [
            "Model: \"functional_3\"\n",
            "__________________________________________________________________________________________________\n",
            "Layer (type)                    Output Shape         Param #     Connected to                     \n",
            "==================================================================================================\n",
            "input_2 (InputLayer)            [(None, 100)]        0                                            \n",
            "__________________________________________________________________________________________________\n",
            "embedding_1 (Embedding)         (None, 100, 300)     88893600    input_2[0][0]                    \n",
            "__________________________________________________________________________________________________\n",
            "conv1d_3 (Conv1D)               (None, 100, 128)     115328      embedding_1[0][0]                \n",
            "__________________________________________________________________________________________________\n",
            "conv1d_4 (Conv1D)               (None, 100, 128)     153728      embedding_1[0][0]                \n",
            "__________________________________________________________________________________________________\n",
            "conv1d_5 (Conv1D)               (None, 100, 128)     192128      embedding_1[0][0]                \n",
            "__________________________________________________________________________________________________\n",
            "max_pooling1d_3 (MaxPooling1D)  (None, 50, 128)      0           conv1d_3[0][0]                   \n",
            "__________________________________________________________________________________________________\n",
            "max_pooling1d_4 (MaxPooling1D)  (None, 50, 128)      0           conv1d_4[0][0]                   \n",
            "__________________________________________________________________________________________________\n",
            "max_pooling1d_5 (MaxPooling1D)  (None, 50, 128)      0           conv1d_5[0][0]                   \n",
            "__________________________________________________________________________________________________\n",
            "concatenate_1 (Concatenate)     (None, 50, 384)      0           max_pooling1d_3[0][0]            \n",
            "                                                                 max_pooling1d_4[0][0]            \n",
            "                                                                 max_pooling1d_5[0][0]            \n",
            "__________________________________________________________________________________________________\n",
            "flatten_1 (Flatten)             (None, 19200)        0           concatenate_1[0][0]              \n",
            "__________________________________________________________________________________________________\n",
            "dense_2 (Dense)                 (None, 128)          2457728     flatten_1[0][0]                  \n",
            "__________________________________________________________________________________________________\n",
            "dropout_1 (Dropout)             (None, 128)          0           dense_2[0][0]                    \n",
            "__________________________________________________________________________________________________\n",
            "dense_3 (Dense)                 (None, 1)            129         dropout_1[0][0]                  \n",
            "==================================================================================================\n",
            "Total params: 91,812,641\n",
            "Trainable params: 2,919,041\n",
            "Non-trainable params: 88,893,600\n",
            "__________________________________________________________________________________________________\n"
          ],
          "name": "stdout"
        }
      ]
    },
    {
      "cell_type": "code",
      "metadata": {
        "colab_type": "code",
        "id": "d05oNrelpI6R",
        "colab": {
          "base_uri": "https://localhost:8080/",
          "height": 0
        },
        "outputId": "abc9ff24-59d2-44e7-dd46-9089ca69ea0f"
      },
      "source": [
        "callback=tf.keras.callbacks.EarlyStopping(monitor='val_loss', min_delta=0.0005, patience=1, verbose=0, mode='auto')\n",
        "# Fit model\n",
        "history_base_ff = model_base_ff.fit(training_padded, training_labels,\n",
        "                    class_weight = class_weights_d,\n",
        "                    epochs=10,\n",
        "                    callbacks=[callback],\n",
        "                    verbose=True,\n",
        "                    validation_data=(testing_padded, testing_labels),\n",
        "                    batch_size=50)\n",
        "loss, accuracy = model_base_ff.evaluate(training_padded, training_labels, verbose=True)\n",
        "print(\"Training Accuracy: {:.4f}\".format(accuracy))\n",
        "loss, accuracy = model_base_ff.evaluate(testing_padded, testing_labels, verbose=False)\n",
        "print(\"Testing Accuracy:  {:.4f}\".format(accuracy))"
      ],
      "execution_count": 31,
      "outputs": [
        {
          "output_type": "stream",
          "text": [
            "Epoch 1/10\n",
            "3000/3000 [==============================] - 22s 7ms/step - loss: 0.5838 - accuracy: 0.7167 - val_loss: 0.5450 - val_accuracy: 0.7302\n",
            "Epoch 2/10\n",
            "3000/3000 [==============================] - 22s 7ms/step - loss: 0.5357 - accuracy: 0.7389 - val_loss: 0.5256 - val_accuracy: 0.7398\n",
            "Epoch 3/10\n",
            "3000/3000 [==============================] - 22s 7ms/step - loss: 0.5228 - accuracy: 0.7446 - val_loss: 0.5254 - val_accuracy: 0.7374\n",
            "4688/4688 [==============================] - 15s 3ms/step - loss: 0.5069 - accuracy: 0.7505\n",
            "Training Accuracy: 0.7505\n",
            "Testing Accuracy:  0.7374\n"
          ],
          "name": "stdout"
        }
      ]
    },
    {
      "cell_type": "markdown",
      "metadata": {
        "colab_type": "text",
        "id": "7bc2QmvYpI6U"
      },
      "source": [
        "### ACC, LOSS 그래프"
      ]
    },
    {
      "cell_type": "code",
      "metadata": {
        "colab_type": "code",
        "id": "YQxjDVIXpI6X",
        "colab": {
          "base_uri": "https://localhost:8080/",
          "height": 541
        },
        "outputId": "4ff414a5-ca1f-4b76-8076-2d0244b76470"
      },
      "source": [
        "plot_graphs(history_base_ff, 'accuracy')\n",
        "plot_graphs(history_base_ff, 'loss')"
      ],
      "execution_count": 32,
      "outputs": [
        {
          "output_type": "display_data",
          "data": {
            "image/png": "[encoded data removed]",
            "text/plain": [
              "<Figure size 432x288 with 1 Axes>"
            ]
          },
          "metadata": {
            "tags": [],
            "needs_background": "light"
          }
        },
        {
          "output_type": "display_data",
          "data": {
            "image/png": "[encoded data removed]",
            "text/plain": [
              "<Figure size 432x288 with 1 Axes>"
            ]
          },
          "metadata": {
            "tags": [],
            "needs_background": "light"
          }
        }
      ]
    },
    {
      "cell_type": "markdown",
      "metadata": {
        "colab_type": "text",
        "id": "6cunZJ-ppI6Z"
      },
      "source": [
        "### 예측"
      ]
    },
    {
      "cell_type": "code",
      "metadata": {
        "colab_type": "code",
        "id": "zHNeSPzwpI6a",
        "colab": {
          "base_uri": "https://localhost:8080/",
          "height": 53
        },
        "outputId": "06918f43-11f5-4b4f-83f8-c23764ca3ed0"
      },
      "source": [
        "sentence = ['영화 너무 재밌더라.', '영화 개노잼. 다신 안 봐.']\n",
        "sequence = tokenizer.texts_to_sequences(sentence)\n",
        "padded = pad_sequences(sequence, maxlen=max_length, padding=padding_type, truncating=trunc_type)\n",
        "print(model_base_ff.predict(padded).round(2))"
      ],
      "execution_count": 33,
      "outputs": [
        {
          "output_type": "stream",
          "text": [
            "[[0.28]\n",
            " [0.29]]\n"
          ],
          "name": "stdout"
        }
      ]
    },
    {
      "cell_type": "markdown",
      "metadata": {
        "colab_type": "text",
        "id": "fI_vF32PsgB6"
      },
      "source": [
        "## Base_Word2Vec"
      ]
    },
    {
      "cell_type": "code",
      "metadata": {
        "id": "SMcqGrDovXaN",
        "colab_type": "code",
        "colab": {}
      },
      "source": [
        "token_list=[tokens.split() for tokens in full_sentences.tolist()]"
      ],
      "execution_count": 34,
      "outputs": []
    },
    {
      "cell_type": "code",
      "metadata": {
        "id": "W0AAuvKDsz0f",
        "colab_type": "code",
        "colab": {}
      },
      "source": [
        "word2vec = Word2Vec(\n",
        "    sentences = token_list,\n",
        "    size = embedding_dim,\n",
        "    alpha = 0.025,\n",
        "    min_count = 1,\n",
        "    window=8,\n",
        "    sample = 0.001,\n",
        "    sg = 1,\n",
        "    iter = 10\n",
        ")"
      ],
      "execution_count": 35,
      "outputs": []
    },
    {
      "cell_type": "code",
      "metadata": {
        "colab_type": "code",
        "id": "5r7tSRNgsgB7",
        "colab": {
          "base_uri": "https://localhost:8080/",
          "height": 35
        },
        "outputId": "3378b1e4-ed61-490c-a45e-8d6c95583324"
      },
      "source": [
        "# 임베딩 메트릭스\n",
        "embedding_matrix = np.zeros((vocab_size , embedding_dim))\n",
        "# 단어 집합 크기의 행과 100개의 열을 가지는 행렬 생성. 값은 전부 0으로 채워진다.\n",
        "np.shape(embedding_matrix)\n",
        "out_index = 0\n",
        "for word, i in word_index.items(): # 훈련 데이터의 단어 집합에서 단어를 1개씩 꺼내온다.\n",
        "  try:\n",
        "    embedding_vector = word2vec.wv.__getitem__(word)\n",
        "    if embedding_vector is not None:\n",
        "        # words not found in embedding index will be all-zeros.\n",
        "        embedding_matrix[i] = embedding_vector\n",
        "    else:\n",
        "        out_index += 1\n",
        "  except:\n",
        "    out_index+=1\n",
        "\n",
        "print(out_index)"
      ],
      "execution_count": 46,
      "outputs": [
        {
          "output_type": "stream",
          "text": [
            "54069\n"
          ],
          "name": "stdout"
        }
      ]
    },
    {
      "cell_type": "markdown",
      "metadata": {
        "colab_type": "text",
        "id": "4r0JycKvsgB-"
      },
      "source": [
        "### CNN 모델"
      ]
    },
    {
      "cell_type": "code",
      "metadata": {
        "colab_type": "code",
        "id": "sJ0SPfpbsgB_",
        "colab": {}
      },
      "source": [
        "# Kim Yoon CNN\n",
        "vocab_size = len(word_index) + 1\n",
        "embedding_dim = 300\n",
        "max_len = max(len(x) for x in training_padded)\n",
        "class_weights = class_weight.compute_class_weight('balanced', np.unique(training_labels), training_labels)\n",
        "class_weights_d = dict(enumerate(class_weights))\n",
        "\n",
        "sequence_input = Input(shape=(max_len,), dtype='int32')\n",
        "\n",
        "embedding_layer = tf.keras.layers.Embedding(vocab_size,\n",
        "                                            embedding_dim,\n",
        "                                            weights=[embedding_matrix],\n",
        "                                            input_length=max_len,\n",
        "                                            trainable=False)\n",
        "\n",
        "embedded_sequences = embedding_layer(sequence_input)\n",
        "\n",
        "convs = []\n",
        "filter_sizes = [3,4,5]\n",
        "\n",
        "for fsz in filter_sizes:\n",
        "    x = layers.Conv1D(128, fsz, activation='relu',padding='same',kernel_regularizer=l2(1e-3))(embedded_sequences)\n",
        "    x = layers.MaxPooling1D()(x)\n",
        "    convs.append(x)\n",
        "    \n",
        "x = layers.Concatenate(axis=-1)(convs)\n",
        "x = layers.Flatten()(x)\n",
        "x = layers.Dense(128, activation='relu')(x)\n",
        "x = layers.Dropout(0.5)(x)\n",
        "output = layers.Dense(1, activation='sigmoid')(x)\n"
      ],
      "execution_count": 47,
      "outputs": []
    },
    {
      "cell_type": "markdown",
      "metadata": {
        "colab_type": "text",
        "id": "36IMu3zDsgCF"
      },
      "source": [
        "### 컴파일 및 피팅"
      ]
    },
    {
      "cell_type": "code",
      "metadata": {
        "colab_type": "code",
        "id": "hOKIeDBqsgCH",
        "colab": {
          "base_uri": "https://localhost:8080/",
          "height": 665
        },
        "outputId": "36f732d4-5000-4408-e8ee-c70f7d84395a"
      },
      "source": [
        "model_base_ff = keras.models.Model(sequence_input, output)\n",
        "model_base_ff.compile(loss='binary_crossentropy',\n",
        "              optimizer='adam',\n",
        "              metrics=['accuracy'])\n",
        "\n",
        "model_base_ff.summary()"
      ],
      "execution_count": 48,
      "outputs": [
        {
          "output_type": "stream",
          "text": [
            "Model: \"functional_5\"\n",
            "__________________________________________________________________________________________________\n",
            "Layer (type)                    Output Shape         Param #     Connected to                     \n",
            "==================================================================================================\n",
            "input_4 (InputLayer)            [(None, 100)]        0                                            \n",
            "__________________________________________________________________________________________________\n",
            "embedding_3 (Embedding)         (None, 100, 300)     88893600    input_4[0][0]                    \n",
            "__________________________________________________________________________________________________\n",
            "conv1d_6 (Conv1D)               (None, 100, 128)     115328      embedding_3[0][0]                \n",
            "__________________________________________________________________________________________________\n",
            "conv1d_7 (Conv1D)               (None, 100, 128)     153728      embedding_3[0][0]                \n",
            "__________________________________________________________________________________________________\n",
            "conv1d_8 (Conv1D)               (None, 100, 128)     192128      embedding_3[0][0]                \n",
            "__________________________________________________________________________________________________\n",
            "max_pooling1d_6 (MaxPooling1D)  (None, 50, 128)      0           conv1d_6[0][0]                   \n",
            "__________________________________________________________________________________________________\n",
            "max_pooling1d_7 (MaxPooling1D)  (None, 50, 128)      0           conv1d_7[0][0]                   \n",
            "__________________________________________________________________________________________________\n",
            "max_pooling1d_8 (MaxPooling1D)  (None, 50, 128)      0           conv1d_8[0][0]                   \n",
            "__________________________________________________________________________________________________\n",
            "concatenate_2 (Concatenate)     (None, 50, 384)      0           max_pooling1d_6[0][0]            \n",
            "                                                                 max_pooling1d_7[0][0]            \n",
            "                                                                 max_pooling1d_8[0][0]            \n",
            "__________________________________________________________________________________________________\n",
            "flatten_2 (Flatten)             (None, 19200)        0           concatenate_2[0][0]              \n",
            "__________________________________________________________________________________________________\n",
            "dense_4 (Dense)                 (None, 128)          2457728     flatten_2[0][0]                  \n",
            "__________________________________________________________________________________________________\n",
            "dropout_2 (Dropout)             (None, 128)          0           dense_4[0][0]                    \n",
            "__________________________________________________________________________________________________\n",
            "dense_5 (Dense)                 (None, 1)            129         dropout_2[0][0]                  \n",
            "==================================================================================================\n",
            "Total params: 91,812,641\n",
            "Trainable params: 2,919,041\n",
            "Non-trainable params: 88,893,600\n",
            "__________________________________________________________________________________________________\n"
          ],
          "name": "stdout"
        }
      ]
    },
    {
      "cell_type": "code",
      "metadata": {
        "colab_type": "code",
        "id": "G-lpLT4PsgCN",
        "colab": {
          "base_uri": "https://localhost:8080/",
          "height": 0
        },
        "outputId": "e7e47153-7ebc-44f2-f21f-fa8a18c32e66"
      },
      "source": [
        "callback=tf.keras.callbacks.EarlyStopping(monitor='val_loss', min_delta=0.0005, patience=1, verbose=0, mode='auto')\n",
        "# Fit model\n",
        "history_base_ff = model_base_ff.fit(training_padded, training_labels,\n",
        "                    class_weight = class_weights_d,\n",
        "                    epochs=10,\n",
        "                    callbacks=[callback],\n",
        "                    verbose=True,\n",
        "                    validation_data=(testing_padded, testing_labels),\n",
        "                    batch_size=50)\n",
        "loss, accuracy = model_base_ff.evaluate(training_padded, training_labels, verbose=True)\n",
        "print(\"Training Accuracy: {:.4f}\".format(accuracy))\n",
        "loss, accuracy = model_base_ff.evaluate(testing_padded, testing_labels, verbose=False)\n",
        "print(\"Testing Accuracy:  {:.4f}\".format(accuracy))"
      ],
      "execution_count": 49,
      "outputs": [
        {
          "output_type": "stream",
          "text": [
            "Epoch 1/10\n",
            "3000/3000 [==============================] - 22s 7ms/step - loss: 0.5696 - accuracy: 0.7351 - val_loss: 0.5324 - val_accuracy: 0.7447\n",
            "Epoch 2/10\n",
            "3000/3000 [==============================] - 22s 7ms/step - loss: 0.5201 - accuracy: 0.7472 - val_loss: 0.5105 - val_accuracy: 0.7482\n",
            "Epoch 3/10\n",
            "3000/3000 [==============================] - 22s 7ms/step - loss: 0.5092 - accuracy: 0.7508 - val_loss: 0.5111 - val_accuracy: 0.7478\n",
            "4688/4688 [==============================] - 15s 3ms/step - loss: 0.4963 - accuracy: 0.7593\n",
            "Training Accuracy: 0.7593\n",
            "Testing Accuracy:  0.7478\n"
          ],
          "name": "stdout"
        }
      ]
    },
    {
      "cell_type": "markdown",
      "metadata": {
        "colab_type": "text",
        "id": "zE5fwSjesgCS"
      },
      "source": [
        "### ACC, LOSS 그래프"
      ]
    },
    {
      "cell_type": "code",
      "metadata": {
        "colab_type": "code",
        "id": "wu0naf-3sgCT",
        "colab": {
          "base_uri": "https://localhost:8080/",
          "height": 541
        },
        "outputId": "9077da8a-4986-4819-9708-dddc4adec627"
      },
      "source": [
        "plot_graphs(history_base_ff, 'accuracy')\n",
        "plot_graphs(history_base_ff, 'loss')"
      ],
      "execution_count": 50,
      "outputs": [
        {
          "output_type": "display_data",
          "data": {
            "image/png": "[encoded data removed]",
            "text/plain": [
              "<Figure size 432x288 with 1 Axes>"
            ]
          },
          "metadata": {
            "tags": [],
            "needs_background": "light"
          }
        },
        {
          "output_type": "display_data",
          "data": {
            "image/png": "[encoded data removed]",
            "text/plain": [
              "<Figure size 432x288 with 1 Axes>"
            ]
          },
          "metadata": {
            "tags": [],
            "needs_background": "light"
          }
        }
      ]
    },
    {
      "cell_type": "markdown",
      "metadata": {
        "colab_type": "text",
        "id": "zKpkbLJ_sgCX"
      },
      "source": [
        "### 예측"
      ]
    },
    {
      "cell_type": "code",
      "metadata": {
        "colab_type": "code",
        "id": "QyiOZHGKsgCY",
        "colab": {
          "base_uri": "https://localhost:8080/",
          "height": 53
        },
        "outputId": "6cbad513-0979-4b5b-ec60-a5fa28ac0fc8"
      },
      "source": [
        "sentence = ['영화 너무 재밌더라.', '영화 개노잼. 다신 안 봐.']\n",
        "sequence = tokenizer.texts_to_sequences(sentence)\n",
        "padded = pad_sequences(sequence, maxlen=max_length, padding=padding_type, truncating=trunc_type)\n",
        "print(model_base_ff.predict(padded).round(2))"
      ],
      "execution_count": 51,
      "outputs": [
        {
          "output_type": "stream",
          "text": [
            "[[0.42]\n",
            " [0.1 ]]\n"
          ],
          "name": "stdout"
        }
      ]
    },
    {
      "cell_type": "markdown",
      "metadata": {
        "id": "ZuGrXkyCP6Js",
        "colab_type": "text"
      },
      "source": [
        "# OKT\n",
        "tokenized by okt"
      ]
    },
    {
      "cell_type": "markdown",
      "metadata": {
        "id": "DO-1M-jj2Ltj",
        "colab_type": "text"
      },
      "source": [
        "## OKT_contextural"
      ]
    },
    {
      "cell_type": "markdown",
      "metadata": {
        "id": "5qo453j8yrq3",
        "colab_type": "text"
      },
      "source": [
        "### 학습 포맷 맞추기"
      ]
    },
    {
      "cell_type": "code",
      "metadata": {
        "id": "DzqoriqCPyYg",
        "colab_type": "code",
        "colab": {}
      },
      "source": [
        "okt=Okt()"
      ],
      "execution_count": 52,
      "outputs": []
    },
    {
      "cell_type": "code",
      "metadata": {
        "id": "23--YpcFh5cg",
        "colab_type": "code",
        "colab": {}
      },
      "source": [
        "def okt_nizer(base_sentence):\n",
        "  okt_sentence=[]\n",
        "  for sentence in base_sentence:\n",
        "    pos_tag=okt.pos(sentence)\n",
        "    tok_sentence=[]\n",
        "    for token, pos in pos_tag:\n",
        "      if pos[0] in ['N','V']:\n",
        "        tok_sentence.append(token)\n",
        "    okt_sentence.append(' '.join(tok_sentence))\n",
        "  okt_sentence=np.array(okt_sentence)\n",
        "  return okt_sentence"
      ],
      "execution_count": 53,
      "outputs": []
    },
    {
      "cell_type": "code",
      "metadata": {
        "id": "mwCW9FecouYD",
        "colab_type": "code",
        "colab": {}
      },
      "source": [
        "okt_training=okt_nizer(training_sentences)\n",
        "okt_testing=okt_nizer(testing_sentences)"
      ],
      "execution_count": 54,
      "outputs": []
    },
    {
      "cell_type": "code",
      "metadata": {
        "id": "GnwCxW6A1WbC",
        "colab_type": "code",
        "colab": {}
      },
      "source": [
        "tokenizer=Tokenizer(num_words=vocab_size, oov_token=oov_tok)\n",
        "tokenizer.fit_on_texts(okt_training)\n",
        "okt_word_index=tokenizer.word_index "
      ],
      "execution_count": 55,
      "outputs": []
    },
    {
      "cell_type": "code",
      "metadata": {
        "id": "EgR9MNuey3X3",
        "colab_type": "code",
        "colab": {}
      },
      "source": [
        "okt_training_padded, okt_testing_padded = padding_maker(okt_training,okt_testing)"
      ],
      "execution_count": 56,
      "outputs": []
    },
    {
      "cell_type": "markdown",
      "metadata": {
        "id": "EBprO8xM2X1I",
        "colab_type": "text"
      },
      "source": [
        "### CNN 모델"
      ]
    },
    {
      "cell_type": "code",
      "metadata": {
        "id": "AgmTxqSv2ZxW",
        "colab_type": "code",
        "colab": {}
      },
      "source": [
        "# Kim Yoon CNN\n",
        "vocab_size = len(word_index) +1\n",
        "embedding_dim = 300\n",
        "max_len = max(len(x) for x in okt_training_padded)\n",
        "class_weights = class_weight.compute_class_weight('balanced', np.unique(training_labels), training_labels)\n",
        "class_weights_d = dict(enumerate(class_weights))\n",
        "\n",
        "sequence_input = Input(shape=(max_len,), dtype='int32')\n",
        "\n",
        "embedding_layer = tf.keras.layers.Embedding(vocab_size,\n",
        "                                            embedding_dim,\n",
        "                                            input_length=max_len,\n",
        "                                            trainable=False)\n",
        "\n",
        "embedded_sequences = embedding_layer(sequence_input)\n",
        "\n",
        "convs = []\n",
        "filter_sizes = [3,4,5]\n",
        "\n",
        "for fsz in filter_sizes:\n",
        "    x = layers.Conv1D(128, fsz, activation='relu',padding='same',kernel_regularizer=l2(1e-3))(embedded_sequences)\n",
        "    x = layers.MaxPooling1D()(x)\n",
        "    convs.append(x)\n",
        "    \n",
        "x = layers.Concatenate(axis=-1)(convs)\n",
        "x = layers.Flatten()(x)\n",
        "x = layers.Dense(128, activation='relu')(x)\n",
        "x = layers.Dropout(0.5)(x)\n",
        "output = layers.Dense(1, activation='sigmoid')(x)"
      ],
      "execution_count": 57,
      "outputs": []
    },
    {
      "cell_type": "markdown",
      "metadata": {
        "id": "VfG-q9Vhzj7q",
        "colab_type": "text"
      },
      "source": [
        "### 컴파일 및 피팅"
      ]
    },
    {
      "cell_type": "code",
      "metadata": {
        "id": "opKUVqrSzOCs",
        "colab_type": "code",
        "colab": {
          "base_uri": "https://localhost:8080/",
          "height": 665
        },
        "outputId": "7896ac5c-36f7-4e1b-bae0-2a3ab2a6b720"
      },
      "source": [
        "model_okt_base = keras.models.Model(sequence_input, output)\n",
        "model_okt_base.compile(loss='binary_crossentropy',\n",
        "                       optimizer='adam',\n",
        "                       metrics=['accuracy'])\n",
        "\n",
        "model_okt_base.summary()"
      ],
      "execution_count": 58,
      "outputs": [
        {
          "output_type": "stream",
          "text": [
            "Model: \"functional_7\"\n",
            "__________________________________________________________________________________________________\n",
            "Layer (type)                    Output Shape         Param #     Connected to                     \n",
            "==================================================================================================\n",
            "input_5 (InputLayer)            [(None, 100)]        0                                            \n",
            "__________________________________________________________________________________________________\n",
            "embedding_4 (Embedding)         (None, 100, 300)     88893600    input_5[0][0]                    \n",
            "__________________________________________________________________________________________________\n",
            "conv1d_9 (Conv1D)               (None, 100, 128)     115328      embedding_4[0][0]                \n",
            "__________________________________________________________________________________________________\n",
            "conv1d_10 (Conv1D)              (None, 100, 128)     153728      embedding_4[0][0]                \n",
            "__________________________________________________________________________________________________\n",
            "conv1d_11 (Conv1D)              (None, 100, 128)     192128      embedding_4[0][0]                \n",
            "__________________________________________________________________________________________________\n",
            "max_pooling1d_9 (MaxPooling1D)  (None, 50, 128)      0           conv1d_9[0][0]                   \n",
            "__________________________________________________________________________________________________\n",
            "max_pooling1d_10 (MaxPooling1D) (None, 50, 128)      0           conv1d_10[0][0]                  \n",
            "__________________________________________________________________________________________________\n",
            "max_pooling1d_11 (MaxPooling1D) (None, 50, 128)      0           conv1d_11[0][0]                  \n",
            "__________________________________________________________________________________________________\n",
            "concatenate_3 (Concatenate)     (None, 50, 384)      0           max_pooling1d_9[0][0]            \n",
            "                                                                 max_pooling1d_10[0][0]           \n",
            "                                                                 max_pooling1d_11[0][0]           \n",
            "__________________________________________________________________________________________________\n",
            "flatten_3 (Flatten)             (None, 19200)        0           concatenate_3[0][0]              \n",
            "__________________________________________________________________________________________________\n",
            "dense_6 (Dense)                 (None, 128)          2457728     flatten_3[0][0]                  \n",
            "__________________________________________________________________________________________________\n",
            "dropout_3 (Dropout)             (None, 128)          0           dense_6[0][0]                    \n",
            "__________________________________________________________________________________________________\n",
            "dense_7 (Dense)                 (None, 1)            129         dropout_3[0][0]                  \n",
            "==================================================================================================\n",
            "Total params: 91,812,641\n",
            "Trainable params: 2,919,041\n",
            "Non-trainable params: 88,893,600\n",
            "__________________________________________________________________________________________________\n"
          ],
          "name": "stdout"
        }
      ]
    },
    {
      "cell_type": "code",
      "metadata": {
        "id": "ejs9WJS2f2BJ",
        "colab_type": "code",
        "colab": {
          "base_uri": "https://localhost:8080/",
          "height": 251
        },
        "outputId": "21bb9278-305f-4cad-a722-08aa1e6a0765"
      },
      "source": [
        "callback=tf.keras.callbacks.EarlyStopping(monitor='val_loss', min_delta=0.0005, patience=1, verbose=0, mode='auto')\n",
        "# Fit model\n",
        "history_okt_base = model_okt_base.fit(okt_training_padded, training_labels,\n",
        "                    class_weight = class_weights_d,\n",
        "                    epochs=10,\n",
        "                    callbacks=[callback],\n",
        "                    verbose=True,\n",
        "                    validation_data=(okt_testing_padded, testing_labels),\n",
        "                    batch_size=50)\n",
        "loss, accuracy = model_okt_base.evaluate(okt_training_padded, training_labels, verbose=True)\n",
        "print(\"Training Accuracy: {:.4f}\".format(accuracy))\n",
        "loss, accuracy = model_okt_base.evaluate(okt_testing_padded, testing_labels, verbose=False)\n",
        "print(\"Testing Accuracy:  {:.4f}\".format(accuracy))"
      ],
      "execution_count": 59,
      "outputs": [
        {
          "output_type": "stream",
          "text": [
            "Epoch 1/10\n",
            "3000/3000 [==============================] - 22s 7ms/step - loss: 0.6292 - accuracy: 0.6853 - val_loss: 0.5796 - val_accuracy: 0.7349\n",
            "Epoch 2/10\n",
            "3000/3000 [==============================] - 22s 7ms/step - loss: 0.5664 - accuracy: 0.7470 - val_loss: 0.5661 - val_accuracy: 0.7450\n",
            "Epoch 3/10\n",
            "3000/3000 [==============================] - 22s 7ms/step - loss: 0.5433 - accuracy: 0.7649 - val_loss: 0.5527 - val_accuracy: 0.7528\n",
            "Epoch 4/10\n",
            "3000/3000 [==============================] - 22s 7ms/step - loss: 0.5306 - accuracy: 0.7741 - val_loss: 0.5506 - val_accuracy: 0.7486\n",
            "Epoch 5/10\n",
            "3000/3000 [==============================] - 22s 7ms/step - loss: 0.5228 - accuracy: 0.7792 - val_loss: 0.5651 - val_accuracy: 0.7485\n",
            "4688/4688 [==============================] - 15s 3ms/step - loss: 0.4911 - accuracy: 0.7946\n",
            "Training Accuracy: 0.7946\n",
            "Testing Accuracy:  0.7485\n"
          ],
          "name": "stdout"
        }
      ]
    },
    {
      "cell_type": "markdown",
      "metadata": {
        "id": "l6h_tJzjz9xZ",
        "colab_type": "text"
      },
      "source": [
        "### ACC, LOSS 그래프"
      ]
    },
    {
      "cell_type": "code",
      "metadata": {
        "id": "_AWQuwgRz6we",
        "colab_type": "code",
        "colab": {
          "base_uri": "https://localhost:8080/",
          "height": 541
        },
        "outputId": "f44f391a-1c01-403d-a2e2-c56578e0302c"
      },
      "source": [
        "plot_graphs(history_okt_base, 'accuracy')\n",
        "plot_graphs(history_okt_base, 'loss')"
      ],
      "execution_count": 60,
      "outputs": [
        {
          "output_type": "display_data",
          "data": {
            "image/png": "[encoded data removed]",
            "text/plain": [
              "<Figure size 432x288 with 1 Axes>"
            ]
          },
          "metadata": {
            "tags": [],
            "needs_background": "light"
          }
        },
        {
          "output_type": "display_data",
          "data": {
            "image/png": "[encoded data removed]",
            "text/plain": [
              "<Figure size 432x288 with 1 Axes>"
            ]
          },
          "metadata": {
            "tags": [],
            "needs_background": "light"
          }
        }
      ]
    },
    {
      "cell_type": "markdown",
      "metadata": {
        "id": "yIkJbLj225GW",
        "colab_type": "text"
      },
      "source": [
        "### 예측"
      ]
    },
    {
      "cell_type": "code",
      "metadata": {
        "id": "dWyS6hIy3DQ8",
        "colab_type": "code",
        "colab": {
          "base_uri": "https://localhost:8080/",
          "height": 53
        },
        "outputId": "e2ba1e43-4e28-4488-dc94-ab300b16d52c"
      },
      "source": [
        "sentence = ['영화 너무 재밌더라.', '영화 개노잼. 다신 안 봐.']\n",
        "sequence = tokenizer.texts_to_sequences(sentence)\n",
        "padded = pad_sequences(sequence, maxlen=max_length, padding=padding_type, truncating=trunc_type)\n",
        "print(model_okt_base.predict(padded).round(2))"
      ],
      "execution_count": 61,
      "outputs": [
        {
          "output_type": "stream",
          "text": [
            "[[0.49]\n",
            " [0.15]]\n"
          ],
          "name": "stdout"
        }
      ]
    },
    {
      "cell_type": "markdown",
      "metadata": {
        "colab_type": "text",
        "id": "ZCUeCotmpebI"
      },
      "source": [
        "## OKT_FastText"
      ]
    },
    {
      "cell_type": "code",
      "metadata": {
        "colab_type": "code",
        "id": "qf8US2tFpebI",
        "colab": {
          "base_uri": "https://localhost:8080/",
          "height": 35
        },
        "outputId": "bfb72d51-0762-49a3-ff90-0f94f0420617"
      },
      "source": [
        "# 임베딩 메트릭스\n",
        "embedding_matrix = np.zeros((vocab_size , embedding_dim))\n",
        "# 단어 집합 크기의 행과 100개의 열을 가지는 행렬 생성. 값은 전부 0으로 채워진다.\n",
        "np.shape(embedding_matrix)\n",
        "out_index = 0\n",
        "for word, i in okt_word_index.items(): # 훈련 데이터의 단어 집합에서 단어를 1개씩 꺼내온다.\n",
        "    embedding_vector = embedding_dict.get(word)\n",
        "    if embedding_vector is not None:\n",
        "        # words not found in embedding index will be all-zeros.\n",
        "        embedding_matrix[i] = embedding_vector\n",
        "    else:\n",
        "        out_index += 1\n",
        "\n",
        "print(out_index)"
      ],
      "execution_count": 62,
      "outputs": [
        {
          "output_type": "stream",
          "text": [
            "37633\n"
          ],
          "name": "stdout"
        }
      ]
    },
    {
      "cell_type": "markdown",
      "metadata": {
        "colab_type": "text",
        "id": "PBOT5LLdpebN"
      },
      "source": [
        "### CNN 모델"
      ]
    },
    {
      "cell_type": "code",
      "metadata": {
        "colab_type": "code",
        "id": "DnOb0nztpebN",
        "colab": {}
      },
      "source": [
        "# Kim Yoon CNN\n",
        "vocab_size = len(word_index) + 1\n",
        "embedding_dim = 300\n",
        "max_len = max(len(x) for x in okt_training_padded)\n",
        "class_weights = class_weight.compute_class_weight('balanced', np.unique(training_labels), training_labels)\n",
        "class_weights_d = dict(enumerate(class_weights))\n",
        "\n",
        "sequence_input = Input(shape=(max_len,), dtype='int32')\n",
        "\n",
        "embedding_layer = tf.keras.layers.Embedding(vocab_size,\n",
        "                                            embedding_dim,\n",
        "                                            weights=[embedding_matrix],\n",
        "                                            input_length=max_len,\n",
        "                                            trainable=False)\n",
        "\n",
        "embedded_sequences = embedding_layer(sequence_input)\n",
        "\n",
        "convs = []\n",
        "filter_sizes = [3,4,5]\n",
        "\n",
        "for fsz in filter_sizes:\n",
        "    x = layers.Conv1D(128, fsz, activation='relu',padding='same',kernel_regularizer=l2(1e-3))(embedded_sequences)\n",
        "    x = layers.MaxPooling1D()(x)\n",
        "    convs.append(x)\n",
        "    \n",
        "x = layers.Concatenate(axis=-1)(convs)\n",
        "x = layers.Flatten()(x)\n",
        "x = layers.Dense(128, activation='relu')(x)\n",
        "x = layers.Dropout(0.5)(x)\n",
        "output = layers.Dense(1, activation='sigmoid')(x)\n"
      ],
      "execution_count": 63,
      "outputs": []
    },
    {
      "cell_type": "markdown",
      "metadata": {
        "colab_type": "text",
        "id": "HtJhQMuNpebQ"
      },
      "source": [
        "### 컴파일 및 피팅"
      ]
    },
    {
      "cell_type": "code",
      "metadata": {
        "colab_type": "code",
        "id": "uJI6jhtcpebQ",
        "colab": {
          "base_uri": "https://localhost:8080/",
          "height": 665
        },
        "outputId": "4312be70-4a7d-4ad9-b872-bdbd10190422"
      },
      "source": [
        "model_okt_ff = keras.models.Model(sequence_input, output)\n",
        "model_okt_ff.compile(loss='binary_crossentropy',\n",
        "                       optimizer='adam',\n",
        "                       metrics=['accuracy'])\n",
        "\n",
        "model_okt_ff.summary()"
      ],
      "execution_count": 64,
      "outputs": [
        {
          "output_type": "stream",
          "text": [
            "Model: \"functional_9\"\n",
            "__________________________________________________________________________________________________\n",
            "Layer (type)                    Output Shape         Param #     Connected to                     \n",
            "==================================================================================================\n",
            "input_6 (InputLayer)            [(None, 100)]        0                                            \n",
            "__________________________________________________________________________________________________\n",
            "embedding_5 (Embedding)         (None, 100, 300)     88893600    input_6[0][0]                    \n",
            "__________________________________________________________________________________________________\n",
            "conv1d_12 (Conv1D)              (None, 100, 128)     115328      embedding_5[0][0]                \n",
            "__________________________________________________________________________________________________\n",
            "conv1d_13 (Conv1D)              (None, 100, 128)     153728      embedding_5[0][0]                \n",
            "__________________________________________________________________________________________________\n",
            "conv1d_14 (Conv1D)              (None, 100, 128)     192128      embedding_5[0][0]                \n",
            "__________________________________________________________________________________________________\n",
            "max_pooling1d_12 (MaxPooling1D) (None, 50, 128)      0           conv1d_12[0][0]                  \n",
            "__________________________________________________________________________________________________\n",
            "max_pooling1d_13 (MaxPooling1D) (None, 50, 128)      0           conv1d_13[0][0]                  \n",
            "__________________________________________________________________________________________________\n",
            "max_pooling1d_14 (MaxPooling1D) (None, 50, 128)      0           conv1d_14[0][0]                  \n",
            "__________________________________________________________________________________________________\n",
            "concatenate_4 (Concatenate)     (None, 50, 384)      0           max_pooling1d_12[0][0]           \n",
            "                                                                 max_pooling1d_13[0][0]           \n",
            "                                                                 max_pooling1d_14[0][0]           \n",
            "__________________________________________________________________________________________________\n",
            "flatten_4 (Flatten)             (None, 19200)        0           concatenate_4[0][0]              \n",
            "__________________________________________________________________________________________________\n",
            "dense_8 (Dense)                 (None, 128)          2457728     flatten_4[0][0]                  \n",
            "__________________________________________________________________________________________________\n",
            "dropout_4 (Dropout)             (None, 128)          0           dense_8[0][0]                    \n",
            "__________________________________________________________________________________________________\n",
            "dense_9 (Dense)                 (None, 1)            129         dropout_4[0][0]                  \n",
            "==================================================================================================\n",
            "Total params: 91,812,641\n",
            "Trainable params: 2,919,041\n",
            "Non-trainable params: 88,893,600\n",
            "__________________________________________________________________________________________________\n"
          ],
          "name": "stdout"
        }
      ]
    },
    {
      "cell_type": "code",
      "metadata": {
        "colab_type": "code",
        "id": "BfwEWZczpebU",
        "colab": {
          "base_uri": "https://localhost:8080/",
          "height": 215
        },
        "outputId": "8e1f3361-75d2-4c99-f5eb-d776c7967068"
      },
      "source": [
        "callback=tf.keras.callbacks.EarlyStopping(monitor='val_loss', min_delta=0.0005, patience=1, verbose=0, mode='auto')\n",
        "# Fit model\n",
        "history_okt_ff = model_okt_ff.fit(okt_training_padded, training_labels,\n",
        "                    class_weight = class_weights_d,\n",
        "                    epochs=10,\n",
        "                    callbacks=[callback],\n",
        "                    verbose=True,\n",
        "                    validation_data=(okt_testing_padded, testing_labels),\n",
        "                    batch_size=50)\n",
        "loss, accuracy = model_okt_ff.evaluate(okt_training_padded, training_labels, verbose=True)\n",
        "print(\"Training Accuracy: {:.4f}\".format(accuracy))\n",
        "loss, accuracy = model_okt_ff.evaluate(okt_testing_padded, testing_labels, verbose=False)\n",
        "print(\"Testing Accuracy:  {:.4f}\".format(accuracy))"
      ],
      "execution_count": 65,
      "outputs": [
        {
          "output_type": "stream",
          "text": [
            "Epoch 1/10\n",
            "3000/3000 [==============================] - 22s 7ms/step - loss: 0.5971 - accuracy: 0.7280 - val_loss: 0.5513 - val_accuracy: 0.7438\n",
            "Epoch 2/10\n",
            "3000/3000 [==============================] - 22s 7ms/step - loss: 0.5392 - accuracy: 0.7531 - val_loss: 0.5320 - val_accuracy: 0.7545\n",
            "Epoch 3/10\n",
            "3000/3000 [==============================] - 22s 7ms/step - loss: 0.5262 - accuracy: 0.7574 - val_loss: 0.5278 - val_accuracy: 0.7541\n",
            "Epoch 4/10\n",
            "3000/3000 [==============================] - 22s 7ms/step - loss: 0.5180 - accuracy: 0.7628 - val_loss: 0.5274 - val_accuracy: 0.7543\n",
            "4688/4688 [==============================] - 15s 3ms/step - loss: 0.4957 - accuracy: 0.7742\n",
            "Training Accuracy: 0.7742\n",
            "Testing Accuracy:  0.7543\n"
          ],
          "name": "stdout"
        }
      ]
    },
    {
      "cell_type": "markdown",
      "metadata": {
        "colab_type": "text",
        "id": "kFqR4KYlpebX"
      },
      "source": [
        "### ACC, LOSS 그래프"
      ]
    },
    {
      "cell_type": "code",
      "metadata": {
        "colab_type": "code",
        "id": "Zr9ikZjHpebX",
        "colab": {
          "base_uri": "https://localhost:8080/",
          "height": 543
        },
        "outputId": "e5109a14-f0fd-47df-8453-e1b23c54a303"
      },
      "source": [
        "plot_graphs(history_okt_ff, 'accuracy')\n",
        "plot_graphs(history_okt_ff, 'loss')"
      ],
      "execution_count": 66,
      "outputs": [
        {
          "output_type": "display_data",
          "data": {
            "image/png": "[encoded data removed]",
            "text/plain": [
              "<Figure size 432x288 with 1 Axes>"
            ]
          },
          "metadata": {
            "tags": [],
            "needs_background": "light"
          }
        },
        {
          "output_type": "display_data",
          "data": {
            "image/png": "[encoded data removed]",
            "text/plain": [
              "<Figure size 432x288 with 1 Axes>"
            ]
          },
          "metadata": {
            "tags": [],
            "needs_background": "light"
          }
        }
      ]
    },
    {
      "cell_type": "markdown",
      "metadata": {
        "colab_type": "text",
        "id": "1ukKhS_wpeba"
      },
      "source": [
        "### 예측"
      ]
    },
    {
      "cell_type": "code",
      "metadata": {
        "colab_type": "code",
        "id": "sKEDdUVXpebb",
        "colab": {
          "base_uri": "https://localhost:8080/",
          "height": 91
        },
        "outputId": "7e2d30e9-b9f5-4c81-f1f7-f89098205db6"
      },
      "source": [
        "sentence = ['영화 너무 재밌더라.', '영화 개노잼. 다신 안 봐.']\n",
        "sequence = tokenizer.texts_to_sequences(sentence)\n",
        "padded = pad_sequences(sequence, maxlen=max_length, padding=padding_type, truncating=trunc_type)\n",
        "print(model_okt_ff.predict(padded).round(2))"
      ],
      "execution_count": 67,
      "outputs": [
        {
          "output_type": "stream",
          "text": [
            "WARNING:tensorflow:5 out of the last 5 calls to <function Model.make_predict_function.<locals>.predict_function at 0x7f921ad0d620> triggered tf.function retracing. Tracing is expensive and the excessive number of tracings could be due to (1) creating @tf.function repeatedly in a loop, (2) passing tensors with different shapes, (3) passing Python objects instead of tensors. For (1), please define your @tf.function outside of the loop. For (2), @tf.function has experimental_relax_shapes=True option that relaxes argument shapes that can avoid unnecessary retracing. For (3), please refer to https://www.tensorflow.org/tutorials/customization/performance#python_or_tensor_args and https://www.tensorflow.org/api_docs/python/tf/function for  more details.\n",
            "[[0.56]\n",
            " [0.5 ]]\n"
          ],
          "name": "stdout"
        }
      ]
    },
    {
      "cell_type": "markdown",
      "metadata": {
        "colab_type": "text",
        "id": "18quCJv0yjhh"
      },
      "source": [
        "## OKT_Word2Vec"
      ]
    },
    {
      "cell_type": "code",
      "metadata": {
        "id": "8pOxRoOH4D1h",
        "colab_type": "code",
        "colab": {}
      },
      "source": [
        "token_list=[]\n",
        "for sentence in full_sentences:\n",
        "  pos_tag=okt.pos(sentence)\n",
        "  tok_sentence=[]\n",
        "  for token, pos in pos_tag:\n",
        "    if pos[0] in ['N','V']:\n",
        "      tok_sentence.append(token)\n",
        "  token_list.append(tok_sentence)"
      ],
      "execution_count": 68,
      "outputs": []
    },
    {
      "cell_type": "code",
      "metadata": {
        "colab_type": "code",
        "id": "HW7WCKqVyjhr",
        "colab": {}
      },
      "source": [
        "word2vec = Word2Vec(\n",
        "    sentences = token_list,\n",
        "    size = embedding_dim,\n",
        "    alpha = 0.025,\n",
        "    min_count = 1,\n",
        "    window=8,\n",
        "    sample = 0.001,\n",
        "    sg = 1,\n",
        "    iter = 10\n",
        ")"
      ],
      "execution_count": 69,
      "outputs": []
    },
    {
      "cell_type": "code",
      "metadata": {
        "colab_type": "code",
        "id": "43FiCCaeyjhx",
        "colab": {
          "base_uri": "https://localhost:8080/",
          "height": 35
        },
        "outputId": "650aa045-b720-40e8-f242-5300d3462908"
      },
      "source": [
        "# 임베딩 메트릭스\n",
        "embedding_matrix = np.zeros((vocab_size , embedding_dim))\n",
        "# 단어 집합 크기의 행과 100개의 열을 가지는 행렬 생성. 값은 전부 0으로 채워진다.\n",
        "np.shape(embedding_matrix)\n",
        "out_index = 0\n",
        "for word, i in word_index.items(): # 훈련 데이터의 단어 집합에서 단어를 1개씩 꺼내온다.\n",
        "  try:\n",
        "    embedding_vector = word2vec.wv.__getitem__(word)\n",
        "    if embedding_vector is not None:\n",
        "        # words not found in embedding index will be all-zeros.\n",
        "        embedding_matrix[i] = embedding_vector\n",
        "    else:\n",
        "        out_index += 1\n",
        "  except:\n",
        "    out_index+=1\n",
        "\n",
        "print(out_index)"
      ],
      "execution_count": 80,
      "outputs": [
        {
          "output_type": "stream",
          "text": [
            "250243\n"
          ],
          "name": "stdout"
        }
      ]
    },
    {
      "cell_type": "markdown",
      "metadata": {
        "colab_type": "text",
        "id": "kB2L91LF5Cpy"
      },
      "source": [
        "### CNN 모델"
      ]
    },
    {
      "cell_type": "code",
      "metadata": {
        "colab_type": "code",
        "id": "3BAHxDil5Cpz",
        "colab": {}
      },
      "source": [
        "# Kim Yoon CNN\n",
        "vocab_size = len(word_index) + 1\n",
        "embedding_dim = 300\n",
        "max_len = max(len(x) for x in training_padded)\n",
        "class_weights = class_weight.compute_class_weight('balanced', np.unique(training_labels), training_labels)\n",
        "class_weights_d = dict(enumerate(class_weights))\n",
        "\n",
        "sequence_input = Input(shape=(max_len,), dtype='int32')\n",
        "\n",
        "embedding_layer = tf.keras.layers.Embedding(vocab_size,\n",
        "                                            embedding_dim,\n",
        "                                            weights=[embedding_matrix],\n",
        "                                            input_length=max_len,\n",
        "                                            trainable=False)\n",
        "\n",
        "embedded_sequences = embedding_layer(sequence_input)\n",
        "\n",
        "convs = []\n",
        "filter_sizes = [3,4,5]\n",
        "\n",
        "for fsz in filter_sizes:\n",
        "    x = layers.Conv1D(128, fsz, activation='relu',padding='same',kernel_regularizer=l2(1e-3))(embedded_sequences)\n",
        "    x = layers.MaxPooling1D()(x)\n",
        "    convs.append(x)\n",
        "    \n",
        "x = layers.Concatenate(axis=-1)(convs)\n",
        "x = layers.Flatten()(x)\n",
        "x = layers.Dense(128, activation='relu')(x)\n",
        "x = layers.Dropout(0.5)(x)\n",
        "output = layers.Dense(1, activation='sigmoid')(x)\n"
      ],
      "execution_count": 81,
      "outputs": []
    },
    {
      "cell_type": "markdown",
      "metadata": {
        "colab_type": "text",
        "id": "2qWbUqLB5Cp1"
      },
      "source": [
        "### 컴파일 및 피팅"
      ]
    },
    {
      "cell_type": "code",
      "metadata": {
        "colab_type": "code",
        "id": "VBtRtBor5Cp2",
        "colab": {
          "base_uri": "https://localhost:8080/",
          "height": 665
        },
        "outputId": "e9ff5300-fc07-47ae-b690-4e758bbe687f"
      },
      "source": [
        "model_okt_w2 = keras.models.Model(sequence_input, output)\n",
        "model_okt_w2.compile(loss='binary_crossentropy',\n",
        "                       optimizer='adam',\n",
        "                       metrics=['accuracy'])\n",
        "\n",
        "model_okt_w2.summary()"
      ],
      "execution_count": 82,
      "outputs": [
        {
          "output_type": "stream",
          "text": [
            "Model: \"functional_13\"\n",
            "__________________________________________________________________________________________________\n",
            "Layer (type)                    Output Shape         Param #     Connected to                     \n",
            "==================================================================================================\n",
            "input_8 (InputLayer)            [(None, 100)]        0                                            \n",
            "__________________________________________________________________________________________________\n",
            "embedding_7 (Embedding)         (None, 100, 300)     88893600    input_8[0][0]                    \n",
            "__________________________________________________________________________________________________\n",
            "conv1d_18 (Conv1D)              (None, 100, 128)     115328      embedding_7[0][0]                \n",
            "__________________________________________________________________________________________________\n",
            "conv1d_19 (Conv1D)              (None, 100, 128)     153728      embedding_7[0][0]                \n",
            "__________________________________________________________________________________________________\n",
            "conv1d_20 (Conv1D)              (None, 100, 128)     192128      embedding_7[0][0]                \n",
            "__________________________________________________________________________________________________\n",
            "max_pooling1d_18 (MaxPooling1D) (None, 50, 128)      0           conv1d_18[0][0]                  \n",
            "__________________________________________________________________________________________________\n",
            "max_pooling1d_19 (MaxPooling1D) (None, 50, 128)      0           conv1d_19[0][0]                  \n",
            "__________________________________________________________________________________________________\n",
            "max_pooling1d_20 (MaxPooling1D) (None, 50, 128)      0           conv1d_20[0][0]                  \n",
            "__________________________________________________________________________________________________\n",
            "concatenate_6 (Concatenate)     (None, 50, 384)      0           max_pooling1d_18[0][0]           \n",
            "                                                                 max_pooling1d_19[0][0]           \n",
            "                                                                 max_pooling1d_20[0][0]           \n",
            "__________________________________________________________________________________________________\n",
            "flatten_6 (Flatten)             (None, 19200)        0           concatenate_6[0][0]              \n",
            "__________________________________________________________________________________________________\n",
            "dense_12 (Dense)                (None, 128)          2457728     flatten_6[0][0]                  \n",
            "__________________________________________________________________________________________________\n",
            "dropout_6 (Dropout)             (None, 128)          0           dense_12[0][0]                   \n",
            "__________________________________________________________________________________________________\n",
            "dense_13 (Dense)                (None, 1)            129         dropout_6[0][0]                  \n",
            "==================================================================================================\n",
            "Total params: 91,812,641\n",
            "Trainable params: 2,919,041\n",
            "Non-trainable params: 88,893,600\n",
            "__________________________________________________________________________________________________\n"
          ],
          "name": "stdout"
        }
      ]
    },
    {
      "cell_type": "code",
      "metadata": {
        "colab_type": "code",
        "id": "KbKj5RQ55Cp4",
        "colab": {
          "base_uri": "https://localhost:8080/",
          "height": 287
        },
        "outputId": "591b7f1c-729a-4740-9aaf-fe4ec1af6497"
      },
      "source": [
        "callback=tf.keras.callbacks.EarlyStopping(monitor='val_loss', min_delta=0.0005, patience=1, verbose=0, mode='auto')\n",
        "# Fit model\n",
        "history_okt_w2 = model_okt_w2.fit(okt_training_padded, training_labels,\n",
        "                    class_weight = class_weights_d,\n",
        "                    epochs=10,\n",
        "                    callbacks=[callback],\n",
        "                    verbose=True,\n",
        "                    validation_data=(okt_testing_padded, testing_labels),\n",
        "                    batch_size=50)\n",
        "loss, accuracy = model_okt_w2.evaluate(okt_training_padded, training_labels, verbose=True)\n",
        "print(\"Training Accuracy: {:.4f}\".format(accuracy))\n",
        "loss, accuracy = model_okt_w2.evaluate(okt_testing_padded, testing_labels, verbose=False)\n",
        "print(\"Testing Accuracy:  {:.4f}\".format(accuracy))"
      ],
      "execution_count": 83,
      "outputs": [
        {
          "output_type": "stream",
          "text": [
            "Epoch 1/10\n",
            "3000/3000 [==============================] - 22s 7ms/step - loss: 0.6414 - accuracy: 0.6608 - val_loss: 0.6010 - val_accuracy: 0.6774\n",
            "Epoch 2/10\n",
            "3000/3000 [==============================] - 22s 7ms/step - loss: 0.5965 - accuracy: 0.6832 - val_loss: 0.5906 - val_accuracy: 0.6796\n",
            "Epoch 3/10\n",
            "3000/3000 [==============================] - 22s 7ms/step - loss: 0.5857 - accuracy: 0.6879 - val_loss: 0.5869 - val_accuracy: 0.6860\n",
            "Epoch 4/10\n",
            "3000/3000 [==============================] - 22s 7ms/step - loss: 0.5796 - accuracy: 0.6918 - val_loss: 0.5855 - val_accuracy: 0.6870\n",
            "Epoch 5/10\n",
            "3000/3000 [==============================] - 21s 7ms/step - loss: 0.5771 - accuracy: 0.6941 - val_loss: 0.5803 - val_accuracy: 0.6864\n",
            "Epoch 6/10\n",
            "3000/3000 [==============================] - 21s 7ms/step - loss: 0.5756 - accuracy: 0.6930 - val_loss: 0.5825 - val_accuracy: 0.6863\n",
            "4688/4688 [==============================] - 15s 3ms/step - loss: 0.5676 - accuracy: 0.6992\n",
            "Training Accuracy: 0.6992\n",
            "Testing Accuracy:  0.6863\n"
          ],
          "name": "stdout"
        }
      ]
    },
    {
      "cell_type": "markdown",
      "metadata": {
        "colab_type": "text",
        "id": "C85Jsg9o5Cp7"
      },
      "source": [
        "### ACC, LOSS 그래프"
      ]
    },
    {
      "cell_type": "code",
      "metadata": {
        "colab_type": "code",
        "id": "IkyG0X8r5Cp8",
        "colab": {
          "base_uri": "https://localhost:8080/",
          "height": 541
        },
        "outputId": "48e6da68-64c4-44f3-fabc-3b37f2fa5561"
      },
      "source": [
        "plot_graphs(history_okt_w2, 'accuracy')\n",
        "plot_graphs(history_okt_w2, 'loss')"
      ],
      "execution_count": 84,
      "outputs": [
        {
          "output_type": "display_data",
          "data": {
            "image/png": "[encoded data removed]",
            "text/plain": [
              "<Figure size 432x288 with 1 Axes>"
            ]
          },
          "metadata": {
            "tags": [],
            "needs_background": "light"
          }
        },
        {
          "output_type": "display_data",
          "data": {
            "image/png": "[encoded data removed]",
            "text/plain": [
              "<Figure size 432x288 with 1 Axes>"
            ]
          },
          "metadata": {
            "tags": [],
            "needs_background": "light"
          }
        }
      ]
    },
    {
      "cell_type": "markdown",
      "metadata": {
        "colab_type": "text",
        "id": "62dU9Hot5Cp-"
      },
      "source": [
        "### 예측"
      ]
    },
    {
      "cell_type": "code",
      "metadata": {
        "colab_type": "code",
        "id": "HR7icPbS5Cp_",
        "colab": {
          "base_uri": "https://localhost:8080/",
          "height": 91
        },
        "outputId": "3dcb47e9-3941-47de-829b-93e1d2ac3c3c"
      },
      "source": [
        "sentence = ['영화 너무 재밌더라.', '영화 개노잼. 다신 안 봐.']\n",
        "sequence = tokenizer.texts_to_sequences(sentence)\n",
        "padded = pad_sequences(sequence, maxlen=max_length, padding=padding_type, truncating=trunc_type)\n",
        "print(model_okt_w2.predict(padded).round(2))"
      ],
      "execution_count": 85,
      "outputs": [
        {
          "output_type": "stream",
          "text": [
            "WARNING:tensorflow:6 out of the last 6 calls to <function Model.make_predict_function.<locals>.predict_function at 0x7f9150582d08> triggered tf.function retracing. Tracing is expensive and the excessive number of tracings could be due to (1) creating @tf.function repeatedly in a loop, (2) passing tensors with different shapes, (3) passing Python objects instead of tensors. For (1), please define your @tf.function outside of the loop. For (2), @tf.function has experimental_relax_shapes=True option that relaxes argument shapes that can avoid unnecessary retracing. For (3), please refer to https://www.tensorflow.org/tutorials/customization/performance#python_or_tensor_args and https://www.tensorflow.org/api_docs/python/tf/function for  more details.\n",
            "[[0.5 ]\n",
            " [0.63]]\n"
          ],
          "name": "stdout"
        }
      ]
    },
    {
      "cell_type": "markdown",
      "metadata": {
        "id": "PSlm4bKUQG9h",
        "colab_type": "text"
      },
      "source": [
        "# Mecab\n",
        "tokenized by mecab"
      ]
    },
    {
      "cell_type": "markdown",
      "metadata": {
        "id": "E2mckqQ33Klk",
        "colab_type": "text"
      },
      "source": [
        "## Mecab_contextural"
      ]
    },
    {
      "cell_type": "markdown",
      "metadata": {
        "colab_type": "text",
        "id": "2UJq-hzO3QbA"
      },
      "source": [
        "### 학습 포맷 맞추기"
      ]
    },
    {
      "cell_type": "code",
      "metadata": {
        "colab_type": "code",
        "id": "P62vASx53QbC",
        "colab": {}
      },
      "source": [
        "mecab=Mecab()"
      ],
      "execution_count": 86,
      "outputs": []
    },
    {
      "cell_type": "code",
      "metadata": {
        "colab_type": "code",
        "id": "kuW5OAQo3QbI",
        "colab": {}
      },
      "source": [
        "def mecab_nizer(base_sentence):\n",
        "  mecab_sentence=[]\n",
        "  for sentence in base_sentence:\n",
        "    pos_tag=mecab.pos(sentence)\n",
        "    tok_sentence=[]\n",
        "    for token, pos in pos_tag:\n",
        "      if pos[0] in ['N','V']:\n",
        "        tok_sentence.append(token)\n",
        "    mecab_sentence.append(' '.join(tok_sentence))\n",
        "  mecab_sentence=np.array(mecab_sentence)\n",
        "  return mecab_sentence"
      ],
      "execution_count": 87,
      "outputs": []
    },
    {
      "cell_type": "code",
      "metadata": {
        "colab_type": "code",
        "id": "_zh4DMwl3QbK",
        "colab": {}
      },
      "source": [
        "mecab_training=mecab_nizer(training_sentences)\n",
        "mecab_testing=mecab_nizer(testing_sentences)"
      ],
      "execution_count": 88,
      "outputs": []
    },
    {
      "cell_type": "code",
      "metadata": {
        "colab_type": "code",
        "id": "tGYAav023QbM",
        "colab": {}
      },
      "source": [
        "tokenizer=Tokenizer(num_words=vocab_size, oov_token=oov_tok)\n",
        "tokenizer.fit_on_texts(mecab_training)\n",
        "mecab_word_index=tokenizer.word_index "
      ],
      "execution_count": 89,
      "outputs": []
    },
    {
      "cell_type": "code",
      "metadata": {
        "colab_type": "code",
        "id": "5Qx-o14J3QbP",
        "colab": {}
      },
      "source": [
        "mecab_training_padded, mecab_testing_padded = padding_maker(mecab_training,mecab_testing)"
      ],
      "execution_count": 90,
      "outputs": []
    },
    {
      "cell_type": "code",
      "metadata": {
        "colab_type": "code",
        "id": "IThrT_n73QbS",
        "colab": {}
      },
      "source": [
        "vocab_size = len(mecab_word_index) + 1\n",
        "max_len = max(len(x) for x in mecab_training_padded)\n",
        "embedding_dim = 300\n",
        "vocab_size = len(mecab_word_index) + 1"
      ],
      "execution_count": 91,
      "outputs": []
    },
    {
      "cell_type": "markdown",
      "metadata": {
        "colab_type": "text",
        "id": "Bw39ZnYQ3QbV"
      },
      "source": [
        "### CNN 모델"
      ]
    },
    {
      "cell_type": "code",
      "metadata": {
        "colab_type": "code",
        "id": "A30ZHA9v3QbV",
        "colab": {}
      },
      "source": [
        "# Kim Yoon CNN\n",
        "vocab_size = len(word_index) + 1\n",
        "embedding_dim = 300\n",
        "max_len = max(len(x) for x in mecab_training_padded)\n",
        "class_weights = class_weight.compute_class_weight('balanced', np.unique(training_labels), training_labels)\n",
        "class_weights_d = dict(enumerate(class_weights))\n",
        "\n",
        "sequence_input = Input(shape=(max_len,), dtype='int32')\n",
        "\n",
        "embedding_layer = tf.keras.layers.Embedding(vocab_size,\n",
        "                                            embedding_dim,\n",
        "                                            input_length=max_len,\n",
        "                                            trainable=False)\n",
        "\n",
        "embedded_sequences = embedding_layer(sequence_input)\n",
        "\n",
        "convs = []\n",
        "filter_sizes = [3,4,5]\n",
        "\n",
        "for fsz in filter_sizes:\n",
        "    x = layers.Conv1D(128, fsz, activation='relu',padding='same',kernel_regularizer=l2(1e-3))(embedded_sequences)\n",
        "    x = layers.MaxPooling1D()(x)\n",
        "    convs.append(x)\n",
        "    \n",
        "x = layers.Concatenate(axis=-1)(convs)\n",
        "x = layers.Flatten()(x)\n",
        "x = layers.Dense(128, activation='relu')(x)\n",
        "x = layers.Dropout(0.5)(x)\n",
        "output = layers.Dense(1, activation='sigmoid')(x)"
      ],
      "execution_count": 92,
      "outputs": []
    },
    {
      "cell_type": "markdown",
      "metadata": {
        "colab_type": "text",
        "id": "5zzsZ0DH3QbX"
      },
      "source": [
        "### 컴파일 및 피팅"
      ]
    },
    {
      "cell_type": "code",
      "metadata": {
        "colab_type": "code",
        "id": "V_sS72c13QbY",
        "colab": {
          "base_uri": "https://localhost:8080/",
          "height": 665
        },
        "outputId": "bccac164-9d47-4c34-e873-c621425311e1"
      },
      "source": [
        "model_mecab_base = keras.models.Model(sequence_input, output)\n",
        "model_mecab_base.compile(loss='binary_crossentropy',\n",
        "                       optimizer='adam',\n",
        "                       metrics=['accuracy'])\n",
        "\n",
        "model_mecab_base.summary()"
      ],
      "execution_count": 93,
      "outputs": [
        {
          "output_type": "stream",
          "text": [
            "Model: \"functional_15\"\n",
            "__________________________________________________________________________________________________\n",
            "Layer (type)                    Output Shape         Param #     Connected to                     \n",
            "==================================================================================================\n",
            "input_9 (InputLayer)            [(None, 100)]        0                                            \n",
            "__________________________________________________________________________________________________\n",
            "embedding_8 (Embedding)         (None, 100, 300)     88893600    input_9[0][0]                    \n",
            "__________________________________________________________________________________________________\n",
            "conv1d_21 (Conv1D)              (None, 100, 128)     115328      embedding_8[0][0]                \n",
            "__________________________________________________________________________________________________\n",
            "conv1d_22 (Conv1D)              (None, 100, 128)     153728      embedding_8[0][0]                \n",
            "__________________________________________________________________________________________________\n",
            "conv1d_23 (Conv1D)              (None, 100, 128)     192128      embedding_8[0][0]                \n",
            "__________________________________________________________________________________________________\n",
            "max_pooling1d_21 (MaxPooling1D) (None, 50, 128)      0           conv1d_21[0][0]                  \n",
            "__________________________________________________________________________________________________\n",
            "max_pooling1d_22 (MaxPooling1D) (None, 50, 128)      0           conv1d_22[0][0]                  \n",
            "__________________________________________________________________________________________________\n",
            "max_pooling1d_23 (MaxPooling1D) (None, 50, 128)      0           conv1d_23[0][0]                  \n",
            "__________________________________________________________________________________________________\n",
            "concatenate_7 (Concatenate)     (None, 50, 384)      0           max_pooling1d_21[0][0]           \n",
            "                                                                 max_pooling1d_22[0][0]           \n",
            "                                                                 max_pooling1d_23[0][0]           \n",
            "__________________________________________________________________________________________________\n",
            "flatten_7 (Flatten)             (None, 19200)        0           concatenate_7[0][0]              \n",
            "__________________________________________________________________________________________________\n",
            "dense_14 (Dense)                (None, 128)          2457728     flatten_7[0][0]                  \n",
            "__________________________________________________________________________________________________\n",
            "dropout_7 (Dropout)             (None, 128)          0           dense_14[0][0]                   \n",
            "__________________________________________________________________________________________________\n",
            "dense_15 (Dense)                (None, 1)            129         dropout_7[0][0]                  \n",
            "==================================================================================================\n",
            "Total params: 91,812,641\n",
            "Trainable params: 2,919,041\n",
            "Non-trainable params: 88,893,600\n",
            "__________________________________________________________________________________________________\n"
          ],
          "name": "stdout"
        }
      ]
    },
    {
      "cell_type": "code",
      "metadata": {
        "colab_type": "code",
        "id": "zc-6KxJ23Qbb",
        "colab": {
          "base_uri": "https://localhost:8080/",
          "height": 251
        },
        "outputId": "8b54881c-68d1-4fbd-8a27-34e198d48612"
      },
      "source": [
        "callback=tf.keras.callbacks.EarlyStopping(monitor='val_loss', min_delta=0.0005, patience=1, verbose=0, mode='auto')\n",
        "# Fit model\n",
        "history_mecab_base = model_mecab_base.fit(mecab_training_padded, training_labels,\n",
        "                    class_weight = class_weights_d,\n",
        "                    epochs=10,\n",
        "                    callbacks=[callback],\n",
        "                    verbose=True,\n",
        "                    validation_data=(mecab_testing_padded, testing_labels),\n",
        "                    batch_size=50)\n",
        "loss, accuracy = model_mecab_base.evaluate(mecab_training_padded, training_labels, verbose=True)\n",
        "print(\"Training Accuracy: {:.4f}\".format(accuracy))\n",
        "loss, accuracy = model_mecab_base.evaluate(mecab_testing_padded, testing_labels, verbose=False)\n",
        "print(\"Testing Accuracy:  {:.4f}\".format(accuracy))"
      ],
      "execution_count": 94,
      "outputs": [
        {
          "output_type": "stream",
          "text": [
            "Epoch 1/10\n",
            "3000/3000 [==============================] - 22s 7ms/step - loss: 0.5795 - accuracy: 0.7348 - val_loss: 0.5254 - val_accuracy: 0.7785\n",
            "Epoch 2/10\n",
            "3000/3000 [==============================] - 21s 7ms/step - loss: 0.5134 - accuracy: 0.7872 - val_loss: 0.5143 - val_accuracy: 0.7771\n",
            "Epoch 3/10\n",
            "3000/3000 [==============================] - 22s 7ms/step - loss: 0.4922 - accuracy: 0.7995 - val_loss: 0.5011 - val_accuracy: 0.7893\n",
            "Epoch 4/10\n",
            "3000/3000 [==============================] - 21s 7ms/step - loss: 0.4825 - accuracy: 0.8073 - val_loss: 0.4958 - val_accuracy: 0.7958\n",
            "Epoch 5/10\n",
            "3000/3000 [==============================] - 21s 7ms/step - loss: 0.4762 - accuracy: 0.8102 - val_loss: 0.4955 - val_accuracy: 0.7957\n",
            "4688/4688 [==============================] - 15s 3ms/step - loss: 0.4381 - accuracy: 0.8352\n",
            "Training Accuracy: 0.8352\n",
            "Testing Accuracy:  0.7957\n"
          ],
          "name": "stdout"
        }
      ]
    },
    {
      "cell_type": "markdown",
      "metadata": {
        "colab_type": "text",
        "id": "x8hKN7Te3Qbd"
      },
      "source": [
        "### ACC, LOSS 그래프"
      ]
    },
    {
      "cell_type": "code",
      "metadata": {
        "colab_type": "code",
        "id": "L8VoWm1a3Qbd",
        "colab": {
          "base_uri": "https://localhost:8080/",
          "height": 541
        },
        "outputId": "487dacb1-225b-49bf-9ac6-86dd813ca4a3"
      },
      "source": [
        "plot_graphs(history_mecab_base, 'accuracy')\n",
        "plot_graphs(history_mecab_base, 'loss')"
      ],
      "execution_count": 95,
      "outputs": [
        {
          "output_type": "display_data",
          "data": {
            "image/png": "[encoded data removed]",
            "text/plain": [
              "<Figure size 432x288 with 1 Axes>"
            ]
          },
          "metadata": {
            "tags": [],
            "needs_background": "light"
          }
        },
        {
          "output_type": "display_data",
          "data": {
            "image/png": "[encoded data removed]",
            "text/plain": [
              "<Figure size 432x288 with 1 Axes>"
            ]
          },
          "metadata": {
            "tags": [],
            "needs_background": "light"
          }
        }
      ]
    },
    {
      "cell_type": "markdown",
      "metadata": {
        "colab_type": "text",
        "id": "06d3BhKw3Qbg"
      },
      "source": [
        "### 예측"
      ]
    },
    {
      "cell_type": "code",
      "metadata": {
        "colab_type": "code",
        "id": "zzX9fph_3Qbg",
        "colab": {
          "base_uri": "https://localhost:8080/",
          "height": 91
        },
        "outputId": "0aa54188-d619-47f5-bdb8-2e80f2e2dbc8"
      },
      "source": [
        "sentence = ['영화 너무 재밌더라.', '영화 개노잼. 다신 안 봐.']\n",
        "sequence = tokenizer.texts_to_sequences(sentence)\n",
        "padded = pad_sequences(sequence, maxlen=max_length, padding=padding_type, truncating=trunc_type)\n",
        "print(model_mecab_base.predict(padded).round(2))"
      ],
      "execution_count": 96,
      "outputs": [
        {
          "output_type": "stream",
          "text": [
            "WARNING:tensorflow:7 out of the last 7 calls to <function Model.make_predict_function.<locals>.predict_function at 0x7f91502c4b70> triggered tf.function retracing. Tracing is expensive and the excessive number of tracings could be due to (1) creating @tf.function repeatedly in a loop, (2) passing tensors with different shapes, (3) passing Python objects instead of tensors. For (1), please define your @tf.function outside of the loop. For (2), @tf.function has experimental_relax_shapes=True option that relaxes argument shapes that can avoid unnecessary retracing. For (3), please refer to https://www.tensorflow.org/tutorials/customization/performance#python_or_tensor_args and https://www.tensorflow.org/api_docs/python/tf/function for  more details.\n",
            "[[0.45]\n",
            " [0.29]]\n"
          ],
          "name": "stdout"
        }
      ]
    },
    {
      "cell_type": "markdown",
      "metadata": {
        "colab_type": "text",
        "id": "gXbWEuuJqPiB"
      },
      "source": [
        "## Mecab_FastText"
      ]
    },
    {
      "cell_type": "code",
      "metadata": {
        "colab_type": "code",
        "id": "DnsjCSBbqPiC",
        "colab": {
          "base_uri": "https://localhost:8080/",
          "height": 35
        },
        "outputId": "1260d9bb-a215-4ba3-a1f4-6c7eb7e5af07"
      },
      "source": [
        "# 임베딩 메트릭스\n",
        "embedding_matrix = np.zeros((vocab_size , embedding_dim))\n",
        "# 단어 집합 크기의 행과 100개의 열을 가지는 행렬 생성. 값은 전부 0으로 채워진다.\n",
        "np.shape(embedding_matrix)\n",
        "out_index = 0\n",
        "for word, i in mecab_word_index.items(): # 훈련 데이터의 단어 집합에서 단어를 1개씩 꺼내온다.\n",
        "    embedding_vector = embedding_dict.get(word)\n",
        "    if embedding_vector is not None:\n",
        "        # words not found in embedding index will be all-zeros.\n",
        "        embedding_matrix[i] = embedding_vector\n",
        "    else:\n",
        "        out_index += 1\n",
        "\n",
        "print(out_index)"
      ],
      "execution_count": 97,
      "outputs": [
        {
          "output_type": "stream",
          "text": [
            "10117\n"
          ],
          "name": "stdout"
        }
      ]
    },
    {
      "cell_type": "markdown",
      "metadata": {
        "colab_type": "text",
        "id": "kTwaiPejqPiF"
      },
      "source": [
        "### CNN 모델"
      ]
    },
    {
      "cell_type": "code",
      "metadata": {
        "colab_type": "code",
        "id": "bZOZQqGAqPiF",
        "colab": {}
      },
      "source": [
        "# Kim Yoon CNN\n",
        "vocab_size = len(word_index) + 1\n",
        "embedding_dim = 300\n",
        "max_len = max(len(x) for x in mecab_training_padded)\n",
        "class_weights = class_weight.compute_class_weight('balanced', np.unique(training_labels), training_labels)\n",
        "class_weights_d = dict(enumerate(class_weights))\n",
        "\n",
        "sequence_input = Input(shape=(max_len,), dtype='int32')\n",
        "\n",
        "embedding_layer = tf.keras.layers.Embedding(vocab_size,\n",
        "                                            embedding_dim,\n",
        "                                            weights=[embedding_matrix],\n",
        "                                            input_length=max_len,\n",
        "                                            trainable=False)\n",
        "\n",
        "embedded_sequences = embedding_layer(sequence_input)\n",
        "\n",
        "convs = []\n",
        "filter_sizes = [3,4,5]\n",
        "\n",
        "for fsz in filter_sizes:\n",
        "    x = layers.Conv1D(128, fsz, activation='relu',padding='same',kernel_regularizer=l2(1e-3))(embedded_sequences)\n",
        "    x = layers.MaxPooling1D()(x)\n",
        "    convs.append(x)\n",
        "    \n",
        "x = layers.Concatenate(axis=-1)(convs)\n",
        "x = layers.Flatten()(x)\n",
        "x = layers.Dense(128, activation='relu')(x)\n",
        "x = layers.Dropout(0.5)(x)\n",
        "output = layers.Dense(1, activation='sigmoid')(x)\n"
      ],
      "execution_count": 98,
      "outputs": []
    },
    {
      "cell_type": "markdown",
      "metadata": {
        "colab_type": "text",
        "id": "jK1kZT2tqPiH"
      },
      "source": [
        "### 컴파일 및 피팅"
      ]
    },
    {
      "cell_type": "code",
      "metadata": {
        "colab_type": "code",
        "id": "zXEsk4VEqPiI",
        "colab": {
          "base_uri": "https://localhost:8080/",
          "height": 665
        },
        "outputId": "1e13efef-4372-43d1-d075-24cf6e0ca7a2"
      },
      "source": [
        "model_mecab_ff = keras.models.Model(sequence_input, output)\n",
        "model_mecab_ff.compile(loss='binary_crossentropy',\n",
        "                       optimizer='adam',\n",
        "                       metrics=['accuracy'])\n",
        "\n",
        "model_mecab_ff.summary()"
      ],
      "execution_count": 99,
      "outputs": [
        {
          "output_type": "stream",
          "text": [
            "Model: \"functional_17\"\n",
            "__________________________________________________________________________________________________\n",
            "Layer (type)                    Output Shape         Param #     Connected to                     \n",
            "==================================================================================================\n",
            "input_10 (InputLayer)           [(None, 100)]        0                                            \n",
            "__________________________________________________________________________________________________\n",
            "embedding_9 (Embedding)         (None, 100, 300)     88893600    input_10[0][0]                   \n",
            "__________________________________________________________________________________________________\n",
            "conv1d_24 (Conv1D)              (None, 100, 128)     115328      embedding_9[0][0]                \n",
            "__________________________________________________________________________________________________\n",
            "conv1d_25 (Conv1D)              (None, 100, 128)     153728      embedding_9[0][0]                \n",
            "__________________________________________________________________________________________________\n",
            "conv1d_26 (Conv1D)              (None, 100, 128)     192128      embedding_9[0][0]                \n",
            "__________________________________________________________________________________________________\n",
            "max_pooling1d_24 (MaxPooling1D) (None, 50, 128)      0           conv1d_24[0][0]                  \n",
            "__________________________________________________________________________________________________\n",
            "max_pooling1d_25 (MaxPooling1D) (None, 50, 128)      0           conv1d_25[0][0]                  \n",
            "__________________________________________________________________________________________________\n",
            "max_pooling1d_26 (MaxPooling1D) (None, 50, 128)      0           conv1d_26[0][0]                  \n",
            "__________________________________________________________________________________________________\n",
            "concatenate_8 (Concatenate)     (None, 50, 384)      0           max_pooling1d_24[0][0]           \n",
            "                                                                 max_pooling1d_25[0][0]           \n",
            "                                                                 max_pooling1d_26[0][0]           \n",
            "__________________________________________________________________________________________________\n",
            "flatten_8 (Flatten)             (None, 19200)        0           concatenate_8[0][0]              \n",
            "__________________________________________________________________________________________________\n",
            "dense_16 (Dense)                (None, 128)          2457728     flatten_8[0][0]                  \n",
            "__________________________________________________________________________________________________\n",
            "dropout_8 (Dropout)             (None, 128)          0           dense_16[0][0]                   \n",
            "__________________________________________________________________________________________________\n",
            "dense_17 (Dense)                (None, 1)            129         dropout_8[0][0]                  \n",
            "==================================================================================================\n",
            "Total params: 91,812,641\n",
            "Trainable params: 2,919,041\n",
            "Non-trainable params: 88,893,600\n",
            "__________________________________________________________________________________________________\n"
          ],
          "name": "stdout"
        }
      ]
    },
    {
      "cell_type": "code",
      "metadata": {
        "colab_type": "code",
        "id": "GRSgTU6xqPiL",
        "colab": {
          "base_uri": "https://localhost:8080/",
          "height": 287
        },
        "outputId": "defb8316-1a43-49bb-d4b5-4c180b771e77"
      },
      "source": [
        "callback=tf.keras.callbacks.EarlyStopping(monitor='val_loss', min_delta=0.0005, patience=1, verbose=0, mode='auto')\n",
        "# Fit model\n",
        "history_mecab_ff = model_mecab_ff.fit(mecab_training_padded, training_labels,\n",
        "                    class_weight = class_weights_d,\n",
        "                    epochs=10,\n",
        "                    callbacks=[callback],\n",
        "                    verbose=True,\n",
        "                    validation_data=(mecab_testing_padded, testing_labels),\n",
        "                    batch_size=50)\n",
        "loss, accuracy = model_mecab_ff.evaluate(mecab_training_padded, training_labels, verbose=True)\n",
        "print(\"Training Accuracy: {:.4f}\".format(accuracy))\n",
        "loss, accuracy = model_mecab_ff.evaluate(mecab_testing_padded, testing_labels, verbose=False)\n",
        "print(\"Testing Accuracy:  {:.4f}\".format(accuracy))"
      ],
      "execution_count": 100,
      "outputs": [
        {
          "output_type": "stream",
          "text": [
            "Epoch 1/10\n",
            "3000/3000 [==============================] - 22s 7ms/step - loss: 0.5841 - accuracy: 0.7363 - val_loss: 0.5406 - val_accuracy: 0.7481\n",
            "Epoch 2/10\n",
            "3000/3000 [==============================] - 21s 7ms/step - loss: 0.5229 - accuracy: 0.7616 - val_loss: 0.5188 - val_accuracy: 0.7589\n",
            "Epoch 3/10\n",
            "3000/3000 [==============================] - 22s 7ms/step - loss: 0.5076 - accuracy: 0.7678 - val_loss: 0.5101 - val_accuracy: 0.7623\n",
            "Epoch 4/10\n",
            "3000/3000 [==============================] - 22s 7ms/step - loss: 0.5021 - accuracy: 0.7713 - val_loss: 0.5081 - val_accuracy: 0.7647\n",
            "Epoch 5/10\n",
            "3000/3000 [==============================] - 21s 7ms/step - loss: 0.4991 - accuracy: 0.7726 - val_loss: 0.5038 - val_accuracy: 0.7684\n",
            "Epoch 6/10\n",
            "3000/3000 [==============================] - 21s 7ms/step - loss: 0.4961 - accuracy: 0.7749 - val_loss: 0.5034 - val_accuracy: 0.7670\n",
            "4688/4688 [==============================] - 15s 3ms/step - loss: 0.4771 - accuracy: 0.7867\n",
            "Training Accuracy: 0.7867\n",
            "Testing Accuracy:  0.7670\n"
          ],
          "name": "stdout"
        }
      ]
    },
    {
      "cell_type": "markdown",
      "metadata": {
        "colab_type": "text",
        "id": "AGGjvxmFqPiN"
      },
      "source": [
        "### ACC, LOSS 그래프"
      ]
    },
    {
      "cell_type": "code",
      "metadata": {
        "colab_type": "code",
        "id": "17YF848bqPiN",
        "colab": {
          "base_uri": "https://localhost:8080/",
          "height": 541
        },
        "outputId": "d7e04b76-1ae8-4a48-fb22-4305b0523ee7"
      },
      "source": [
        "plot_graphs(history_mecab_ff, 'accuracy')\n",
        "plot_graphs(history_mecab_ff, 'loss')"
      ],
      "execution_count": 101,
      "outputs": [
        {
          "output_type": "display_data",
          "data": {
            "image/png": "[encoded data removed]",
            "text/plain": [
              "<Figure size 432x288 with 1 Axes>"
            ]
          },
          "metadata": {
            "tags": [],
            "needs_background": "light"
          }
        },
        {
          "output_type": "display_data",
          "data": {
            "image/png": "[encoded data removed]",
            "text/plain": [
              "<Figure size 432x288 with 1 Axes>"
            ]
          },
          "metadata": {
            "tags": [],
            "needs_background": "light"
          }
        }
      ]
    },
    {
      "cell_type": "markdown",
      "metadata": {
        "colab_type": "text",
        "id": "O20y37-IqPiS"
      },
      "source": [
        "### 예측"
      ]
    },
    {
      "cell_type": "code",
      "metadata": {
        "colab_type": "code",
        "id": "e7lypVCpqPiS",
        "colab": {
          "base_uri": "https://localhost:8080/",
          "height": 91
        },
        "outputId": "624d3406-8ede-4a5f-abee-993cf7786b36"
      },
      "source": [
        "sentence = ['영화 너무 재밌더라.', '영화 개노잼. 다신 안 봐.']\n",
        "sequence = tokenizer.texts_to_sequences(sentence)\n",
        "padded = pad_sequences(sequence, maxlen=max_length, padding=padding_type, truncating=trunc_type)\n",
        "print(model_mecab_ff.predict(padded).round(2))"
      ],
      "execution_count": 102,
      "outputs": [
        {
          "output_type": "stream",
          "text": [
            "WARNING:tensorflow:8 out of the last 8 calls to <function Model.make_predict_function.<locals>.predict_function at 0x7f910d82ea60> triggered tf.function retracing. Tracing is expensive and the excessive number of tracings could be due to (1) creating @tf.function repeatedly in a loop, (2) passing tensors with different shapes, (3) passing Python objects instead of tensors. For (1), please define your @tf.function outside of the loop. For (2), @tf.function has experimental_relax_shapes=True option that relaxes argument shapes that can avoid unnecessary retracing. For (3), please refer to https://www.tensorflow.org/tutorials/customization/performance#python_or_tensor_args and https://www.tensorflow.org/api_docs/python/tf/function for  more details.\n",
            "[[0.23]\n",
            " [0.44]]\n"
          ],
          "name": "stdout"
        }
      ]
    },
    {
      "cell_type": "markdown",
      "metadata": {
        "colab_type": "text",
        "id": "jWRiX-OV4aS7"
      },
      "source": [
        "## Mecab_Word2Vec"
      ]
    },
    {
      "cell_type": "code",
      "metadata": {
        "colab_type": "code",
        "id": "aACuRQCg5sb6",
        "colab": {}
      },
      "source": [
        "token_list=[]\n",
        "for sentence in full_sentences:\n",
        "  pos_tag=mecab.pos(sentence)\n",
        "  tok_sentence=[]\n",
        "  for token, pos in pos_tag:\n",
        "    if pos[0] in ['N','V']:\n",
        "      tok_sentence.append(token)\n",
        "  token_list.append(tok_sentence)"
      ],
      "execution_count": 103,
      "outputs": []
    },
    {
      "cell_type": "code",
      "metadata": {
        "colab_type": "code",
        "id": "MNPX_XXl5scA",
        "colab": {}
      },
      "source": [
        "word2vec = Word2Vec(\n",
        "    sentences = token_list,\n",
        "    size = embedding_dim,\n",
        "    alpha = 0.025,\n",
        "    min_count = 1,\n",
        "    window=8,\n",
        "    sample = 0.001,\n",
        "    sg = 1,\n",
        "    iter = 10\n",
        ")"
      ],
      "execution_count": 105,
      "outputs": []
    },
    {
      "cell_type": "code",
      "metadata": {
        "colab_type": "code",
        "id": "qievcx-05scC",
        "colab": {
          "base_uri": "https://localhost:8080/",
          "height": 35
        },
        "outputId": "ccf53a67-7202-4b3c-b844-6e2423b55284"
      },
      "source": [
        "# 임베딩 메트릭스\n",
        "embedding_matrix = np.zeros((vocab_size , embedding_dim))\n",
        "# 단어 집합 크기의 행과 100개의 열을 가지는 행렬 생성. 값은 전부 0으로 채워진다.\n",
        "np.shape(embedding_matrix)\n",
        "out_index = 0\n",
        "for word, i in word_index.items(): # 훈련 데이터의 단어 집합에서 단어를 1개씩 꺼내온다.\n",
        "  try:\n",
        "    embedding_vector = word2vec.wv.__getitem__(word)\n",
        "    if embedding_vector is not None:\n",
        "        # words not found in embedding index will be all-zeros.\n",
        "        embedding_matrix[i] = embedding_vector\n",
        "    else:\n",
        "        out_index += 1\n",
        "  except:\n",
        "    out_index +=1\n",
        "\n",
        "print(out_index)"
      ],
      "execution_count": 106,
      "outputs": [
        {
          "output_type": "stream",
          "text": [
            "275180\n"
          ],
          "name": "stdout"
        }
      ]
    },
    {
      "cell_type": "markdown",
      "metadata": {
        "colab_type": "text",
        "id": "WrigoCul5scE"
      },
      "source": [
        "### CNN 모델"
      ]
    },
    {
      "cell_type": "code",
      "metadata": {
        "colab_type": "code",
        "id": "3sjRNbvf5scE",
        "colab": {}
      },
      "source": [
        "# Kim Yoon CNN\n",
        "vocab_size = len(word_index) + 1\n",
        "embedding_dim = 300\n",
        "max_len = max(len(x) for x in training_padded)\n",
        "class_weights = class_weight.compute_class_weight('balanced', np.unique(training_labels), training_labels)\n",
        "class_weights_d = dict(enumerate(class_weights))\n",
        "\n",
        "sequence_input = Input(shape=(max_len,), dtype='int32')\n",
        "\n",
        "embedding_layer = tf.keras.layers.Embedding(vocab_size,\n",
        "                                            embedding_dim,\n",
        "                                            weights=[embedding_matrix],\n",
        "                                            input_length=max_len,\n",
        "                                            trainable=False)\n",
        "\n",
        "embedded_sequences = embedding_layer(sequence_input)\n",
        "\n",
        "convs = []\n",
        "filter_sizes = [3,4,5]\n",
        "\n",
        "for fsz in filter_sizes:\n",
        "    x = layers.Conv1D(128, fsz, activation='relu',padding='same',kernel_regularizer=l2(1e-3))(embedded_sequences)\n",
        "    x = layers.MaxPooling1D()(x)\n",
        "    convs.append(x)\n",
        "    \n",
        "x = layers.Concatenate(axis=-1)(convs)\n",
        "x = layers.Flatten()(x)\n",
        "x = layers.Dense(128, activation='relu')(x)\n",
        "x = layers.Dropout(0.5)(x)\n",
        "output = layers.Dense(1, activation='sigmoid')(x)\n"
      ],
      "execution_count": 107,
      "outputs": []
    },
    {
      "cell_type": "markdown",
      "metadata": {
        "colab_type": "text",
        "id": "pfR1hGyu5scI"
      },
      "source": [
        "### 컴파일 및 피팅"
      ]
    },
    {
      "cell_type": "code",
      "metadata": {
        "colab_type": "code",
        "id": "Lq4Ob5-w5scJ",
        "colab": {
          "base_uri": "https://localhost:8080/",
          "height": 665
        },
        "outputId": "fcd65c50-e3dd-41b4-b0d6-9fb1fd7f702d"
      },
      "source": [
        "model_mecab_w2 = keras.models.Model(sequence_input, output)\n",
        "model_mecab_w2.compile(loss='binary_crossentropy',\n",
        "                       optimizer='adam',\n",
        "                       metrics=['accuracy'])\n",
        "\n",
        "model_mecab_w2.summary()"
      ],
      "execution_count": 108,
      "outputs": [
        {
          "output_type": "stream",
          "text": [
            "Model: \"functional_19\"\n",
            "__________________________________________________________________________________________________\n",
            "Layer (type)                    Output Shape         Param #     Connected to                     \n",
            "==================================================================================================\n",
            "input_11 (InputLayer)           [(None, 100)]        0                                            \n",
            "__________________________________________________________________________________________________\n",
            "embedding_10 (Embedding)        (None, 100, 300)     88893600    input_11[0][0]                   \n",
            "__________________________________________________________________________________________________\n",
            "conv1d_27 (Conv1D)              (None, 100, 128)     115328      embedding_10[0][0]               \n",
            "__________________________________________________________________________________________________\n",
            "conv1d_28 (Conv1D)              (None, 100, 128)     153728      embedding_10[0][0]               \n",
            "__________________________________________________________________________________________________\n",
            "conv1d_29 (Conv1D)              (None, 100, 128)     192128      embedding_10[0][0]               \n",
            "__________________________________________________________________________________________________\n",
            "max_pooling1d_27 (MaxPooling1D) (None, 50, 128)      0           conv1d_27[0][0]                  \n",
            "__________________________________________________________________________________________________\n",
            "max_pooling1d_28 (MaxPooling1D) (None, 50, 128)      0           conv1d_28[0][0]                  \n",
            "__________________________________________________________________________________________________\n",
            "max_pooling1d_29 (MaxPooling1D) (None, 50, 128)      0           conv1d_29[0][0]                  \n",
            "__________________________________________________________________________________________________\n",
            "concatenate_9 (Concatenate)     (None, 50, 384)      0           max_pooling1d_27[0][0]           \n",
            "                                                                 max_pooling1d_28[0][0]           \n",
            "                                                                 max_pooling1d_29[0][0]           \n",
            "__________________________________________________________________________________________________\n",
            "flatten_9 (Flatten)             (None, 19200)        0           concatenate_9[0][0]              \n",
            "__________________________________________________________________________________________________\n",
            "dense_18 (Dense)                (None, 128)          2457728     flatten_9[0][0]                  \n",
            "__________________________________________________________________________________________________\n",
            "dropout_9 (Dropout)             (None, 128)          0           dense_18[0][0]                   \n",
            "__________________________________________________________________________________________________\n",
            "dense_19 (Dense)                (None, 1)            129         dropout_9[0][0]                  \n",
            "==================================================================================================\n",
            "Total params: 91,812,641\n",
            "Trainable params: 2,919,041\n",
            "Non-trainable params: 88,893,600\n",
            "__________________________________________________________________________________________________\n"
          ],
          "name": "stdout"
        }
      ]
    },
    {
      "cell_type": "code",
      "metadata": {
        "colab_type": "code",
        "id": "uug830905scR",
        "colab": {
          "base_uri": "https://localhost:8080/",
          "height": 251
        },
        "outputId": "6706fd45-720f-4c85-8ad3-824e13754518"
      },
      "source": [
        "callback=tf.keras.callbacks.EarlyStopping(monitor='val_loss', min_delta=0.0005, patience=1, verbose=0, mode='auto')\n",
        "# Fit model\n",
        "history_mecab_w2 = model_mecab_w2.fit(mecab_training_padded, training_labels,\n",
        "                    class_weight = class_weights_d,\n",
        "                    epochs=10,\n",
        "                    callbacks=[callback],\n",
        "                    verbose=True,\n",
        "                    validation_data=(mecab_testing_padded, testing_labels),\n",
        "                    batch_size=50)\n",
        "loss, accuracy = model_mecab_w2.evaluate(mecab_training_padded, training_labels, verbose=True)\n",
        "print(\"Training Accuracy: {:.4f}\".format(accuracy))\n",
        "loss, accuracy = model_mecab_w2.evaluate(mecab_testing_padded, testing_labels, verbose=False)\n",
        "print(\"Testing Accuracy:  {:.4f}\".format(accuracy))"
      ],
      "execution_count": 109,
      "outputs": [
        {
          "output_type": "stream",
          "text": [
            "Epoch 1/10\n",
            "3000/3000 [==============================] - 22s 7ms/step - loss: 0.6114 - accuracy: 0.6925 - val_loss: 0.5782 - val_accuracy: 0.7025\n",
            "Epoch 2/10\n",
            "3000/3000 [==============================] - 22s 7ms/step - loss: 0.5680 - accuracy: 0.7133 - val_loss: 0.5717 - val_accuracy: 0.7058\n",
            "Epoch 3/10\n",
            "3000/3000 [==============================] - 22s 7ms/step - loss: 0.5574 - accuracy: 0.7178 - val_loss: 0.5603 - val_accuracy: 0.7159\n",
            "Epoch 4/10\n",
            "3000/3000 [==============================] - 21s 7ms/step - loss: 0.5523 - accuracy: 0.7209 - val_loss: 0.5520 - val_accuracy: 0.7193\n",
            "Epoch 5/10\n",
            "3000/3000 [==============================] - 21s 7ms/step - loss: 0.5501 - accuracy: 0.7225 - val_loss: 0.5524 - val_accuracy: 0.7170\n",
            "4688/4688 [==============================] - 15s 3ms/step - loss: 0.5374 - accuracy: 0.7284\n",
            "Training Accuracy: 0.7284\n",
            "Testing Accuracy:  0.7170\n"
          ],
          "name": "stdout"
        }
      ]
    },
    {
      "cell_type": "markdown",
      "metadata": {
        "colab_type": "text",
        "id": "8Pn5kA7S5scW"
      },
      "source": [
        "### ACC, LOSS 그래프"
      ]
    },
    {
      "cell_type": "code",
      "metadata": {
        "colab_type": "code",
        "id": "SbzS8e8O5scX",
        "colab": {
          "base_uri": "https://localhost:8080/",
          "height": 541
        },
        "outputId": "ae22de78-5582-498e-895a-1db70c793620"
      },
      "source": [
        "plot_graphs(history_mecab_w2, 'accuracy')\n",
        "plot_graphs(history_mecab_w2, 'loss')"
      ],
      "execution_count": 110,
      "outputs": [
        {
          "output_type": "display_data",
          "data": {
            "image/png": "[encoded data removed]",
            "text/plain": [
              "<Figure size 432x288 with 1 Axes>"
            ]
          },
          "metadata": {
            "tags": [],
            "needs_background": "light"
          }
        },
        {
          "output_type": "display_data",
          "data": {
            "image/png": "[encoded data removed]",
            "text/plain": [
              "<Figure size 432x288 with 1 Axes>"
            ]
          },
          "metadata": {
            "tags": [],
            "needs_background": "light"
          }
        }
      ]
    },
    {
      "cell_type": "markdown",
      "metadata": {
        "colab_type": "text",
        "id": "MZIt8uBU5scd"
      },
      "source": [
        "### 예측"
      ]
    },
    {
      "cell_type": "code",
      "metadata": {
        "colab_type": "code",
        "id": "eciLD1t65scd",
        "colab": {
          "base_uri": "https://localhost:8080/",
          "height": 91
        },
        "outputId": "4f7faed4-e3d5-41ec-a924-3725e097f80c"
      },
      "source": [
        "sentence = ['영화 너무 재밌더라.', '영화 개노잼. 다신 안 봐.']\n",
        "sequence = tokenizer.texts_to_sequences(sentence)\n",
        "padded = pad_sequences(sequence, maxlen=max_length, padding=padding_type, truncating=trunc_type)\n",
        "print(model_mecab_w2.predict(padded).round(2))"
      ],
      "execution_count": 111,
      "outputs": [
        {
          "output_type": "stream",
          "text": [
            "WARNING:tensorflow:9 out of the last 9 calls to <function Model.make_predict_function.<locals>.predict_function at 0x7f9152eb5158> triggered tf.function retracing. Tracing is expensive and the excessive number of tracings could be due to (1) creating @tf.function repeatedly in a loop, (2) passing tensors with different shapes, (3) passing Python objects instead of tensors. For (1), please define your @tf.function outside of the loop. For (2), @tf.function has experimental_relax_shapes=True option that relaxes argument shapes that can avoid unnecessary retracing. For (3), please refer to https://www.tensorflow.org/tutorials/customization/performance#python_or_tensor_args and https://www.tensorflow.org/api_docs/python/tf/function for  more details.\n",
            "[[0.4 ]\n",
            " [0.44]]\n"
          ],
          "name": "stdout"
        }
      ]
    }
  ]
}