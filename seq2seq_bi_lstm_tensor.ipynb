{
  "nbformat": 4,
  "nbformat_minor": 0,
  "metadata": {
    "colab": {
      "name": "seq2seq_bi_lstm_tensor.ipynb",
      "provenance": [],
      "collapsed_sections": [],
      "machine_shape": "hm",
      "mount_file_id": "1LZY0KQV_1Ljm0XF3Qpk7_lKakTOVHgkV",
      "authorship_tag": "ABX9TyMojR8EseyeMb4TKz9nxaG4",
      "include_colab_link": true
    },
    "kernelspec": {
      "name": "python3",
      "display_name": "Python 3"
    },
    "accelerator": "GPU"
  },
  "cells": [
    {
      "cell_type": "markdown",
      "metadata": {
        "id": "view-in-github",
        "colab_type": "text"
      },
      "source": [
        "<a href=\"https://colab.research.google.com/github/Neulvo/py_yum/blob/master/seq2seq_bi_lstm_tensor.ipynb\" target=\"_parent\"><img src=\"https://colab.research.google.com/assets/colab-badge.svg\" alt=\"Open In Colab\"/></a>"
      ]
    },
    {
      "cell_type": "code",
      "metadata": {
        "id": "SGLIdmkOIdPE",
        "colab_type": "code",
        "colab": {}
      },
      "source": [
        "from tensorflow.keras.layers import Embedding, LSTM, Dense, Bidirectional, Concatenate"
      ],
      "execution_count": null,
      "outputs": []
    },
    {
      "cell_type": "code",
      "metadata": {
        "id": "Ceo7o6W3rVk9",
        "colab_type": "code",
        "colab": {}
      },
      "source": [
        "import tensorflow as tf\n",
        "\n",
        "import matplotlib.pyplot as plt\n",
        "import matplotlib.ticker as ticker\n",
        "from sklearn.model_selection import train_test_split\n",
        "\n",
        "import unicodedata\n",
        "import re\n",
        "import numpy as np\n",
        "import os\n",
        "import io\n",
        "import time\n",
        "import pandas as pd"
      ],
      "execution_count": null,
      "outputs": []
    },
    {
      "cell_type": "code",
      "metadata": {
        "id": "Nt6EU5ZUTBeX",
        "colab_type": "code",
        "colab": {
          "base_uri": "https://localhost:8080/",
          "height": 107
        },
        "outputId": "c7ad7196-5b93-4b5d-d475-aba9898c7060"
      },
      "source": [
        "from matplotlib import rc\n",
        "from matplotlib import font_manager as fm\n",
        "from matplotlib import rcParams\n",
        "import matplotlib as mpl\n",
        "#nanum 폰트 설치\n",
        "!apt-get update -qq\n",
        "!apt-get install fonts-nanum* -qq\n",
        "sys_font=fm.findSystemFonts()\n",
        "print(f\"sys_font number: {len(sys_font)}\")\n",
        "nanum_font = [f for f in sys_font if 'Nanum' in f]\n",
        "print(f\"nanum_font number: {len(nanum_font)}\")\n",
        "nanum_font\n",
        "!python --version\n",
        "def current_font():\n",
        "  print(f\"설정 폰트 글꼴: {plt.rcParams['font.family']}, 설정 폰트 사이즈: {plt.rcParams['font.size']}\")  # 파이썬 3.6 이상 사용가능하다\n",
        "current_font()\n",
        "path = '/usr/share/fonts/truetype/nanum/NanumBarunGothic.ttf'  # 설치된 나눔글꼴중 원하는 녀석의 전체 경로를 가져오자\n",
        "#여기가 폰트 사이즈를 정하는 곳.\n",
        "font_name = fm.FontProperties(fname=path, size=16).get_name()\n",
        "print(font_name)\n",
        "plt.rc('font', family=font_name)\n",
        "fm._rebuild()"
      ],
      "execution_count": null,
      "outputs": [
        {
          "output_type": "stream",
          "text": [
            "sys_font number: 48\n",
            "nanum_font number: 31\n",
            "Python 3.6.9\n",
            "설정 폰트 글꼴: ['sans-serif'], 설정 폰트 사이즈: 10.0\n",
            "NanumBarunGothic\n"
          ],
          "name": "stdout"
        }
      ]
    },
    {
      "cell_type": "code",
      "metadata": {
        "id": "qWRnKfqzUmDE",
        "colab_type": "code",
        "colab": {}
      },
      "source": [
        "path_to_file='/content/drive/My Drive/NLP/data/kor.xlsx'"
      ],
      "execution_count": null,
      "outputs": []
    },
    {
      "cell_type": "code",
      "metadata": {
        "id": "Lnr-Ml-8TbSd",
        "colab_type": "code",
        "colab": {}
      },
      "source": [
        "kor_eng= pd.read_excel(path_to_file, sheet_name='Sheet1') "
      ],
      "execution_count": null,
      "outputs": []
    },
    {
      "cell_type": "code",
      "metadata": {
        "id": "1ykeJl94UgSi",
        "colab_type": "code",
        "colab": {
          "base_uri": "https://localhost:8080/",
          "height": 419
        },
        "outputId": "231b7494-5100-4562-c843-40ad442b8c27"
      },
      "source": [
        "kor_eng"
      ],
      "execution_count": null,
      "outputs": [
        {
          "output_type": "execute_result",
          "data": {
            "text/html": [
              "<div>\n",
              "<style scoped>\n",
              "    .dataframe tbody tr th:only-of-type {\n",
              "        vertical-align: middle;\n",
              "    }\n",
              "\n",
              "    .dataframe tbody tr th {\n",
              "        vertical-align: top;\n",
              "    }\n",
              "\n",
              "    .dataframe thead th {\n",
              "        text-align: right;\n",
              "    }\n",
              "</style>\n",
              "<table border=\"1\" class=\"dataframe\">\n",
              "  <thead>\n",
              "    <tr style=\"text-align: right;\">\n",
              "      <th></th>\n",
              "      <th>mid_sid</th>\n",
              "      <th>ko</th>\n",
              "      <th>en</th>\n",
              "    </tr>\n",
              "  </thead>\n",
              "  <tbody>\n",
              "    <tr>\n",
              "      <th>0</th>\n",
              "      <td>1</td>\n",
              "      <td>나는 매일 저녁 배트를 만나러 다락방으로 가요.</td>\n",
              "      <td>I go to the attic every evening to meet Bat.</td>\n",
              "    </tr>\n",
              "    <tr>\n",
              "      <th>1</th>\n",
              "      <td>2</td>\n",
              "      <td>선생님 이문장이 이해가 안 가요.</td>\n",
              "      <td>Sir, I don't understand this sentence here.</td>\n",
              "    </tr>\n",
              "    <tr>\n",
              "      <th>2</th>\n",
              "      <td>3</td>\n",
              "      <td>컴퓨터를 시작하면 시간이 너무 빠르게 가요.</td>\n",
              "      <td>Time flies when you start using the computer.</td>\n",
              "    </tr>\n",
              "    <tr>\n",
              "      <th>3</th>\n",
              "      <td>4</td>\n",
              "      <td>나는 오늘 자정에 한국으로 돌아 가요.</td>\n",
              "      <td>I'm going back to Korea today at midnight.</td>\n",
              "    </tr>\n",
              "    <tr>\n",
              "      <th>4</th>\n",
              "      <td>5</td>\n",
              "      <td>나는 일어나자마자 화장실에 가요.</td>\n",
              "      <td>I go to bathroom as soon as I wake up.</td>\n",
              "    </tr>\n",
              "    <tr>\n",
              "      <th>...</th>\n",
              "      <td>...</td>\n",
              "      <td>...</td>\n",
              "      <td>...</td>\n",
              "    </tr>\n",
              "    <tr>\n",
              "      <th>74995</th>\n",
              "      <td>74996</td>\n",
              "      <td>나의 고민은 학교가 멀어서 통학하기 힘들어.</td>\n",
              "      <td>My worry is commuting to school because it's t...</td>\n",
              "    </tr>\n",
              "    <tr>\n",
              "      <th>74996</th>\n",
              "      <td>74997</td>\n",
              "      <td>난 지금 내고양이때문에 충분히 힘들어.</td>\n",
              "      <td>I am going under enough difficulties because o...</td>\n",
              "    </tr>\n",
              "    <tr>\n",
              "      <th>74997</th>\n",
              "      <td>74998</td>\n",
              "      <td>나와 대화가 어려운 것이 많이 힘들어?</td>\n",
              "      <td>Is having difficulties in talking with me too ...</td>\n",
              "    </tr>\n",
              "    <tr>\n",
              "      <th>74998</th>\n",
              "      <td>74999</td>\n",
              "      <td>하루에 한번 연락하는게 그렇게 힘들어?</td>\n",
              "      <td>Is it that difficult to call once a day?</td>\n",
              "    </tr>\n",
              "    <tr>\n",
              "      <th>74999</th>\n",
              "      <td>75000</td>\n",
              "      <td>어린 아이들이 스포츠를 즐기기엔 많이 힘들죠.</td>\n",
              "      <td>It is difficult for young children to enjoy sp...</td>\n",
              "    </tr>\n",
              "  </tbody>\n",
              "</table>\n",
              "<p>75000 rows × 3 columns</p>\n",
              "</div>"
            ],
            "text/plain": [
              "       mid_sid  ...                                                 en\n",
              "0            1  ...       I go to the attic every evening to meet Bat.\n",
              "1            2  ...        Sir, I don't understand this sentence here.\n",
              "2            3  ...      Time flies when you start using the computer.\n",
              "3            4  ...         I'm going back to Korea today at midnight.\n",
              "4            5  ...             I go to bathroom as soon as I wake up.\n",
              "...        ...  ...                                                ...\n",
              "74995    74996  ...  My worry is commuting to school because it's t...\n",
              "74996    74997  ...  I am going under enough difficulties because o...\n",
              "74997    74998  ...  Is having difficulties in talking with me too ...\n",
              "74998    74999  ...           Is it that difficult to call once a day?\n",
              "74999    75000  ...  It is difficult for young children to enjoy sp...\n",
              "\n",
              "[75000 rows x 3 columns]"
            ]
          },
          "metadata": {
            "tags": []
          },
          "execution_count": 6
        }
      ]
    },
    {
      "cell_type": "code",
      "metadata": {
        "id": "G4SiH-7ZHXwZ",
        "colab_type": "code",
        "colab": {}
      },
      "source": [
        "#  # Download the file\n",
        "# path_to_zip = tf.keras.utils.get_file(\n",
        "#     'spa-eng.zip', origin='http://storage.googleapis.com/download.tensorflow.org/data/spa-eng.zip',\n",
        "#     extract=True)\n",
        "\n",
        "# path_to_file = os.path.dirname(path_to_zip)+\"/spa-eng/spa.txt\""
      ],
      "execution_count": null,
      "outputs": []
    },
    {
      "cell_type": "code",
      "metadata": {
        "id": "SX7y0BOxHd87",
        "colab_type": "code",
        "colab": {}
      },
      "source": [
        " # Converts the unicode file to ascii\n",
        "def unicode_to_ascii(s):\n",
        "  return ''.join(c for c in unicodedata.normalize('NFD', s)\n",
        "      if unicodedata.category(c) != 'Mn')\n",
        "\n",
        "\n",
        "def preprocess_sentence(w):\n",
        "  # w = unicode_to_ascii(w.lower().strip())\n",
        "  w=w.lower().strip()\n",
        "\n",
        "  # creating a space between a word and the punctuation following it\n",
        "  # eg: \"he is a boy.\" => \"he is a boy .\"\n",
        "  # Reference:- https://stackoverflow.com/questions/3645931/python-padding-punctuation-with-white-spaces-keeping-punctuation\n",
        "  w = re.sub(r\"([?.!,¿])\", r\" \\1 \", w)\n",
        "  w = re.sub(r'[\" \"]+', \" \", w)\n",
        "\n",
        "  # replacing everything with space except (a-z, A-Z, \".\", \"?\", \"!\", \",\")\n",
        "  w = re.sub(r\"[^a-zA-Z가-힣?.!,¿]+\", \" \", w)\n",
        "\n",
        "  w = w.strip()\n",
        "\n",
        "  # adding a start and an end token to the sentence\n",
        "  # so that the model know when to start and stop predicting.\n",
        "  w = '<start> ' + w + ' <end>'\n",
        "  return w"
      ],
      "execution_count": null,
      "outputs": []
    },
    {
      "cell_type": "code",
      "metadata": {
        "id": "d_psymsYHuJb",
        "colab_type": "code",
        "colab": {}
      },
      "source": [
        "# en_sentence = u\"May I borrow this book?\"\n",
        "# sp_sentence = u\"¿Puedo tomar prestado este libro?\"\n",
        "# print(preprocess_sentence(en_sentence))\n",
        "# print(preprocess_sentence(sp_sentence).encode('utf-8'))\n",
        " "
      ],
      "execution_count": null,
      "outputs": []
    },
    {
      "cell_type": "code",
      "metadata": {
        "id": "ytVrm_HEHw6S",
        "colab_type": "code",
        "colab": {}
      },
      "source": [
        "# 1. Remove the accents\n",
        "# 2. Clean the sentences\n",
        "# 3. Return word pairs in the format: [ENGLISH, SPANISH]\n",
        "def create_dataset(lines, num_examples):\n",
        "  # lines = io.open(path, encoding='UTF-8').read().strip().split('\\n')\n",
        "\n",
        "  word_pairs = [[preprocess_sentence(w) for w in l.split('\\t')]  for l in lines[:num_examples]]\n",
        "\n",
        "  return zip(*word_pairs)\n",
        " "
      ],
      "execution_count": null,
      "outputs": []
    },
    {
      "cell_type": "code",
      "metadata": {
        "id": "EJtealXyVcN2",
        "colab_type": "code",
        "colab": {}
      },
      "source": [
        "kor_eng_corp=(kor_eng['ko']+'\\t'+kor_eng['en']).tolist()"
      ],
      "execution_count": null,
      "outputs": []
    },
    {
      "cell_type": "code",
      "metadata": {
        "id": "falkXUN-Vo0R",
        "colab_type": "code",
        "colab": {}
      },
      "source": [
        "kor_eng_corp"
      ],
      "execution_count": null,
      "outputs": []
    },
    {
      "cell_type": "code",
      "metadata": {
        "id": "XeIwEP1OV9tO",
        "colab_type": "code",
        "colab": {
          "base_uri": "https://localhost:8080/",
          "height": 53
        },
        "outputId": "980dd79e-1adc-4e14-97f7-d4d2f7520ea2"
      },
      "source": [
        "ko, en = create_dataset(kor_eng_corp, None)\n",
        "print(ko[-1])\n",
        "print(en[-1])\n"
      ],
      "execution_count": null,
      "outputs": [
        {
          "output_type": "stream",
          "text": [
            "<start> 어린 아이들이 스포츠를 즐기기엔 많이 힘들죠 . <end>\n",
            "<start> it is difficult for young children to enjoy sports . <end>\n"
          ],
          "name": "stdout"
        }
      ]
    },
    {
      "cell_type": "code",
      "metadata": {
        "id": "KfKtTAEpHzzd",
        "colab_type": "code",
        "colab": {}
      },
      "source": [
        "# en, sp = create_dataset(path_to_file, None)\n",
        "# print(en[-1])\n",
        "# print(sp[-1])\n",
        " "
      ],
      "execution_count": null,
      "outputs": []
    },
    {
      "cell_type": "code",
      "metadata": {
        "id": "8s6Gle02H11f",
        "colab_type": "code",
        "colab": {}
      },
      "source": [
        "def tokenize(lang):\n",
        "  lang_tokenizer = tf.keras.preprocessing.text.Tokenizer(\n",
        "      filters='')\n",
        "  lang_tokenizer.fit_on_texts(lang)\n",
        "\n",
        "  tensor = lang_tokenizer.texts_to_sequences(lang)\n",
        "\n",
        "  tensor = tf.keras.preprocessing.sequence.pad_sequences(tensor,\n",
        "                                                         padding='post')\n",
        "\n",
        "  return tensor, lang_tokenizer"
      ],
      "execution_count": null,
      "outputs": []
    },
    {
      "cell_type": "code",
      "metadata": {
        "id": "ur41IvKJIwZX",
        "colab_type": "code",
        "colab": {}
      },
      "source": [
        " def load_dataset(path, num_examples=None):\n",
        "  # creating cleaned input, output pairs\n",
        "  inp_lang, targ_lang = create_dataset(path, num_examples)\n",
        "\n",
        "  input_tensor, inp_lang_tokenizer = tokenize(inp_lang)\n",
        "  target_tensor, targ_lang_tokenizer = tokenize(targ_lang)\n",
        "\n",
        "  return input_tensor, target_tensor, inp_lang_tokenizer, targ_lang_tokenizer\n"
      ],
      "execution_count": null,
      "outputs": []
    },
    {
      "cell_type": "code",
      "metadata": {
        "id": "WFg9JT31Iw_n",
        "colab_type": "code",
        "colab": {}
      },
      "source": [
        "# Try experimenting with the size of that dataset\n",
        "num_examples = 75000\n",
        "input_tensor, target_tensor, inp_lang, targ_lang = load_dataset(kor_eng_corp, num_examples)\n",
        "\n",
        "# Calculate max_length of the target tensors\n",
        "max_length_targ, max_length_inp = target_tensor.shape[1], input_tensor.shape[1]\n",
        " "
      ],
      "execution_count": null,
      "outputs": []
    },
    {
      "cell_type": "code",
      "metadata": {
        "id": "Lczn8WaFJDrP",
        "colab_type": "code",
        "colab": {
          "base_uri": "https://localhost:8080/",
          "height": 35
        },
        "outputId": "84d3b2d0-7492-482d-f967-be3f9d74cd19"
      },
      "source": [
        " # Creating training and validation sets using an 80-20 split\n",
        "input_tensor_train, input_tensor_val, target_tensor_train, target_tensor_val = train_test_split(input_tensor, target_tensor, test_size=0.2)\n",
        "\n",
        "# Show length\n",
        "print(len(input_tensor_train), len(target_tensor_train), len(input_tensor_val), len(target_tensor_val))\n"
      ],
      "execution_count": null,
      "outputs": [
        {
          "output_type": "stream",
          "text": [
            "60000 60000 15000 15000\n"
          ],
          "name": "stdout"
        }
      ]
    },
    {
      "cell_type": "code",
      "metadata": {
        "id": "tuOELtvlJHEY",
        "colab_type": "code",
        "colab": {}
      },
      "source": [
        "def convert(lang, tensor):\n",
        " for t in tensor:\n",
        "   if t!=0:\n",
        "     print (\"%d ----> %s\" % (t, lang.index_word[t]))\n",
        " "
      ],
      "execution_count": null,
      "outputs": []
    },
    {
      "cell_type": "code",
      "metadata": {
        "id": "u9Bxy0RuJKKj",
        "colab_type": "code",
        "colab": {
          "base_uri": "https://localhost:8080/",
          "height": 413
        },
        "outputId": "0ffb2041-2b9e-4833-8b3c-57d1ac3a5948"
      },
      "source": [
        "print (\"Input Language; index to word mapping\")\n",
        "convert(inp_lang, input_tensor_train[0])\n",
        "print ()\n",
        "print (\"Target Language; index to word mapping\")\n",
        "convert(targ_lang, target_tensor_train[0])\n",
        " "
      ],
      "execution_count": null,
      "outputs": [
        {
          "output_type": "stream",
          "text": [
            "Input Language; index to word mapping\n",
            "1 ----> <start>\n",
            "1272 ----> 저기\n",
            "25685 ----> 사막\n",
            "3088 ----> 가운데\n",
            "2249 ----> 그녀\n",
            "76358 ----> 혼자서요\n",
            "3 ----> .\n",
            "2 ----> <end>\n",
            "\n",
            "Target Language; index to word mapping\n",
            "1 ----> <start>\n",
            "87 ----> out\n",
            "33 ----> there\n",
            "12 ----> in\n",
            "5 ----> the\n",
            "2879 ----> desert\n",
            "70 ----> all\n",
            "58 ----> by\n",
            "2933 ----> herself\n",
            "3 ----> .\n",
            "2 ----> <end>\n"
          ],
          "name": "stdout"
        }
      ]
    },
    {
      "cell_type": "code",
      "metadata": {
        "id": "JZrVbN-kJNVa",
        "colab_type": "code",
        "colab": {}
      },
      "source": [
        "BUFFER_SIZE = len(input_tensor_train)\n",
        "BATCH_SIZE = 64\n",
        "steps_per_epoch = len(input_tensor_train)//BATCH_SIZE\n",
        "embedding_dim = 1000\n",
        "units = 1024\n",
        "vocab_inp_size = len(inp_lang.word_index)+1\n",
        "vocab_tar_size = len(targ_lang.word_index)+1\n",
        "\n",
        "dataset = tf.data.Dataset.from_tensor_slices((input_tensor_train, target_tensor_train)).shuffle(BUFFER_SIZE)\n",
        "dataset = dataset.batch(BATCH_SIZE, drop_remainder=True)"
      ],
      "execution_count": null,
      "outputs": []
    },
    {
      "cell_type": "code",
      "metadata": {
        "id": "PjIHfmo8JU0p",
        "colab_type": "code",
        "colab": {
          "base_uri": "https://localhost:8080/",
          "height": 35
        },
        "outputId": "542694c8-6a2d-4b01-ea06-d16bab37642f"
      },
      "source": [
        "example_input_batch, example_target_batch = next(iter(dataset))\n",
        "example_input_batch.shape, example_target_batch.shape\n",
        " "
      ],
      "execution_count": null,
      "outputs": [
        {
          "output_type": "execute_result",
          "data": {
            "text/plain": [
              "(TensorShape([64, 21]), TensorShape([64, 21]))"
            ]
          },
          "metadata": {
            "tags": []
          },
          "execution_count": 22
        }
      ]
    },
    {
      "cell_type": "code",
      "metadata": {
        "id": "kUeTJzjiJWgR",
        "colab_type": "code",
        "colab": {}
      },
      "source": [
        " class Encoder(tf.keras.Model):\n",
        "  def __init__(self, vocab_size, embedding_dim, enc_units, batch_sz):\n",
        "    super(Encoder, self).__init__()\n",
        "    self.batch_sz = batch_sz\n",
        "    self.enc_units = enc_units\n",
        "    self.embedding = tf.keras.layers.Embedding(vocab_size, embedding_dim)\n",
        "    self.lstm = tf.keras.layers.Bidirectional(LSTM(self.enc_units,\n",
        "                                   return_sequences=True,\n",
        "                                   return_state=True,\n",
        "                                   recurrent_initializer='glorot_uniform'))\n",
        "\n",
        "  def call(self, x, hidden):\n",
        "    x = self.embedding(x)\n",
        "    output, state_fh, state_fc, state_bh, state_bc = self.lstm(x, initial_state = hidden)\n",
        "    # state_h = Concatenate()([state_fh, state_bh])\n",
        "    # state_c = Concatenate()([state_fc, state_bc])\n",
        "    return output, state_fh, state_fc, state_bh, state_bc\n",
        "\n",
        "  def initialize_hidden_state(self):\n",
        "    return [tf.zeros((self.batch_sz, self.enc_units)) for i in range(4)]"
      ],
      "execution_count": null,
      "outputs": []
    },
    {
      "cell_type": "code",
      "metadata": {
        "id": "lodDGfifKfkJ",
        "colab_type": "code",
        "colab": {}
      },
      "source": [
        "encoder = Encoder(vocab_inp_size, embedding_dim, units, BATCH_SIZE)"
      ],
      "execution_count": null,
      "outputs": []
    },
    {
      "cell_type": "code",
      "metadata": {
        "id": "hXYLZidyKlpB",
        "colab_type": "code",
        "colab": {
          "base_uri": "https://localhost:8080/",
          "height": 107
        },
        "outputId": "1e1f7108-c18d-47da-9014-75987a50742a"
      },
      "source": [
        "# sample input\n",
        "sample_hidden = encoder.initialize_hidden_state()\n",
        "sample_output, sample_hidden_fh, sample_hidden_fc, sample_hidden_bh, sample_hidden_bc = encoder(example_input_batch, sample_hidden)\n",
        "print ('Encoder output shape: (batch size, sequence length, units) {}'.format(sample_output.shape))\n",
        "print ('Encoder Hidden state FH shape: (batch size, units) {}'.format(sample_hidden_fh.shape))\n",
        "print ('Encoder Hidden state FC shape: (batch size, units) {}'.format(sample_hidden_fc.shape))\n",
        "print ('Encoder Hidden state BH shape: (batch size, units) {}'.format(sample_hidden_bh.shape))\n",
        "print ('Encoder Hidden state BC shape: (batch size, units) {}'.format(sample_hidden_bc.shape))"
      ],
      "execution_count": null,
      "outputs": [
        {
          "output_type": "stream",
          "text": [
            "Encoder output shape: (batch size, sequence length, units) (64, 21, 2048)\n",
            "Encoder Hidden state FH shape: (batch size, units) (64, 1024)\n",
            "Encoder Hidden state FC shape: (batch size, units) (64, 1024)\n",
            "Encoder Hidden state BH shape: (batch size, units) (64, 1024)\n",
            "Encoder Hidden state BC shape: (batch size, units) (64, 1024)\n"
          ],
          "name": "stdout"
        }
      ]
    },
    {
      "cell_type": "code",
      "metadata": {
        "id": "XRZTraROKn0O",
        "colab_type": "code",
        "colab": {}
      },
      "source": [
        "class BahdanauAttention(tf.keras.layers.Layer):\n",
        " def __init__(self, units):\n",
        "   super(BahdanauAttention, self).__init__()\n",
        "   self.W1 = tf.keras.layers.Dense(units)\n",
        "   self.W2 = tf.keras.layers.Dense(units)\n",
        "   self.V = tf.keras.layers.Dense(1)\n",
        "\n",
        " def call(self, query1, query2, values):\n",
        "   # query hidden state shape == (batch_size, hidden size)\n",
        "   # query_with_time_axis shape == (batch_size, 1, hidden size)\n",
        "   # values shape == (batch_size, max_len, hidden size)\n",
        "   # we are doing this to broadcast addition along the time axis to calculate the score\n",
        "   query=Concatenate()([query1, query2])\n",
        "   query_with_time_axis = tf.expand_dims(query, 1)\n",
        "\n",
        "   # score shape == (batch_size, max_length, 1)\n",
        "   # we get 1 at the last axis because we are applying score to self.V\n",
        "   # the shape of the tensor before applying self.V is (batch_size, max_length, units)\n",
        "   score = self.V(tf.nn.tanh(\n",
        "       self.W1(query_with_time_axis) + self.W2(values)))\n",
        "\n",
        "   # attention_weights shape == (batch_size, max_length, 1)\n",
        "   attention_weights = tf.nn.softmax(score, axis=1)\n",
        "\n",
        "   # context_vector shape after sum == (batch_size, hidden_size)\n",
        "   context_vector = attention_weights * values\n",
        "   context_vector = tf.reduce_sum(context_vector, axis=1)\n",
        "\n",
        "   return context_vector, attention_weights"
      ],
      "execution_count": null,
      "outputs": []
    },
    {
      "cell_type": "code",
      "metadata": {
        "id": "1nFfAHN0QAoC",
        "colab_type": "code",
        "colab": {
          "base_uri": "https://localhost:8080/",
          "height": 53
        },
        "outputId": "352feb5e-dd79-4335-a83a-30d25357cdf7"
      },
      "source": [
        "attention_layer = BahdanauAttention(10)\n",
        "attention_result, attention_weights = attention_layer(sample_hidden_fh, sample_hidden_bh, sample_output)\n",
        "\n",
        "print(\"Attention result shape: (batch size, units) {}\".format(attention_result.shape))\n",
        "print(\"Attention weights shape: (batch_size, sequence_length, 1) {}\".format(attention_weights.shape))\n",
        " "
      ],
      "execution_count": null,
      "outputs": [
        {
          "output_type": "stream",
          "text": [
            "Attention result shape: (batch size, units) (64, 2048)\n",
            "Attention weights shape: (batch_size, sequence_length, 1) (64, 21, 1)\n"
          ],
          "name": "stdout"
        }
      ]
    },
    {
      "cell_type": "code",
      "metadata": {
        "id": "sZ0TIILtQCJI",
        "colab_type": "code",
        "colab": {}
      },
      "source": [
        "class Decoder(tf.keras.Model):\n",
        "  def __init__(self, vocab_size, embedding_dim, dec_units, batch_sz):\n",
        "    super(Decoder, self).__init__()\n",
        "    self.batch_sz = batch_sz\n",
        "    self.dec_units = dec_units\n",
        "    self.embedding = tf.keras.layers.Embedding(vocab_size, embedding_dim)\n",
        "    self.lstm = tf.keras.layers.Bidirectional(LSTM(self.dec_units,\n",
        "                                   return_sequences=True,\n",
        "                                   return_state=True,\n",
        "                                   recurrent_initializer='glorot_uniform'))\n",
        "    self.fc = tf.keras.layers.Dense(vocab_size)\n",
        "\n",
        "    # used for attention\n",
        "    self.attention = BahdanauAttention(self.dec_units)\n",
        "\n",
        "  def call(self, x, hidden_fh, hidden_fc, hidden_bh, hidden_bc, enc_output):\n",
        "    # enc_output shape == (batch_size, max_length, hidden_size)\n",
        "    context_vector, attention_weights = self.attention(hidden_fh, hidden_bh, enc_output)\n",
        "\n",
        "    # x shape after passing through embedding == (batch_size, 1, embedding_dim)\n",
        "    x = self.embedding(x)\n",
        "\n",
        "    # x shape after concatenation == (batch_size, 1, embedding_dim + hidden_size)\n",
        "    x = tf.concat([tf.expand_dims(context_vector, 1), x], axis=-1)\n",
        "\n",
        "    # passing the concatenated vector to the GRU\n",
        "    output, state_fh, state_fc, state_bh, state_bc = self.lstm(x, initial_state=[hidden_fh, hidden_fc, hidden_bh, hidden_bc])\n",
        "    # state_h = Concatenate()([state_fh, state_bh])\n",
        "    # state_c = Concatenate()([state_fc, state_bc])\n",
        "\n",
        "    # output shape == (batch_size * 1, hidden_size)\n",
        "    output = tf.reshape(output, (-1, output.shape[2]))\n",
        "\n",
        "    # output shape == (batch_size, vocab)\n",
        "    x = self.fc(output)\n",
        "\n",
        "    return x, state_fh, state_fc, state_bh, state_bc, attention_weights\n",
        " "
      ],
      "execution_count": null,
      "outputs": []
    },
    {
      "cell_type": "code",
      "metadata": {
        "id": "6OQTBR9zQD5E",
        "colab_type": "code",
        "colab": {
          "base_uri": "https://localhost:8080/",
          "height": 35
        },
        "outputId": "d2adbd14-ad1c-45bc-a6ee-b9ab4f7f2366"
      },
      "source": [
        "decoder = Decoder(vocab_tar_size, embedding_dim, units, BATCH_SIZE)\n",
        "\n",
        "sample_decoder_output, _, _, _, _, _ = decoder(tf.random.uniform((BATCH_SIZE, 1)),\n",
        "                                      sample_hidden_fh,sample_hidden_fc, sample_hidden_bh, sample_hidden_bc, sample_output)\n",
        "\n",
        "print ('Decoder output shape: (batch_size, vocab size) {}'.format(sample_decoder_output.shape))\n",
        " "
      ],
      "execution_count": null,
      "outputs": [
        {
          "output_type": "stream",
          "text": [
            "Decoder output shape: (batch_size, vocab size) (64, 19231)\n"
          ],
          "name": "stdout"
        }
      ]
    },
    {
      "cell_type": "code",
      "metadata": {
        "id": "ixAZFMmrQGEE",
        "colab_type": "code",
        "colab": {}
      },
      "source": [
        "optimizer = tf.keras.optimizers.SGD()\n",
        "loss_object = tf.keras.losses.SparseCategoricalCrossentropy(\n",
        "    from_logits=True, reduction='none')\n",
        "\n",
        "def loss_function(real, pred):\n",
        "  mask = tf.math.logical_not(tf.math.equal(real, 0))\n",
        "  loss_ = loss_object(real, pred)\n",
        "\n",
        "  mask = tf.cast(mask, dtype=loss_.dtype)\n",
        "  loss_ *= mask\n",
        "\n",
        "  return tf.reduce_mean(loss_)\n",
        " "
      ],
      "execution_count": null,
      "outputs": []
    },
    {
      "cell_type": "code",
      "metadata": {
        "id": "GFCPlmYIQHht",
        "colab_type": "code",
        "colab": {}
      },
      "source": [
        "checkpoint_dir = './training_checkpoints'\n",
        "checkpoint_prefix = os.path.join(checkpoint_dir, \"ckpt\")\n",
        "checkpoint = tf.train.Checkpoint(optimizer=optimizer,\n",
        "                                 encoder=encoder,\n",
        "                                 decoder=decoder)\n",
        " "
      ],
      "execution_count": null,
      "outputs": []
    },
    {
      "cell_type": "code",
      "metadata": {
        "id": "bDkZwO4yQJOl",
        "colab_type": "code",
        "colab": {}
      },
      "source": [
        "@tf.function\n",
        "def train_step(inp, targ, enc_hidden):\n",
        "  loss = 0\n",
        "\n",
        "  with tf.GradientTape() as tape:\n",
        "    enc_output, enc_hidden_fh, enc_hidden_fc, enc_hidden_bh, enc_hidden_bc = encoder(inp, enc_hidden)\n",
        "\n",
        "    dec_hidden_fh = enc_hidden_fh\n",
        "    dec_hidden_fc = enc_hidden_fc    \n",
        "    dec_hidden_bh = enc_hidden_bh\n",
        "    dec_hidden_bc = enc_hidden_bc\n",
        "\n",
        "    dec_input = tf.expand_dims([targ_lang.word_index['<start>']] * BATCH_SIZE, 1)\n",
        "\n",
        "    # Teacher forcing - feeding the target as the next input\n",
        "    for t in range(1, targ.shape[1]):\n",
        "      # passing enc_output to the decoder\n",
        "      predictions, dec_hidden_fh,dec_hidden_fc, hidden_bh, hidden_bc, _ = decoder(dec_input, dec_hidden_fh,dec_hidden_fc, dec_hidden_bh, dec_hidden_bc, enc_output)\n",
        "\n",
        "      loss += loss_function(targ[:, t], predictions)\n",
        "\n",
        "      # using teacher forcing\n",
        "      dec_input = tf.expand_dims(targ[:, t], 1)\n",
        "\n",
        "  batch_loss = (loss / int(targ.shape[1]))\n",
        "\n",
        "  variables = encoder.trainable_variables + decoder.trainable_variables\n",
        "\n",
        "  gradients = tape.gradient(loss, variables)\n",
        "\n",
        "  optimizer.apply_gradients(zip(gradients, variables))\n",
        "\n",
        "  return batch_loss"
      ],
      "execution_count": null,
      "outputs": []
    },
    {
      "cell_type": "code",
      "metadata": {
        "id": "oCVJA9tsQK56",
        "colab_type": "code",
        "colab": {
          "base_uri": "https://localhost:8080/",
          "height": 1000
        },
        "outputId": "de52b763-8bb7-4311-ec11-a11a75413b8c"
      },
      "source": [
        "EPOCHS = 10\n",
        "\n",
        "for epoch in range(EPOCHS):\n",
        "  start = time.time()\n",
        "\n",
        "  enc_hidden = encoder.initialize_hidden_state()\n",
        "  total_loss = 0\n",
        "\n",
        "  for (batch, (inp, targ)) in enumerate(dataset.take(steps_per_epoch)):\n",
        "    batch_loss = train_step(inp, targ, enc_hidden)\n",
        "    total_loss += batch_loss\n",
        "\n",
        "    if batch % 100 == 0:\n",
        "      print('Epoch {} Batch {} Loss {:.4f}'.format(epoch + 1,\n",
        "                                                   batch,\n",
        "                                                   batch_loss.numpy()))\n",
        "  # saving (checkpoint) the model every 2 epochs\n",
        "  if (epoch + 1) % 2 == 0:\n",
        "    checkpoint.save(file_prefix = checkpoint_prefix)\n",
        "\n",
        "  print('Epoch {} Loss {:.4f}'.format(epoch + 1,\n",
        "                                      total_loss / steps_per_epoch))\n",
        "  print('Time taken for 1 epoch {} sec\\n'.format(time.time() - start))"
      ],
      "execution_count": null,
      "outputs": [
        {
          "output_type": "stream",
          "text": [
            "Epoch 1 Batch 0 Loss 5.2624\n",
            "Epoch 1 Batch 100 Loss 3.5499\n",
            "Epoch 1 Batch 200 Loss 3.3194\n",
            "Epoch 1 Batch 300 Loss 3.1638\n",
            "Epoch 1 Batch 400 Loss 3.2956\n",
            "Epoch 1 Batch 500 Loss 3.1399\n",
            "Epoch 1 Batch 600 Loss 3.2473\n",
            "Epoch 1 Batch 700 Loss 3.0858\n",
            "Epoch 1 Batch 800 Loss 3.1496\n",
            "Epoch 1 Batch 900 Loss 3.1368\n",
            "Epoch 1 Loss 3.3569\n",
            "Time taken for 1 epoch 346.6418650150299 sec\n",
            "\n",
            "Epoch 2 Batch 0 Loss 3.0023\n",
            "Epoch 2 Batch 100 Loss 2.9955\n",
            "Epoch 2 Batch 200 Loss 3.0002\n",
            "Epoch 2 Batch 300 Loss 2.9611\n",
            "Epoch 2 Batch 400 Loss 3.1157\n",
            "Epoch 2 Batch 500 Loss 2.9861\n",
            "Epoch 2 Batch 600 Loss 3.0196\n",
            "Epoch 2 Batch 700 Loss 2.9472\n",
            "Epoch 2 Batch 800 Loss 2.8854\n",
            "Epoch 2 Batch 900 Loss 3.0388\n",
            "Epoch 2 Loss 2.9856\n",
            "Time taken for 1 epoch 311.03324937820435 sec\n",
            "\n",
            "Epoch 3 Batch 0 Loss 2.8603\n",
            "Epoch 3 Batch 100 Loss 2.8929\n",
            "Epoch 3 Batch 200 Loss 3.0075\n",
            "Epoch 3 Batch 300 Loss 2.9033\n",
            "Epoch 3 Batch 400 Loss 2.9381\n",
            "Epoch 3 Batch 500 Loss 2.9695\n",
            "Epoch 3 Batch 600 Loss 3.0018\n",
            "Epoch 3 Batch 700 Loss 2.9914\n",
            "Epoch 3 Batch 800 Loss 2.8959\n",
            "Epoch 3 Batch 900 Loss 3.0268\n",
            "Epoch 3 Loss 2.9429\n",
            "Time taken for 1 epoch 308.6533751487732 sec\n",
            "\n",
            "Epoch 4 Batch 0 Loss 2.8791\n",
            "Epoch 4 Batch 100 Loss 2.8502\n",
            "Epoch 4 Batch 200 Loss 3.0421\n",
            "Epoch 4 Batch 300 Loss 2.9363\n",
            "Epoch 4 Batch 400 Loss 2.9832\n",
            "Epoch 4 Batch 500 Loss 2.9139\n",
            "Epoch 4 Batch 600 Loss 2.8856\n",
            "Epoch 4 Batch 700 Loss 2.8568\n",
            "Epoch 4 Batch 800 Loss 3.0061\n",
            "Epoch 4 Batch 900 Loss 2.7824\n",
            "Epoch 4 Loss 2.9188\n",
            "Time taken for 1 epoch 310.66989374160767 sec\n",
            "\n",
            "Epoch 5 Batch 0 Loss 2.8993\n",
            "Epoch 5 Batch 100 Loss 2.9409\n",
            "Epoch 5 Batch 200 Loss 2.8995\n",
            "Epoch 5 Batch 300 Loss 2.8992\n",
            "Epoch 5 Batch 400 Loss 2.9029\n",
            "Epoch 5 Batch 500 Loss 2.9612\n",
            "Epoch 5 Batch 600 Loss 2.7890\n",
            "Epoch 5 Batch 700 Loss 2.8293\n",
            "Epoch 5 Batch 800 Loss 2.8208\n",
            "Epoch 5 Batch 900 Loss 2.9480\n",
            "Epoch 5 Loss 2.8645\n",
            "Time taken for 1 epoch 308.7484803199768 sec\n",
            "\n",
            "Epoch 6 Batch 0 Loss 2.8049\n",
            "Epoch 6 Batch 100 Loss 2.8805\n",
            "Epoch 6 Batch 200 Loss 2.8164\n",
            "Epoch 6 Batch 300 Loss 2.7969\n",
            "Epoch 6 Batch 400 Loss 2.7039\n",
            "Epoch 6 Batch 500 Loss 2.7916\n",
            "Epoch 6 Batch 600 Loss 2.7345\n",
            "Epoch 6 Batch 700 Loss 2.7627\n",
            "Epoch 6 Batch 800 Loss 2.6517\n",
            "Epoch 6 Batch 900 Loss 2.7145\n",
            "Epoch 6 Loss 2.7952\n",
            "Time taken for 1 epoch 310.52420949935913 sec\n",
            "\n",
            "Epoch 7 Batch 0 Loss 2.7467\n",
            "Epoch 7 Batch 100 Loss 2.7615\n",
            "Epoch 7 Batch 200 Loss 2.7670\n",
            "Epoch 7 Batch 300 Loss 2.7141\n",
            "Epoch 7 Batch 400 Loss 2.7193\n",
            "Epoch 7 Batch 500 Loss 2.7805\n",
            "Epoch 7 Batch 600 Loss 2.6266\n",
            "Epoch 7 Batch 700 Loss 2.5838\n",
            "Epoch 7 Batch 800 Loss 2.7749\n",
            "Epoch 7 Batch 900 Loss 2.8413\n",
            "Epoch 7 Loss 2.7353\n",
            "Time taken for 1 epoch 308.74137234687805 sec\n",
            "\n",
            "Epoch 8 Batch 0 Loss 2.6494\n",
            "Epoch 8 Batch 100 Loss 2.7364\n",
            "Epoch 8 Batch 200 Loss 2.7861\n",
            "Epoch 8 Batch 300 Loss 2.7229\n",
            "Epoch 8 Batch 400 Loss 2.7565\n",
            "Epoch 8 Batch 500 Loss 2.6731\n",
            "Epoch 8 Batch 600 Loss 2.7388\n",
            "Epoch 8 Batch 700 Loss 2.6554\n",
            "Epoch 8 Batch 800 Loss 2.7685\n",
            "Epoch 8 Batch 900 Loss 2.5845\n",
            "Epoch 8 Loss 2.6781\n",
            "Time taken for 1 epoch 310.48364210128784 sec\n",
            "\n",
            "Epoch 9 Batch 0 Loss 2.7233\n",
            "Epoch 9 Batch 100 Loss 2.6027\n",
            "Epoch 9 Batch 200 Loss 2.6909\n",
            "Epoch 9 Batch 300 Loss 2.5958\n",
            "Epoch 9 Batch 400 Loss 2.5500\n",
            "Epoch 9 Batch 500 Loss 2.6320\n",
            "Epoch 9 Batch 600 Loss 2.6605\n",
            "Epoch 9 Batch 700 Loss 2.6282\n",
            "Epoch 9 Batch 800 Loss 2.5926\n",
            "Epoch 9 Batch 900 Loss 2.6205\n",
            "Epoch 9 Loss 2.6225\n",
            "Time taken for 1 epoch 308.74323296546936 sec\n",
            "\n",
            "Epoch 10 Batch 0 Loss 2.6171\n",
            "Epoch 10 Batch 100 Loss 2.7255\n",
            "Epoch 10 Batch 200 Loss 2.6241\n",
            "Epoch 10 Batch 300 Loss 2.5623\n",
            "Epoch 10 Batch 400 Loss 2.5688\n",
            "Epoch 10 Batch 500 Loss 2.5131\n",
            "Epoch 10 Batch 600 Loss 2.5374\n",
            "Epoch 10 Batch 700 Loss 2.6101\n",
            "Epoch 10 Batch 800 Loss 2.4348\n",
            "Epoch 10 Batch 900 Loss 2.5017\n",
            "Epoch 10 Loss 2.5716\n",
            "Time taken for 1 epoch 310.4928948879242 sec\n",
            "\n"
          ],
          "name": "stdout"
        }
      ]
    },
    {
      "cell_type": "code",
      "metadata": {
        "id": "GIYmNF0_QMtT",
        "colab_type": "code",
        "colab": {}
      },
      "source": [
        "def evaluate(sentence):\n",
        "  attention_plot = np.zeros((max_length_targ, max_length_inp))\n",
        "\n",
        "  sentence = preprocess_sentence(sentence)\n",
        "\n",
        "  inputs = [inp_lang.word_index[i] for i in sentence.split(' ')]\n",
        "  inputs = tf.keras.preprocessing.sequence.pad_sequences([inputs],\n",
        "                                                         maxlen=max_length_inp,\n",
        "                                                         padding='post')\n",
        "  inputs = tf.convert_to_tensor(inputs)\n",
        "\n",
        "  result = ''\n",
        "\n",
        "  hidden = [tf.zeros((1, units)) for i in range(4)]\n",
        "  enc_output, enc_hidden_fh, enc_hidden_fc, enc_hidden_bh, enc_hidden_bc = encoder(inputs, hidden)\n",
        "\n",
        "  dec_hidden_fh = enc_hidden_fh\n",
        "  dec_hidden_fc = enc_hidden_fc\n",
        "  dec_hidden_bh = enc_hidden_bh\n",
        "  dec_hidden_bc = enc_hidden_bc\n",
        "\n",
        "  dec_input = tf.expand_dims([targ_lang.word_index['<start>']], 0)\n",
        "\n",
        "  for t in range(max_length_targ):\n",
        "    predictions, dec_hidden_fh, dec_hidden_fc, dec_hidden_bh, dec_hidden_bc, attention_weights = decoder(dec_input,\n",
        "                                                                                                         dec_hidden_fh,\n",
        "                                                                                                         dec_hidden_fc,\n",
        "                                                                                                         dec_hidden_bh,\n",
        "                                                                                                         dec_hidden_bc,\n",
        "                                                                                                         enc_output)\n",
        "\n",
        "    # storing the attention weights to plot later on\n",
        "    attention_weights = tf.reshape(attention_weights, (-1, ))\n",
        "    attention_plot[t] = attention_weights.numpy()\n",
        "\n",
        "    predicted_id = tf.argmax(predictions[0]).numpy()\n",
        "\n",
        "    result += targ_lang.index_word[predicted_id] + ' '\n",
        "\n",
        "    if targ_lang.index_word[predicted_id] == '<end>':\n",
        "      return result, sentence, attention_plot\n",
        "\n",
        "    # the predicted ID is fed back into the model\n",
        "    dec_input = tf.expand_dims([predicted_id], 0)\n",
        "\n",
        "  return result, sentence, attention_plot"
      ],
      "execution_count": null,
      "outputs": []
    },
    {
      "cell_type": "code",
      "metadata": {
        "id": "7aLMtqX_QO3Z",
        "colab_type": "code",
        "colab": {}
      },
      "source": [
        "# function for plotting the attention weights\n",
        "def plot_attention(attention, sentence, predicted_sentence):\n",
        "  fig = plt.figure(figsize=(10,10))\n",
        "  ax = fig.add_subplot(1, 1, 1)\n",
        "  ax.matshow(attention, cmap='viridis')\n",
        "\n",
        "  fontdict = {'fontsize': 14}\n",
        "\n",
        "  ax.set_xticklabels([''] + sentence, fontdict=fontdict, rotation=90)\n",
        "  ax.set_yticklabels([''] + predicted_sentence, fontdict=fontdict)\n",
        "\n",
        "  ax.xaxis.set_major_locator(ticker.MultipleLocator(1))\n",
        "  ax.yaxis.set_major_locator(ticker.MultipleLocator(1))\n",
        "\n",
        "  plt.show()"
      ],
      "execution_count": null,
      "outputs": []
    },
    {
      "cell_type": "code",
      "metadata": {
        "id": "CbkdkoTQQQR3",
        "colab_type": "code",
        "colab": {}
      },
      "source": [
        "def translate(sentence):\n",
        "  result, sentence, attention_plot = evaluate(sentence)\n",
        "\n",
        "  print('Input: %s' % (sentence))\n",
        "  print('Predicted translation: {}'.format(result))\n",
        "\n",
        "  attention_plot = attention_plot[:len(result.split(' ')), :len(sentence.split(' '))]\n",
        "  plot_attention(attention_plot, sentence.split(' '), result.split(' '))\n",
        " "
      ],
      "execution_count": null,
      "outputs": []
    },
    {
      "cell_type": "code",
      "metadata": {
        "id": "5M3REPZQQRnA",
        "colab_type": "code",
        "colab": {
          "base_uri": "https://localhost:8080/",
          "height": 35
        },
        "outputId": "9550b920-89dc-47ad-f865-699f064e0f07"
      },
      "source": [
        "# restoring the latest checkpoint in checkpoint_dir\n",
        "checkpoint.restore(tf.train.latest_checkpoint(checkpoint_dir))\n",
        " "
      ],
      "execution_count": null,
      "outputs": [
        {
          "output_type": "execute_result",
          "data": {
            "text/plain": [
              "<tensorflow.python.training.tracking.util.CheckpointLoadStatus at 0x7fb9d53553c8>"
            ]
          },
          "metadata": {
            "tags": []
          },
          "execution_count": 37
        }
      ]
    },
    {
      "cell_type": "code",
      "metadata": {
        "id": "sdIUeR_S_kjj",
        "colab_type": "code",
        "colab": {
          "base_uri": "https://localhost:8080/",
          "height": 107
        },
        "outputId": "027731dc-299a-4330-e3cc-46e8ffcab812"
      },
      "source": [
        "ko[:5]"
      ],
      "execution_count": null,
      "outputs": [
        {
          "output_type": "execute_result",
          "data": {
            "text/plain": [
              "('<start> 나는 매일 저녁 배트를 만나러 다락방으로 가요 . <end>',\n",
              " '<start> 선생님 이문장이 이해가 안 가요 . <end>',\n",
              " '<start> 컴퓨터를 시작하면 시간이 너무 빠르게 가요 . <end>',\n",
              " '<start> 나는 오늘 자정에 한국으로 돌아 가요 . <end>',\n",
              " '<start> 나는 일어나자마자 화장실에 가요 . <end>')"
            ]
          },
          "metadata": {
            "tags": []
          },
          "execution_count": 40
        }
      ]
    },
    {
      "cell_type": "code",
      "metadata": {
        "id": "4wzNxV7P_r28",
        "colab_type": "code",
        "colab": {
          "base_uri": "https://localhost:8080/",
          "height": 1000
        },
        "outputId": "037cd4f2-c2a8-4254-e12c-98ecc0b294d3"
      },
      "source": [
        "for ko in ko[:10]:\n",
        "  ko=re.sub('<[^>]*>','',ko)\n",
        "  translate(ko)"
      ],
      "execution_count": null,
      "outputs": [
        {
          "output_type": "stream",
          "text": [
            "Input: <start> 나는 매일 저녁 배트를 만나러 다락방으로 가요 . <end>\n",
            "Predicted translation: i want to a lot with a friend <end> \n"
          ],
          "name": "stdout"
        },
        {
          "output_type": "display_data",
          "data": {
            "image/png": "[encoded data removed]",
            "text/plain": [
              "<Figure size 720x720 with 1 Axes>"
            ]
          },
          "metadata": {
            "tags": [],
            "needs_background": "light"
          }
        },
        {
          "output_type": "stream",
          "text": [
            "Input: <start> 선생님 이문장이 이해가 안 가요 . <end>\n",
            "Predicted translation: i want to a lot with a friend <end> \n"
          ],
          "name": "stdout"
        },
        {
          "output_type": "display_data",
          "data": {
            "image/png": "[encoded data removed]",
            "text/plain": [
              "<Figure size 720x720 with 1 Axes>"
            ]
          },
          "metadata": {
            "tags": [],
            "needs_background": "light"
          }
        },
        {
          "output_type": "stream",
          "text": [
            "Input: <start> 컴퓨터를 시작하면 시간이 너무 빠르게 가요 . <end>\n",
            "Predicted translation: i want to a lot with a friend <end> \n"
          ],
          "name": "stdout"
        },
        {
          "output_type": "display_data",
          "data": {
            "image/png": "[encoded data removed]",
            "text/plain": [
              "<Figure size 720x720 with 1 Axes>"
            ]
          },
          "metadata": {
            "tags": [],
            "needs_background": "light"
          }
        },
        {
          "output_type": "stream",
          "text": [
            "Input: <start> 나는 오늘 자정에 한국으로 돌아 가요 . <end>\n",
            "Predicted translation: i want to a lot with a friend <end> \n"
          ],
          "name": "stdout"
        },
        {
          "output_type": "display_data",
          "data": {
            "image/png": "[encoded data removed]",
            "text/plain": [
              "<Figure size 720x720 with 1 Axes>"
            ]
          },
          "metadata": {
            "tags": [],
            "needs_background": "light"
          }
        },
        {
          "output_type": "stream",
          "text": [
            "Input: <start> 나는 일어나자마자 화장실에 가요 . <end>\n",
            "Predicted translation: i am a lot with a friend <end> \n"
          ],
          "name": "stdout"
        },
        {
          "output_type": "display_data",
          "data": {
            "image/png": "[encoded data removed]",
            "text/plain": [
              "<Figure size 720x720 with 1 Axes>"
            ]
          },
          "metadata": {
            "tags": [],
            "needs_background": "light"
          }
        },
        {
          "output_type": "stream",
          "text": [
            "Input: <start> 지금 잠을 자면 깨어나지 못할 거 같아서 지금 가요 . <end>\n",
            "Predicted translation: i want to a lot with a friend <end> \n"
          ],
          "name": "stdout"
        },
        {
          "output_type": "display_data",
          "data": {
            "image/png": "[encoded data removed]",
            "text/plain": [
              "<Figure size 720x720 with 1 Axes>"
            ]
          },
          "metadata": {
            "tags": [],
            "needs_background": "light"
          }
        },
        {
          "output_type": "stream",
          "text": [
            "Input: <start> 학교가 끝나자마자 기숙사로 가요 . <end>\n",
            "Predicted translation: i will go to the lot <end> \n"
          ],
          "name": "stdout"
        },
        {
          "output_type": "display_data",
          "data": {
            "image/png": "[encoded data removed]",
            "text/plain": [
              "<Figure size 720x720 with 1 Axes>"
            ]
          },
          "metadata": {
            "tags": [],
            "needs_background": "light"
          }
        },
        {
          "output_type": "stream",
          "text": [
            "Input: <start> 대한민국 남자라면 모두 대에 의무적으로 군대에 가요 . <end>\n",
            "Predicted translation: i will go to the lot with a friend <end> \n"
          ],
          "name": "stdout"
        },
        {
          "output_type": "display_data",
          "data": {
            "image/png": "[encoded data removed]",
            "text/plain": [
              "<Figure size 720x720 with 1 Axes>"
            ]
          },
          "metadata": {
            "tags": [],
            "needs_background": "light"
          }
        },
        {
          "output_type": "stream",
          "text": [
            "Input: <start> 오늘밤에 비자 때문에 한국에 가요 . <end>\n",
            "Predicted translation: i am a lot with a friend <end> \n"
          ],
          "name": "stdout"
        },
        {
          "output_type": "display_data",
          "data": {
            "image/png": "[encoded data removed]",
            "text/plain": [
              "<Figure size 720x720 with 1 Axes>"
            ]
          },
          "metadata": {
            "tags": [],
            "needs_background": "light"
          }
        },
        {
          "output_type": "stream",
          "text": [
            "Input: <start> 오늘은 새 자동차를 받으러 가요 . <end>\n",
            "Predicted translation: i am a lot with a friend <end> \n"
          ],
          "name": "stdout"
        },
        {
          "output_type": "display_data",
          "data": {
            "image/png": "[encoded data removed]",
            "text/plain": [
              "<Figure size 720x720 with 1 Axes>"
            ]
          },
          "metadata": {
            "tags": [],
            "needs_background": "light"
          }
        }
      ]
    },
    {
      "cell_type": "code",
      "metadata": {
        "id": "X6rx7vV8_m-U",
        "colab_type": "code",
        "colab": {}
      },
      "source": [
        ""
      ],
      "execution_count": null,
      "outputs": []
    }
  ]
}